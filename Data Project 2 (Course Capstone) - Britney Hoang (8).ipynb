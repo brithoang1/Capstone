{
 "cells": [
  {
   "cell_type": "markdown",
   "metadata": {
    "application/vnd.databricks.v1+cell": {
     "cellMetadata": {
      "byteLimit": 2048000,
      "rowLimit": 10000
     },
     "inputWidgets": {},
     "nuid": "d6fd1034-c9fe-435f-b940-de2628826f32",
     "showTitle": false,
     "title": ""
    }
   },
   "source": [
    "##Project 2: Capstone - Britney Hoang \n"
   ]
  },
  {
   "cell_type": "markdown",
   "metadata": {
    "application/vnd.databricks.v1+cell": {
     "cellMetadata": {
      "byteLimit": 2048000,
      "rowLimit": 10000
     },
     "inputWidgets": {},
     "nuid": "11796317-c45c-42e8-8807-30e7a596f7fe",
     "showTitle": false,
     "title": ""
    }
   },
   "source": [
    "####For my final project, I used the Sakila SQL database. The simple buisness process that I will again be inquiring about is the rental sales of each genre at the DVD rental place."
   ]
  },
  {
   "cell_type": "markdown",
   "metadata": {
    "application/vnd.databricks.v1+cell": {
     "cellMetadata": {
      "byteLimit": 2048000,
      "rowLimit": 10000
     },
     "inputWidgets": {},
     "nuid": "8fd83bfd-8ce5-4cea-9598-866851412a26",
     "showTitle": false,
     "title": ""
    }
   },
   "source": [
    "###Import Required Libraries  "
   ]
  },
  {
   "cell_type": "code",
   "execution_count": 0,
   "metadata": {
    "application/vnd.databricks.v1+cell": {
     "cellMetadata": {
      "byteLimit": 2048000,
      "rowLimit": 10000
     },
     "inputWidgets": {},
     "nuid": "e2df9030-69d5-4cd6-9fe6-ab35760d5140",
     "showTitle": false,
     "title": ""
    }
   },
   "outputs": [],
   "source": [
    "import os\n",
    "import json\n",
    "import pymongo\n",
    "import pyspark.pandas as pd  # This uses Koalas that is included in PySpark version 3.2 or newer.\n",
    "from pyspark.sql.functions import col\n",
    "from pyspark.sql.types import StructType, StructField, StringType, TimestampType, BinaryType\n",
    "from pyspark.sql.types import ByteType, ShortType, IntegerType, LongType, FloatType, DecimalType"
   ]
  },
  {
   "cell_type": "markdown",
   "metadata": {
    "application/vnd.databricks.v1+cell": {
     "cellMetadata": {
      "byteLimit": 2048000,
      "rowLimit": 10000
     },
     "inputWidgets": {},
     "nuid": "a9fdecd9-63b8-463e-88e4-af2b82536b44",
     "showTitle": false,
     "title": ""
    }
   },
   "source": [
    "### Instantiate Global Variables"
   ]
  },
  {
   "cell_type": "code",
   "execution_count": 0,
   "metadata": {
    "application/vnd.databricks.v1+cell": {
     "cellMetadata": {
      "byteLimit": 2048000,
      "rowLimit": 10000
     },
     "inputWidgets": {},
     "nuid": "e29bd3df-7a56-4075-873f-f5c5d005c429",
     "showTitle": false,
     "title": ""
    }
   },
   "outputs": [
    {
     "output_type": "stream",
     "name": "stdout",
     "output_type": "stream",
     "text": [
      "Out[2]: True"
     ]
    }
   ],
   "source": [
    "# Azure MySQL Server Connection Information ###################\n",
    "jdbc_hostname = \"rcq5jz-mysql.mysql.database.azure.com\"\n",
    "jdbc_port = 3306\n",
    "src_database = \"sakila_dw\"\n",
    "\n",
    "#mongoDB\n",
    "connection_properties = {\n",
    "  \"user\" : \"britneyhoang0\",\n",
    "  \"password\" : \"Shawnmendes1\",\n",
    "  \"driver\" : \"org.mariadb.jdbc.Driver\"\n",
    "}\n",
    "\n",
    "# MongoDB Atlas Connection Information ########################\n",
    "atlas_cluster_name = \"period.vb5iusq\"\n",
    "atlas_database_name = \"sakila_dw2\"\n",
    "atlas_user_name = \"britneyhoang0\"\n",
    "atlas_password = \"Shawnmendes1\"\n",
    "\n",
    "# Data Files (JSON) Information ###############################\n",
    "dst_database = \"sakila_dlh\" #new sakila lakehouse\n",
    "base_dir = \"dbfs:/FileStore/ds2002final\"\n",
    "database_dir = f\"{base_dir}/{dst_database}\"\n",
    "\n",
    "data_dir = f\"{base_dir}/source_data\"\n",
    "batch_dir = f\"{data_dir}/batch\"\n",
    "stream_dir = f\"{data_dir}/stream\"\n",
    "\n",
    "genres_output_bronze = f\"{database_dir}/fact_genres/bronze\"\n",
    "genres_output_silver = f\"{database_dir}/fact_genres/silver\"\n",
    "genres_output_gold   = f\"{database_dir}/fact_genres/gold\"\n",
    "\n",
    "# Delete the Streaming Files ################################## \n",
    "dbutils.fs.rm(f\"{database_dir}/fact_genres\", True) \n",
    "\n",
    "# Delete the Database Files ###################################\n",
    "dbutils.fs.rm(database_dir, True)\n"
   ]
  },
  {
   "cell_type": "markdown",
   "metadata": {
    "application/vnd.databricks.v1+cell": {
     "cellMetadata": {
      "byteLimit": 2048000,
      "rowLimit": 10000
     },
     "inputWidgets": {},
     "nuid": "832e4a57-9641-4638-ae86-b0a581dca593",
     "showTitle": false,
     "title": ""
    }
   },
   "source": [
    "### Global functions"
   ]
  },
  {
   "cell_type": "code",
   "execution_count": 0,
   "metadata": {
    "application/vnd.databricks.v1+cell": {
     "cellMetadata": {
      "byteLimit": 2048000,
      "rowLimit": 10000
     },
     "inputWidgets": {},
     "nuid": "fa2311b2-589f-4da4-aebf-2dd83c464355",
     "showTitle": false,
     "title": ""
    }
   },
   "outputs": [],
   "source": [
    "# ######################################################################################################################\n",
    "# Use this Function to Fetch a DataFrame from the MongoDB Atlas database server Using PyMongo.\n",
    "# ######################################################################################################################\n",
    "def get_mongo_dataframe(user_id, pwd, cluster_name, db_name, collection, conditions, projection, sort):\n",
    "    '''Create a client connection to MongoDB'''\n",
    "    mongo_uri = f\"mongodb+srv://{user_id}:{pwd}@{cluster_name}.mongodb.net/{db_name}\"\n",
    "    \n",
    "    client = pymongo.MongoClient(mongo_uri)\n",
    "\n",
    "    '''Query MongoDB, and fill a python list with documents to create a DataFrame'''\n",
    "    db = client[db_name]\n",
    "    if conditions and projection and sort:\n",
    "        dframe = pd.DataFrame(list(db[collection].find(conditions, projection).sort(sort)))\n",
    "    elif conditions and projection and not sort:\n",
    "        dframe = pd.DataFrame(list(db[collection].find(conditions, projection)))\n",
    "    else:\n",
    "        dframe = pd.DataFrame(list(db[collection].find()))\n",
    "\n",
    "    client.close()\n",
    "    \n",
    "    return dframe\n",
    "\n",
    "# ######################################################################################################################\n",
    "# Use this Function to Create New Collections by Uploading JSON file(s) to the MongoDB Atlas server.\n",
    "# ######################################################################################################################\n",
    "def set_mongo_collection(user_id, pwd, cluster_name, db_name, src_file_path, json_files):\n",
    "    '''Create a client connection to MongoDB'''\n",
    "    mongo_uri = f\"mongodb+srv://{user_id}:{pwd}@{cluster_name}.mongodb.net/{db_name}\"\n",
    "    client = pymongo.MongoClient(mongo_uri)\n",
    "    db = client[db_name]\n",
    "    \n",
    "    '''Read in a JSON file, and Use It to Create a New Collection'''\n",
    "    for file in json_files:\n",
    "        db.drop_collection(file)\n",
    "        json_file = os.path.join(src_file_path, json_files[file])\n",
    "        with open(json_file, 'r') as openfile:\n",
    "            json_object = json.load(openfile)\n",
    "            file = db[file]\n",
    "            result = file.insert_many(json_object)\n",
    "\n",
    "    client.close()\n",
    "    \n",
    "    return result"
   ]
  },
  {
   "cell_type": "code",
   "execution_count": 0,
   "metadata": {
    "application/vnd.databricks.v1+cell": {
     "cellMetadata": {
      "byteLimit": 2048000,
      "implicitDf": true,
      "rowLimit": 10000
     },
     "inputWidgets": {},
     "nuid": "30dbbbd2-8b85-4285-84d3-6c2e5370d96f",
     "showTitle": false,
     "title": ""
    }
   },
   "outputs": [
    {
     "output_type": "display_data",
     "data": {
      "text/html": [
       "<style scoped>\n",
       "  .table-result-container {\n",
       "    max-height: 300px;\n",
       "    overflow: auto;\n",
       "  }\n",
       "  table, th, td {\n",
       "    border: 1px solid black;\n",
       "    border-collapse: collapse;\n",
       "  }\n",
       "  th, td {\n",
       "    padding: 5px;\n",
       "  }\n",
       "  th {\n",
       "    text-align: left;\n",
       "  }\n",
       "</style><div class='table-result-container'><table class='table-result'><thead style='background-color: white'><tr></tr></thead><tbody></tbody></table></div>"
      ]
     },
     "metadata": {
      "application/vnd.databricks.v1+output": {
       "addedWidgets": {},
       "aggData": [],
       "aggError": "",
       "aggOverflow": false,
       "aggSchema": [],
       "aggSeriesLimitReached": false,
       "aggType": "",
       "arguments": {},
       "columnCustomDisplayInfos": {},
       "data": [],
       "datasetInfos": [],
       "dbfsResultPath": null,
       "isJsonSchema": true,
       "metadata": {},
       "overflow": false,
       "plotOptions": {
        "customPlotOptions": {},
        "displayType": "table",
        "pivotAggregation": null,
        "pivotColumns": null,
        "xColumns": null,
        "yColumns": null
       },
       "removedWidgets": [],
       "schema": [],
       "type": "table"
      }
     },
     "output_type": "display_data"
    }
   ],
   "source": [
    "%sql\n",
    "DROP DATABASE IF EXISTS sakila_dlh CASCADE;"
   ]
  },
  {
   "cell_type": "markdown",
   "metadata": {
    "application/vnd.databricks.v1+cell": {
     "cellMetadata": {
      "byteLimit": 2048000,
      "rowLimit": 10000
     },
     "inputWidgets": {},
     "nuid": "8d41fb9f-2015-48e8-8ae6-1f3e86327509",
     "showTitle": false,
     "title": ""
    }
   },
   "source": [
    "###Get Data from Azure SQL Database"
   ]
  },
  {
   "cell_type": "code",
   "execution_count": 0,
   "metadata": {
    "application/vnd.databricks.v1+cell": {
     "cellMetadata": {
      "byteLimit": 2048000,
      "implicitDf": true,
      "rowLimit": 10000
     },
     "inputWidgets": {},
     "nuid": "407bd2c0-56be-402e-bd21-2698a409a7f1",
     "showTitle": false,
     "title": ""
    }
   },
   "outputs": [
    {
     "output_type": "display_data",
     "data": {
      "text/html": [
       "<style scoped>\n",
       "  .table-result-container {\n",
       "    max-height: 300px;\n",
       "    overflow: auto;\n",
       "  }\n",
       "  table, th, td {\n",
       "    border: 1px solid black;\n",
       "    border-collapse: collapse;\n",
       "  }\n",
       "  th, td {\n",
       "    padding: 5px;\n",
       "  }\n",
       "  th {\n",
       "    text-align: left;\n",
       "  }\n",
       "</style><div class='table-result-container'><table class='table-result'><thead style='background-color: white'><tr></tr></thead><tbody></tbody></table></div>"
      ]
     },
     "metadata": {
      "application/vnd.databricks.v1+output": {
       "addedWidgets": {},
       "aggData": [],
       "aggError": "",
       "aggOverflow": false,
       "aggSchema": [],
       "aggSeriesLimitReached": false,
       "aggType": "",
       "arguments": {},
       "columnCustomDisplayInfos": {},
       "data": [],
       "datasetInfos": [],
       "dbfsResultPath": null,
       "isJsonSchema": true,
       "metadata": {},
       "overflow": false,
       "plotOptions": {
        "customPlotOptions": {},
        "displayType": "table",
        "pivotAggregation": null,
        "pivotColumns": null,
        "xColumns": null,
        "yColumns": null
       },
       "removedWidgets": [],
       "schema": [],
       "type": "table"
      }
     },
     "output_type": "display_data"
    }
   ],
   "source": [
    "%sql\n",
    "CREATE DATABASE IF NOT EXISTS sakila_dlh\n",
    "COMMENT \"DS-2002 Final Project Database\"\n",
    "LOCATION \"dbfs:/FileStore/ds2002final/sakila_dlh\"\n",
    "WITH DBPROPERTIES (contains_pii = true, purpose = \"Final Project\");"
   ]
  },
  {
   "cell_type": "code",
   "execution_count": 0,
   "metadata": {
    "application/vnd.databricks.v1+cell": {
     "cellMetadata": {
      "byteLimit": 2048000,
      "implicitDf": true,
      "rowLimit": 10000
     },
     "inputWidgets": {},
     "nuid": "63582913-6b91-4a71-a294-6582646c2fe4",
     "showTitle": false,
     "title": ""
    }
   },
   "outputs": [
    {
     "output_type": "display_data",
     "data": {
      "text/html": [
       "<style scoped>\n",
       "  .table-result-container {\n",
       "    max-height: 300px;\n",
       "    overflow: auto;\n",
       "  }\n",
       "  table, th, td {\n",
       "    border: 1px solid black;\n",
       "    border-collapse: collapse;\n",
       "  }\n",
       "  th, td {\n",
       "    padding: 5px;\n",
       "  }\n",
       "  th {\n",
       "    text-align: left;\n",
       "  }\n",
       "</style><div class='table-result-container'><table class='table-result'><thead style='background-color: white'><tr></tr></thead><tbody></tbody></table></div>"
      ]
     },
     "metadata": {
      "application/vnd.databricks.v1+output": {
       "addedWidgets": {},
       "aggData": [],
       "aggError": "",
       "aggOverflow": false,
       "aggSchema": [],
       "aggSeriesLimitReached": false,
       "aggType": "",
       "arguments": {},
       "columnCustomDisplayInfos": {},
       "data": [],
       "datasetInfos": [],
       "dbfsResultPath": null,
       "isJsonSchema": true,
       "metadata": {},
       "overflow": false,
       "plotOptions": {
        "customPlotOptions": {},
        "displayType": "table",
        "pivotAggregation": null,
        "pivotColumns": null,
        "xColumns": null,
        "yColumns": null
       },
       "removedWidgets": [],
       "schema": [],
       "type": "table"
      }
     },
     "output_type": "display_data"
    }
   ],
   "source": [
    "%sql\n",
    "CREATE OR REPLACE TEMPORARY VIEW view_date\n",
    "USING org.apache.spark.sql.jdbc\n",
    "OPTIONS (\n",
    "  url \"jdbc:mysql://rcq5jz-mysql.mysql.database.azure.com:3306/sakila_dw\",\n",
    "  dbtable \"dim_date\",\n",
    "  user \"brithoang\",\n",
    "  password \"Shawnmendes.1\"\n",
    ")"
   ]
  },
  {
   "cell_type": "markdown",
   "metadata": {
    "application/vnd.databricks.v1+cell": {
     "cellMetadata": {
      "byteLimit": 2048000,
      "rowLimit": 10000
     },
     "inputWidgets": {},
     "nuid": "3391de07-6cec-4782-bb5c-18a60a23fd5c",
     "showTitle": false,
     "title": ""
    }
   },
   "source": [
    "###Create a New Table that Sources Date Dimension Data from a Table in an Azure MySQL database"
   ]
  },
  {
   "cell_type": "code",
   "execution_count": 0,
   "metadata": {
    "application/vnd.databricks.v1+cell": {
     "cellMetadata": {
      "byteLimit": 2048000,
      "implicitDf": true,
      "rowLimit": 10000
     },
     "inputWidgets": {},
     "nuid": "ad9c97ef-8ddf-49cb-a852-0675fc2ad6d8",
     "showTitle": false,
     "title": ""
    }
   },
   "outputs": [
    {
     "output_type": "display_data",
     "data": {
      "text/html": [
       "<style scoped>\n",
       "  .table-result-container {\n",
       "    max-height: 300px;\n",
       "    overflow: auto;\n",
       "  }\n",
       "  table, th, td {\n",
       "    border: 1px solid black;\n",
       "    border-collapse: collapse;\n",
       "  }\n",
       "  th, td {\n",
       "    padding: 5px;\n",
       "  }\n",
       "  th {\n",
       "    text-align: left;\n",
       "  }\n",
       "</style><div class='table-result-container'><table class='table-result'><thead style='background-color: white'><tr><th>num_affected_rows</th><th>num_inserted_rows</th></tr></thead><tbody></tbody></table></div>"
      ]
     },
     "metadata": {
      "application/vnd.databricks.v1+output": {
       "addedWidgets": {},
       "aggData": [],
       "aggError": "",
       "aggOverflow": false,
       "aggSchema": [],
       "aggSeriesLimitReached": false,
       "aggType": "",
       "arguments": {},
       "columnCustomDisplayInfos": {},
       "data": [],
       "datasetInfos": [],
       "dbfsResultPath": null,
       "isJsonSchema": true,
       "metadata": {},
       "overflow": false,
       "plotOptions": {
        "customPlotOptions": {},
        "displayType": "table",
        "pivotAggregation": null,
        "pivotColumns": null,
        "xColumns": null,
        "yColumns": null
       },
       "removedWidgets": [],
       "schema": [
        {
         "metadata": "{}",
         "name": "num_affected_rows",
         "type": "\"long\""
        },
        {
         "metadata": "{}",
         "name": "num_inserted_rows",
         "type": "\"long\""
        }
       ],
       "type": "table"
      }
     },
     "output_type": "display_data"
    }
   ],
   "source": [
    "%sql\n",
    "USE DATABASE sakila_dlh;\n",
    "\n",
    "CREATE OR REPLACE TABLE sakila_dlh.dim_date\n",
    "COMMENT \"Date Dimension Table\"\n",
    "LOCATION \"dbfs:/FileStore/ds2002final/sakila_dlh/dim_date\"\n",
    "AS SELECT * FROM view_date"
   ]
  },
  {
   "cell_type": "code",
   "execution_count": 0,
   "metadata": {
    "application/vnd.databricks.v1+cell": {
     "cellMetadata": {
      "byteLimit": 2048000,
      "implicitDf": true,
      "rowLimit": 10000
     },
     "inputWidgets": {},
     "nuid": "5d7eeb24-c9df-42ba-a595-c293ad816c05",
     "showTitle": false,
     "title": ""
    }
   },
   "outputs": [
    {
     "output_type": "display_data",
     "data": {
      "text/html": [
       "<style scoped>\n",
       "  .table-result-container {\n",
       "    max-height: 300px;\n",
       "    overflow: auto;\n",
       "  }\n",
       "  table, th, td {\n",
       "    border: 1px solid black;\n",
       "    border-collapse: collapse;\n",
       "  }\n",
       "  th, td {\n",
       "    padding: 5px;\n",
       "  }\n",
       "  th {\n",
       "    text-align: left;\n",
       "  }\n",
       "</style><div class='table-result-container'><table class='table-result'><thead style='background-color: white'><tr><th>col_name</th><th>data_type</th><th>comment</th></tr></thead><tbody><tr><td>date_key</td><td>int</td><td>null</td></tr><tr><td>full_date</td><td>date</td><td>null</td></tr><tr><td>date_name</td><td>string</td><td>null</td></tr><tr><td>date_name_us</td><td>string</td><td>null</td></tr><tr><td>date_name_eu</td><td>string</td><td>null</td></tr><tr><td>day_of_week</td><td>int</td><td>null</td></tr><tr><td>day_name_of_week</td><td>string</td><td>null</td></tr><tr><td>day_of_month</td><td>int</td><td>null</td></tr><tr><td>day_of_year</td><td>int</td><td>null</td></tr><tr><td>weekday_weekend</td><td>string</td><td>null</td></tr><tr><td>week_of_year</td><td>int</td><td>null</td></tr><tr><td>month_name</td><td>string</td><td>null</td></tr><tr><td>month_of_year</td><td>int</td><td>null</td></tr><tr><td>is_last_day_of_month</td><td>string</td><td>null</td></tr><tr><td>calendar_quarter</td><td>int</td><td>null</td></tr><tr><td>calendar_year</td><td>int</td><td>null</td></tr><tr><td>calendar_year_month</td><td>string</td><td>null</td></tr><tr><td>calendar_year_qtr</td><td>string</td><td>null</td></tr><tr><td>fiscal_month_of_year</td><td>int</td><td>null</td></tr><tr><td>fiscal_quarter</td><td>int</td><td>null</td></tr><tr><td>fiscal_year</td><td>int</td><td>null</td></tr><tr><td>fiscal_year_month</td><td>string</td><td>null</td></tr><tr><td>fiscal_year_qtr</td><td>string</td><td>null</td></tr><tr><td></td><td></td><td></td></tr><tr><td># Detailed Table Information</td><td></td><td></td></tr><tr><td>Catalog</td><td>spark_catalog</td><td></td></tr><tr><td>Database</td><td>sakila_dlh</td><td></td></tr><tr><td>Table</td><td>dim_date</td><td></td></tr><tr><td>Created Time</td><td>Tue Dec 05 05:17:48 UTC 2023</td><td></td></tr><tr><td>Last Access</td><td>UNKNOWN</td><td></td></tr><tr><td>Created By</td><td>Spark 3.3.0</td><td></td></tr><tr><td>Type</td><td>EXTERNAL</td><td></td></tr><tr><td>Comment</td><td>Date Dimension Table</td><td></td></tr><tr><td>Location</td><td>dbfs:/FileStore/ds2002final/sakila_dlh/dim_date</td><td></td></tr><tr><td>Provider</td><td>delta</td><td></td></tr><tr><td>Owner</td><td>root</td><td></td></tr><tr><td>Table Properties</td><td>[delta.minReaderVersion=1,delta.minWriterVersion=2]</td><td></td></tr></tbody></table></div>"
      ]
     },
     "metadata": {
      "application/vnd.databricks.v1+output": {
       "addedWidgets": {},
       "aggData": [],
       "aggError": "",
       "aggOverflow": false,
       "aggSchema": [],
       "aggSeriesLimitReached": false,
       "aggType": "",
       "arguments": {},
       "columnCustomDisplayInfos": {},
       "data": [
        [
         "date_key",
         "int",
         null
        ],
        [
         "full_date",
         "date",
         null
        ],
        [
         "date_name",
         "string",
         null
        ],
        [
         "date_name_us",
         "string",
         null
        ],
        [
         "date_name_eu",
         "string",
         null
        ],
        [
         "day_of_week",
         "int",
         null
        ],
        [
         "day_name_of_week",
         "string",
         null
        ],
        [
         "day_of_month",
         "int",
         null
        ],
        [
         "day_of_year",
         "int",
         null
        ],
        [
         "weekday_weekend",
         "string",
         null
        ],
        [
         "week_of_year",
         "int",
         null
        ],
        [
         "month_name",
         "string",
         null
        ],
        [
         "month_of_year",
         "int",
         null
        ],
        [
         "is_last_day_of_month",
         "string",
         null
        ],
        [
         "calendar_quarter",
         "int",
         null
        ],
        [
         "calendar_year",
         "int",
         null
        ],
        [
         "calendar_year_month",
         "string",
         null
        ],
        [
         "calendar_year_qtr",
         "string",
         null
        ],
        [
         "fiscal_month_of_year",
         "int",
         null
        ],
        [
         "fiscal_quarter",
         "int",
         null
        ],
        [
         "fiscal_year",
         "int",
         null
        ],
        [
         "fiscal_year_month",
         "string",
         null
        ],
        [
         "fiscal_year_qtr",
         "string",
         null
        ],
        [
         "",
         "",
         ""
        ],
        [
         "# Detailed Table Information",
         "",
         ""
        ],
        [
         "Catalog",
         "spark_catalog",
         ""
        ],
        [
         "Database",
         "sakila_dlh",
         ""
        ],
        [
         "Table",
         "dim_date",
         ""
        ],
        [
         "Created Time",
         "Tue Dec 05 05:17:48 UTC 2023",
         ""
        ],
        [
         "Last Access",
         "UNKNOWN",
         ""
        ],
        [
         "Created By",
         "Spark 3.3.0",
         ""
        ],
        [
         "Type",
         "EXTERNAL",
         ""
        ],
        [
         "Comment",
         "Date Dimension Table",
         ""
        ],
        [
         "Location",
         "dbfs:/FileStore/ds2002final/sakila_dlh/dim_date",
         ""
        ],
        [
         "Provider",
         "delta",
         ""
        ],
        [
         "Owner",
         "root",
         ""
        ],
        [
         "Table Properties",
         "[delta.minReaderVersion=1,delta.minWriterVersion=2]",
         ""
        ]
       ],
       "datasetInfos": [],
       "dbfsResultPath": null,
       "isJsonSchema": true,
       "metadata": {},
       "overflow": false,
       "plotOptions": {
        "customPlotOptions": {},
        "displayType": "table",
        "pivotAggregation": null,
        "pivotColumns": null,
        "xColumns": null,
        "yColumns": null
       },
       "removedWidgets": [],
       "schema": [
        {
         "metadata": "{\"comment\":\"name of the column\"}",
         "name": "col_name",
         "type": "\"string\""
        },
        {
         "metadata": "{\"comment\":\"data type of the column\"}",
         "name": "data_type",
         "type": "\"string\""
        },
        {
         "metadata": "{\"comment\":\"comment of the column\"}",
         "name": "comment",
         "type": "\"string\""
        }
       ],
       "type": "table"
      }
     },
     "output_type": "display_data"
    }
   ],
   "source": [
    "%sql\n",
    "DESCRIBE EXTENDED sakila_dlh.dim_date;"
   ]
  },
  {
   "cell_type": "code",
   "execution_count": 0,
   "metadata": {
    "application/vnd.databricks.v1+cell": {
     "cellMetadata": {
      "byteLimit": 2048000,
      "implicitDf": true,
      "rowLimit": 10000
     },
     "inputWidgets": {},
     "nuid": "791f865d-1eab-4272-aa3c-85612d00174b",
     "showTitle": false,
     "title": ""
    }
   },
   "outputs": [
    {
     "output_type": "display_data",
     "data": {
      "text/html": [
       "<style scoped>\n",
       "  .table-result-container {\n",
       "    max-height: 300px;\n",
       "    overflow: auto;\n",
       "  }\n",
       "  table, th, td {\n",
       "    border: 1px solid black;\n",
       "    border-collapse: collapse;\n",
       "  }\n",
       "  th, td {\n",
       "    padding: 5px;\n",
       "  }\n",
       "  th {\n",
       "    text-align: left;\n",
       "  }\n",
       "</style><div class='table-result-container'><table class='table-result'><thead style='background-color: white'><tr><th>date_key</th><th>full_date</th><th>date_name</th><th>date_name_us</th><th>date_name_eu</th><th>day_of_week</th><th>day_name_of_week</th><th>day_of_month</th><th>day_of_year</th><th>weekday_weekend</th><th>week_of_year</th><th>month_name</th><th>month_of_year</th><th>is_last_day_of_month</th><th>calendar_quarter</th><th>calendar_year</th><th>calendar_year_month</th><th>calendar_year_qtr</th><th>fiscal_month_of_year</th><th>fiscal_quarter</th><th>fiscal_year</th><th>fiscal_year_month</th><th>fiscal_year_qtr</th></tr></thead><tbody><tr><td>20000101</td><td>2000-01-01</td><td>2000/01/01</td><td>01/01/2000</td><td>01/01/2000</td><td>7</td><td>Saturday</td><td>1</td><td>1</td><td>Weekend</td><td>52</td><td>January</td><td>1</td><td>N</td><td>1</td><td>2000</td><td>2000-01</td><td>2000Q1</td><td>7</td><td>3</td><td>2000</td><td>2000-07</td><td>2000Q3</td></tr><tr><td>20000102</td><td>2000-01-02</td><td>2000/01/02</td><td>01/02/2000</td><td>02/01/2000</td><td>1</td><td>Sunday</td><td>2</td><td>2</td><td>Weekend</td><td>52</td><td>January</td><td>1</td><td>N</td><td>1</td><td>2000</td><td>2000-01</td><td>2000Q1</td><td>7</td><td>3</td><td>2000</td><td>2000-07</td><td>2000Q3</td></tr><tr><td>20000103</td><td>2000-01-03</td><td>2000/01/03</td><td>01/03/2000</td><td>03/01/2000</td><td>2</td><td>Monday</td><td>3</td><td>3</td><td>Weekday</td><td>1</td><td>January</td><td>1</td><td>N</td><td>1</td><td>2000</td><td>2000-01</td><td>2000Q1</td><td>7</td><td>3</td><td>2000</td><td>2000-07</td><td>2000Q3</td></tr><tr><td>20000104</td><td>2000-01-04</td><td>2000/01/04</td><td>01/04/2000</td><td>04/01/2000</td><td>3</td><td>Tuesday</td><td>4</td><td>4</td><td>Weekday</td><td>1</td><td>January</td><td>1</td><td>N</td><td>1</td><td>2000</td><td>2000-01</td><td>2000Q1</td><td>7</td><td>3</td><td>2000</td><td>2000-07</td><td>2000Q3</td></tr><tr><td>20000105</td><td>2000-01-05</td><td>2000/01/05</td><td>01/05/2000</td><td>05/01/2000</td><td>4</td><td>Wednesday</td><td>5</td><td>5</td><td>Weekday</td><td>1</td><td>January</td><td>1</td><td>N</td><td>1</td><td>2000</td><td>2000-01</td><td>2000Q1</td><td>7</td><td>3</td><td>2000</td><td>2000-07</td><td>2000Q3</td></tr></tbody></table></div>"
      ]
     },
     "metadata": {
      "application/vnd.databricks.v1+output": {
       "addedWidgets": {},
       "aggData": [],
       "aggError": "",
       "aggOverflow": false,
       "aggSchema": [],
       "aggSeriesLimitReached": false,
       "aggType": "",
       "arguments": {},
       "columnCustomDisplayInfos": {},
       "data": [
        [
         20000101,
         "2000-01-01",
         "2000/01/01",
         "01/01/2000",
         "01/01/2000",
         7,
         "Saturday",
         1,
         1,
         "Weekend",
         52,
         "January",
         1,
         "N",
         1,
         2000,
         "2000-01",
         "2000Q1",
         7,
         3,
         2000,
         "2000-07",
         "2000Q3"
        ],
        [
         20000102,
         "2000-01-02",
         "2000/01/02",
         "01/02/2000",
         "02/01/2000",
         1,
         "Sunday",
         2,
         2,
         "Weekend",
         52,
         "January",
         1,
         "N",
         1,
         2000,
         "2000-01",
         "2000Q1",
         7,
         3,
         2000,
         "2000-07",
         "2000Q3"
        ],
        [
         20000103,
         "2000-01-03",
         "2000/01/03",
         "01/03/2000",
         "03/01/2000",
         2,
         "Monday",
         3,
         3,
         "Weekday",
         1,
         "January",
         1,
         "N",
         1,
         2000,
         "2000-01",
         "2000Q1",
         7,
         3,
         2000,
         "2000-07",
         "2000Q3"
        ],
        [
         20000104,
         "2000-01-04",
         "2000/01/04",
         "01/04/2000",
         "04/01/2000",
         3,
         "Tuesday",
         4,
         4,
         "Weekday",
         1,
         "January",
         1,
         "N",
         1,
         2000,
         "2000-01",
         "2000Q1",
         7,
         3,
         2000,
         "2000-07",
         "2000Q3"
        ],
        [
         20000105,
         "2000-01-05",
         "2000/01/05",
         "01/05/2000",
         "05/01/2000",
         4,
         "Wednesday",
         5,
         5,
         "Weekday",
         1,
         "January",
         1,
         "N",
         1,
         2000,
         "2000-01",
         "2000Q1",
         7,
         3,
         2000,
         "2000-07",
         "2000Q3"
        ]
       ],
       "datasetInfos": [],
       "dbfsResultPath": null,
       "isJsonSchema": true,
       "metadata": {},
       "overflow": false,
       "plotOptions": {
        "customPlotOptions": {},
        "displayType": "table",
        "pivotAggregation": null,
        "pivotColumns": null,
        "xColumns": null,
        "yColumns": null
       },
       "removedWidgets": [],
       "schema": [
        {
         "metadata": "{\"scale\":0}",
         "name": "date_key",
         "type": "\"integer\""
        },
        {
         "metadata": "{\"scale\":0}",
         "name": "full_date",
         "type": "\"date\""
        },
        {
         "metadata": "{\"scale\":0}",
         "name": "date_name",
         "type": "\"string\""
        },
        {
         "metadata": "{\"scale\":0}",
         "name": "date_name_us",
         "type": "\"string\""
        },
        {
         "metadata": "{\"scale\":0}",
         "name": "date_name_eu",
         "type": "\"string\""
        },
        {
         "metadata": "{\"scale\":0}",
         "name": "day_of_week",
         "type": "\"integer\""
        },
        {
         "metadata": "{\"scale\":0}",
         "name": "day_name_of_week",
         "type": "\"string\""
        },
        {
         "metadata": "{\"scale\":0}",
         "name": "day_of_month",
         "type": "\"integer\""
        },
        {
         "metadata": "{\"scale\":0}",
         "name": "day_of_year",
         "type": "\"integer\""
        },
        {
         "metadata": "{\"scale\":0}",
         "name": "weekday_weekend",
         "type": "\"string\""
        },
        {
         "metadata": "{\"scale\":0}",
         "name": "week_of_year",
         "type": "\"integer\""
        },
        {
         "metadata": "{\"scale\":0}",
         "name": "month_name",
         "type": "\"string\""
        },
        {
         "metadata": "{\"scale\":0}",
         "name": "month_of_year",
         "type": "\"integer\""
        },
        {
         "metadata": "{\"scale\":0}",
         "name": "is_last_day_of_month",
         "type": "\"string\""
        },
        {
         "metadata": "{\"scale\":0}",
         "name": "calendar_quarter",
         "type": "\"integer\""
        },
        {
         "metadata": "{\"scale\":0}",
         "name": "calendar_year",
         "type": "\"integer\""
        },
        {
         "metadata": "{\"scale\":0}",
         "name": "calendar_year_month",
         "type": "\"string\""
        },
        {
         "metadata": "{\"scale\":0}",
         "name": "calendar_year_qtr",
         "type": "\"string\""
        },
        {
         "metadata": "{\"scale\":0}",
         "name": "fiscal_month_of_year",
         "type": "\"integer\""
        },
        {
         "metadata": "{\"scale\":0}",
         "name": "fiscal_quarter",
         "type": "\"integer\""
        },
        {
         "metadata": "{\"scale\":0}",
         "name": "fiscal_year",
         "type": "\"integer\""
        },
        {
         "metadata": "{\"scale\":0}",
         "name": "fiscal_year_month",
         "type": "\"string\""
        },
        {
         "metadata": "{\"scale\":0}",
         "name": "fiscal_year_qtr",
         "type": "\"string\""
        }
       ],
       "type": "table"
      }
     },
     "output_type": "display_data"
    }
   ],
   "source": [
    "%sql\n",
    "SELECT * FROM sakila_dlh.dim_date LIMIT 5"
   ]
  },
  {
   "cell_type": "markdown",
   "metadata": {
    "application/vnd.databricks.v1+cell": {
     "cellMetadata": {
      "byteLimit": 2048000,
      "rowLimit": 10000
     },
     "inputWidgets": {},
     "nuid": "95222950-af96-4757-a3e7-0290b7fb6102",
     "showTitle": false,
     "title": ""
    }
   },
   "source": [
    "### Exract Film Dimension from Mongo DB"
   ]
  },
  {
   "cell_type": "code",
   "execution_count": 0,
   "metadata": {
    "application/vnd.databricks.v1+cell": {
     "cellMetadata": {
      "byteLimit": 2048000,
      "rowLimit": 10000
     },
     "inputWidgets": {},
     "nuid": "3d18ae5a-a691-4b33-a9eb-417116a67ca8",
     "showTitle": false,
     "title": ""
    }
   },
   "outputs": [
    {
     "output_type": "display_data",
     "data": {
      "text/html": [
       "<style scoped>\n",
       "  .ansiout {\n",
       "    display: block;\n",
       "    unicode-bidi: embed;\n",
       "    white-space: pre-wrap;\n",
       "    word-wrap: break-word;\n",
       "    word-break: break-all;\n",
       "    font-family: \"Menlo\", \"Monaco\", \"Consolas\", \"Ubuntu Mono\", \"Source Code Pro\", monospace;\n",
       "    font-size: 13px;\n",
       "    color: #555;\n",
       "    margin-left: 4px;\n",
       "    line-height: 19px;\n",
       "  }\n",
       "</style>\n",
       "<div class=\"ansiout\">import com.mongodb.spark._\n",
       "df_film: org.apache.spark.sql.DataFrame = [film_id: int, title: string ... 10 more fields]\n",
       "</div>"
      ]
     },
     "metadata": {
      "application/vnd.databricks.v1+output": {
       "addedWidgets": {},
       "arguments": {},
       "data": "<div class=\"ansiout\">import com.mongodb.spark._\ndf_film: org.apache.spark.sql.DataFrame = [film_id: int, title: string ... 10 more fields]\n</div>",
       "datasetInfos": [
        {
         "name": "df_film",
         "schema": {
          "fields": [
           {
            "metadata": {},
            "name": "film_id",
            "nullable": true,
            "type": "integer"
           },
           {
            "metadata": {},
            "name": "title",
            "nullable": true,
            "type": "string"
           },
           {
            "metadata": {},
            "name": "description",
            "nullable": true,
            "type": "string"
           },
           {
            "metadata": {},
            "name": "release_year",
            "nullable": true,
            "type": "string"
           },
           {
            "metadata": {},
            "name": "language_id",
            "nullable": true,
            "type": "integer"
           },
           {
            "metadata": {},
            "name": "original_language_id",
            "nullable": true,
            "type": "integer"
           },
           {
            "metadata": {},
            "name": "rental_duration",
            "nullable": true,
            "type": "integer"
           },
           {
            "metadata": {},
            "name": "length",
            "nullable": true,
            "type": "integer"
           },
           {
            "metadata": {},
            "name": "replacement_cost",
            "nullable": true,
            "type": "double"
           },
           {
            "metadata": {},
            "name": "rating",
            "nullable": true,
            "type": "string"
           },
           {
            "metadata": {},
            "name": "special_features",
            "nullable": true,
            "type": "string"
           },
           {
            "metadata": {},
            "name": "last_update",
            "nullable": true,
            "type": "string"
           }
          ],
          "type": "struct"
         },
         "tableIdentifier": null,
         "typeStr": "org.apache.spark.sql.DataFrame"
        }
       ],
       "metadata": {
        "isDbfsCommandResult": false
       },
       "removedWidgets": [],
       "type": "html"
      }
     },
     "output_type": "display_data"
    }
   ],
   "source": [
    "%scala\n",
    "import com.mongodb.spark._\n",
    "\n",
    "val df_film = spark.read.format(\"com.mongodb.spark.sql.DefaultSource\")\n",
    ".option(\"database\", \"sakila\").option(\"collection\", \"film\").load()\n",
    ".select(\"film_id\", \"title\", \"description\", \"release_year\", \"language_id\", \"original_language_id\", \"rental_duration\", \"length\", \"replacement_cost\", \"rating\",\n",
    "\"special_features\", \"last_update\")"
   ]
  },
  {
   "cell_type": "code",
   "execution_count": 0,
   "metadata": {
    "application/vnd.databricks.v1+cell": {
     "cellMetadata": {
      "byteLimit": 2048000,
      "implicitDf": true,
      "rowLimit": 10000
     },
     "inputWidgets": {},
     "nuid": "e23afb14-8818-441d-96d1-df3182bfe192",
     "showTitle": false,
     "title": ""
    }
   },
   "outputs": [
    {
     "output_type": "display_data",
     "data": {
      "text/html": [
       "<style scoped>\n",
       "  .table-result-container {\n",
       "    max-height: 300px;\n",
       "    overflow: auto;\n",
       "  }\n",
       "  table, th, td {\n",
       "    border: 1px solid black;\n",
       "    border-collapse: collapse;\n",
       "  }\n",
       "  th, td {\n",
       "    padding: 5px;\n",
       "  }\n",
       "  th {\n",
       "    text-align: left;\n",
       "  }\n",
       "</style><div class='table-result-container'><table class='table-result'><thead style='background-color: white'><tr><th>film_id</th><th>title</th><th>description</th><th>release_year</th><th>language_id</th><th>original_language_id</th><th>rental_duration</th><th>length</th><th>replacement_cost</th><th>rating</th><th>special_features</th><th>last_update</th></tr></thead><tbody><tr><td>1</td><td>ACADEMY DINOSAUR</td><td>A Epic Drama of a Feminist And a Mad Scientist who must Battle a Teacher in The Canadian Rockies</td><td>2006</td><td>1</td><td>0</td><td>6</td><td>86</td><td>20.99</td><td>PG</td><td>Deleted Scenes,Behind the Scenes</td><td>2006-02-15 05:03:42</td></tr><tr><td>2</td><td>ACE GOLDFINGER</td><td>A Astounding Epistle of a Database Administrator And a Explorer who must Find a Car in Ancient China</td><td>2006</td><td>1</td><td>0</td><td>3</td><td>48</td><td>12.99</td><td>G</td><td>Trailers,Deleted Scenes</td><td>2006-02-15 05:03:42</td></tr><tr><td>3</td><td>ADAPTATION HOLES</td><td>A Astounding Reflection of a Lumberjack And a Car who must Sink a Lumberjack in A Baloon Factory</td><td>2006</td><td>1</td><td>0</td><td>7</td><td>50</td><td>18.99</td><td>NC-17</td><td>Trailers,Deleted Scenes</td><td>2006-02-15 05:03:42</td></tr><tr><td>4</td><td>AFFAIR PREJUDICE</td><td>A Fanciful Documentary of a Frisbee And a Lumberjack who must Chase a Monkey in A Shark Tank</td><td>2006</td><td>1</td><td>0</td><td>5</td><td>117</td><td>26.99</td><td>G</td><td>Commentaries,Behind the Scenes</td><td>2006-02-15 05:03:42</td></tr><tr><td>5</td><td>AFRICAN EGG</td><td>A Fast-Paced Documentary of a Pastry Chef And a Dentist who must Pursue a Forensic Psychologist in The Gulf of Mexico</td><td>2006</td><td>1</td><td>0</td><td>6</td><td>130</td><td>22.99</td><td>G</td><td>Deleted Scenes</td><td>2006-02-15 05:03:42</td></tr><tr><td>6</td><td>AGENT TRUMAN</td><td>A Intrepid Panorama of a Robot And a Boy who must Escape a Sumo Wrestler in Ancient China</td><td>2006</td><td>1</td><td>0</td><td>3</td><td>169</td><td>17.99</td><td>PG</td><td>Deleted Scenes</td><td>2006-02-15 05:03:42</td></tr><tr><td>7</td><td>AIRPLANE SIERRA</td><td>A Touching Saga of a Hunter And a Butler who must Discover a Butler in A Jet Boat</td><td>2006</td><td>1</td><td>0</td><td>6</td><td>62</td><td>28.99</td><td>PG-13</td><td>Trailers,Deleted Scenes</td><td>2006-02-15 05:03:42</td></tr><tr><td>8</td><td>AIRPORT POLLOCK</td><td>A Epic Tale of a Moose And a Girl who must Confront a Monkey in Ancient India</td><td>2006</td><td>1</td><td>0</td><td>6</td><td>54</td><td>15.99</td><td>R</td><td>Trailers</td><td>2006-02-15 05:03:42</td></tr><tr><td>9</td><td>ALABAMA DEVIL</td><td>A Thoughtful Panorama of a Database Administrator And a Mad Scientist who must Outgun a Mad Scientist in A Jet Boat</td><td>2006</td><td>1</td><td>0</td><td>3</td><td>114</td><td>21.99</td><td>PG-13</td><td>Trailers,Deleted Scenes</td><td>2006-02-15 05:03:42</td></tr><tr><td>10</td><td>ALADDIN CALENDAR</td><td>A Action-Packed Tale of a Man And a Lumberjack who must Reach a Feminist in Ancient China</td><td>2006</td><td>1</td><td>0</td><td>6</td><td>63</td><td>24.99</td><td>NC-17</td><td>Trailers,Deleted Scenes</td><td>2006-02-15 05:03:42</td></tr></tbody></table></div>"
      ]
     },
     "metadata": {
      "application/vnd.databricks.v1+output": {
       "addedWidgets": {},
       "aggData": [],
       "aggError": "",
       "aggOverflow": false,
       "aggSchema": [],
       "aggSeriesLimitReached": false,
       "aggType": "",
       "arguments": {},
       "columnCustomDisplayInfos": {},
       "data": [
        [
         1,
         "ACADEMY DINOSAUR",
         "A Epic Drama of a Feminist And a Mad Scientist who must Battle a Teacher in The Canadian Rockies",
         "2006",
         1,
         0,
         6,
         86,
         20.99,
         "PG",
         "Deleted Scenes,Behind the Scenes",
         "2006-02-15 05:03:42"
        ],
        [
         2,
         "ACE GOLDFINGER",
         "A Astounding Epistle of a Database Administrator And a Explorer who must Find a Car in Ancient China",
         "2006",
         1,
         0,
         3,
         48,
         12.99,
         "G",
         "Trailers,Deleted Scenes",
         "2006-02-15 05:03:42"
        ],
        [
         3,
         "ADAPTATION HOLES",
         "A Astounding Reflection of a Lumberjack And a Car who must Sink a Lumberjack in A Baloon Factory",
         "2006",
         1,
         0,
         7,
         50,
         18.99,
         "NC-17",
         "Trailers,Deleted Scenes",
         "2006-02-15 05:03:42"
        ],
        [
         4,
         "AFFAIR PREJUDICE",
         "A Fanciful Documentary of a Frisbee And a Lumberjack who must Chase a Monkey in A Shark Tank",
         "2006",
         1,
         0,
         5,
         117,
         26.99,
         "G",
         "Commentaries,Behind the Scenes",
         "2006-02-15 05:03:42"
        ],
        [
         5,
         "AFRICAN EGG",
         "A Fast-Paced Documentary of a Pastry Chef And a Dentist who must Pursue a Forensic Psychologist in The Gulf of Mexico",
         "2006",
         1,
         0,
         6,
         130,
         22.99,
         "G",
         "Deleted Scenes",
         "2006-02-15 05:03:42"
        ],
        [
         6,
         "AGENT TRUMAN",
         "A Intrepid Panorama of a Robot And a Boy who must Escape a Sumo Wrestler in Ancient China",
         "2006",
         1,
         0,
         3,
         169,
         17.99,
         "PG",
         "Deleted Scenes",
         "2006-02-15 05:03:42"
        ],
        [
         7,
         "AIRPLANE SIERRA",
         "A Touching Saga of a Hunter And a Butler who must Discover a Butler in A Jet Boat",
         "2006",
         1,
         0,
         6,
         62,
         28.99,
         "PG-13",
         "Trailers,Deleted Scenes",
         "2006-02-15 05:03:42"
        ],
        [
         8,
         "AIRPORT POLLOCK",
         "A Epic Tale of a Moose And a Girl who must Confront a Monkey in Ancient India",
         "2006",
         1,
         0,
         6,
         54,
         15.99,
         "R",
         "Trailers",
         "2006-02-15 05:03:42"
        ],
        [
         9,
         "ALABAMA DEVIL",
         "A Thoughtful Panorama of a Database Administrator And a Mad Scientist who must Outgun a Mad Scientist in A Jet Boat",
         "2006",
         1,
         0,
         3,
         114,
         21.99,
         "PG-13",
         "Trailers,Deleted Scenes",
         "2006-02-15 05:03:42"
        ],
        [
         10,
         "ALADDIN CALENDAR",
         "A Action-Packed Tale of a Man And a Lumberjack who must Reach a Feminist in Ancient China",
         "2006",
         1,
         0,
         6,
         63,
         24.99,
         "NC-17",
         "Trailers,Deleted Scenes",
         "2006-02-15 05:03:42"
        ]
       ],
       "datasetInfos": [
        {
         "name": "df_test",
         "schema": {
          "fields": [
           {
            "metadata": {},
            "name": "film_id",
            "nullable": true,
            "type": "integer"
           },
           {
            "metadata": {},
            "name": "title",
            "nullable": true,
            "type": "string"
           },
           {
            "metadata": {},
            "name": "description",
            "nullable": true,
            "type": "string"
           },
           {
            "metadata": {},
            "name": "release_year",
            "nullable": true,
            "type": "string"
           },
           {
            "metadata": {},
            "name": "language_id",
            "nullable": true,
            "type": "integer"
           },
           {
            "metadata": {},
            "name": "original_language_id",
            "nullable": true,
            "type": "integer"
           },
           {
            "metadata": {},
            "name": "rental_duration",
            "nullable": true,
            "type": "integer"
           },
           {
            "metadata": {},
            "name": "length",
            "nullable": true,
            "type": "integer"
           },
           {
            "metadata": {},
            "name": "replacement_cost",
            "nullable": true,
            "type": "double"
           },
           {
            "metadata": {},
            "name": "rating",
            "nullable": true,
            "type": "string"
           },
           {
            "metadata": {},
            "name": "special_features",
            "nullable": true,
            "type": "string"
           },
           {
            "metadata": {},
            "name": "last_update",
            "nullable": true,
            "type": "string"
           }
          ],
          "type": "struct"
         },
         "tableIdentifier": null,
         "typeStr": "org.apache.spark.sql.Dataset[org.apache.spark.sql.Row]"
        }
       ],
       "dbfsResultPath": null,
       "isJsonSchema": true,
       "metadata": {
        "isDbfsCommandResult": false
       },
       "overflow": false,
       "plotOptions": {
        "customPlotOptions": {},
        "displayType": "table",
        "pivotAggregation": null,
        "pivotColumns": null,
        "xColumns": null,
        "yColumns": null
       },
       "removedWidgets": [],
       "schema": [
        {
         "metadata": "{}",
         "name": "film_id",
         "type": "\"integer\""
        },
        {
         "metadata": "{}",
         "name": "title",
         "type": "\"string\""
        },
        {
         "metadata": "{}",
         "name": "description",
         "type": "\"string\""
        },
        {
         "metadata": "{}",
         "name": "release_year",
         "type": "\"string\""
        },
        {
         "metadata": "{}",
         "name": "language_id",
         "type": "\"integer\""
        },
        {
         "metadata": "{}",
         "name": "original_language_id",
         "type": "\"integer\""
        },
        {
         "metadata": "{}",
         "name": "rental_duration",
         "type": "\"integer\""
        },
        {
         "metadata": "{}",
         "name": "length",
         "type": "\"integer\""
        },
        {
         "metadata": "{}",
         "name": "replacement_cost",
         "type": "\"double\""
        },
        {
         "metadata": "{}",
         "name": "rating",
         "type": "\"string\""
        },
        {
         "metadata": "{}",
         "name": "special_features",
         "type": "\"string\""
        },
        {
         "metadata": "{}",
         "name": "last_update",
         "type": "\"string\""
        }
       ],
       "type": "table"
      }
     },
     "output_type": "display_data"
    }
   ],
   "source": [
    "%scala\n",
    "val df_test = df_film.limit(10)\n",
    "display(df_test)"
   ]
  },
  {
   "cell_type": "code",
   "execution_count": 0,
   "metadata": {
    "application/vnd.databricks.v1+cell": {
     "cellMetadata": {
      "byteLimit": 2048000,
      "rowLimit": 10000
     },
     "inputWidgets": {},
     "nuid": "4f56e34a-c935-40b9-b2ab-c4c09898f41c",
     "showTitle": false,
     "title": ""
    }
   },
   "outputs": [
    {
     "output_type": "display_data",
     "data": {
      "text/html": [
       "<style scoped>\n",
       "  .ansiout {\n",
       "    display: block;\n",
       "    unicode-bidi: embed;\n",
       "    white-space: pre-wrap;\n",
       "    word-wrap: break-word;\n",
       "    word-break: break-all;\n",
       "    font-family: \"Menlo\", \"Monaco\", \"Consolas\", \"Ubuntu Mono\", \"Source Code Pro\", monospace;\n",
       "    font-size: 13px;\n",
       "    color: #555;\n",
       "    margin-left: 4px;\n",
       "    line-height: 19px;\n",
       "  }\n",
       "</style>\n",
       "<div class=\"ansiout\">root\n",
       "-- film_id: integer (nullable = true)\n",
       "-- title: string (nullable = true)\n",
       "-- description: string (nullable = true)\n",
       "-- release_year: string (nullable = true)\n",
       "-- language_id: integer (nullable = true)\n",
       "-- original_language_id: integer (nullable = true)\n",
       "-- rental_duration: integer (nullable = true)\n",
       "-- length: integer (nullable = true)\n",
       "-- replacement_cost: double (nullable = true)\n",
       "-- rating: string (nullable = true)\n",
       "-- special_features: string (nullable = true)\n",
       "-- last_update: string (nullable = true)\n",
       "\n",
       "</div>"
      ]
     },
     "metadata": {
      "application/vnd.databricks.v1+output": {
       "addedWidgets": {},
       "arguments": {},
       "data": "<div class=\"ansiout\">root\n |-- film_id: integer (nullable = true)\n |-- title: string (nullable = true)\n |-- description: string (nullable = true)\n |-- release_year: string (nullable = true)\n |-- language_id: integer (nullable = true)\n |-- original_language_id: integer (nullable = true)\n |-- rental_duration: integer (nullable = true)\n |-- length: integer (nullable = true)\n |-- replacement_cost: double (nullable = true)\n |-- rating: string (nullable = true)\n |-- special_features: string (nullable = true)\n |-- last_update: string (nullable = true)\n\n</div>",
       "datasetInfos": [],
       "metadata": {
        "isDbfsCommandResult": false
       },
       "removedWidgets": [],
       "type": "html"
      }
     },
     "output_type": "display_data"
    }
   ],
   "source": [
    "%scala\n",
    "df_film.printSchema()"
   ]
  },
  {
   "cell_type": "code",
   "execution_count": 0,
   "metadata": {
    "application/vnd.databricks.v1+cell": {
     "cellMetadata": {
      "byteLimit": 2048000,
      "rowLimit": 10000
     },
     "inputWidgets": {},
     "nuid": "3066a750-2bbe-4616-8269-32ec9e21a67a",
     "showTitle": false,
     "title": ""
    }
   },
   "outputs": [
    {
     "output_type": "display_data",
     "data": {
      "text/html": [
       "<style scoped>\n",
       "  .ansiout {\n",
       "    display: block;\n",
       "    unicode-bidi: embed;\n",
       "    white-space: pre-wrap;\n",
       "    word-wrap: break-word;\n",
       "    word-break: break-all;\n",
       "    font-family: \"Menlo\", \"Monaco\", \"Consolas\", \"Ubuntu Mono\", \"Source Code Pro\", monospace;\n",
       "    font-size: 13px;\n",
       "    color: #555;\n",
       "    margin-left: 4px;\n",
       "    line-height: 19px;\n",
       "  }\n",
       "</style>\n",
       "<div class=\"ansiout\"></div>"
      ]
     },
     "metadata": {
      "application/vnd.databricks.v1+output": {
       "addedWidgets": {},
       "arguments": {},
       "data": "<div class=\"ansiout\"></div>",
       "datasetInfos": [],
       "metadata": {
        "isDbfsCommandResult": false
       },
       "removedWidgets": [],
       "type": "html"
      }
     },
     "output_type": "display_data"
    }
   ],
   "source": [
    "%scala\n",
    "df_film.write.format(\"delta\").mode(\"overwrite\").saveAsTable(\"sakila_dlh.dim_film\")"
   ]
  },
  {
   "cell_type": "code",
   "execution_count": 0,
   "metadata": {
    "application/vnd.databricks.v1+cell": {
     "cellMetadata": {
      "byteLimit": 2048000,
      "implicitDf": true,
      "rowLimit": 10000
     },
     "inputWidgets": {},
     "nuid": "6a3b8880-df87-43a7-8f5c-581d9cc8b75c",
     "showTitle": false,
     "title": ""
    }
   },
   "outputs": [
    {
     "output_type": "display_data",
     "data": {
      "text/html": [
       "<style scoped>\n",
       "  .table-result-container {\n",
       "    max-height: 300px;\n",
       "    overflow: auto;\n",
       "  }\n",
       "  table, th, td {\n",
       "    border: 1px solid black;\n",
       "    border-collapse: collapse;\n",
       "  }\n",
       "  th, td {\n",
       "    padding: 5px;\n",
       "  }\n",
       "  th {\n",
       "    text-align: left;\n",
       "  }\n",
       "</style><div class='table-result-container'><table class='table-result'><thead style='background-color: white'><tr><th>col_name</th><th>data_type</th><th>comment</th></tr></thead><tbody><tr><td>film_id</td><td>int</td><td>null</td></tr><tr><td>title</td><td>string</td><td>null</td></tr><tr><td>description</td><td>string</td><td>null</td></tr><tr><td>release_year</td><td>string</td><td>null</td></tr><tr><td>language_id</td><td>int</td><td>null</td></tr><tr><td>original_language_id</td><td>int</td><td>null</td></tr><tr><td>rental_duration</td><td>int</td><td>null</td></tr><tr><td>length</td><td>int</td><td>null</td></tr><tr><td>replacement_cost</td><td>double</td><td>null</td></tr><tr><td>rating</td><td>string</td><td>null</td></tr><tr><td>special_features</td><td>string</td><td>null</td></tr><tr><td>last_update</td><td>string</td><td>null</td></tr><tr><td></td><td></td><td></td></tr><tr><td># Detailed Table Information</td><td></td><td></td></tr><tr><td>Catalog</td><td>spark_catalog</td><td></td></tr><tr><td>Database</td><td>sakila_dlh</td><td></td></tr><tr><td>Table</td><td>dim_film</td><td></td></tr><tr><td>Created Time</td><td>Tue Dec 05 05:17:58 UTC 2023</td><td></td></tr><tr><td>Last Access</td><td>UNKNOWN</td><td></td></tr><tr><td>Created By</td><td>Spark 3.3.0</td><td></td></tr><tr><td>Type</td><td>MANAGED</td><td></td></tr><tr><td>Location</td><td>dbfs:/FileStore/ds2002final/sakila_dlh/dim_film</td><td></td></tr><tr><td>Provider</td><td>delta</td><td></td></tr><tr><td>Owner</td><td>root</td><td></td></tr><tr><td>Is_managed_location</td><td>true</td><td></td></tr><tr><td>Table Properties</td><td>[delta.minReaderVersion=1,delta.minWriterVersion=2]</td><td></td></tr></tbody></table></div>"
      ]
     },
     "metadata": {
      "application/vnd.databricks.v1+output": {
       "addedWidgets": {},
       "aggData": [],
       "aggError": "",
       "aggOverflow": false,
       "aggSchema": [],
       "aggSeriesLimitReached": false,
       "aggType": "",
       "arguments": {},
       "columnCustomDisplayInfos": {},
       "data": [
        [
         "film_id",
         "int",
         null
        ],
        [
         "title",
         "string",
         null
        ],
        [
         "description",
         "string",
         null
        ],
        [
         "release_year",
         "string",
         null
        ],
        [
         "language_id",
         "int",
         null
        ],
        [
         "original_language_id",
         "int",
         null
        ],
        [
         "rental_duration",
         "int",
         null
        ],
        [
         "length",
         "int",
         null
        ],
        [
         "replacement_cost",
         "double",
         null
        ],
        [
         "rating",
         "string",
         null
        ],
        [
         "special_features",
         "string",
         null
        ],
        [
         "last_update",
         "string",
         null
        ],
        [
         "",
         "",
         ""
        ],
        [
         "# Detailed Table Information",
         "",
         ""
        ],
        [
         "Catalog",
         "spark_catalog",
         ""
        ],
        [
         "Database",
         "sakila_dlh",
         ""
        ],
        [
         "Table",
         "dim_film",
         ""
        ],
        [
         "Created Time",
         "Tue Dec 05 05:17:58 UTC 2023",
         ""
        ],
        [
         "Last Access",
         "UNKNOWN",
         ""
        ],
        [
         "Created By",
         "Spark 3.3.0",
         ""
        ],
        [
         "Type",
         "MANAGED",
         ""
        ],
        [
         "Location",
         "dbfs:/FileStore/ds2002final/sakila_dlh/dim_film",
         ""
        ],
        [
         "Provider",
         "delta",
         ""
        ],
        [
         "Owner",
         "root",
         ""
        ],
        [
         "Is_managed_location",
         "true",
         ""
        ],
        [
         "Table Properties",
         "[delta.minReaderVersion=1,delta.minWriterVersion=2]",
         ""
        ]
       ],
       "datasetInfos": [],
       "dbfsResultPath": null,
       "isJsonSchema": true,
       "metadata": {},
       "overflow": false,
       "plotOptions": {
        "customPlotOptions": {},
        "displayType": "table",
        "pivotAggregation": null,
        "pivotColumns": null,
        "xColumns": null,
        "yColumns": null
       },
       "removedWidgets": [],
       "schema": [
        {
         "metadata": "{\"comment\":\"name of the column\"}",
         "name": "col_name",
         "type": "\"string\""
        },
        {
         "metadata": "{\"comment\":\"data type of the column\"}",
         "name": "data_type",
         "type": "\"string\""
        },
        {
         "metadata": "{\"comment\":\"comment of the column\"}",
         "name": "comment",
         "type": "\"string\""
        }
       ],
       "type": "table"
      }
     },
     "output_type": "display_data"
    }
   ],
   "source": [
    "%sql\n",
    "DESCRIBE EXTENDED sakila_dlh.dim_film"
   ]
  },
  {
   "cell_type": "code",
   "execution_count": 0,
   "metadata": {
    "application/vnd.databricks.v1+cell": {
     "cellMetadata": {
      "byteLimit": 2048000,
      "implicitDf": true,
      "rowLimit": 10000
     },
     "inputWidgets": {},
     "nuid": "452d56ab-18e1-41dd-97ab-b2dbbe92a012",
     "showTitle": false,
     "title": ""
    }
   },
   "outputs": [
    {
     "output_type": "display_data",
     "data": {
      "text/html": [
       "<style scoped>\n",
       "  .table-result-container {\n",
       "    max-height: 300px;\n",
       "    overflow: auto;\n",
       "  }\n",
       "  table, th, td {\n",
       "    border: 1px solid black;\n",
       "    border-collapse: collapse;\n",
       "  }\n",
       "  th, td {\n",
       "    padding: 5px;\n",
       "  }\n",
       "  th {\n",
       "    text-align: left;\n",
       "  }\n",
       "</style><div class='table-result-container'><table class='table-result'><thead style='background-color: white'><tr><th>film_id</th><th>title</th><th>description</th><th>release_year</th><th>language_id</th><th>original_language_id</th><th>rental_duration</th><th>length</th><th>replacement_cost</th><th>rating</th><th>special_features</th><th>last_update</th></tr></thead><tbody><tr><td>1</td><td>ACADEMY DINOSAUR</td><td>A Epic Drama of a Feminist And a Mad Scientist who must Battle a Teacher in The Canadian Rockies</td><td>2006</td><td>1</td><td>0</td><td>6</td><td>86</td><td>20.99</td><td>PG</td><td>Deleted Scenes,Behind the Scenes</td><td>2006-02-15 05:03:42</td></tr><tr><td>2</td><td>ACE GOLDFINGER</td><td>A Astounding Epistle of a Database Administrator And a Explorer who must Find a Car in Ancient China</td><td>2006</td><td>1</td><td>0</td><td>3</td><td>48</td><td>12.99</td><td>G</td><td>Trailers,Deleted Scenes</td><td>2006-02-15 05:03:42</td></tr><tr><td>3</td><td>ADAPTATION HOLES</td><td>A Astounding Reflection of a Lumberjack And a Car who must Sink a Lumberjack in A Baloon Factory</td><td>2006</td><td>1</td><td>0</td><td>7</td><td>50</td><td>18.99</td><td>NC-17</td><td>Trailers,Deleted Scenes</td><td>2006-02-15 05:03:42</td></tr><tr><td>4</td><td>AFFAIR PREJUDICE</td><td>A Fanciful Documentary of a Frisbee And a Lumberjack who must Chase a Monkey in A Shark Tank</td><td>2006</td><td>1</td><td>0</td><td>5</td><td>117</td><td>26.99</td><td>G</td><td>Commentaries,Behind the Scenes</td><td>2006-02-15 05:03:42</td></tr><tr><td>5</td><td>AFRICAN EGG</td><td>A Fast-Paced Documentary of a Pastry Chef And a Dentist who must Pursue a Forensic Psychologist in The Gulf of Mexico</td><td>2006</td><td>1</td><td>0</td><td>6</td><td>130</td><td>22.99</td><td>G</td><td>Deleted Scenes</td><td>2006-02-15 05:03:42</td></tr></tbody></table></div>"
      ]
     },
     "metadata": {
      "application/vnd.databricks.v1+output": {
       "addedWidgets": {},
       "aggData": [],
       "aggError": "",
       "aggOverflow": false,
       "aggSchema": [],
       "aggSeriesLimitReached": false,
       "aggType": "",
       "arguments": {},
       "columnCustomDisplayInfos": {},
       "data": [
        [
         1,
         "ACADEMY DINOSAUR",
         "A Epic Drama of a Feminist And a Mad Scientist who must Battle a Teacher in The Canadian Rockies",
         "2006",
         1,
         0,
         6,
         86,
         20.99,
         "PG",
         "Deleted Scenes,Behind the Scenes",
         "2006-02-15 05:03:42"
        ],
        [
         2,
         "ACE GOLDFINGER",
         "A Astounding Epistle of a Database Administrator And a Explorer who must Find a Car in Ancient China",
         "2006",
         1,
         0,
         3,
         48,
         12.99,
         "G",
         "Trailers,Deleted Scenes",
         "2006-02-15 05:03:42"
        ],
        [
         3,
         "ADAPTATION HOLES",
         "A Astounding Reflection of a Lumberjack And a Car who must Sink a Lumberjack in A Baloon Factory",
         "2006",
         1,
         0,
         7,
         50,
         18.99,
         "NC-17",
         "Trailers,Deleted Scenes",
         "2006-02-15 05:03:42"
        ],
        [
         4,
         "AFFAIR PREJUDICE",
         "A Fanciful Documentary of a Frisbee And a Lumberjack who must Chase a Monkey in A Shark Tank",
         "2006",
         1,
         0,
         5,
         117,
         26.99,
         "G",
         "Commentaries,Behind the Scenes",
         "2006-02-15 05:03:42"
        ],
        [
         5,
         "AFRICAN EGG",
         "A Fast-Paced Documentary of a Pastry Chef And a Dentist who must Pursue a Forensic Psychologist in The Gulf of Mexico",
         "2006",
         1,
         0,
         6,
         130,
         22.99,
         "G",
         "Deleted Scenes",
         "2006-02-15 05:03:42"
        ]
       ],
       "datasetInfos": [],
       "dbfsResultPath": null,
       "isJsonSchema": true,
       "metadata": {},
       "overflow": false,
       "plotOptions": {
        "customPlotOptions": {},
        "displayType": "table",
        "pivotAggregation": null,
        "pivotColumns": null,
        "xColumns": null,
        "yColumns": null
       },
       "removedWidgets": [],
       "schema": [
        {
         "metadata": "{}",
         "name": "film_id",
         "type": "\"integer\""
        },
        {
         "metadata": "{}",
         "name": "title",
         "type": "\"string\""
        },
        {
         "metadata": "{}",
         "name": "description",
         "type": "\"string\""
        },
        {
         "metadata": "{}",
         "name": "release_year",
         "type": "\"string\""
        },
        {
         "metadata": "{}",
         "name": "language_id",
         "type": "\"integer\""
        },
        {
         "metadata": "{}",
         "name": "original_language_id",
         "type": "\"integer\""
        },
        {
         "metadata": "{}",
         "name": "rental_duration",
         "type": "\"integer\""
        },
        {
         "metadata": "{}",
         "name": "length",
         "type": "\"integer\""
        },
        {
         "metadata": "{}",
         "name": "replacement_cost",
         "type": "\"double\""
        },
        {
         "metadata": "{}",
         "name": "rating",
         "type": "\"string\""
        },
        {
         "metadata": "{}",
         "name": "special_features",
         "type": "\"string\""
        },
        {
         "metadata": "{}",
         "name": "last_update",
         "type": "\"string\""
        }
       ],
       "type": "table"
      }
     },
     "output_type": "display_data"
    }
   ],
   "source": [
    "%sql\n",
    "SELECT * FROM sakila_dlh.dim_film LIMIT 5"
   ]
  },
  {
   "cell_type": "markdown",
   "metadata": {
    "application/vnd.databricks.v1+cell": {
     "cellMetadata": {
      "byteLimit": 2048000,
      "rowLimit": 10000
     },
     "inputWidgets": {},
     "nuid": "647175c2-978d-42ad-8054-d1ec1df13553",
     "showTitle": false,
     "title": ""
    }
   },
   "source": [
    "###Use PySpark to Read From a CSV File"
   ]
  },
  {
   "cell_type": "code",
   "execution_count": 0,
   "metadata": {
    "application/vnd.databricks.v1+cell": {
     "cellMetadata": {
      "byteLimit": 2048000,
      "rowLimit": 10000
     },
     "inputWidgets": {},
     "nuid": "7235f44b-f2c3-4463-811b-b5e33cfc3c8f",
     "showTitle": false,
     "title": ""
    }
   },
   "outputs": [],
   "source": [
    "rental_csv = f\"{batch_dir}/rental_table.csv\"\n",
    "\n",
    "df_rental = spark.read.format('csv').options(header='true', inferSchema='true').load(rental_csv)"
   ]
  },
  {
   "cell_type": "code",
   "execution_count": 0,
   "metadata": {
    "application/vnd.databricks.v1+cell": {
     "cellMetadata": {
      "byteLimit": 2048000,
      "rowLimit": 10000
     },
     "inputWidgets": {},
     "nuid": "4ea18d5c-20f9-486a-b70b-c0d9c514c669",
     "showTitle": false,
     "title": ""
    }
   },
   "outputs": [
    {
     "output_type": "display_data",
     "data": {
      "text/html": [
       "<style scoped>\n",
       "  .table-result-container {\n",
       "    max-height: 300px;\n",
       "    overflow: auto;\n",
       "  }\n",
       "  table, th, td {\n",
       "    border: 1px solid black;\n",
       "    border-collapse: collapse;\n",
       "  }\n",
       "  th, td {\n",
       "    padding: 5px;\n",
       "  }\n",
       "  th {\n",
       "    text-align: left;\n",
       "  }\n",
       "</style><div class='table-result-container'><table class='table-result'><thead style='background-color: white'><tr><th>rental_id</th><th>rental_date</th><th>inventory_id</th><th>customer_id</th><th>return_date</th><th>staff_id</th><th>last_update</th></tr></thead><tbody><tr><td>1</td><td>2005-05-24T22:53:30.000+0000</td><td>367</td><td>130</td><td>2005-05-26T22:04:30.000+0000</td><td>1</td><td>2006-02-15T21:30:53.000+0000</td></tr><tr><td>2</td><td>2005-05-24T22:54:33.000+0000</td><td>1525</td><td>459</td><td>2005-05-28T19:40:33.000+0000</td><td>1</td><td>2006-02-15T21:30:53.000+0000</td></tr><tr><td>3</td><td>2005-05-24T23:03:39.000+0000</td><td>1711</td><td>408</td><td>2005-06-01T22:12:39.000+0000</td><td>1</td><td>2006-02-15T21:30:53.000+0000</td></tr><tr><td>4</td><td>2005-05-24T23:04:41.000+0000</td><td>2452</td><td>333</td><td>2005-06-03T01:43:41.000+0000</td><td>2</td><td>2006-02-15T21:30:53.000+0000</td></tr><tr><td>5</td><td>2005-05-24T23:05:21.000+0000</td><td>2079</td><td>222</td><td>2005-06-02T04:33:21.000+0000</td><td>1</td><td>2006-02-15T21:30:53.000+0000</td></tr><tr><td>6</td><td>2005-05-24T23:08:07.000+0000</td><td>2792</td><td>549</td><td>2005-05-27T01:32:07.000+0000</td><td>1</td><td>2006-02-15T21:30:53.000+0000</td></tr><tr><td>7</td><td>2005-05-24T23:11:53.000+0000</td><td>3995</td><td>269</td><td>2005-05-29T20:34:53.000+0000</td><td>2</td><td>2006-02-15T21:30:53.000+0000</td></tr><tr><td>8</td><td>2005-05-24T23:31:46.000+0000</td><td>2346</td><td>239</td><td>2005-05-27T23:33:46.000+0000</td><td>2</td><td>2006-02-15T21:30:53.000+0000</td></tr><tr><td>9</td><td>2005-05-25T00:00:40.000+0000</td><td>2580</td><td>126</td><td>2005-05-28T00:22:40.000+0000</td><td>1</td><td>2006-02-15T21:30:53.000+0000</td></tr><tr><td>10</td><td>2005-05-25T00:02:21.000+0000</td><td>1824</td><td>399</td><td>2005-05-31T22:44:21.000+0000</td><td>2</td><td>2006-02-15T21:30:53.000+0000</td></tr><tr><td>11</td><td>2005-05-25T00:09:02.000+0000</td><td>4443</td><td>142</td><td>2005-06-02T20:56:02.000+0000</td><td>2</td><td>2006-02-15T21:30:53.000+0000</td></tr><tr><td>12</td><td>2005-05-25T00:19:27.000+0000</td><td>1584</td><td>261</td><td>2005-05-30T05:44:27.000+0000</td><td>2</td><td>2006-02-15T21:30:53.000+0000</td></tr><tr><td>13</td><td>2005-05-25T00:22:55.000+0000</td><td>2294</td><td>334</td><td>2005-05-30T04:28:55.000+0000</td><td>1</td><td>2006-02-15T21:30:53.000+0000</td></tr><tr><td>14</td><td>2005-05-25T00:31:15.000+0000</td><td>2701</td><td>446</td><td>2005-05-26T02:56:15.000+0000</td><td>1</td><td>2006-02-15T21:30:53.000+0000</td></tr><tr><td>15</td><td>2005-05-25T00:39:22.000+0000</td><td>3049</td><td>319</td><td>2005-06-03T03:30:22.000+0000</td><td>1</td><td>2006-02-15T21:30:53.000+0000</td></tr></tbody></table></div>"
      ]
     },
     "metadata": {
      "application/vnd.databricks.v1+output": {
       "addedWidgets": {},
       "aggData": [],
       "aggError": "",
       "aggOverflow": false,
       "aggSchema": [],
       "aggSeriesLimitReached": false,
       "aggType": "",
       "arguments": {},
       "columnCustomDisplayInfos": {},
       "data": [
        [
         1,
         "2005-05-24T22:53:30.000+0000",
         367,
         130,
         "2005-05-26T22:04:30.000+0000",
         1,
         "2006-02-15T21:30:53.000+0000"
        ],
        [
         2,
         "2005-05-24T22:54:33.000+0000",
         1525,
         459,
         "2005-05-28T19:40:33.000+0000",
         1,
         "2006-02-15T21:30:53.000+0000"
        ],
        [
         3,
         "2005-05-24T23:03:39.000+0000",
         1711,
         408,
         "2005-06-01T22:12:39.000+0000",
         1,
         "2006-02-15T21:30:53.000+0000"
        ],
        [
         4,
         "2005-05-24T23:04:41.000+0000",
         2452,
         333,
         "2005-06-03T01:43:41.000+0000",
         2,
         "2006-02-15T21:30:53.000+0000"
        ],
        [
         5,
         "2005-05-24T23:05:21.000+0000",
         2079,
         222,
         "2005-06-02T04:33:21.000+0000",
         1,
         "2006-02-15T21:30:53.000+0000"
        ],
        [
         6,
         "2005-05-24T23:08:07.000+0000",
         2792,
         549,
         "2005-05-27T01:32:07.000+0000",
         1,
         "2006-02-15T21:30:53.000+0000"
        ],
        [
         7,
         "2005-05-24T23:11:53.000+0000",
         3995,
         269,
         "2005-05-29T20:34:53.000+0000",
         2,
         "2006-02-15T21:30:53.000+0000"
        ],
        [
         8,
         "2005-05-24T23:31:46.000+0000",
         2346,
         239,
         "2005-05-27T23:33:46.000+0000",
         2,
         "2006-02-15T21:30:53.000+0000"
        ],
        [
         9,
         "2005-05-25T00:00:40.000+0000",
         2580,
         126,
         "2005-05-28T00:22:40.000+0000",
         1,
         "2006-02-15T21:30:53.000+0000"
        ],
        [
         10,
         "2005-05-25T00:02:21.000+0000",
         1824,
         399,
         "2005-05-31T22:44:21.000+0000",
         2,
         "2006-02-15T21:30:53.000+0000"
        ],
        [
         11,
         "2005-05-25T00:09:02.000+0000",
         4443,
         142,
         "2005-06-02T20:56:02.000+0000",
         2,
         "2006-02-15T21:30:53.000+0000"
        ],
        [
         12,
         "2005-05-25T00:19:27.000+0000",
         1584,
         261,
         "2005-05-30T05:44:27.000+0000",
         2,
         "2006-02-15T21:30:53.000+0000"
        ],
        [
         13,
         "2005-05-25T00:22:55.000+0000",
         2294,
         334,
         "2005-05-30T04:28:55.000+0000",
         1,
         "2006-02-15T21:30:53.000+0000"
        ],
        [
         14,
         "2005-05-25T00:31:15.000+0000",
         2701,
         446,
         "2005-05-26T02:56:15.000+0000",
         1,
         "2006-02-15T21:30:53.000+0000"
        ],
        [
         15,
         "2005-05-25T00:39:22.000+0000",
         3049,
         319,
         "2005-06-03T03:30:22.000+0000",
         1,
         "2006-02-15T21:30:53.000+0000"
        ]
       ],
       "datasetInfos": [],
       "dbfsResultPath": null,
       "isJsonSchema": true,
       "metadata": {},
       "overflow": false,
       "plotOptions": {
        "customPlotOptions": {},
        "displayType": "table",
        "pivotAggregation": null,
        "pivotColumns": null,
        "xColumns": null,
        "yColumns": null
       },
       "removedWidgets": [],
       "schema": [
        {
         "metadata": "{}",
         "name": "rental_id",
         "type": "\"long\""
        },
        {
         "metadata": "{}",
         "name": "rental_date",
         "type": "\"timestamp\""
        },
        {
         "metadata": "{}",
         "name": "inventory_id",
         "type": "\"long\""
        },
        {
         "metadata": "{}",
         "name": "customer_id",
         "type": "\"long\""
        },
        {
         "metadata": "{}",
         "name": "return_date",
         "type": "\"timestamp\""
        },
        {
         "metadata": "{}",
         "name": "staff_id",
         "type": "\"long\""
        },
        {
         "metadata": "{}",
         "name": "last_update",
         "type": "\"timestamp\""
        }
       ],
       "type": "table"
      }
     },
     "output_type": "display_data"
    }
   ],
   "source": [
    "rent_dis= df_rental.head(15)\n",
    "display(rent_dis)"
   ]
  },
  {
   "cell_type": "code",
   "execution_count": 0,
   "metadata": {
    "application/vnd.databricks.v1+cell": {
     "cellMetadata": {
      "byteLimit": 2048000,
      "rowLimit": 10000
     },
     "inputWidgets": {},
     "nuid": "9add8fe8-23d6-4a40-a744-de892beb7566",
     "showTitle": false,
     "title": ""
    }
   },
   "outputs": [
    {
     "output_type": "display_data",
     "data": {
      "text/html": [
       "<style scoped>\n",
       "  .table-result-container {\n",
       "    max-height: 300px;\n",
       "    overflow: auto;\n",
       "  }\n",
       "  table, th, td {\n",
       "    border: 1px solid black;\n",
       "    border-collapse: collapse;\n",
       "  }\n",
       "  th, td {\n",
       "    padding: 5px;\n",
       "  }\n",
       "  th {\n",
       "    text-align: left;\n",
       "  }\n",
       "</style><div class='table-result-container'><table class='table-result'><thead style='background-color: white'><tr><th>path</th><th>name</th><th>size</th><th>modificationTime</th></tr></thead><tbody><tr><td>dbfs:/FileStore/ds2002final/source_data/batch/rental_table.csv</td><td>rental_table.csv</td><td>80552</td><td>1701307307000</td></tr></tbody></table></div>"
      ]
     },
     "metadata": {
      "application/vnd.databricks.v1+output": {
       "addedWidgets": {},
       "aggData": [],
       "aggError": "",
       "aggOverflow": false,
       "aggSchema": [],
       "aggSeriesLimitReached": false,
       "aggType": "",
       "arguments": {},
       "columnCustomDisplayInfos": {},
       "data": [
        [
         "dbfs:/FileStore/ds2002final/source_data/batch/rental_table.csv",
         "rental_table.csv",
         80552,
         1701307307000
        ]
       ],
       "datasetInfos": [],
       "dbfsResultPath": null,
       "isJsonSchema": true,
       "metadata": {},
       "overflow": false,
       "plotOptions": {
        "customPlotOptions": {},
        "displayType": "table",
        "pivotAggregation": null,
        "pivotColumns": null,
        "xColumns": null,
        "yColumns": null
       },
       "removedWidgets": [],
       "schema": [
        {
         "metadata": "{}",
         "name": "path",
         "type": "\"string\""
        },
        {
         "metadata": "{}",
         "name": "name",
         "type": "\"string\""
        },
        {
         "metadata": "{}",
         "name": "size",
         "type": "\"long\""
        },
        {
         "metadata": "{}",
         "name": "modificationTime",
         "type": "\"long\""
        }
       ],
       "type": "table"
      }
     },
     "output_type": "display_data"
    }
   ],
   "source": [
    "#prints the files it currently sees in the batch directory\n",
    "display(dbutils.fs.ls(batch_dir))"
   ]
  },
  {
   "cell_type": "code",
   "execution_count": 0,
   "metadata": {
    "application/vnd.databricks.v1+cell": {
     "cellMetadata": {
      "byteLimit": 2048000,
      "rowLimit": 10000
     },
     "inputWidgets": {},
     "nuid": "89ca380e-ac4c-42fb-bad4-1b6959070339",
     "showTitle": false,
     "title": ""
    }
   },
   "outputs": [],
   "source": [
    "df_rental.write.format(\"delta\").mode(\"overwrite\").saveAsTable(\"sakila_dlh.dim_rental\")"
   ]
  },
  {
   "cell_type": "code",
   "execution_count": 0,
   "metadata": {
    "application/vnd.databricks.v1+cell": {
     "cellMetadata": {
      "byteLimit": 2048000,
      "implicitDf": true,
      "rowLimit": 10000
     },
     "inputWidgets": {},
     "nuid": "eaa3230f-1c3e-4422-a3fa-d7b02e6dbc6d",
     "showTitle": false,
     "title": ""
    }
   },
   "outputs": [
    {
     "output_type": "display_data",
     "data": {
      "text/html": [
       "<style scoped>\n",
       "  .table-result-container {\n",
       "    max-height: 300px;\n",
       "    overflow: auto;\n",
       "  }\n",
       "  table, th, td {\n",
       "    border: 1px solid black;\n",
       "    border-collapse: collapse;\n",
       "  }\n",
       "  th, td {\n",
       "    padding: 5px;\n",
       "  }\n",
       "  th {\n",
       "    text-align: left;\n",
       "  }\n",
       "</style><div class='table-result-container'><table class='table-result'><thead style='background-color: white'><tr><th>col_name</th><th>data_type</th><th>comment</th></tr></thead><tbody><tr><td>rental_id</td><td>int</td><td>null</td></tr><tr><td>rental_date</td><td>timestamp</td><td>null</td></tr><tr><td>inventory_id</td><td>int</td><td>null</td></tr><tr><td>customer_id</td><td>int</td><td>null</td></tr><tr><td>return_date</td><td>timestamp</td><td>null</td></tr><tr><td>staff_id</td><td>int</td><td>null</td></tr><tr><td>last_update</td><td>timestamp</td><td>null</td></tr><tr><td></td><td></td><td></td></tr><tr><td># Detailed Table Information</td><td></td><td></td></tr><tr><td>Catalog</td><td>spark_catalog</td><td></td></tr><tr><td>Database</td><td>sakila_dlh</td><td></td></tr><tr><td>Table</td><td>dim_rental</td><td></td></tr><tr><td>Created Time</td><td>Tue Dec 05 05:18:01 UTC 2023</td><td></td></tr><tr><td>Last Access</td><td>UNKNOWN</td><td></td></tr><tr><td>Created By</td><td>Spark 3.3.0</td><td></td></tr><tr><td>Type</td><td>MANAGED</td><td></td></tr><tr><td>Location</td><td>dbfs:/FileStore/ds2002final/sakila_dlh/dim_rental</td><td></td></tr><tr><td>Provider</td><td>delta</td><td></td></tr><tr><td>Owner</td><td>root</td><td></td></tr><tr><td>Is_managed_location</td><td>true</td><td></td></tr><tr><td>Table Properties</td><td>[delta.minReaderVersion=1,delta.minWriterVersion=2]</td><td></td></tr></tbody></table></div>"
      ]
     },
     "metadata": {
      "application/vnd.databricks.v1+output": {
       "addedWidgets": {},
       "aggData": [],
       "aggError": "",
       "aggOverflow": false,
       "aggSchema": [],
       "aggSeriesLimitReached": false,
       "aggType": "",
       "arguments": {},
       "columnCustomDisplayInfos": {},
       "data": [
        [
         "rental_id",
         "int",
         null
        ],
        [
         "rental_date",
         "timestamp",
         null
        ],
        [
         "inventory_id",
         "int",
         null
        ],
        [
         "customer_id",
         "int",
         null
        ],
        [
         "return_date",
         "timestamp",
         null
        ],
        [
         "staff_id",
         "int",
         null
        ],
        [
         "last_update",
         "timestamp",
         null
        ],
        [
         "",
         "",
         ""
        ],
        [
         "# Detailed Table Information",
         "",
         ""
        ],
        [
         "Catalog",
         "spark_catalog",
         ""
        ],
        [
         "Database",
         "sakila_dlh",
         ""
        ],
        [
         "Table",
         "dim_rental",
         ""
        ],
        [
         "Created Time",
         "Tue Dec 05 05:18:01 UTC 2023",
         ""
        ],
        [
         "Last Access",
         "UNKNOWN",
         ""
        ],
        [
         "Created By",
         "Spark 3.3.0",
         ""
        ],
        [
         "Type",
         "MANAGED",
         ""
        ],
        [
         "Location",
         "dbfs:/FileStore/ds2002final/sakila_dlh/dim_rental",
         ""
        ],
        [
         "Provider",
         "delta",
         ""
        ],
        [
         "Owner",
         "root",
         ""
        ],
        [
         "Is_managed_location",
         "true",
         ""
        ],
        [
         "Table Properties",
         "[delta.minReaderVersion=1,delta.minWriterVersion=2]",
         ""
        ]
       ],
       "datasetInfos": [],
       "dbfsResultPath": null,
       "isJsonSchema": true,
       "metadata": {},
       "overflow": false,
       "plotOptions": {
        "customPlotOptions": {},
        "displayType": "table",
        "pivotAggregation": null,
        "pivotColumns": null,
        "xColumns": null,
        "yColumns": null
       },
       "removedWidgets": [],
       "schema": [
        {
         "metadata": "{\"comment\":\"name of the column\"}",
         "name": "col_name",
         "type": "\"string\""
        },
        {
         "metadata": "{\"comment\":\"data type of the column\"}",
         "name": "data_type",
         "type": "\"string\""
        },
        {
         "metadata": "{\"comment\":\"comment of the column\"}",
         "name": "comment",
         "type": "\"string\""
        }
       ],
       "type": "table"
      }
     },
     "output_type": "display_data"
    }
   ],
   "source": [
    "%sql\n",
    "DESCRIBE EXTENDED sakila_dlh.dim_rental;"
   ]
  },
  {
   "cell_type": "code",
   "execution_count": 0,
   "metadata": {
    "application/vnd.databricks.v1+cell": {
     "cellMetadata": {
      "byteLimit": 2048000,
      "implicitDf": true,
      "rowLimit": 10000
     },
     "inputWidgets": {},
     "nuid": "c0e74872-7163-496e-9b37-278aa3b70cba",
     "showTitle": false,
     "title": ""
    }
   },
   "outputs": [
    {
     "output_type": "display_data",
     "data": {
      "text/html": [
       "<style scoped>\n",
       "  .table-result-container {\n",
       "    max-height: 300px;\n",
       "    overflow: auto;\n",
       "  }\n",
       "  table, th, td {\n",
       "    border: 1px solid black;\n",
       "    border-collapse: collapse;\n",
       "  }\n",
       "  th, td {\n",
       "    padding: 5px;\n",
       "  }\n",
       "  th {\n",
       "    text-align: left;\n",
       "  }\n",
       "</style><div class='table-result-container'><table class='table-result'><thead style='background-color: white'><tr><th>rental_id</th><th>rental_date</th><th>inventory_id</th><th>customer_id</th><th>return_date</th><th>staff_id</th><th>last_update</th></tr></thead><tbody><tr><td>1</td><td>2005-05-24T22:53:30.000+0000</td><td>367</td><td>130</td><td>2005-05-26T22:04:30.000+0000</td><td>1</td><td>2006-02-15T21:30:53.000+0000</td></tr><tr><td>2</td><td>2005-05-24T22:54:33.000+0000</td><td>1525</td><td>459</td><td>2005-05-28T19:40:33.000+0000</td><td>1</td><td>2006-02-15T21:30:53.000+0000</td></tr><tr><td>3</td><td>2005-05-24T23:03:39.000+0000</td><td>1711</td><td>408</td><td>2005-06-01T22:12:39.000+0000</td><td>1</td><td>2006-02-15T21:30:53.000+0000</td></tr><tr><td>4</td><td>2005-05-24T23:04:41.000+0000</td><td>2452</td><td>333</td><td>2005-06-03T01:43:41.000+0000</td><td>2</td><td>2006-02-15T21:30:53.000+0000</td></tr><tr><td>5</td><td>2005-05-24T23:05:21.000+0000</td><td>2079</td><td>222</td><td>2005-06-02T04:33:21.000+0000</td><td>1</td><td>2006-02-15T21:30:53.000+0000</td></tr></tbody></table></div>"
      ]
     },
     "metadata": {
      "application/vnd.databricks.v1+output": {
       "addedWidgets": {},
       "aggData": [],
       "aggError": "",
       "aggOverflow": false,
       "aggSchema": [],
       "aggSeriesLimitReached": false,
       "aggType": "",
       "arguments": {},
       "columnCustomDisplayInfos": {},
       "data": [
        [
         1,
         "2005-05-24T22:53:30.000+0000",
         367,
         130,
         "2005-05-26T22:04:30.000+0000",
         1,
         "2006-02-15T21:30:53.000+0000"
        ],
        [
         2,
         "2005-05-24T22:54:33.000+0000",
         1525,
         459,
         "2005-05-28T19:40:33.000+0000",
         1,
         "2006-02-15T21:30:53.000+0000"
        ],
        [
         3,
         "2005-05-24T23:03:39.000+0000",
         1711,
         408,
         "2005-06-01T22:12:39.000+0000",
         1,
         "2006-02-15T21:30:53.000+0000"
        ],
        [
         4,
         "2005-05-24T23:04:41.000+0000",
         2452,
         333,
         "2005-06-03T01:43:41.000+0000",
         2,
         "2006-02-15T21:30:53.000+0000"
        ],
        [
         5,
         "2005-05-24T23:05:21.000+0000",
         2079,
         222,
         "2005-06-02T04:33:21.000+0000",
         1,
         "2006-02-15T21:30:53.000+0000"
        ]
       ],
       "datasetInfos": [],
       "dbfsResultPath": null,
       "isJsonSchema": true,
       "metadata": {},
       "overflow": false,
       "plotOptions": {
        "customPlotOptions": {},
        "displayType": "table",
        "pivotAggregation": null,
        "pivotColumns": null,
        "xColumns": null,
        "yColumns": null
       },
       "removedWidgets": [],
       "schema": [
        {
         "metadata": "{}",
         "name": "rental_id",
         "type": "\"integer\""
        },
        {
         "metadata": "{}",
         "name": "rental_date",
         "type": "\"timestamp\""
        },
        {
         "metadata": "{}",
         "name": "inventory_id",
         "type": "\"integer\""
        },
        {
         "metadata": "{}",
         "name": "customer_id",
         "type": "\"integer\""
        },
        {
         "metadata": "{}",
         "name": "return_date",
         "type": "\"timestamp\""
        },
        {
         "metadata": "{}",
         "name": "staff_id",
         "type": "\"integer\""
        },
        {
         "metadata": "{}",
         "name": "last_update",
         "type": "\"timestamp\""
        }
       ],
       "type": "table"
      }
     },
     "output_type": "display_data"
    }
   ],
   "source": [
    "%sql\n",
    "SELECT * FROM sakila_dlh.dim_rental LIMIT 5;"
   ]
  },
  {
   "cell_type": "markdown",
   "metadata": {
    "application/vnd.databricks.v1+cell": {
     "cellMetadata": {
      "byteLimit": 2048000,
      "rowLimit": 10000
     },
     "inputWidgets": {},
     "nuid": "78bf979c-c932-4bf7-a436-062d4bf8dcba",
     "showTitle": false,
     "title": ""
    }
   },
   "source": [
    "###Create the rest of tables from Azure MySQL database"
   ]
  },
  {
   "cell_type": "code",
   "execution_count": 0,
   "metadata": {
    "application/vnd.databricks.v1+cell": {
     "cellMetadata": {
      "byteLimit": 2048000,
      "implicitDf": true,
      "rowLimit": 10000
     },
     "inputWidgets": {},
     "nuid": "249f686a-de3d-4897-a941-e229328b4e50",
     "showTitle": false,
     "title": ""
    }
   },
   "outputs": [
    {
     "output_type": "display_data",
     "data": {
      "text/html": [
       "<style scoped>\n",
       "  .table-result-container {\n",
       "    max-height: 300px;\n",
       "    overflow: auto;\n",
       "  }\n",
       "  table, th, td {\n",
       "    border: 1px solid black;\n",
       "    border-collapse: collapse;\n",
       "  }\n",
       "  th, td {\n",
       "    padding: 5px;\n",
       "  }\n",
       "  th {\n",
       "    text-align: left;\n",
       "  }\n",
       "</style><div class='table-result-container'><table class='table-result'><thead style='background-color: white'><tr></tr></thead><tbody></tbody></table></div>"
      ]
     },
     "metadata": {
      "application/vnd.databricks.v1+output": {
       "addedWidgets": {},
       "aggData": [],
       "aggError": "",
       "aggOverflow": false,
       "aggSchema": [],
       "aggSeriesLimitReached": false,
       "aggType": "",
       "arguments": {},
       "columnCustomDisplayInfos": {},
       "data": [],
       "datasetInfos": [],
       "dbfsResultPath": null,
       "isJsonSchema": true,
       "metadata": {},
       "overflow": false,
       "plotOptions": {
        "customPlotOptions": {},
        "displayType": "table",
        "pivotAggregation": null,
        "pivotColumns": null,
        "xColumns": null,
        "yColumns": null
       },
       "removedWidgets": [],
       "schema": [],
       "type": "table"
      }
     },
     "output_type": "display_data"
    }
   ],
   "source": [
    "%sql\n",
    "CREATE OR REPLACE TEMPORARY VIEW view_inventory\n",
    "USING org.apache.spark.sql.jdbc\n",
    "OPTIONS (\n",
    "  url \"jdbc:mysql://rcq5jz-mysql.mysql.database.azure.com:3306/sakila_dw\",\n",
    "  dbtable \"dim_inventory\",\n",
    "  user \"brithoang\",\n",
    "  password \"Shawnmendes.1\"\n",
    ")"
   ]
  },
  {
   "cell_type": "code",
   "execution_count": 0,
   "metadata": {
    "application/vnd.databricks.v1+cell": {
     "cellMetadata": {
      "byteLimit": 2048000,
      "implicitDf": true,
      "rowLimit": 10000
     },
     "inputWidgets": {},
     "nuid": "cd888ac9-e220-4506-88ff-26fee7c6fe1e",
     "showTitle": false,
     "title": ""
    }
   },
   "outputs": [
    {
     "output_type": "display_data",
     "data": {
      "text/html": [
       "<style scoped>\n",
       "  .table-result-container {\n",
       "    max-height: 300px;\n",
       "    overflow: auto;\n",
       "  }\n",
       "  table, th, td {\n",
       "    border: 1px solid black;\n",
       "    border-collapse: collapse;\n",
       "  }\n",
       "  th, td {\n",
       "    padding: 5px;\n",
       "  }\n",
       "  th {\n",
       "    text-align: left;\n",
       "  }\n",
       "</style><div class='table-result-container'><table class='table-result'><thead style='background-color: white'><tr><th>num_affected_rows</th><th>num_inserted_rows</th></tr></thead><tbody></tbody></table></div>"
      ]
     },
     "metadata": {
      "application/vnd.databricks.v1+output": {
       "addedWidgets": {},
       "aggData": [],
       "aggError": "",
       "aggOverflow": false,
       "aggSchema": [],
       "aggSeriesLimitReached": false,
       "aggType": "",
       "arguments": {},
       "columnCustomDisplayInfos": {},
       "data": [],
       "datasetInfos": [],
       "dbfsResultPath": null,
       "isJsonSchema": true,
       "metadata": {},
       "overflow": false,
       "plotOptions": {
        "customPlotOptions": {},
        "displayType": "table",
        "pivotAggregation": null,
        "pivotColumns": null,
        "xColumns": null,
        "yColumns": null
       },
       "removedWidgets": [],
       "schema": [
        {
         "metadata": "{}",
         "name": "num_affected_rows",
         "type": "\"long\""
        },
        {
         "metadata": "{}",
         "name": "num_inserted_rows",
         "type": "\"long\""
        }
       ],
       "type": "table"
      }
     },
     "output_type": "display_data"
    }
   ],
   "source": [
    "%sql\n",
    "USE DATABASE sakila_dlh;\n",
    "\n",
    "CREATE OR REPLACE TABLE sakila_dlh.dim_inventory\n",
    "COMMENT \"Inventory Dimension Table\"\n",
    "LOCATION \"dbfs:/FileStore/source_data/sakila_dlh/dim_inventory\"\n",
    "AS SELECT * FROM view_inventory\n",
    "\n",
    "-- Create a new table named \"northwind_dlh.dim_product\" using data from the view named \"view_product\""
   ]
  },
  {
   "cell_type": "code",
   "execution_count": 0,
   "metadata": {
    "application/vnd.databricks.v1+cell": {
     "cellMetadata": {
      "byteLimit": 2048000,
      "implicitDf": true,
      "rowLimit": 10000
     },
     "inputWidgets": {},
     "nuid": "bc83247f-b298-4ed0-a851-95cba4382797",
     "showTitle": false,
     "title": ""
    }
   },
   "outputs": [
    {
     "output_type": "display_data",
     "data": {
      "text/html": [
       "<style scoped>\n",
       "  .table-result-container {\n",
       "    max-height: 300px;\n",
       "    overflow: auto;\n",
       "  }\n",
       "  table, th, td {\n",
       "    border: 1px solid black;\n",
       "    border-collapse: collapse;\n",
       "  }\n",
       "  th, td {\n",
       "    padding: 5px;\n",
       "  }\n",
       "  th {\n",
       "    text-align: left;\n",
       "  }\n",
       "</style><div class='table-result-container'><table class='table-result'><thead style='background-color: white'><tr><th>col_name</th><th>data_type</th><th>comment</th></tr></thead><tbody><tr><td>inventory_key</td><td>bigint</td><td>null</td></tr><tr><td>film_key</td><td>bigint</td><td>null</td></tr><tr><td></td><td></td><td></td></tr><tr><td># Detailed Table Information</td><td></td><td></td></tr><tr><td>Catalog</td><td>spark_catalog</td><td></td></tr><tr><td>Database</td><td>sakila_dlh</td><td></td></tr><tr><td>Table</td><td>dim_inventory</td><td></td></tr><tr><td>Created Time</td><td>Tue Dec 05 05:18:04 UTC 2023</td><td></td></tr><tr><td>Last Access</td><td>UNKNOWN</td><td></td></tr><tr><td>Created By</td><td>Spark 3.3.0</td><td></td></tr><tr><td>Type</td><td>EXTERNAL</td><td></td></tr><tr><td>Comment</td><td>Inventory Dimension Table</td><td></td></tr><tr><td>Location</td><td>dbfs:/FileStore/source_data/sakila_dlh/dim_inventory</td><td></td></tr><tr><td>Provider</td><td>delta</td><td></td></tr><tr><td>Owner</td><td>root</td><td></td></tr><tr><td>Table Properties</td><td>[delta.minReaderVersion=1,delta.minWriterVersion=2]</td><td></td></tr></tbody></table></div>"
      ]
     },
     "metadata": {
      "application/vnd.databricks.v1+output": {
       "addedWidgets": {},
       "aggData": [],
       "aggError": "",
       "aggOverflow": false,
       "aggSchema": [],
       "aggSeriesLimitReached": false,
       "aggType": "",
       "arguments": {},
       "columnCustomDisplayInfos": {},
       "data": [
        [
         "inventory_key",
         "bigint",
         null
        ],
        [
         "film_key",
         "bigint",
         null
        ],
        [
         "",
         "",
         ""
        ],
        [
         "# Detailed Table Information",
         "",
         ""
        ],
        [
         "Catalog",
         "spark_catalog",
         ""
        ],
        [
         "Database",
         "sakila_dlh",
         ""
        ],
        [
         "Table",
         "dim_inventory",
         ""
        ],
        [
         "Created Time",
         "Tue Dec 05 05:18:04 UTC 2023",
         ""
        ],
        [
         "Last Access",
         "UNKNOWN",
         ""
        ],
        [
         "Created By",
         "Spark 3.3.0",
         ""
        ],
        [
         "Type",
         "EXTERNAL",
         ""
        ],
        [
         "Comment",
         "Inventory Dimension Table",
         ""
        ],
        [
         "Location",
         "dbfs:/FileStore/source_data/sakila_dlh/dim_inventory",
         ""
        ],
        [
         "Provider",
         "delta",
         ""
        ],
        [
         "Owner",
         "root",
         ""
        ],
        [
         "Table Properties",
         "[delta.minReaderVersion=1,delta.minWriterVersion=2]",
         ""
        ]
       ],
       "datasetInfos": [],
       "dbfsResultPath": null,
       "isJsonSchema": true,
       "metadata": {},
       "overflow": false,
       "plotOptions": {
        "customPlotOptions": {},
        "displayType": "table",
        "pivotAggregation": null,
        "pivotColumns": null,
        "xColumns": null,
        "yColumns": null
       },
       "removedWidgets": [],
       "schema": [
        {
         "metadata": "{\"comment\":\"name of the column\"}",
         "name": "col_name",
         "type": "\"string\""
        },
        {
         "metadata": "{\"comment\":\"data type of the column\"}",
         "name": "data_type",
         "type": "\"string\""
        },
        {
         "metadata": "{\"comment\":\"comment of the column\"}",
         "name": "comment",
         "type": "\"string\""
        }
       ],
       "type": "table"
      }
     },
     "output_type": "display_data"
    }
   ],
   "source": [
    "%sql\n",
    "DESCRIBE EXTENDED sakila_dlh.dim_inventory;"
   ]
  },
  {
   "cell_type": "code",
   "execution_count": 0,
   "metadata": {
    "application/vnd.databricks.v1+cell": {
     "cellMetadata": {
      "byteLimit": 2048000,
      "implicitDf": true,
      "rowLimit": 10000
     },
     "inputWidgets": {},
     "nuid": "0812c6c9-ddbd-436e-b5e7-23e6f2bea4cf",
     "showTitle": false,
     "title": ""
    }
   },
   "outputs": [
    {
     "output_type": "display_data",
     "data": {
      "text/html": [
       "<style scoped>\n",
       "  .table-result-container {\n",
       "    max-height: 300px;\n",
       "    overflow: auto;\n",
       "  }\n",
       "  table, th, td {\n",
       "    border: 1px solid black;\n",
       "    border-collapse: collapse;\n",
       "  }\n",
       "  th, td {\n",
       "    padding: 5px;\n",
       "  }\n",
       "  th {\n",
       "    text-align: left;\n",
       "  }\n",
       "</style><div class='table-result-container'><table class='table-result'><thead style='background-color: white'><tr><th>inventory_key</th><th>film_key</th></tr></thead><tbody><tr><td>1</td><td>1</td></tr><tr><td>2</td><td>1</td></tr><tr><td>3</td><td>1</td></tr><tr><td>4</td><td>1</td></tr><tr><td>5</td><td>1</td></tr></tbody></table></div>"
      ]
     },
     "metadata": {
      "application/vnd.databricks.v1+output": {
       "addedWidgets": {},
       "aggData": [],
       "aggError": "",
       "aggOverflow": false,
       "aggSchema": [],
       "aggSeriesLimitReached": false,
       "aggType": "",
       "arguments": {},
       "columnCustomDisplayInfos": {},
       "data": [
        [
         1,
         1
        ],
        [
         2,
         1
        ],
        [
         3,
         1
        ],
        [
         4,
         1
        ],
        [
         5,
         1
        ]
       ],
       "datasetInfos": [],
       "dbfsResultPath": null,
       "isJsonSchema": true,
       "metadata": {},
       "overflow": false,
       "plotOptions": {
        "customPlotOptions": {},
        "displayType": "table",
        "pivotAggregation": null,
        "pivotColumns": null,
        "xColumns": null,
        "yColumns": null
       },
       "removedWidgets": [],
       "schema": [
        {
         "metadata": "{\"scale\":0}",
         "name": "inventory_key",
         "type": "\"long\""
        },
        {
         "metadata": "{\"scale\":0}",
         "name": "film_key",
         "type": "\"long\""
        }
       ],
       "type": "table"
      }
     },
     "output_type": "display_data"
    }
   ],
   "source": [
    "%sql\n",
    "SELECT * FROM sakila_dlh.dim_inventory LIMIT 5"
   ]
  },
  {
   "cell_type": "code",
   "execution_count": 0,
   "metadata": {
    "application/vnd.databricks.v1+cell": {
     "cellMetadata": {
      "byteLimit": 2048000,
      "implicitDf": true,
      "rowLimit": 10000
     },
     "inputWidgets": {},
     "nuid": "4b7c0b7f-c01f-4023-a246-ac6576ce67b7",
     "showTitle": false,
     "title": ""
    }
   },
   "outputs": [
    {
     "output_type": "display_data",
     "data": {
      "text/html": [
       "<style scoped>\n",
       "  .table-result-container {\n",
       "    max-height: 300px;\n",
       "    overflow: auto;\n",
       "  }\n",
       "  table, th, td {\n",
       "    border: 1px solid black;\n",
       "    border-collapse: collapse;\n",
       "  }\n",
       "  th, td {\n",
       "    padding: 5px;\n",
       "  }\n",
       "  th {\n",
       "    text-align: left;\n",
       "  }\n",
       "</style><div class='table-result-container'><table class='table-result'><thead style='background-color: white'><tr></tr></thead><tbody></tbody></table></div>"
      ]
     },
     "metadata": {
      "application/vnd.databricks.v1+output": {
       "addedWidgets": {},
       "aggData": [],
       "aggError": "",
       "aggOverflow": false,
       "aggSchema": [],
       "aggSeriesLimitReached": false,
       "aggType": "",
       "arguments": {},
       "columnCustomDisplayInfos": {},
       "data": [],
       "datasetInfos": [],
       "dbfsResultPath": null,
       "isJsonSchema": true,
       "metadata": {},
       "overflow": false,
       "plotOptions": {
        "customPlotOptions": {},
        "displayType": "table",
        "pivotAggregation": null,
        "pivotColumns": null,
        "xColumns": null,
        "yColumns": null
       },
       "removedWidgets": [],
       "schema": [],
       "type": "table"
      }
     },
     "output_type": "display_data"
    }
   ],
   "source": [
    "%sql\n",
    "CREATE OR REPLACE TEMPORARY VIEW view_film_category\n",
    "USING org.apache.spark.sql.jdbc\n",
    "OPTIONS (\n",
    "  url \"jdbc:mysql://rcq5jz-mysql.mysql.database.azure.com:3306/sakila_dw\",\n",
    "  dbtable \"dim_film_category\",\n",
    "  user \"brithoang\",\n",
    "  password \"Shawnmendes.1\"\n",
    ")"
   ]
  },
  {
   "cell_type": "code",
   "execution_count": 0,
   "metadata": {
    "application/vnd.databricks.v1+cell": {
     "cellMetadata": {
      "byteLimit": 2048000,
      "implicitDf": true,
      "rowLimit": 10000
     },
     "inputWidgets": {},
     "nuid": "9d3fc087-0210-435a-91cd-0fa9f862f7c2",
     "showTitle": false,
     "title": ""
    }
   },
   "outputs": [
    {
     "output_type": "display_data",
     "data": {
      "text/html": [
       "<style scoped>\n",
       "  .table-result-container {\n",
       "    max-height: 300px;\n",
       "    overflow: auto;\n",
       "  }\n",
       "  table, th, td {\n",
       "    border: 1px solid black;\n",
       "    border-collapse: collapse;\n",
       "  }\n",
       "  th, td {\n",
       "    padding: 5px;\n",
       "  }\n",
       "  th {\n",
       "    text-align: left;\n",
       "  }\n",
       "</style><div class='table-result-container'><table class='table-result'><thead style='background-color: white'><tr><th>num_affected_rows</th><th>num_inserted_rows</th></tr></thead><tbody></tbody></table></div>"
      ]
     },
     "metadata": {
      "application/vnd.databricks.v1+output": {
       "addedWidgets": {},
       "aggData": [],
       "aggError": "",
       "aggOverflow": false,
       "aggSchema": [],
       "aggSeriesLimitReached": false,
       "aggType": "",
       "arguments": {},
       "columnCustomDisplayInfos": {},
       "data": [],
       "datasetInfos": [],
       "dbfsResultPath": null,
       "isJsonSchema": true,
       "metadata": {},
       "overflow": false,
       "plotOptions": {
        "customPlotOptions": {},
        "displayType": "table",
        "pivotAggregation": null,
        "pivotColumns": null,
        "xColumns": null,
        "yColumns": null
       },
       "removedWidgets": [],
       "schema": [
        {
         "metadata": "{}",
         "name": "num_affected_rows",
         "type": "\"long\""
        },
        {
         "metadata": "{}",
         "name": "num_inserted_rows",
         "type": "\"long\""
        }
       ],
       "type": "table"
      }
     },
     "output_type": "display_data"
    }
   ],
   "source": [
    "%sql\n",
    "USE DATABASE sakila_dlh;\n",
    "\n",
    "CREATE OR REPLACE TABLE sakila_dlh.dim_film_category\n",
    "COMMENT \"Film Category Dimension Table\"\n",
    "LOCATION \"dbfs:/FileStore/ds2002-final/sakila_dlh/dim_film_category\"\n",
    "AS SELECT * FROM view_film_category"
   ]
  },
  {
   "cell_type": "code",
   "execution_count": 0,
   "metadata": {
    "application/vnd.databricks.v1+cell": {
     "cellMetadata": {
      "byteLimit": 2048000,
      "implicitDf": true,
      "rowLimit": 10000
     },
     "inputWidgets": {},
     "nuid": "11cd42a4-c592-4f4b-8327-63820cb3f742",
     "showTitle": false,
     "title": ""
    }
   },
   "outputs": [
    {
     "output_type": "display_data",
     "data": {
      "text/html": [
       "<style scoped>\n",
       "  .table-result-container {\n",
       "    max-height: 300px;\n",
       "    overflow: auto;\n",
       "  }\n",
       "  table, th, td {\n",
       "    border: 1px solid black;\n",
       "    border-collapse: collapse;\n",
       "  }\n",
       "  th, td {\n",
       "    padding: 5px;\n",
       "  }\n",
       "  th {\n",
       "    text-align: left;\n",
       "  }\n",
       "</style><div class='table-result-container'><table class='table-result'><thead style='background-color: white'><tr><th>col_name</th><th>data_type</th><th>comment</th></tr></thead><tbody><tr><td>film_category_key</td><td>bigint</td><td>null</td></tr><tr><td>film_key</td><td>bigint</td><td>null</td></tr><tr><td>category_key</td><td>bigint</td><td>null</td></tr><tr><td>last_update</td><td>timestamp</td><td>null</td></tr><tr><td></td><td></td><td></td></tr><tr><td># Detailed Table Information</td><td></td><td></td></tr><tr><td>Catalog</td><td>spark_catalog</td><td></td></tr><tr><td>Database</td><td>sakila_dlh</td><td></td></tr><tr><td>Table</td><td>dim_film_category</td><td></td></tr><tr><td>Created Time</td><td>Tue Dec 05 05:18:07 UTC 2023</td><td></td></tr><tr><td>Last Access</td><td>UNKNOWN</td><td></td></tr><tr><td>Created By</td><td>Spark 3.3.0</td><td></td></tr><tr><td>Type</td><td>EXTERNAL</td><td></td></tr><tr><td>Comment</td><td>Film Category Dimension Table</td><td></td></tr><tr><td>Location</td><td>dbfs:/FileStore/ds2002-final/sakila_dlh/dim_film_category</td><td></td></tr><tr><td>Provider</td><td>delta</td><td></td></tr><tr><td>Owner</td><td>root</td><td></td></tr><tr><td>Table Properties</td><td>[delta.minReaderVersion=1,delta.minWriterVersion=2]</td><td></td></tr></tbody></table></div>"
      ]
     },
     "metadata": {
      "application/vnd.databricks.v1+output": {
       "addedWidgets": {},
       "aggData": [],
       "aggError": "",
       "aggOverflow": false,
       "aggSchema": [],
       "aggSeriesLimitReached": false,
       "aggType": "",
       "arguments": {},
       "columnCustomDisplayInfos": {},
       "data": [
        [
         "film_category_key",
         "bigint",
         null
        ],
        [
         "film_key",
         "bigint",
         null
        ],
        [
         "category_key",
         "bigint",
         null
        ],
        [
         "last_update",
         "timestamp",
         null
        ],
        [
         "",
         "",
         ""
        ],
        [
         "# Detailed Table Information",
         "",
         ""
        ],
        [
         "Catalog",
         "spark_catalog",
         ""
        ],
        [
         "Database",
         "sakila_dlh",
         ""
        ],
        [
         "Table",
         "dim_film_category",
         ""
        ],
        [
         "Created Time",
         "Tue Dec 05 05:18:07 UTC 2023",
         ""
        ],
        [
         "Last Access",
         "UNKNOWN",
         ""
        ],
        [
         "Created By",
         "Spark 3.3.0",
         ""
        ],
        [
         "Type",
         "EXTERNAL",
         ""
        ],
        [
         "Comment",
         "Film Category Dimension Table",
         ""
        ],
        [
         "Location",
         "dbfs:/FileStore/ds2002-final/sakila_dlh/dim_film_category",
         ""
        ],
        [
         "Provider",
         "delta",
         ""
        ],
        [
         "Owner",
         "root",
         ""
        ],
        [
         "Table Properties",
         "[delta.minReaderVersion=1,delta.minWriterVersion=2]",
         ""
        ]
       ],
       "datasetInfos": [],
       "dbfsResultPath": null,
       "isJsonSchema": true,
       "metadata": {},
       "overflow": false,
       "plotOptions": {
        "customPlotOptions": {},
        "displayType": "table",
        "pivotAggregation": null,
        "pivotColumns": null,
        "xColumns": null,
        "yColumns": null
       },
       "removedWidgets": [],
       "schema": [
        {
         "metadata": "{\"comment\":\"name of the column\"}",
         "name": "col_name",
         "type": "\"string\""
        },
        {
         "metadata": "{\"comment\":\"data type of the column\"}",
         "name": "data_type",
         "type": "\"string\""
        },
        {
         "metadata": "{\"comment\":\"comment of the column\"}",
         "name": "comment",
         "type": "\"string\""
        }
       ],
       "type": "table"
      }
     },
     "output_type": "display_data"
    }
   ],
   "source": [
    "%sql\n",
    "DESCRIBE EXTENDED sakila_dlh.dim_film_category;"
   ]
  },
  {
   "cell_type": "code",
   "execution_count": 0,
   "metadata": {
    "application/vnd.databricks.v1+cell": {
     "cellMetadata": {
      "byteLimit": 2048000,
      "implicitDf": true,
      "rowLimit": 10000
     },
     "inputWidgets": {},
     "nuid": "4a292232-6d0c-43cd-b740-7a0eb85cf734",
     "showTitle": false,
     "title": ""
    }
   },
   "outputs": [
    {
     "output_type": "display_data",
     "data": {
      "text/html": [
       "<style scoped>\n",
       "  .table-result-container {\n",
       "    max-height: 300px;\n",
       "    overflow: auto;\n",
       "  }\n",
       "  table, th, td {\n",
       "    border: 1px solid black;\n",
       "    border-collapse: collapse;\n",
       "  }\n",
       "  th, td {\n",
       "    padding: 5px;\n",
       "  }\n",
       "  th {\n",
       "    text-align: left;\n",
       "  }\n",
       "</style><div class='table-result-container'><table class='table-result'><thead style='background-color: white'><tr><th>film_category_key</th><th>film_key</th><th>category_key</th><th>last_update</th></tr></thead><tbody><tr><td>1</td><td>1</td><td>6</td><td>2006-02-15T05:07:09.000+0000</td></tr><tr><td>2</td><td>2</td><td>11</td><td>2006-02-15T05:07:09.000+0000</td></tr><tr><td>3</td><td>3</td><td>6</td><td>2006-02-15T05:07:09.000+0000</td></tr><tr><td>4</td><td>4</td><td>11</td><td>2006-02-15T05:07:09.000+0000</td></tr><tr><td>5</td><td>5</td><td>8</td><td>2006-02-15T05:07:09.000+0000</td></tr></tbody></table></div>"
      ]
     },
     "metadata": {
      "application/vnd.databricks.v1+output": {
       "addedWidgets": {},
       "aggData": [],
       "aggError": "",
       "aggOverflow": false,
       "aggSchema": [],
       "aggSeriesLimitReached": false,
       "aggType": "",
       "arguments": {},
       "columnCustomDisplayInfos": {},
       "data": [
        [
         1,
         1,
         6,
         "2006-02-15T05:07:09.000+0000"
        ],
        [
         2,
         2,
         11,
         "2006-02-15T05:07:09.000+0000"
        ],
        [
         3,
         3,
         6,
         "2006-02-15T05:07:09.000+0000"
        ],
        [
         4,
         4,
         11,
         "2006-02-15T05:07:09.000+0000"
        ],
        [
         5,
         5,
         8,
         "2006-02-15T05:07:09.000+0000"
        ]
       ],
       "datasetInfos": [],
       "dbfsResultPath": null,
       "isJsonSchema": true,
       "metadata": {},
       "overflow": false,
       "plotOptions": {
        "customPlotOptions": {},
        "displayType": "table",
        "pivotAggregation": null,
        "pivotColumns": null,
        "xColumns": null,
        "yColumns": null
       },
       "removedWidgets": [],
       "schema": [
        {
         "metadata": "{\"scale\":0}",
         "name": "film_category_key",
         "type": "\"long\""
        },
        {
         "metadata": "{\"scale\":0}",
         "name": "film_key",
         "type": "\"long\""
        },
        {
         "metadata": "{\"scale\":0}",
         "name": "category_key",
         "type": "\"long\""
        },
        {
         "metadata": "{\"scale\":0}",
         "name": "last_update",
         "type": "\"timestamp\""
        }
       ],
       "type": "table"
      }
     },
     "output_type": "display_data"
    }
   ],
   "source": [
    "%sql\n",
    "SELECT * FROM sakila_dlh.dim_film_category LIMIT 5"
   ]
  },
  {
   "cell_type": "code",
   "execution_count": 0,
   "metadata": {
    "application/vnd.databricks.v1+cell": {
     "cellMetadata": {
      "byteLimit": 2048000,
      "implicitDf": true,
      "rowLimit": 10000
     },
     "inputWidgets": {},
     "nuid": "687e6880-9825-41f6-af9e-6925a8ff7607",
     "showTitle": false,
     "title": ""
    }
   },
   "outputs": [
    {
     "output_type": "display_data",
     "data": {
      "text/html": [
       "<style scoped>\n",
       "  .table-result-container {\n",
       "    max-height: 300px;\n",
       "    overflow: auto;\n",
       "  }\n",
       "  table, th, td {\n",
       "    border: 1px solid black;\n",
       "    border-collapse: collapse;\n",
       "  }\n",
       "  th, td {\n",
       "    padding: 5px;\n",
       "  }\n",
       "  th {\n",
       "    text-align: left;\n",
       "  }\n",
       "</style><div class='table-result-container'><table class='table-result'><thead style='background-color: white'><tr></tr></thead><tbody></tbody></table></div>"
      ]
     },
     "metadata": {
      "application/vnd.databricks.v1+output": {
       "addedWidgets": {},
       "aggData": [],
       "aggError": "",
       "aggOverflow": false,
       "aggSchema": [],
       "aggSeriesLimitReached": false,
       "aggType": "",
       "arguments": {},
       "columnCustomDisplayInfos": {},
       "data": [],
       "datasetInfos": [],
       "dbfsResultPath": null,
       "isJsonSchema": true,
       "metadata": {},
       "overflow": false,
       "plotOptions": {
        "customPlotOptions": {},
        "displayType": "table",
        "pivotAggregation": null,
        "pivotColumns": null,
        "xColumns": null,
        "yColumns": null
       },
       "removedWidgets": [],
       "schema": [],
       "type": "table"
      }
     },
     "output_type": "display_data"
    }
   ],
   "source": [
    "%sql\n",
    "CREATE OR REPLACE TEMPORARY VIEW view_category\n",
    "USING org.apache.spark.sql.jdbc\n",
    "OPTIONS (\n",
    "  url \"jdbc:mysql://rcq5jz-mysql.mysql.database.azure.com:3306/sakila_dw\",\n",
    "  dbtable \"dim_category\",\n",
    "  user \"brithoang\",\n",
    "  password \"Shawnmendes.1\"\n",
    ")"
   ]
  },
  {
   "cell_type": "code",
   "execution_count": 0,
   "metadata": {
    "application/vnd.databricks.v1+cell": {
     "cellMetadata": {
      "byteLimit": 2048000,
      "implicitDf": true,
      "rowLimit": 10000
     },
     "inputWidgets": {},
     "nuid": "ce6d6536-5739-4473-847f-b46a3ce8543a",
     "showTitle": false,
     "title": ""
    }
   },
   "outputs": [
    {
     "output_type": "display_data",
     "data": {
      "text/html": [
       "<style scoped>\n",
       "  .table-result-container {\n",
       "    max-height: 300px;\n",
       "    overflow: auto;\n",
       "  }\n",
       "  table, th, td {\n",
       "    border: 1px solid black;\n",
       "    border-collapse: collapse;\n",
       "  }\n",
       "  th, td {\n",
       "    padding: 5px;\n",
       "  }\n",
       "  th {\n",
       "    text-align: left;\n",
       "  }\n",
       "</style><div class='table-result-container'><table class='table-result'><thead style='background-color: white'><tr><th>num_affected_rows</th><th>num_inserted_rows</th></tr></thead><tbody></tbody></table></div>"
      ]
     },
     "metadata": {
      "application/vnd.databricks.v1+output": {
       "addedWidgets": {},
       "aggData": [],
       "aggError": "",
       "aggOverflow": false,
       "aggSchema": [],
       "aggSeriesLimitReached": false,
       "aggType": "",
       "arguments": {},
       "columnCustomDisplayInfos": {},
       "data": [],
       "datasetInfos": [],
       "dbfsResultPath": null,
       "isJsonSchema": true,
       "metadata": {},
       "overflow": false,
       "plotOptions": {
        "customPlotOptions": {},
        "displayType": "table",
        "pivotAggregation": null,
        "pivotColumns": null,
        "xColumns": null,
        "yColumns": null
       },
       "removedWidgets": [],
       "schema": [
        {
         "metadata": "{}",
         "name": "num_affected_rows",
         "type": "\"long\""
        },
        {
         "metadata": "{}",
         "name": "num_inserted_rows",
         "type": "\"long\""
        }
       ],
       "type": "table"
      }
     },
     "output_type": "display_data"
    }
   ],
   "source": [
    "%sql\n",
    "USE DATABASE sakila_dlh;\n",
    "\n",
    "CREATE OR REPLACE TABLE sakila_dlh.dim_category\n",
    "COMMENT \"Category Dimension Table\"\n",
    "LOCATION \"dbfs:/FileStore/ds2002-final/sakila_dlh/dim_category\"\n",
    "AS SELECT * FROM view_category"
   ]
  },
  {
   "cell_type": "code",
   "execution_count": 0,
   "metadata": {
    "application/vnd.databricks.v1+cell": {
     "cellMetadata": {
      "byteLimit": 2048000,
      "implicitDf": true,
      "rowLimit": 10000
     },
     "inputWidgets": {},
     "nuid": "4cc60867-4a2c-4af8-aaab-d4d7f0fd6f94",
     "showTitle": false,
     "title": ""
    }
   },
   "outputs": [
    {
     "output_type": "display_data",
     "data": {
      "text/html": [
       "<style scoped>\n",
       "  .table-result-container {\n",
       "    max-height: 300px;\n",
       "    overflow: auto;\n",
       "  }\n",
       "  table, th, td {\n",
       "    border: 1px solid black;\n",
       "    border-collapse: collapse;\n",
       "  }\n",
       "  th, td {\n",
       "    padding: 5px;\n",
       "  }\n",
       "  th {\n",
       "    text-align: left;\n",
       "  }\n",
       "</style><div class='table-result-container'><table class='table-result'><thead style='background-color: white'><tr><th>col_name</th><th>data_type</th><th>comment</th></tr></thead><tbody><tr><td>category_key</td><td>bigint</td><td>null</td></tr><tr><td>name</td><td>string</td><td>null</td></tr><tr><td>last_update</td><td>timestamp</td><td>null</td></tr><tr><td></td><td></td><td></td></tr><tr><td># Detailed Table Information</td><td></td><td></td></tr><tr><td>Catalog</td><td>spark_catalog</td><td></td></tr><tr><td>Database</td><td>sakila_dlh</td><td></td></tr><tr><td>Table</td><td>dim_category</td><td></td></tr><tr><td>Created Time</td><td>Tue Dec 05 05:18:09 UTC 2023</td><td></td></tr><tr><td>Last Access</td><td>UNKNOWN</td><td></td></tr><tr><td>Created By</td><td>Spark 3.3.0</td><td></td></tr><tr><td>Type</td><td>EXTERNAL</td><td></td></tr><tr><td>Comment</td><td>Category Dimension Table</td><td></td></tr><tr><td>Location</td><td>dbfs:/FileStore/ds2002-final/sakila_dlh/dim_category</td><td></td></tr><tr><td>Provider</td><td>delta</td><td></td></tr><tr><td>Owner</td><td>root</td><td></td></tr><tr><td>Table Properties</td><td>[delta.minReaderVersion=1,delta.minWriterVersion=2]</td><td></td></tr></tbody></table></div>"
      ]
     },
     "metadata": {
      "application/vnd.databricks.v1+output": {
       "addedWidgets": {},
       "aggData": [],
       "aggError": "",
       "aggOverflow": false,
       "aggSchema": [],
       "aggSeriesLimitReached": false,
       "aggType": "",
       "arguments": {},
       "columnCustomDisplayInfos": {},
       "data": [
        [
         "category_key",
         "bigint",
         null
        ],
        [
         "name",
         "string",
         null
        ],
        [
         "last_update",
         "timestamp",
         null
        ],
        [
         "",
         "",
         ""
        ],
        [
         "# Detailed Table Information",
         "",
         ""
        ],
        [
         "Catalog",
         "spark_catalog",
         ""
        ],
        [
         "Database",
         "sakila_dlh",
         ""
        ],
        [
         "Table",
         "dim_category",
         ""
        ],
        [
         "Created Time",
         "Tue Dec 05 05:18:09 UTC 2023",
         ""
        ],
        [
         "Last Access",
         "UNKNOWN",
         ""
        ],
        [
         "Created By",
         "Spark 3.3.0",
         ""
        ],
        [
         "Type",
         "EXTERNAL",
         ""
        ],
        [
         "Comment",
         "Category Dimension Table",
         ""
        ],
        [
         "Location",
         "dbfs:/FileStore/ds2002-final/sakila_dlh/dim_category",
         ""
        ],
        [
         "Provider",
         "delta",
         ""
        ],
        [
         "Owner",
         "root",
         ""
        ],
        [
         "Table Properties",
         "[delta.minReaderVersion=1,delta.minWriterVersion=2]",
         ""
        ]
       ],
       "datasetInfos": [],
       "dbfsResultPath": null,
       "isJsonSchema": true,
       "metadata": {},
       "overflow": false,
       "plotOptions": {
        "customPlotOptions": {},
        "displayType": "table",
        "pivotAggregation": null,
        "pivotColumns": null,
        "xColumns": null,
        "yColumns": null
       },
       "removedWidgets": [],
       "schema": [
        {
         "metadata": "{\"comment\":\"name of the column\"}",
         "name": "col_name",
         "type": "\"string\""
        },
        {
         "metadata": "{\"comment\":\"data type of the column\"}",
         "name": "data_type",
         "type": "\"string\""
        },
        {
         "metadata": "{\"comment\":\"comment of the column\"}",
         "name": "comment",
         "type": "\"string\""
        }
       ],
       "type": "table"
      }
     },
     "output_type": "display_data"
    }
   ],
   "source": [
    "%sql\n",
    "DESCRIBE EXTENDED sakila_dlh.dim_category;"
   ]
  },
  {
   "cell_type": "code",
   "execution_count": 0,
   "metadata": {
    "application/vnd.databricks.v1+cell": {
     "cellMetadata": {
      "byteLimit": 2048000,
      "implicitDf": true,
      "rowLimit": 10000
     },
     "inputWidgets": {},
     "nuid": "ea690216-b79c-4d26-9cbc-160c26520920",
     "showTitle": false,
     "title": ""
    }
   },
   "outputs": [
    {
     "output_type": "display_data",
     "data": {
      "text/html": [
       "<style scoped>\n",
       "  .table-result-container {\n",
       "    max-height: 300px;\n",
       "    overflow: auto;\n",
       "  }\n",
       "  table, th, td {\n",
       "    border: 1px solid black;\n",
       "    border-collapse: collapse;\n",
       "  }\n",
       "  th, td {\n",
       "    padding: 5px;\n",
       "  }\n",
       "  th {\n",
       "    text-align: left;\n",
       "  }\n",
       "</style><div class='table-result-container'><table class='table-result'><thead style='background-color: white'><tr><th>category_key</th><th>name</th><th>last_update</th></tr></thead><tbody><tr><td>1</td><td>Action</td><td>2006-02-15T04:46:27.000+0000</td></tr><tr><td>2</td><td>Animation</td><td>2006-02-15T04:46:27.000+0000</td></tr><tr><td>3</td><td>Children</td><td>2006-02-15T04:46:27.000+0000</td></tr><tr><td>4</td><td>Classics</td><td>2006-02-15T04:46:27.000+0000</td></tr><tr><td>5</td><td>Comedy</td><td>2006-02-15T04:46:27.000+0000</td></tr></tbody></table></div>"
      ]
     },
     "metadata": {
      "application/vnd.databricks.v1+output": {
       "addedWidgets": {},
       "aggData": [],
       "aggError": "",
       "aggOverflow": false,
       "aggSchema": [],
       "aggSeriesLimitReached": false,
       "aggType": "",
       "arguments": {},
       "columnCustomDisplayInfos": {},
       "data": [
        [
         1,
         "Action",
         "2006-02-15T04:46:27.000+0000"
        ],
        [
         2,
         "Animation",
         "2006-02-15T04:46:27.000+0000"
        ],
        [
         3,
         "Children",
         "2006-02-15T04:46:27.000+0000"
        ],
        [
         4,
         "Classics",
         "2006-02-15T04:46:27.000+0000"
        ],
        [
         5,
         "Comedy",
         "2006-02-15T04:46:27.000+0000"
        ]
       ],
       "datasetInfos": [],
       "dbfsResultPath": null,
       "isJsonSchema": true,
       "metadata": {},
       "overflow": false,
       "plotOptions": {
        "customPlotOptions": {},
        "displayType": "table",
        "pivotAggregation": null,
        "pivotColumns": null,
        "xColumns": null,
        "yColumns": null
       },
       "removedWidgets": [],
       "schema": [
        {
         "metadata": "{\"scale\":0}",
         "name": "category_key",
         "type": "\"long\""
        },
        {
         "metadata": "{\"scale\":0}",
         "name": "name",
         "type": "\"string\""
        },
        {
         "metadata": "{\"scale\":0}",
         "name": "last_update",
         "type": "\"timestamp\""
        }
       ],
       "type": "table"
      }
     },
     "output_type": "display_data"
    }
   ],
   "source": [
    "%sql\n",
    "SELECT * FROM sakila_dlh.dim_category LIMIT 5"
   ]
  },
  {
   "cell_type": "markdown",
   "metadata": {
    "application/vnd.databricks.v1+cell": {
     "cellMetadata": {
      "byteLimit": 2048000,
      "rowLimit": 10000
     },
     "inputWidgets": {},
     "nuid": "5fc86c4f-3fd0-4833-9b44-0ab1197c537b",
     "showTitle": false,
     "title": ""
    }
   },
   "source": [
    "### Verify Dimension Tables"
   ]
  },
  {
   "cell_type": "code",
   "execution_count": 0,
   "metadata": {
    "application/vnd.databricks.v1+cell": {
     "cellMetadata": {
      "byteLimit": 2048000,
      "implicitDf": true,
      "rowLimit": 10000
     },
     "inputWidgets": {},
     "nuid": "5c72f107-67f1-4bbb-8a7d-4607e1a2580b",
     "showTitle": false,
     "title": ""
    }
   },
   "outputs": [
    {
     "output_type": "display_data",
     "data": {
      "text/html": [
       "<style scoped>\n",
       "  .table-result-container {\n",
       "    max-height: 300px;\n",
       "    overflow: auto;\n",
       "  }\n",
       "  table, th, td {\n",
       "    border: 1px solid black;\n",
       "    border-collapse: collapse;\n",
       "  }\n",
       "  th, td {\n",
       "    padding: 5px;\n",
       "  }\n",
       "  th {\n",
       "    text-align: left;\n",
       "  }\n",
       "</style><div class='table-result-container'><table class='table-result'><thead style='background-color: white'><tr><th>database</th><th>tableName</th><th>isTemporary</th></tr></thead><tbody><tr><td>sakila_dlh</td><td>dim_category</td><td>false</td></tr><tr><td>sakila_dlh</td><td>dim_date</td><td>false</td></tr><tr><td>sakila_dlh</td><td>dim_film</td><td>false</td></tr><tr><td>sakila_dlh</td><td>dim_film_category</td><td>false</td></tr><tr><td>sakila_dlh</td><td>dim_inventory</td><td>false</td></tr><tr><td>sakila_dlh</td><td>dim_rental</td><td>false</td></tr><tr><td></td><td>view_category</td><td>true</td></tr><tr><td></td><td>view_date</td><td>true</td></tr><tr><td></td><td>view_film_category</td><td>true</td></tr><tr><td></td><td>view_inventory</td><td>true</td></tr></tbody></table></div>"
      ]
     },
     "metadata": {
      "application/vnd.databricks.v1+output": {
       "addedWidgets": {},
       "aggData": [],
       "aggError": "",
       "aggOverflow": false,
       "aggSchema": [],
       "aggSeriesLimitReached": false,
       "aggType": "",
       "arguments": {},
       "columnCustomDisplayInfos": {},
       "data": [
        [
         "sakila_dlh",
         "dim_category",
         false
        ],
        [
         "sakila_dlh",
         "dim_date",
         false
        ],
        [
         "sakila_dlh",
         "dim_film",
         false
        ],
        [
         "sakila_dlh",
         "dim_film_category",
         false
        ],
        [
         "sakila_dlh",
         "dim_inventory",
         false
        ],
        [
         "sakila_dlh",
         "dim_rental",
         false
        ],
        [
         "",
         "view_category",
         true
        ],
        [
         "",
         "view_date",
         true
        ],
        [
         "",
         "view_film_category",
         true
        ],
        [
         "",
         "view_inventory",
         true
        ]
       ],
       "datasetInfos": [],
       "dbfsResultPath": null,
       "isJsonSchema": true,
       "metadata": {},
       "overflow": false,
       "plotOptions": {
        "customPlotOptions": {},
        "displayType": "table",
        "pivotAggregation": null,
        "pivotColumns": null,
        "xColumns": null,
        "yColumns": null
       },
       "removedWidgets": [],
       "schema": [
        {
         "metadata": "{}",
         "name": "database",
         "type": "\"string\""
        },
        {
         "metadata": "{}",
         "name": "tableName",
         "type": "\"string\""
        },
        {
         "metadata": "{}",
         "name": "isTemporary",
         "type": "\"boolean\""
        }
       ],
       "type": "table"
      }
     },
     "output_type": "display_data"
    }
   ],
   "source": [
    "%sql\n",
    "USE sakila_dlh;\n",
    "SHOW TABLES"
   ]
  },
  {
   "cell_type": "markdown",
   "metadata": {
    "application/vnd.databricks.v1+cell": {
     "cellMetadata": {
      "byteLimit": 2048000,
      "rowLimit": 10000
     },
     "inputWidgets": {},
     "nuid": "cc228c0c-30de-4210-a967-8af612309201",
     "showTitle": false,
     "title": ""
    }
   },
   "source": [
    "### Use AutoLoader to Process Streaming (Hot Path) Orders Fact Data \n",
    "###Bronze Table: Process 'Raw' JSON Data"
   ]
  },
  {
   "cell_type": "code",
   "execution_count": 0,
   "metadata": {
    "application/vnd.databricks.v1+cell": {
     "cellMetadata": {
      "byteLimit": 2048000,
      "rowLimit": 10000
     },
     "inputWidgets": {},
     "nuid": "e40ef298-7606-4357-ac42-3230343fb7bd",
     "showTitle": false,
     "title": ""
    }
   },
   "outputs": [
    {
     "output_type": "display_data",
     "data": {
      "text/html": [
       "<style scoped>\n",
       "  .table-result-container {\n",
       "    max-height: 300px;\n",
       "    overflow: auto;\n",
       "  }\n",
       "  table, th, td {\n",
       "    border: 1px solid black;\n",
       "    border-collapse: collapse;\n",
       "  }\n",
       "  th, td {\n",
       "    padding: 5px;\n",
       "  }\n",
       "  th {\n",
       "    text-align: left;\n",
       "  }\n",
       "</style><div class='table-result-container'><table class='table-result'><thead style='background-color: white'><tr><th>path</th><th>name</th><th>size</th><th>modificationTime</th></tr></thead><tbody><tr><td>dbfs:/FileStore/ds2002final/source_data/stream/fact_gen1.json</td><td>fact_gen1.json</td><td>87148</td><td>1701378212000</td></tr><tr><td>dbfs:/FileStore/ds2002final/source_data/stream/fact_gen2.json</td><td>fact_gen2.json</td><td>87455</td><td>1701378212000</td></tr><tr><td>dbfs:/FileStore/ds2002final/source_data/stream/fact_gen3.json</td><td>fact_gen3.json</td><td>87684</td><td>1701378212000</td></tr></tbody></table></div>"
      ]
     },
     "metadata": {
      "application/vnd.databricks.v1+output": {
       "addedWidgets": {},
       "aggData": [],
       "aggError": "",
       "aggOverflow": false,
       "aggSchema": [],
       "aggSeriesLimitReached": false,
       "aggType": "",
       "arguments": {},
       "columnCustomDisplayInfos": {},
       "data": [
        [
         "dbfs:/FileStore/ds2002final/source_data/stream/fact_gen1.json",
         "fact_gen1.json",
         87148,
         1701378212000
        ],
        [
         "dbfs:/FileStore/ds2002final/source_data/stream/fact_gen2.json",
         "fact_gen2.json",
         87455,
         1701378212000
        ],
        [
         "dbfs:/FileStore/ds2002final/source_data/stream/fact_gen3.json",
         "fact_gen3.json",
         87684,
         1701378212000
        ]
       ],
       "datasetInfos": [],
       "dbfsResultPath": null,
       "isJsonSchema": true,
       "metadata": {},
       "overflow": false,
       "plotOptions": {
        "customPlotOptions": {},
        "displayType": "table",
        "pivotAggregation": null,
        "pivotColumns": null,
        "xColumns": null,
        "yColumns": null
       },
       "removedWidgets": [],
       "schema": [
        {
         "metadata": "{}",
         "name": "path",
         "type": "\"string\""
        },
        {
         "metadata": "{}",
         "name": "name",
         "type": "\"string\""
        },
        {
         "metadata": "{}",
         "name": "size",
         "type": "\"long\""
        },
        {
         "metadata": "{}",
         "name": "modificationTime",
         "type": "\"long\""
        }
       ],
       "type": "table"
      }
     },
     "output_type": "display_data"
    }
   ],
   "source": [
    "display(dbutils.fs.ls(stream_dir))"
   ]
  },
  {
   "cell_type": "code",
   "execution_count": 0,
   "metadata": {
    "application/vnd.databricks.v1+cell": {
     "cellMetadata": {
      "byteLimit": 2048000,
      "rowLimit": 10000
     },
     "inputWidgets": {},
     "nuid": "8f522f25-ee95-4ed3-8d77-56e31504aff8",
     "showTitle": false,
     "title": ""
    }
   },
   "outputs": [],
   "source": [
    "(spark.readStream\n",
    " .format(\"cloudFiles\")\n",
    " .option(\"cloudFiles.format\", \"json\")\n",
    " #.option(\"cloudFiles.schemaHints\", \"date_key BIGINT\")\n",
    " #.option(\"cloudFiles.schemaHints\", \"rental_key BIGINT\")\n",
    " #.option(\"cloudFiles.schemaHints\", \"last_name STRING\")\n",
    " #.option(\"cloudFiles.schemaHints\", \"inventory_key STRING\")\n",
    " #.option(\"cloudFiles.schemaHints\", \"film_category_key STRING\")\n",
    " #.option(\"cloudFiles.schemaHints\", \"category_key STRING\")\n",
    " #.option(\"cloudFiles.schemaHints\", \"release_year BIGINT\")\n",
    " #.option(\"cloudFiles.schemaHints\", \"rental_date BIGINT\")\n",
    " #.option(\"cloudFiles.schemaHints\", \"title STRING\")\n",
    " #.option(\"cloudFiles.schemaHints\", \"rating STRING\")\n",
    " #.option(\"cloudFiles.schemaHints\", \"name STRING\")\n",
    " #.option(\"cloudFiles.schemaHints\", \"rental_key BIGINT\")\n",
    " .option(\"cloudFiles.schemaLocation\", genres_output_bronze)\n",
    " .option(\"cloudFiles.inferColumnTypes\", \"true\")\n",
    " .option(\"multiLine\", \"true\")\n",
    " .load(stream_dir)\n",
    " .createOrReplaceTempView(\"genres_raw_tempview\"))"
   ]
  },
  {
   "cell_type": "code",
   "execution_count": 0,
   "metadata": {
    "application/vnd.databricks.v1+cell": {
     "cellMetadata": {
      "byteLimit": 2048000,
      "implicitDf": true,
      "rowLimit": 10000
     },
     "inputWidgets": {},
     "nuid": "fa0c84c9-48ba-457a-9b56-e871b6f6f531",
     "showTitle": false,
     "title": ""
    }
   },
   "outputs": [
    {
     "output_type": "display_data",
     "data": {
      "text/html": [
       "<style scoped>\n",
       "  .table-result-container {\n",
       "    max-height: 300px;\n",
       "    overflow: auto;\n",
       "  }\n",
       "  table, th, td {\n",
       "    border: 1px solid black;\n",
       "    border-collapse: collapse;\n",
       "  }\n",
       "  th, td {\n",
       "    padding: 5px;\n",
       "  }\n",
       "  th {\n",
       "    text-align: left;\n",
       "  }\n",
       "</style><div class='table-result-container'><table class='table-result'><thead style='background-color: white'><tr></tr></thead><tbody></tbody></table></div>"
      ]
     },
     "metadata": {
      "application/vnd.databricks.v1+output": {
       "addedWidgets": {},
       "aggData": [],
       "aggError": "",
       "aggOverflow": false,
       "aggSchema": [],
       "aggSeriesLimitReached": false,
       "aggType": "",
       "arguments": {},
       "columnCustomDisplayInfos": {},
       "data": [],
       "datasetInfos": [],
       "dbfsResultPath": null,
       "isJsonSchema": true,
       "metadata": {},
       "overflow": false,
       "plotOptions": {
        "customPlotOptions": {},
        "displayType": "table",
        "pivotAggregation": null,
        "pivotColumns": null,
        "xColumns": null,
        "yColumns": null
       },
       "removedWidgets": [],
       "schema": [],
       "type": "table"
      }
     },
     "output_type": "display_data"
    }
   ],
   "source": [
    "%sql\n",
    "/* Add Metadata for Traceability */\n",
    "CREATE OR REPLACE TEMPORARY VIEW genres_bronze_tempview AS (\n",
    "  SELECT *, current_timestamp() receipt_time, input_file_name() source_file\n",
    "  FROM genres_raw_tempview\n",
    ")"
   ]
  },
  {
   "cell_type": "code",
   "execution_count": 0,
   "metadata": {
    "application/vnd.databricks.v1+cell": {
     "cellMetadata": {
      "byteLimit": 2048000,
      "implicitDf": true,
      "rowLimit": 10000
     },
     "inputWidgets": {},
     "nuid": "22c85547-cd92-4eb1-a047-d05b888fd1f1",
     "showTitle": false,
     "title": ""
    }
   },
   "outputs": [
    {
     "output_type": "display_data",
     "data": {
      "text/html": [
       "<style scoped>\n",
       "  .table-result-container {\n",
       "    max-height: 300px;\n",
       "    overflow: auto;\n",
       "  }\n",
       "  table, th, td {\n",
       "    border: 1px solid black;\n",
       "    border-collapse: collapse;\n",
       "  }\n",
       "  th, td {\n",
       "    padding: 5px;\n",
       "  }\n",
       "  th {\n",
       "    text-align: left;\n",
       "  }\n",
       "</style><div class='table-result-container'><table class='table-result'><thead style='background-color: white'><tr><th>category_key</th><th>fact_genre_key</th><th>film_category_key</th><th>film_key</th><th>genre</th><th>inventory_key</th><th>rating</th><th>release_year</th><th>rental_date</th><th>rental_key</th><th>title</th><th>_rescued_data</th><th>receipt_time</th><th>source_file</th></tr></thead><tbody><tr><td>7</td><td>601</td><td>585</td><td>585</td><td>Drama</td><td>2665</td><td>G</td><td>2006</td><td>2005-05-26 21:22:07</td><td>305</td><td>MOB DUFFEL</td><td>null</td><td>2023-12-05T05:18:13.674+0000</td><td>dbfs:/FileStore/ds2002final/source_data/stream/fact_gen3.json</td></tr><tr><td>1</td><td>602</td><td>586</td><td>586</td><td>Action</td><td>2671</td><td>PG</td><td>2006</td><td>2005-05-27 19:03:08</td><td>448</td><td>MOCKINGBIRD HOLLYWOOD</td><td>null</td><td>2023-12-05T05:18:13.674+0000</td><td>dbfs:/FileStore/ds2002final/source_data/stream/fact_gen3.json</td></tr><tr><td>3</td><td>603</td><td>588</td><td>588</td><td>Children</td><td>2679</td><td>NC-17</td><td>2006</td><td>2005-05-28 11:48:55</td><td>583</td><td>MODEL FISH</td><td>null</td><td>2023-12-05T05:18:13.674+0000</td><td>dbfs:/FileStore/ds2002final/source_data/stream/fact_gen3.json</td></tr><tr><td>3</td><td>604</td><td>588</td><td>588</td><td>Children</td><td>2678</td><td>NC-17</td><td>2006</td><td>2005-05-27 01:18:57</td><td>327</td><td>MODEL FISH</td><td>null</td><td>2023-12-05T05:18:13.674+0000</td><td>dbfs:/FileStore/ds2002final/source_data/stream/fact_gen3.json</td></tr><tr><td>6</td><td>605</td><td>589</td><td>589</td><td>Documentary</td><td>2685</td><td>PG</td><td>2006</td><td>2005-05-28 18:24:43</td><td>638</td><td>MODERN DORADO</td><td>null</td><td>2023-12-05T05:18:13.674+0000</td><td>dbfs:/FileStore/ds2002final/source_data/stream/fact_gen3.json</td></tr><tr><td>6</td><td>606</td><td>589</td><td>589</td><td>Documentary</td><td>2684</td><td>PG</td><td>2006</td><td>2005-05-27 10:35:27</td><td>387</td><td>MODERN DORADO</td><td>null</td><td>2023-12-05T05:18:13.674+0000</td><td>dbfs:/FileStore/ds2002final/source_data/stream/fact_gen3.json</td></tr><tr><td>12</td><td>607</td><td>592</td><td>592</td><td>Music</td><td>2697</td><td>PG</td><td>2006</td><td>2005-05-29 16:59:44</td><td>796</td><td>MONSTER SPARTACUS</td><td>null</td><td>2023-12-05T05:18:13.674+0000</td><td>dbfs:/FileStore/ds2002final/source_data/stream/fact_gen3.json</td></tr><tr><td>11</td><td>608</td><td>593</td><td>593</td><td>Horror</td><td>2701</td><td>G</td><td>2006</td><td>2005-05-25 00:31:15</td><td>14</td><td>MONTEREY LABYRINTH</td><td>null</td><td>2023-12-05T05:18:13.674+0000</td><td>dbfs:/FileStore/ds2002final/source_data/stream/fact_gen3.json</td></tr><tr><td>9</td><td>609</td><td>595</td><td>595</td><td>Foreign</td><td>2711</td><td>PG</td><td>2006</td><td>2005-05-29 09:55:43</td><td>751</td><td>MOON BUNCH</td><td>null</td><td>2023-12-05T05:18:13.674+0000</td><td>dbfs:/FileStore/ds2002final/source_data/stream/fact_gen3.json</td></tr><tr><td>9</td><td>610</td><td>595</td><td>595</td><td>Foreign</td><td>2714</td><td>PG</td><td>2006</td><td>2005-05-26 03:07:43</td><td>168</td><td>MOON BUNCH</td><td>null</td><td>2023-12-05T05:18:13.674+0000</td><td>dbfs:/FileStore/ds2002final/source_data/stream/fact_gen3.json</td></tr><tr><td>15</td><td>611</td><td>598</td><td>598</td><td>Sports</td><td>2727</td><td>G</td><td>2006</td><td>2005-05-30 07:10:00</td><td>887</td><td>MOSQUITO ARMAGEDDON</td><td>null</td><td>2023-12-05T05:18:13.674+0000</td><td>dbfs:/FileStore/ds2002final/source_data/stream/fact_gen3.json</td></tr><tr><td>11</td><td>612</td><td>600</td><td>600</td><td>Horror</td><td>2735</td><td>PG</td><td>2006</td><td>2005-05-26 02:28:36</td><td>165</td><td>MOTIONS DETAILS</td><td>null</td><td>2023-12-05T05:18:13.674+0000</td><td>dbfs:/FileStore/ds2002final/source_data/stream/fact_gen3.json</td></tr><tr><td>14</td><td>613</td><td>602</td><td>602</td><td>Sci-Fi</td><td>2744</td><td>PG</td><td>2006</td><td>2005-05-30 08:50:43</td><td>895</td><td>MOURNING PURPLE</td><td>null</td><td>2023-12-05T05:18:13.674+0000</td><td>dbfs:/FileStore/ds2002final/source_data/stream/fact_gen3.json</td></tr><tr><td>14</td><td>614</td><td>602</td><td>602</td><td>Sci-Fi</td><td>2745</td><td>PG</td><td>2006</td><td>2005-05-26 10:14:38</td><td>222</td><td>MOURNING PURPLE</td><td>null</td><td>2023-12-05T05:18:13.674+0000</td><td>dbfs:/FileStore/ds2002final/source_data/stream/fact_gen3.json</td></tr><tr><td>8</td><td>615</td><td>603</td><td>603</td><td>Family</td><td>2748</td><td>PG</td><td>2006</td><td>2005-05-27 09:43:25</td><td>381</td><td>MOVIE SHAKESPEARE</td><td>null</td><td>2023-12-05T05:18:13.674+0000</td><td>dbfs:/FileStore/ds2002final/source_data/stream/fact_gen3.json</td></tr></tbody></table></div>"
      ]
     },
     "metadata": {
      "application/vnd.databricks.v1+output": {
       "addedWidgets": {},
       "aggData": [],
       "aggError": "",
       "aggOverflow": false,
       "aggSchema": [],
       "aggSeriesLimitReached": false,
       "aggType": "",
       "arguments": {},
       "columnCustomDisplayInfos": {},
       "data": [
        [
         7,
         601,
         585,
         585,
         "Drama",
         2665,
         "G",
         "2006",
         "2005-05-26 21:22:07",
         305,
         "MOB DUFFEL",
         null,
         "2023-12-05T05:18:13.674+0000",
         "dbfs:/FileStore/ds2002final/source_data/stream/fact_gen3.json"
        ],
        [
         1,
         602,
         586,
         586,
         "Action",
         2671,
         "PG",
         "2006",
         "2005-05-27 19:03:08",
         448,
         "MOCKINGBIRD HOLLYWOOD",
         null,
         "2023-12-05T05:18:13.674+0000",
         "dbfs:/FileStore/ds2002final/source_data/stream/fact_gen3.json"
        ],
        [
         3,
         603,
         588,
         588,
         "Children",
         2679,
         "NC-17",
         "2006",
         "2005-05-28 11:48:55",
         583,
         "MODEL FISH",
         null,
         "2023-12-05T05:18:13.674+0000",
         "dbfs:/FileStore/ds2002final/source_data/stream/fact_gen3.json"
        ],
        [
         3,
         604,
         588,
         588,
         "Children",
         2678,
         "NC-17",
         "2006",
         "2005-05-27 01:18:57",
         327,
         "MODEL FISH",
         null,
         "2023-12-05T05:18:13.674+0000",
         "dbfs:/FileStore/ds2002final/source_data/stream/fact_gen3.json"
        ],
        [
         6,
         605,
         589,
         589,
         "Documentary",
         2685,
         "PG",
         "2006",
         "2005-05-28 18:24:43",
         638,
         "MODERN DORADO",
         null,
         "2023-12-05T05:18:13.674+0000",
         "dbfs:/FileStore/ds2002final/source_data/stream/fact_gen3.json"
        ],
        [
         6,
         606,
         589,
         589,
         "Documentary",
         2684,
         "PG",
         "2006",
         "2005-05-27 10:35:27",
         387,
         "MODERN DORADO",
         null,
         "2023-12-05T05:18:13.674+0000",
         "dbfs:/FileStore/ds2002final/source_data/stream/fact_gen3.json"
        ],
        [
         12,
         607,
         592,
         592,
         "Music",
         2697,
         "PG",
         "2006",
         "2005-05-29 16:59:44",
         796,
         "MONSTER SPARTACUS",
         null,
         "2023-12-05T05:18:13.674+0000",
         "dbfs:/FileStore/ds2002final/source_data/stream/fact_gen3.json"
        ],
        [
         11,
         608,
         593,
         593,
         "Horror",
         2701,
         "G",
         "2006",
         "2005-05-25 00:31:15",
         14,
         "MONTEREY LABYRINTH",
         null,
         "2023-12-05T05:18:13.674+0000",
         "dbfs:/FileStore/ds2002final/source_data/stream/fact_gen3.json"
        ],
        [
         9,
         609,
         595,
         595,
         "Foreign",
         2711,
         "PG",
         "2006",
         "2005-05-29 09:55:43",
         751,
         "MOON BUNCH",
         null,
         "2023-12-05T05:18:13.674+0000",
         "dbfs:/FileStore/ds2002final/source_data/stream/fact_gen3.json"
        ],
        [
         9,
         610,
         595,
         595,
         "Foreign",
         2714,
         "PG",
         "2006",
         "2005-05-26 03:07:43",
         168,
         "MOON BUNCH",
         null,
         "2023-12-05T05:18:13.674+0000",
         "dbfs:/FileStore/ds2002final/source_data/stream/fact_gen3.json"
        ],
        [
         15,
         611,
         598,
         598,
         "Sports",
         2727,
         "G",
         "2006",
         "2005-05-30 07:10:00",
         887,
         "MOSQUITO ARMAGEDDON",
         null,
         "2023-12-05T05:18:13.674+0000",
         "dbfs:/FileStore/ds2002final/source_data/stream/fact_gen3.json"
        ],
        [
         11,
         612,
         600,
         600,
         "Horror",
         2735,
         "PG",
         "2006",
         "2005-05-26 02:28:36",
         165,
         "MOTIONS DETAILS",
         null,
         "2023-12-05T05:18:13.674+0000",
         "dbfs:/FileStore/ds2002final/source_data/stream/fact_gen3.json"
        ],
        [
         14,
         613,
         602,
         602,
         "Sci-Fi",
         2744,
         "PG",
         "2006",
         "2005-05-30 08:50:43",
         895,
         "MOURNING PURPLE",
         null,
         "2023-12-05T05:18:13.674+0000",
         "dbfs:/FileStore/ds2002final/source_data/stream/fact_gen3.json"
        ],
        [
         14,
         614,
         602,
         602,
         "Sci-Fi",
         2745,
         "PG",
         "2006",
         "2005-05-26 10:14:38",
         222,
         "MOURNING PURPLE",
         null,
         "2023-12-05T05:18:13.674+0000",
         "dbfs:/FileStore/ds2002final/source_data/stream/fact_gen3.json"
        ],
        [
         8,
         615,
         603,
         603,
         "Family",
         2748,
         "PG",
         "2006",
         "2005-05-27 09:43:25",
         381,
         "MOVIE SHAKESPEARE",
         null,
         "2023-12-05T05:18:13.674+0000",
         "dbfs:/FileStore/ds2002final/source_data/stream/fact_gen3.json"
        ]
       ],
       "datasetInfos": [],
       "dbfsResultPath": null,
       "isJsonSchema": true,
       "metadata": {
        "isDbfsCommandResult": false
       },
       "overflow": false,
       "plotOptions": {
        "customPlotOptions": {},
        "displayType": "table",
        "pivotAggregation": null,
        "pivotColumns": null,
        "xColumns": null,
        "yColumns": null
       },
       "removedWidgets": [],
       "schema": [
        {
         "metadata": "{}",
         "name": "category_key",
         "type": "\"long\""
        },
        {
         "metadata": "{}",
         "name": "fact_genre_key",
         "type": "\"long\""
        },
        {
         "metadata": "{}",
         "name": "film_category_key",
         "type": "\"long\""
        },
        {
         "metadata": "{}",
         "name": "film_key",
         "type": "\"long\""
        },
        {
         "metadata": "{}",
         "name": "genre",
         "type": "\"string\""
        },
        {
         "metadata": "{}",
         "name": "inventory_key",
         "type": "\"long\""
        },
        {
         "metadata": "{}",
         "name": "rating",
         "type": "\"string\""
        },
        {
         "metadata": "{}",
         "name": "release_year",
         "type": "\"string\""
        },
        {
         "metadata": "{}",
         "name": "rental_date",
         "type": "\"string\""
        },
        {
         "metadata": "{}",
         "name": "rental_key",
         "type": "\"long\""
        },
        {
         "metadata": "{}",
         "name": "title",
         "type": "\"string\""
        },
        {
         "metadata": "{}",
         "name": "_rescued_data",
         "type": "\"string\""
        },
        {
         "metadata": "{}",
         "name": "receipt_time",
         "type": "\"timestamp\""
        },
        {
         "metadata": "{}",
         "name": "source_file",
         "type": "\"string\""
        }
       ],
       "type": "table"
      }
     },
     "output_type": "display_data"
    }
   ],
   "source": [
    "%sql\n",
    "SELECT * FROM genres_bronze_tempview LIMIT 15"
   ]
  },
  {
   "cell_type": "code",
   "execution_count": 0,
   "metadata": {
    "application/vnd.databricks.v1+cell": {
     "cellMetadata": {
      "byteLimit": 2048000,
      "rowLimit": 10000
     },
     "inputWidgets": {},
     "nuid": "13b0a3ca-e239-4f14-9e52-b64b1f86f6b9",
     "showTitle": false,
     "title": ""
    }
   },
   "outputs": [
    {
     "output_type": "stream",
     "name": "stdout",
     "output_type": "stream",
     "text": [
      "Out[35]: <pyspark.sql.streaming.query.StreamingQuery at 0x7f3acdc421c0>"
     ]
    }
   ],
   "source": [
    "(spark.table(\"genres_bronze_tempview\")\n",
    "      .writeStream\n",
    "      .format(\"delta\")\n",
    "      .option(\"checkpointLocation\", f\"{genres_output_bronze}/_checkpoint\")\n",
    "      .outputMode(\"append\")\n",
    "      .table(\"fact_genres_bronze\"))"
   ]
  },
  {
   "cell_type": "markdown",
   "metadata": {
    "application/vnd.databricks.v1+cell": {
     "cellMetadata": {
      "byteLimit": 2048000,
      "rowLimit": 10000
     },
     "inputWidgets": {},
     "nuid": "b40d8617-c32d-4236-be26-0922f06319c3",
     "showTitle": false,
     "title": ""
    }
   },
   "source": [
    "###Silver Table: Include Reference Data"
   ]
  },
  {
   "cell_type": "code",
   "execution_count": 0,
   "metadata": {
    "application/vnd.databricks.v1+cell": {
     "cellMetadata": {
      "byteLimit": 2048000,
      "rowLimit": 10000
     },
     "inputWidgets": {},
     "nuid": "9c925a0a-20dc-4545-a044-c306f46a1f91",
     "showTitle": false,
     "title": ""
    }
   },
   "outputs": [],
   "source": [
    "(spark.readStream\n",
    "  .table(\"fact_genres_bronze\")\n",
    "  .createOrReplaceTempView(\"genres_silver_tempview\"))"
   ]
  },
  {
   "cell_type": "code",
   "execution_count": 0,
   "metadata": {
    "application/vnd.databricks.v1+cell": {
     "cellMetadata": {
      "byteLimit": 2048000,
      "implicitDf": true,
      "rowLimit": 10000
     },
     "inputWidgets": {},
     "nuid": "46daf04c-e257-433a-bc41-a556abd06185",
     "showTitle": false,
     "title": ""
    }
   },
   "outputs": [
    {
     "output_type": "display_data",
     "data": {
      "text/html": [
       "<style scoped>\n",
       "  .table-result-container {\n",
       "    max-height: 300px;\n",
       "    overflow: auto;\n",
       "  }\n",
       "  table, th, td {\n",
       "    border: 1px solid black;\n",
       "    border-collapse: collapse;\n",
       "  }\n",
       "  th, td {\n",
       "    padding: 5px;\n",
       "  }\n",
       "  th {\n",
       "    text-align: left;\n",
       "  }\n",
       "</style><div class='table-result-container'><table class='table-result'><thead style='background-color: white'><tr><th>category_key</th><th>fact_genre_key</th><th>film_category_key</th><th>film_key</th><th>genre</th><th>inventory_key</th><th>rating</th><th>release_year</th><th>rental_date</th><th>rental_key</th><th>title</th><th>_rescued_data</th><th>receipt_time</th><th>source_file</th></tr></thead><tbody><tr><td>7</td><td>601</td><td>585</td><td>585</td><td>Drama</td><td>2665</td><td>G</td><td>2006</td><td>2005-05-26 21:22:07</td><td>305</td><td>MOB DUFFEL</td><td>null</td><td>2023-12-05T05:18:14.633+0000</td><td>dbfs:/FileStore/ds2002final/source_data/stream/fact_gen3.json</td></tr><tr><td>1</td><td>602</td><td>586</td><td>586</td><td>Action</td><td>2671</td><td>PG</td><td>2006</td><td>2005-05-27 19:03:08</td><td>448</td><td>MOCKINGBIRD HOLLYWOOD</td><td>null</td><td>2023-12-05T05:18:14.633+0000</td><td>dbfs:/FileStore/ds2002final/source_data/stream/fact_gen3.json</td></tr><tr><td>3</td><td>603</td><td>588</td><td>588</td><td>Children</td><td>2679</td><td>NC-17</td><td>2006</td><td>2005-05-28 11:48:55</td><td>583</td><td>MODEL FISH</td><td>null</td><td>2023-12-05T05:18:14.633+0000</td><td>dbfs:/FileStore/ds2002final/source_data/stream/fact_gen3.json</td></tr><tr><td>3</td><td>604</td><td>588</td><td>588</td><td>Children</td><td>2678</td><td>NC-17</td><td>2006</td><td>2005-05-27 01:18:57</td><td>327</td><td>MODEL FISH</td><td>null</td><td>2023-12-05T05:18:14.633+0000</td><td>dbfs:/FileStore/ds2002final/source_data/stream/fact_gen3.json</td></tr><tr><td>6</td><td>605</td><td>589</td><td>589</td><td>Documentary</td><td>2685</td><td>PG</td><td>2006</td><td>2005-05-28 18:24:43</td><td>638</td><td>MODERN DORADO</td><td>null</td><td>2023-12-05T05:18:14.633+0000</td><td>dbfs:/FileStore/ds2002final/source_data/stream/fact_gen3.json</td></tr><tr><td>6</td><td>606</td><td>589</td><td>589</td><td>Documentary</td><td>2684</td><td>PG</td><td>2006</td><td>2005-05-27 10:35:27</td><td>387</td><td>MODERN DORADO</td><td>null</td><td>2023-12-05T05:18:14.633+0000</td><td>dbfs:/FileStore/ds2002final/source_data/stream/fact_gen3.json</td></tr><tr><td>12</td><td>607</td><td>592</td><td>592</td><td>Music</td><td>2697</td><td>PG</td><td>2006</td><td>2005-05-29 16:59:44</td><td>796</td><td>MONSTER SPARTACUS</td><td>null</td><td>2023-12-05T05:18:14.633+0000</td><td>dbfs:/FileStore/ds2002final/source_data/stream/fact_gen3.json</td></tr><tr><td>11</td><td>608</td><td>593</td><td>593</td><td>Horror</td><td>2701</td><td>G</td><td>2006</td><td>2005-05-25 00:31:15</td><td>14</td><td>MONTEREY LABYRINTH</td><td>null</td><td>2023-12-05T05:18:14.633+0000</td><td>dbfs:/FileStore/ds2002final/source_data/stream/fact_gen3.json</td></tr><tr><td>9</td><td>609</td><td>595</td><td>595</td><td>Foreign</td><td>2711</td><td>PG</td><td>2006</td><td>2005-05-29 09:55:43</td><td>751</td><td>MOON BUNCH</td><td>null</td><td>2023-12-05T05:18:14.633+0000</td><td>dbfs:/FileStore/ds2002final/source_data/stream/fact_gen3.json</td></tr><tr><td>9</td><td>610</td><td>595</td><td>595</td><td>Foreign</td><td>2714</td><td>PG</td><td>2006</td><td>2005-05-26 03:07:43</td><td>168</td><td>MOON BUNCH</td><td>null</td><td>2023-12-05T05:18:14.633+0000</td><td>dbfs:/FileStore/ds2002final/source_data/stream/fact_gen3.json</td></tr><tr><td>15</td><td>611</td><td>598</td><td>598</td><td>Sports</td><td>2727</td><td>G</td><td>2006</td><td>2005-05-30 07:10:00</td><td>887</td><td>MOSQUITO ARMAGEDDON</td><td>null</td><td>2023-12-05T05:18:14.633+0000</td><td>dbfs:/FileStore/ds2002final/source_data/stream/fact_gen3.json</td></tr><tr><td>11</td><td>612</td><td>600</td><td>600</td><td>Horror</td><td>2735</td><td>PG</td><td>2006</td><td>2005-05-26 02:28:36</td><td>165</td><td>MOTIONS DETAILS</td><td>null</td><td>2023-12-05T05:18:14.633+0000</td><td>dbfs:/FileStore/ds2002final/source_data/stream/fact_gen3.json</td></tr><tr><td>14</td><td>613</td><td>602</td><td>602</td><td>Sci-Fi</td><td>2744</td><td>PG</td><td>2006</td><td>2005-05-30 08:50:43</td><td>895</td><td>MOURNING PURPLE</td><td>null</td><td>2023-12-05T05:18:14.633+0000</td><td>dbfs:/FileStore/ds2002final/source_data/stream/fact_gen3.json</td></tr><tr><td>14</td><td>614</td><td>602</td><td>602</td><td>Sci-Fi</td><td>2745</td><td>PG</td><td>2006</td><td>2005-05-26 10:14:38</td><td>222</td><td>MOURNING PURPLE</td><td>null</td><td>2023-12-05T05:18:14.633+0000</td><td>dbfs:/FileStore/ds2002final/source_data/stream/fact_gen3.json</td></tr><tr><td>8</td><td>615</td><td>603</td><td>603</td><td>Family</td><td>2748</td><td>PG</td><td>2006</td><td>2005-05-27 09:43:25</td><td>381</td><td>MOVIE SHAKESPEARE</td><td>null</td><td>2023-12-05T05:18:14.633+0000</td><td>dbfs:/FileStore/ds2002final/source_data/stream/fact_gen3.json</td></tr></tbody></table></div>"
      ]
     },
     "metadata": {
      "application/vnd.databricks.v1+output": {
       "addedWidgets": {},
       "aggData": [],
       "aggError": "",
       "aggOverflow": false,
       "aggSchema": [],
       "aggSeriesLimitReached": false,
       "aggType": "",
       "arguments": {},
       "columnCustomDisplayInfos": {},
       "data": [
        [
         7,
         601,
         585,
         585,
         "Drama",
         2665,
         "G",
         "2006",
         "2005-05-26 21:22:07",
         305,
         "MOB DUFFEL",
         null,
         "2023-12-05T05:18:14.633+0000",
         "dbfs:/FileStore/ds2002final/source_data/stream/fact_gen3.json"
        ],
        [
         1,
         602,
         586,
         586,
         "Action",
         2671,
         "PG",
         "2006",
         "2005-05-27 19:03:08",
         448,
         "MOCKINGBIRD HOLLYWOOD",
         null,
         "2023-12-05T05:18:14.633+0000",
         "dbfs:/FileStore/ds2002final/source_data/stream/fact_gen3.json"
        ],
        [
         3,
         603,
         588,
         588,
         "Children",
         2679,
         "NC-17",
         "2006",
         "2005-05-28 11:48:55",
         583,
         "MODEL FISH",
         null,
         "2023-12-05T05:18:14.633+0000",
         "dbfs:/FileStore/ds2002final/source_data/stream/fact_gen3.json"
        ],
        [
         3,
         604,
         588,
         588,
         "Children",
         2678,
         "NC-17",
         "2006",
         "2005-05-27 01:18:57",
         327,
         "MODEL FISH",
         null,
         "2023-12-05T05:18:14.633+0000",
         "dbfs:/FileStore/ds2002final/source_data/stream/fact_gen3.json"
        ],
        [
         6,
         605,
         589,
         589,
         "Documentary",
         2685,
         "PG",
         "2006",
         "2005-05-28 18:24:43",
         638,
         "MODERN DORADO",
         null,
         "2023-12-05T05:18:14.633+0000",
         "dbfs:/FileStore/ds2002final/source_data/stream/fact_gen3.json"
        ],
        [
         6,
         606,
         589,
         589,
         "Documentary",
         2684,
         "PG",
         "2006",
         "2005-05-27 10:35:27",
         387,
         "MODERN DORADO",
         null,
         "2023-12-05T05:18:14.633+0000",
         "dbfs:/FileStore/ds2002final/source_data/stream/fact_gen3.json"
        ],
        [
         12,
         607,
         592,
         592,
         "Music",
         2697,
         "PG",
         "2006",
         "2005-05-29 16:59:44",
         796,
         "MONSTER SPARTACUS",
         null,
         "2023-12-05T05:18:14.633+0000",
         "dbfs:/FileStore/ds2002final/source_data/stream/fact_gen3.json"
        ],
        [
         11,
         608,
         593,
         593,
         "Horror",
         2701,
         "G",
         "2006",
         "2005-05-25 00:31:15",
         14,
         "MONTEREY LABYRINTH",
         null,
         "2023-12-05T05:18:14.633+0000",
         "dbfs:/FileStore/ds2002final/source_data/stream/fact_gen3.json"
        ],
        [
         9,
         609,
         595,
         595,
         "Foreign",
         2711,
         "PG",
         "2006",
         "2005-05-29 09:55:43",
         751,
         "MOON BUNCH",
         null,
         "2023-12-05T05:18:14.633+0000",
         "dbfs:/FileStore/ds2002final/source_data/stream/fact_gen3.json"
        ],
        [
         9,
         610,
         595,
         595,
         "Foreign",
         2714,
         "PG",
         "2006",
         "2005-05-26 03:07:43",
         168,
         "MOON BUNCH",
         null,
         "2023-12-05T05:18:14.633+0000",
         "dbfs:/FileStore/ds2002final/source_data/stream/fact_gen3.json"
        ],
        [
         15,
         611,
         598,
         598,
         "Sports",
         2727,
         "G",
         "2006",
         "2005-05-30 07:10:00",
         887,
         "MOSQUITO ARMAGEDDON",
         null,
         "2023-12-05T05:18:14.633+0000",
         "dbfs:/FileStore/ds2002final/source_data/stream/fact_gen3.json"
        ],
        [
         11,
         612,
         600,
         600,
         "Horror",
         2735,
         "PG",
         "2006",
         "2005-05-26 02:28:36",
         165,
         "MOTIONS DETAILS",
         null,
         "2023-12-05T05:18:14.633+0000",
         "dbfs:/FileStore/ds2002final/source_data/stream/fact_gen3.json"
        ],
        [
         14,
         613,
         602,
         602,
         "Sci-Fi",
         2744,
         "PG",
         "2006",
         "2005-05-30 08:50:43",
         895,
         "MOURNING PURPLE",
         null,
         "2023-12-05T05:18:14.633+0000",
         "dbfs:/FileStore/ds2002final/source_data/stream/fact_gen3.json"
        ],
        [
         14,
         614,
         602,
         602,
         "Sci-Fi",
         2745,
         "PG",
         "2006",
         "2005-05-26 10:14:38",
         222,
         "MOURNING PURPLE",
         null,
         "2023-12-05T05:18:14.633+0000",
         "dbfs:/FileStore/ds2002final/source_data/stream/fact_gen3.json"
        ],
        [
         8,
         615,
         603,
         603,
         "Family",
         2748,
         "PG",
         "2006",
         "2005-05-27 09:43:25",
         381,
         "MOVIE SHAKESPEARE",
         null,
         "2023-12-05T05:18:14.633+0000",
         "dbfs:/FileStore/ds2002final/source_data/stream/fact_gen3.json"
        ]
       ],
       "datasetInfos": [],
       "dbfsResultPath": null,
       "isJsonSchema": true,
       "metadata": {
        "isDbfsCommandResult": false
       },
       "overflow": false,
       "plotOptions": {
        "customPlotOptions": {},
        "displayType": "table",
        "pivotAggregation": null,
        "pivotColumns": null,
        "xColumns": null,
        "yColumns": null
       },
       "removedWidgets": [],
       "schema": [
        {
         "metadata": "{}",
         "name": "category_key",
         "type": "\"long\""
        },
        {
         "metadata": "{}",
         "name": "fact_genre_key",
         "type": "\"long\""
        },
        {
         "metadata": "{}",
         "name": "film_category_key",
         "type": "\"long\""
        },
        {
         "metadata": "{}",
         "name": "film_key",
         "type": "\"long\""
        },
        {
         "metadata": "{}",
         "name": "genre",
         "type": "\"string\""
        },
        {
         "metadata": "{}",
         "name": "inventory_key",
         "type": "\"long\""
        },
        {
         "metadata": "{}",
         "name": "rating",
         "type": "\"string\""
        },
        {
         "metadata": "{}",
         "name": "release_year",
         "type": "\"string\""
        },
        {
         "metadata": "{}",
         "name": "rental_date",
         "type": "\"string\""
        },
        {
         "metadata": "{}",
         "name": "rental_key",
         "type": "\"long\""
        },
        {
         "metadata": "{}",
         "name": "title",
         "type": "\"string\""
        },
        {
         "metadata": "{}",
         "name": "_rescued_data",
         "type": "\"string\""
        },
        {
         "metadata": "{}",
         "name": "receipt_time",
         "type": "\"timestamp\""
        },
        {
         "metadata": "{}",
         "name": "source_file",
         "type": "\"string\""
        }
       ],
       "type": "table"
      }
     },
     "output_type": "display_data"
    }
   ],
   "source": [
    "%sql\n",
    "SELECT * FROM genres_silver_tempview LIMIT 15"
   ]
  },
  {
   "cell_type": "code",
   "execution_count": 0,
   "metadata": {
    "application/vnd.databricks.v1+cell": {
     "cellMetadata": {
      "byteLimit": 2048000,
      "implicitDf": true,
      "rowLimit": 10000
     },
     "inputWidgets": {},
     "nuid": "fccc924b-b4ec-4b73-95bc-a26418e6b3ff",
     "showTitle": false,
     "title": ""
    }
   },
   "outputs": [
    {
     "output_type": "display_data",
     "data": {
      "text/html": [
       "<style scoped>\n",
       "  .table-result-container {\n",
       "    max-height: 300px;\n",
       "    overflow: auto;\n",
       "  }\n",
       "  table, th, td {\n",
       "    border: 1px solid black;\n",
       "    border-collapse: collapse;\n",
       "  }\n",
       "  th, td {\n",
       "    padding: 5px;\n",
       "  }\n",
       "  th {\n",
       "    text-align: left;\n",
       "  }\n",
       "</style><div class='table-result-container'><table class='table-result'><thead style='background-color: white'><tr><th>col_name</th><th>data_type</th><th>comment</th></tr></thead><tbody><tr><td>category_key</td><td>bigint</td><td>null</td></tr><tr><td>fact_genre_key</td><td>bigint</td><td>null</td></tr><tr><td>film_category_key</td><td>bigint</td><td>null</td></tr><tr><td>film_key</td><td>bigint</td><td>null</td></tr><tr><td>genre</td><td>string</td><td>null</td></tr><tr><td>inventory_key</td><td>bigint</td><td>null</td></tr><tr><td>rating</td><td>string</td><td>null</td></tr><tr><td>release_year</td><td>string</td><td>null</td></tr><tr><td>rental_date</td><td>string</td><td>null</td></tr><tr><td>rental_key</td><td>bigint</td><td>null</td></tr><tr><td>title</td><td>string</td><td>null</td></tr><tr><td>_rescued_data</td><td>string</td><td>null</td></tr><tr><td>receipt_time</td><td>timestamp</td><td>null</td></tr><tr><td>source_file</td><td>string</td><td>null</td></tr></tbody></table></div>"
      ]
     },
     "metadata": {
      "application/vnd.databricks.v1+output": {
       "addedWidgets": {},
       "aggData": [],
       "aggError": "",
       "aggOverflow": false,
       "aggSchema": [],
       "aggSeriesLimitReached": false,
       "aggType": "",
       "arguments": {},
       "columnCustomDisplayInfos": {},
       "data": [
        [
         "category_key",
         "bigint",
         null
        ],
        [
         "fact_genre_key",
         "bigint",
         null
        ],
        [
         "film_category_key",
         "bigint",
         null
        ],
        [
         "film_key",
         "bigint",
         null
        ],
        [
         "genre",
         "string",
         null
        ],
        [
         "inventory_key",
         "bigint",
         null
        ],
        [
         "rating",
         "string",
         null
        ],
        [
         "release_year",
         "string",
         null
        ],
        [
         "rental_date",
         "string",
         null
        ],
        [
         "rental_key",
         "bigint",
         null
        ],
        [
         "title",
         "string",
         null
        ],
        [
         "_rescued_data",
         "string",
         null
        ],
        [
         "receipt_time",
         "timestamp",
         null
        ],
        [
         "source_file",
         "string",
         null
        ]
       ],
       "datasetInfos": [],
       "dbfsResultPath": null,
       "isJsonSchema": true,
       "metadata": {},
       "overflow": false,
       "plotOptions": {
        "customPlotOptions": {},
        "displayType": "table",
        "pivotAggregation": null,
        "pivotColumns": null,
        "xColumns": null,
        "yColumns": null
       },
       "removedWidgets": [],
       "schema": [
        {
         "metadata": "{\"comment\":\"name of the column\"}",
         "name": "col_name",
         "type": "\"string\""
        },
        {
         "metadata": "{\"comment\":\"data type of the column\"}",
         "name": "data_type",
         "type": "\"string\""
        },
        {
         "metadata": "{\"comment\":\"comment of the column\"}",
         "name": "comment",
         "type": "\"string\""
        }
       ],
       "type": "table"
      }
     },
     "output_type": "display_data"
    }
   ],
   "source": [
    "%sql\n",
    "DESCRIBE EXTENDED genres_silver_tempview"
   ]
  },
  {
   "cell_type": "code",
   "execution_count": 0,
   "metadata": {
    "application/vnd.databricks.v1+cell": {
     "cellMetadata": {
      "byteLimit": 2048000,
      "implicitDf": true,
      "rowLimit": 10000
     },
     "inputWidgets": {},
     "nuid": "92bc2af4-9db6-4524-aaef-8987a69211e6",
     "showTitle": false,
     "title": ""
    }
   },
   "outputs": [
    {
     "output_type": "display_data",
     "data": {
      "text/html": [
       "<style scoped>\n",
       "  .table-result-container {\n",
       "    max-height: 300px;\n",
       "    overflow: auto;\n",
       "  }\n",
       "  table, th, td {\n",
       "    border: 1px solid black;\n",
       "    border-collapse: collapse;\n",
       "  }\n",
       "  th, td {\n",
       "    padding: 5px;\n",
       "  }\n",
       "  th {\n",
       "    text-align: left;\n",
       "  }\n",
       "</style><div class='table-result-container'><table class='table-result'><thead style='background-color: white'><tr><th>category_key</th><th>fact_genre_key</th><th>film_category_key</th><th>film_key</th><th>genre</th><th>inventory_key</th><th>rating</th><th>release_year</th><th>rental_date</th><th>rental_key</th><th>title</th><th>_rescued_data</th><th>receipt_time</th><th>source_file</th></tr></thead><tbody><tr><td>7</td><td>601</td><td>585</td><td>585</td><td>Drama</td><td>2665</td><td>G</td><td>2006</td><td>2005-05-26 21:22:07</td><td>305</td><td>MOB DUFFEL</td><td>null</td><td>2023-12-05T05:18:14.633+0000</td><td>dbfs:/FileStore/ds2002final/source_data/stream/fact_gen3.json</td></tr><tr><td>1</td><td>602</td><td>586</td><td>586</td><td>Action</td><td>2671</td><td>PG</td><td>2006</td><td>2005-05-27 19:03:08</td><td>448</td><td>MOCKINGBIRD HOLLYWOOD</td><td>null</td><td>2023-12-05T05:18:14.633+0000</td><td>dbfs:/FileStore/ds2002final/source_data/stream/fact_gen3.json</td></tr><tr><td>3</td><td>603</td><td>588</td><td>588</td><td>Children</td><td>2679</td><td>NC-17</td><td>2006</td><td>2005-05-28 11:48:55</td><td>583</td><td>MODEL FISH</td><td>null</td><td>2023-12-05T05:18:14.633+0000</td><td>dbfs:/FileStore/ds2002final/source_data/stream/fact_gen3.json</td></tr><tr><td>3</td><td>604</td><td>588</td><td>588</td><td>Children</td><td>2678</td><td>NC-17</td><td>2006</td><td>2005-05-27 01:18:57</td><td>327</td><td>MODEL FISH</td><td>null</td><td>2023-12-05T05:18:14.633+0000</td><td>dbfs:/FileStore/ds2002final/source_data/stream/fact_gen3.json</td></tr><tr><td>6</td><td>605</td><td>589</td><td>589</td><td>Documentary</td><td>2685</td><td>PG</td><td>2006</td><td>2005-05-28 18:24:43</td><td>638</td><td>MODERN DORADO</td><td>null</td><td>2023-12-05T05:18:14.633+0000</td><td>dbfs:/FileStore/ds2002final/source_data/stream/fact_gen3.json</td></tr><tr><td>6</td><td>606</td><td>589</td><td>589</td><td>Documentary</td><td>2684</td><td>PG</td><td>2006</td><td>2005-05-27 10:35:27</td><td>387</td><td>MODERN DORADO</td><td>null</td><td>2023-12-05T05:18:14.633+0000</td><td>dbfs:/FileStore/ds2002final/source_data/stream/fact_gen3.json</td></tr><tr><td>12</td><td>607</td><td>592</td><td>592</td><td>Music</td><td>2697</td><td>PG</td><td>2006</td><td>2005-05-29 16:59:44</td><td>796</td><td>MONSTER SPARTACUS</td><td>null</td><td>2023-12-05T05:18:14.633+0000</td><td>dbfs:/FileStore/ds2002final/source_data/stream/fact_gen3.json</td></tr><tr><td>11</td><td>608</td><td>593</td><td>593</td><td>Horror</td><td>2701</td><td>G</td><td>2006</td><td>2005-05-25 00:31:15</td><td>14</td><td>MONTEREY LABYRINTH</td><td>null</td><td>2023-12-05T05:18:14.633+0000</td><td>dbfs:/FileStore/ds2002final/source_data/stream/fact_gen3.json</td></tr><tr><td>9</td><td>609</td><td>595</td><td>595</td><td>Foreign</td><td>2711</td><td>PG</td><td>2006</td><td>2005-05-29 09:55:43</td><td>751</td><td>MOON BUNCH</td><td>null</td><td>2023-12-05T05:18:14.633+0000</td><td>dbfs:/FileStore/ds2002final/source_data/stream/fact_gen3.json</td></tr><tr><td>9</td><td>610</td><td>595</td><td>595</td><td>Foreign</td><td>2714</td><td>PG</td><td>2006</td><td>2005-05-26 03:07:43</td><td>168</td><td>MOON BUNCH</td><td>null</td><td>2023-12-05T05:18:14.633+0000</td><td>dbfs:/FileStore/ds2002final/source_data/stream/fact_gen3.json</td></tr><tr><td>15</td><td>611</td><td>598</td><td>598</td><td>Sports</td><td>2727</td><td>G</td><td>2006</td><td>2005-05-30 07:10:00</td><td>887</td><td>MOSQUITO ARMAGEDDON</td><td>null</td><td>2023-12-05T05:18:14.633+0000</td><td>dbfs:/FileStore/ds2002final/source_data/stream/fact_gen3.json</td></tr><tr><td>11</td><td>612</td><td>600</td><td>600</td><td>Horror</td><td>2735</td><td>PG</td><td>2006</td><td>2005-05-26 02:28:36</td><td>165</td><td>MOTIONS DETAILS</td><td>null</td><td>2023-12-05T05:18:14.633+0000</td><td>dbfs:/FileStore/ds2002final/source_data/stream/fact_gen3.json</td></tr><tr><td>14</td><td>613</td><td>602</td><td>602</td><td>Sci-Fi</td><td>2744</td><td>PG</td><td>2006</td><td>2005-05-30 08:50:43</td><td>895</td><td>MOURNING PURPLE</td><td>null</td><td>2023-12-05T05:18:14.633+0000</td><td>dbfs:/FileStore/ds2002final/source_data/stream/fact_gen3.json</td></tr><tr><td>14</td><td>614</td><td>602</td><td>602</td><td>Sci-Fi</td><td>2745</td><td>PG</td><td>2006</td><td>2005-05-26 10:14:38</td><td>222</td><td>MOURNING PURPLE</td><td>null</td><td>2023-12-05T05:18:14.633+0000</td><td>dbfs:/FileStore/ds2002final/source_data/stream/fact_gen3.json</td></tr><tr><td>8</td><td>615</td><td>603</td><td>603</td><td>Family</td><td>2748</td><td>PG</td><td>2006</td><td>2005-05-27 09:43:25</td><td>381</td><td>MOVIE SHAKESPEARE</td><td>null</td><td>2023-12-05T05:18:14.633+0000</td><td>dbfs:/FileStore/ds2002final/source_data/stream/fact_gen3.json</td></tr></tbody></table></div>"
      ]
     },
     "metadata": {
      "application/vnd.databricks.v1+output": {
       "addedWidgets": {},
       "aggData": [],
       "aggError": "",
       "aggOverflow": false,
       "aggSchema": [],
       "aggSeriesLimitReached": false,
       "aggType": "",
       "arguments": {},
       "columnCustomDisplayInfos": {},
       "data": [
        [
         7,
         601,
         585,
         585,
         "Drama",
         2665,
         "G",
         "2006",
         "2005-05-26 21:22:07",
         305,
         "MOB DUFFEL",
         null,
         "2023-12-05T05:18:14.633+0000",
         "dbfs:/FileStore/ds2002final/source_data/stream/fact_gen3.json"
        ],
        [
         1,
         602,
         586,
         586,
         "Action",
         2671,
         "PG",
         "2006",
         "2005-05-27 19:03:08",
         448,
         "MOCKINGBIRD HOLLYWOOD",
         null,
         "2023-12-05T05:18:14.633+0000",
         "dbfs:/FileStore/ds2002final/source_data/stream/fact_gen3.json"
        ],
        [
         3,
         603,
         588,
         588,
         "Children",
         2679,
         "NC-17",
         "2006",
         "2005-05-28 11:48:55",
         583,
         "MODEL FISH",
         null,
         "2023-12-05T05:18:14.633+0000",
         "dbfs:/FileStore/ds2002final/source_data/stream/fact_gen3.json"
        ],
        [
         3,
         604,
         588,
         588,
         "Children",
         2678,
         "NC-17",
         "2006",
         "2005-05-27 01:18:57",
         327,
         "MODEL FISH",
         null,
         "2023-12-05T05:18:14.633+0000",
         "dbfs:/FileStore/ds2002final/source_data/stream/fact_gen3.json"
        ],
        [
         6,
         605,
         589,
         589,
         "Documentary",
         2685,
         "PG",
         "2006",
         "2005-05-28 18:24:43",
         638,
         "MODERN DORADO",
         null,
         "2023-12-05T05:18:14.633+0000",
         "dbfs:/FileStore/ds2002final/source_data/stream/fact_gen3.json"
        ],
        [
         6,
         606,
         589,
         589,
         "Documentary",
         2684,
         "PG",
         "2006",
         "2005-05-27 10:35:27",
         387,
         "MODERN DORADO",
         null,
         "2023-12-05T05:18:14.633+0000",
         "dbfs:/FileStore/ds2002final/source_data/stream/fact_gen3.json"
        ],
        [
         12,
         607,
         592,
         592,
         "Music",
         2697,
         "PG",
         "2006",
         "2005-05-29 16:59:44",
         796,
         "MONSTER SPARTACUS",
         null,
         "2023-12-05T05:18:14.633+0000",
         "dbfs:/FileStore/ds2002final/source_data/stream/fact_gen3.json"
        ],
        [
         11,
         608,
         593,
         593,
         "Horror",
         2701,
         "G",
         "2006",
         "2005-05-25 00:31:15",
         14,
         "MONTEREY LABYRINTH",
         null,
         "2023-12-05T05:18:14.633+0000",
         "dbfs:/FileStore/ds2002final/source_data/stream/fact_gen3.json"
        ],
        [
         9,
         609,
         595,
         595,
         "Foreign",
         2711,
         "PG",
         "2006",
         "2005-05-29 09:55:43",
         751,
         "MOON BUNCH",
         null,
         "2023-12-05T05:18:14.633+0000",
         "dbfs:/FileStore/ds2002final/source_data/stream/fact_gen3.json"
        ],
        [
         9,
         610,
         595,
         595,
         "Foreign",
         2714,
         "PG",
         "2006",
         "2005-05-26 03:07:43",
         168,
         "MOON BUNCH",
         null,
         "2023-12-05T05:18:14.633+0000",
         "dbfs:/FileStore/ds2002final/source_data/stream/fact_gen3.json"
        ],
        [
         15,
         611,
         598,
         598,
         "Sports",
         2727,
         "G",
         "2006",
         "2005-05-30 07:10:00",
         887,
         "MOSQUITO ARMAGEDDON",
         null,
         "2023-12-05T05:18:14.633+0000",
         "dbfs:/FileStore/ds2002final/source_data/stream/fact_gen3.json"
        ],
        [
         11,
         612,
         600,
         600,
         "Horror",
         2735,
         "PG",
         "2006",
         "2005-05-26 02:28:36",
         165,
         "MOTIONS DETAILS",
         null,
         "2023-12-05T05:18:14.633+0000",
         "dbfs:/FileStore/ds2002final/source_data/stream/fact_gen3.json"
        ],
        [
         14,
         613,
         602,
         602,
         "Sci-Fi",
         2744,
         "PG",
         "2006",
         "2005-05-30 08:50:43",
         895,
         "MOURNING PURPLE",
         null,
         "2023-12-05T05:18:14.633+0000",
         "dbfs:/FileStore/ds2002final/source_data/stream/fact_gen3.json"
        ],
        [
         14,
         614,
         602,
         602,
         "Sci-Fi",
         2745,
         "PG",
         "2006",
         "2005-05-26 10:14:38",
         222,
         "MOURNING PURPLE",
         null,
         "2023-12-05T05:18:14.633+0000",
         "dbfs:/FileStore/ds2002final/source_data/stream/fact_gen3.json"
        ],
        [
         8,
         615,
         603,
         603,
         "Family",
         2748,
         "PG",
         "2006",
         "2005-05-27 09:43:25",
         381,
         "MOVIE SHAKESPEARE",
         null,
         "2023-12-05T05:18:14.633+0000",
         "dbfs:/FileStore/ds2002final/source_data/stream/fact_gen3.json"
        ]
       ],
       "datasetInfos": [],
       "dbfsResultPath": null,
       "isJsonSchema": true,
       "metadata": {
        "isDbfsCommandResult": false
       },
       "overflow": false,
       "plotOptions": {
        "customPlotOptions": {},
        "displayType": "table",
        "pivotAggregation": null,
        "pivotColumns": null,
        "xColumns": null,
        "yColumns": null
       },
       "removedWidgets": [],
       "schema": [
        {
         "metadata": "{}",
         "name": "category_key",
         "type": "\"long\""
        },
        {
         "metadata": "{}",
         "name": "fact_genre_key",
         "type": "\"long\""
        },
        {
         "metadata": "{}",
         "name": "film_category_key",
         "type": "\"long\""
        },
        {
         "metadata": "{}",
         "name": "film_key",
         "type": "\"long\""
        },
        {
         "metadata": "{}",
         "name": "genre",
         "type": "\"string\""
        },
        {
         "metadata": "{}",
         "name": "inventory_key",
         "type": "\"long\""
        },
        {
         "metadata": "{}",
         "name": "rating",
         "type": "\"string\""
        },
        {
         "metadata": "{}",
         "name": "release_year",
         "type": "\"string\""
        },
        {
         "metadata": "{}",
         "name": "rental_date",
         "type": "\"string\""
        },
        {
         "metadata": "{}",
         "name": "rental_key",
         "type": "\"long\""
        },
        {
         "metadata": "{}",
         "name": "title",
         "type": "\"string\""
        },
        {
         "metadata": "{}",
         "name": "_rescued_data",
         "type": "\"string\""
        },
        {
         "metadata": "{}",
         "name": "receipt_time",
         "type": "\"timestamp\""
        },
        {
         "metadata": "{}",
         "name": "source_file",
         "type": "\"string\""
        }
       ],
       "type": "table"
      }
     },
     "output_type": "display_data"
    }
   ],
   "source": [
    "%sql\n",
    "SELECT * FROM genres_silver_tempview LIMIT 15"
   ]
  },
  {
   "cell_type": "code",
   "execution_count": 0,
   "metadata": {
    "application/vnd.databricks.v1+cell": {
     "cellMetadata": {
      "byteLimit": 2048000,
      "implicitDf": true,
      "rowLimit": 10000
     },
     "inputWidgets": {},
     "nuid": "714998ee-7992-41fb-a2b9-eac155c7e0b6",
     "showTitle": false,
     "title": ""
    }
   },
   "outputs": [
    {
     "output_type": "display_data",
     "data": {
      "text/html": [
       "<style scoped>\n",
       "  .table-result-container {\n",
       "    max-height: 300px;\n",
       "    overflow: auto;\n",
       "  }\n",
       "  table, th, td {\n",
       "    border: 1px solid black;\n",
       "    border-collapse: collapse;\n",
       "  }\n",
       "  th, td {\n",
       "    padding: 5px;\n",
       "  }\n",
       "  th {\n",
       "    text-align: left;\n",
       "  }\n",
       "</style><div class='table-result-container'><table class='table-result'><thead style='background-color: white'><tr></tr></thead><tbody></tbody></table></div>"
      ]
     },
     "metadata": {
      "application/vnd.databricks.v1+output": {
       "addedWidgets": {},
       "aggData": [],
       "aggError": "",
       "aggOverflow": false,
       "aggSchema": [],
       "aggSeriesLimitReached": false,
       "aggType": "",
       "arguments": {},
       "columnCustomDisplayInfos": {},
       "data": [],
       "datasetInfos": [],
       "dbfsResultPath": null,
       "isJsonSchema": true,
       "metadata": {},
       "overflow": false,
       "plotOptions": {
        "customPlotOptions": {},
        "displayType": "table",
        "pivotAggregation": null,
        "pivotColumns": null,
        "xColumns": null,
        "yColumns": null
       },
       "removedWidgets": [],
       "schema": [],
       "type": "table"
      }
     },
     "output_type": "display_data"
    }
   ],
   "source": [
    "%sql\n",
    "CREATE OR REPLACE TEMPORARY VIEW fact_genres_silver_tempview AS (\n",
    "  SELECT r.rental_id,\n",
    "      r.rental_date, \n",
    "      f.film_id,\n",
    "      f.title,\n",
    "      f.rating,\n",
    "      f.release_year,\n",
    "      fc.film_category_key,\n",
    "      c.category_key,\n",
    "      c.name as genre,\n",
    "      gs.inventory_key\n",
    "  FROM genres_silver_tempview as gs\n",
    "  INNER JOIN sakila_dlh.dim_inventory as i \n",
    "  ON gs.inventory_key = i.inventory_key\n",
    "  INNER JOIN sakila_dlh.dim_rental as r\n",
    "  ON r.inventory_id = i.inventory_key\n",
    "  INNER JOIN sakila_dlh.dim_film as f\n",
    "  ON i.film_key = f.film_id\n",
    "  INNER JOIN sakila_dlh.dim_film_category as fc\n",
    "  ON f.film_id = fc.film_key\n",
    "  INNER JOIN sakila_dlh.dim_category as c\n",
    "  ON fc.category_key = c.category_key\n",
    ")"
   ]
  },
  {
   "cell_type": "markdown",
   "metadata": {
    "application/vnd.databricks.v1+cell": {
     "cellMetadata": {
      "byteLimit": 2048000,
      "rowLimit": 10000
     },
     "inputWidgets": {},
     "nuid": "824d2bdd-4331-4a25-8b5f-d476597c66d1",
     "showTitle": false,
     "title": ""
    }
   },
   "source": [
    "##### Even though I uploaded the dim_date dimension, I did not include it in my silver table because I will be using the rental date in order to calculate my solution. Thus, it is not seem appropriate to add in the dim_date because it doesn't make sense in regards to my project/overall question. "
   ]
  },
  {
   "cell_type": "code",
   "execution_count": 0,
   "metadata": {
    "application/vnd.databricks.v1+cell": {
     "cellMetadata": {
      "byteLimit": 2048000,
      "rowLimit": 10000
     },
     "inputWidgets": {},
     "nuid": "a78801d9-4b8b-4f97-a54e-a1a85a51a17b",
     "showTitle": false,
     "title": ""
    }
   },
   "outputs": [
    {
     "output_type": "stream",
     "name": "stdout",
     "output_type": "stream",
     "text": [
      "Out[57]: <pyspark.sql.streaming.query.StreamingQuery at 0x7f3acdc42df0>"
     ]
    }
   ],
   "source": [
    "(spark.table(\"fact_genres_silver_tempview\")\n",
    "      .writeStream\n",
    "      .format(\"delta\")\n",
    "      .option(\"checkpointLocation\", f\"{genres_output_silver}_checkpoint\")\n",
    "      .outputMode(\"append\")\n",
    "      .table(\"fact_genres_silver\"))"
   ]
  },
  {
   "cell_type": "code",
   "execution_count": 0,
   "metadata": {
    "application/vnd.databricks.v1+cell": {
     "cellMetadata": {
      "byteLimit": 2048000,
      "implicitDf": true,
      "rowLimit": 10000
     },
     "inputWidgets": {},
     "nuid": "3f8140c9-b89f-4340-90e2-50f0b9075a94",
     "showTitle": false,
     "title": ""
    }
   },
   "outputs": [
    {
     "output_type": "display_data",
     "data": {
      "text/html": [
       "<style scoped>\n",
       "  .table-result-container {\n",
       "    max-height: 300px;\n",
       "    overflow: auto;\n",
       "  }\n",
       "  table, th, td {\n",
       "    border: 1px solid black;\n",
       "    border-collapse: collapse;\n",
       "  }\n",
       "  th, td {\n",
       "    padding: 5px;\n",
       "  }\n",
       "  th {\n",
       "    text-align: left;\n",
       "  }\n",
       "</style><div class='table-result-container'><table class='table-result'><thead style='background-color: white'><tr><th>rental_id</th><th>rental_date</th><th>film_id</th><th>title</th><th>rating</th><th>release_year</th><th>film_category_key</th><th>category_key</th><th>genre</th><th>inventory_key</th></tr></thead><tbody><tr><td>972</td><td>2005-05-30T20:21:07.000+0000</td><td>1</td><td>ACADEMY DINOSAUR</td><td>PG</td><td>2006</td><td>1</td><td>6</td><td>Documentary</td><td>2</td></tr><tr><td>361</td><td>2005-05-27T07:03:28.000+0000</td><td>1</td><td>ACADEMY DINOSAUR</td><td>PG</td><td>2006</td><td>1</td><td>6</td><td>Documentary</td><td>6</td></tr><tr><td>995</td><td>2005-05-31T00:06:02.000+0000</td><td>4</td><td>AFFAIR PREJUDICE</td><td>G</td><td>2006</td><td>4</td><td>11</td><td>Horror</td><td>17</td></tr><tr><td>465</td><td>2005-05-27T20:44:36.000+0000</td><td>4</td><td>AFFAIR PREJUDICE</td><td>G</td><td>2006</td><td>4</td><td>11</td><td>Horror</td><td>20</td></tr><tr><td>552</td><td>2005-05-28T07:53:38.000+0000</td><td>5</td><td>AFRICAN EGG</td><td>G</td><td>2006</td><td>5</td><td>8</td><td>Family</td><td>23</td></tr><tr><td>317</td><td>2005-05-26T23:23:56.000+0000</td><td>6</td><td>AGENT TRUMAN</td><td>PG</td><td>2006</td><td>6</td><td>9</td><td>Foreign</td><td>26</td></tr><tr><td>259</td><td>2005-05-26T15:32:46.000+0000</td><td>6</td><td>AGENT TRUMAN</td><td>PG</td><td>2006</td><td>6</td><td>9</td><td>Foreign</td><td>30</td></tr><tr><td>120</td><td>2005-05-25T19:37:47.000+0000</td><td>8</td><td>AIRPORT POLLOCK</td><td>R</td><td>2006</td><td>8</td><td>11</td><td>Horror</td><td>37</td></tr><tr><td>785</td><td>2005-05-29T15:08:41.000+0000</td><td>8</td><td>AIRPORT POLLOCK</td><td>R</td><td>2006</td><td>8</td><td>11</td><td>Horror</td><td>39</td></tr><tr><td>563</td><td>2005-05-28T09:10:49.000+0000</td><td>11</td><td>ALAMO VIDEOTAPE</td><td>G</td><td>2006</td><td>11</td><td>9</td><td>Foreign</td><td>53</td></tr><tr><td>633</td><td>2005-05-28T17:37:59.000+0000</td><td>11</td><td>ALAMO VIDEOTAPE</td><td>G</td><td>2006</td><td>11</td><td>9</td><td>Foreign</td><td>58</td></tr><tr><td>827</td><td>2005-05-29T21:58:43.000+0000</td><td>12</td><td>ALASKA PHANTOM</td><td>PG</td><td>2006</td><td>12</td><td>12</td><td>Music</td><td>62</td></tr><tr><td>983</td><td>2005-05-30T22:15:51.000+0000</td><td>12</td><td>ALASKA PHANTOM</td><td>PG</td><td>2006</td><td>12</td><td>12</td><td>Music</td><td>63</td></tr><tr><td>505</td><td>2005-05-28T02:06:37.000+0000</td><td>15</td><td>ALIEN CENTER</td><td>NC-17</td><td>2006</td><td>15</td><td>9</td><td>Foreign</td><td>71</td></tr><tr><td>481</td><td>2005-05-27T22:49:27.000+0000</td><td>15</td><td>ALIEN CENTER</td><td>NC-17</td><td>2006</td><td>15</td><td>9</td><td>Foreign</td><td>72</td></tr></tbody></table></div>"
      ]
     },
     "metadata": {
      "application/vnd.databricks.v1+output": {
       "addedWidgets": {},
       "aggData": [],
       "aggError": "",
       "aggOverflow": false,
       "aggSchema": [],
       "aggSeriesLimitReached": false,
       "aggType": "",
       "arguments": {},
       "columnCustomDisplayInfos": {},
       "data": [
        [
         972,
         "2005-05-30T20:21:07.000+0000",
         1,
         "ACADEMY DINOSAUR",
         "PG",
         "2006",
         1,
         6,
         "Documentary",
         2
        ],
        [
         361,
         "2005-05-27T07:03:28.000+0000",
         1,
         "ACADEMY DINOSAUR",
         "PG",
         "2006",
         1,
         6,
         "Documentary",
         6
        ],
        [
         995,
         "2005-05-31T00:06:02.000+0000",
         4,
         "AFFAIR PREJUDICE",
         "G",
         "2006",
         4,
         11,
         "Horror",
         17
        ],
        [
         465,
         "2005-05-27T20:44:36.000+0000",
         4,
         "AFFAIR PREJUDICE",
         "G",
         "2006",
         4,
         11,
         "Horror",
         20
        ],
        [
         552,
         "2005-05-28T07:53:38.000+0000",
         5,
         "AFRICAN EGG",
         "G",
         "2006",
         5,
         8,
         "Family",
         23
        ],
        [
         317,
         "2005-05-26T23:23:56.000+0000",
         6,
         "AGENT TRUMAN",
         "PG",
         "2006",
         6,
         9,
         "Foreign",
         26
        ],
        [
         259,
         "2005-05-26T15:32:46.000+0000",
         6,
         "AGENT TRUMAN",
         "PG",
         "2006",
         6,
         9,
         "Foreign",
         30
        ],
        [
         120,
         "2005-05-25T19:37:47.000+0000",
         8,
         "AIRPORT POLLOCK",
         "R",
         "2006",
         8,
         11,
         "Horror",
         37
        ],
        [
         785,
         "2005-05-29T15:08:41.000+0000",
         8,
         "AIRPORT POLLOCK",
         "R",
         "2006",
         8,
         11,
         "Horror",
         39
        ],
        [
         563,
         "2005-05-28T09:10:49.000+0000",
         11,
         "ALAMO VIDEOTAPE",
         "G",
         "2006",
         11,
         9,
         "Foreign",
         53
        ],
        [
         633,
         "2005-05-28T17:37:59.000+0000",
         11,
         "ALAMO VIDEOTAPE",
         "G",
         "2006",
         11,
         9,
         "Foreign",
         58
        ],
        [
         827,
         "2005-05-29T21:58:43.000+0000",
         12,
         "ALASKA PHANTOM",
         "PG",
         "2006",
         12,
         12,
         "Music",
         62
        ],
        [
         983,
         "2005-05-30T22:15:51.000+0000",
         12,
         "ALASKA PHANTOM",
         "PG",
         "2006",
         12,
         12,
         "Music",
         63
        ],
        [
         505,
         "2005-05-28T02:06:37.000+0000",
         15,
         "ALIEN CENTER",
         "NC-17",
         "2006",
         15,
         9,
         "Foreign",
         71
        ],
        [
         481,
         "2005-05-27T22:49:27.000+0000",
         15,
         "ALIEN CENTER",
         "NC-17",
         "2006",
         15,
         9,
         "Foreign",
         72
        ]
       ],
       "datasetInfos": [],
       "dbfsResultPath": null,
       "isJsonSchema": true,
       "metadata": {},
       "overflow": false,
       "plotOptions": {
        "customPlotOptions": {},
        "displayType": "table",
        "pivotAggregation": null,
        "pivotColumns": null,
        "xColumns": null,
        "yColumns": null
       },
       "removedWidgets": [],
       "schema": [
        {
         "metadata": "{}",
         "name": "rental_id",
         "type": "\"integer\""
        },
        {
         "metadata": "{}",
         "name": "rental_date",
         "type": "\"timestamp\""
        },
        {
         "metadata": "{}",
         "name": "film_id",
         "type": "\"integer\""
        },
        {
         "metadata": "{}",
         "name": "title",
         "type": "\"string\""
        },
        {
         "metadata": "{}",
         "name": "rating",
         "type": "\"string\""
        },
        {
         "metadata": "{}",
         "name": "release_year",
         "type": "\"string\""
        },
        {
         "metadata": "{\"scale\":0}",
         "name": "film_category_key",
         "type": "\"long\""
        },
        {
         "metadata": "{\"scale\":0}",
         "name": "category_key",
         "type": "\"long\""
        },
        {
         "metadata": "{\"scale\":0}",
         "name": "genre",
         "type": "\"string\""
        },
        {
         "metadata": "{}",
         "name": "inventory_key",
         "type": "\"long\""
        }
       ],
       "type": "table"
      }
     },
     "output_type": "display_data"
    }
   ],
   "source": [
    "%sql\n",
    "SELECT * FROM fact_genres_silver LIMIT 15"
   ]
  },
  {
   "cell_type": "code",
   "execution_count": 0,
   "metadata": {
    "application/vnd.databricks.v1+cell": {
     "cellMetadata": {
      "byteLimit": 2048000,
      "implicitDf": true,
      "rowLimit": 10000
     },
     "inputWidgets": {},
     "nuid": "8627ba60-a3ab-43fc-b8a9-8aeb1d560aee",
     "showTitle": false,
     "title": ""
    }
   },
   "outputs": [
    {
     "output_type": "display_data",
     "data": {
      "text/html": [
       "<style scoped>\n",
       "  .table-result-container {\n",
       "    max-height: 300px;\n",
       "    overflow: auto;\n",
       "  }\n",
       "  table, th, td {\n",
       "    border: 1px solid black;\n",
       "    border-collapse: collapse;\n",
       "  }\n",
       "  th, td {\n",
       "    padding: 5px;\n",
       "  }\n",
       "  th {\n",
       "    text-align: left;\n",
       "  }\n",
       "</style><div class='table-result-container'><table class='table-result'><thead style='background-color: white'><tr><th>col_name</th><th>data_type</th><th>comment</th></tr></thead><tbody><tr><td>rental_id</td><td>int</td><td>null</td></tr><tr><td>rental_date</td><td>timestamp</td><td>null</td></tr><tr><td>film_id</td><td>int</td><td>null</td></tr><tr><td>title</td><td>string</td><td>null</td></tr><tr><td>rating</td><td>string</td><td>null</td></tr><tr><td>release_year</td><td>string</td><td>null</td></tr><tr><td>film_category_key</td><td>bigint</td><td>null</td></tr><tr><td>category_key</td><td>bigint</td><td>null</td></tr><tr><td>genre</td><td>string</td><td>null</td></tr><tr><td>inventory_key</td><td>bigint</td><td>null</td></tr><tr><td></td><td></td><td></td></tr><tr><td># Detailed Table Information</td><td></td><td></td></tr><tr><td>Catalog</td><td>spark_catalog</td><td></td></tr><tr><td>Database</td><td>sakila_dlh</td><td></td></tr><tr><td>Table</td><td>fact_genres_silver</td><td></td></tr><tr><td>Created Time</td><td>Tue Dec 05 05:18:15 UTC 2023</td><td></td></tr><tr><td>Last Access</td><td>UNKNOWN</td><td></td></tr><tr><td>Created By</td><td>Spark 3.3.0</td><td></td></tr><tr><td>Type</td><td>MANAGED</td><td></td></tr><tr><td>Location</td><td>dbfs:/FileStore/ds2002final/sakila_dlh/fact_genres_silver</td><td></td></tr><tr><td>Provider</td><td>delta</td><td></td></tr><tr><td>Owner</td><td>root</td><td></td></tr><tr><td>Is_managed_location</td><td>true</td><td></td></tr><tr><td>Table Properties</td><td>[delta.minReaderVersion=1,delta.minWriterVersion=2]</td><td></td></tr></tbody></table></div>"
      ]
     },
     "metadata": {
      "application/vnd.databricks.v1+output": {
       "addedWidgets": {},
       "aggData": [],
       "aggError": "",
       "aggOverflow": false,
       "aggSchema": [],
       "aggSeriesLimitReached": false,
       "aggType": "",
       "arguments": {},
       "columnCustomDisplayInfos": {},
       "data": [
        [
         "rental_id",
         "int",
         null
        ],
        [
         "rental_date",
         "timestamp",
         null
        ],
        [
         "film_id",
         "int",
         null
        ],
        [
         "title",
         "string",
         null
        ],
        [
         "rating",
         "string",
         null
        ],
        [
         "release_year",
         "string",
         null
        ],
        [
         "film_category_key",
         "bigint",
         null
        ],
        [
         "category_key",
         "bigint",
         null
        ],
        [
         "genre",
         "string",
         null
        ],
        [
         "inventory_key",
         "bigint",
         null
        ],
        [
         "",
         "",
         ""
        ],
        [
         "# Detailed Table Information",
         "",
         ""
        ],
        [
         "Catalog",
         "spark_catalog",
         ""
        ],
        [
         "Database",
         "sakila_dlh",
         ""
        ],
        [
         "Table",
         "fact_genres_silver",
         ""
        ],
        [
         "Created Time",
         "Tue Dec 05 05:18:15 UTC 2023",
         ""
        ],
        [
         "Last Access",
         "UNKNOWN",
         ""
        ],
        [
         "Created By",
         "Spark 3.3.0",
         ""
        ],
        [
         "Type",
         "MANAGED",
         ""
        ],
        [
         "Location",
         "dbfs:/FileStore/ds2002final/sakila_dlh/fact_genres_silver",
         ""
        ],
        [
         "Provider",
         "delta",
         ""
        ],
        [
         "Owner",
         "root",
         ""
        ],
        [
         "Is_managed_location",
         "true",
         ""
        ],
        [
         "Table Properties",
         "[delta.minReaderVersion=1,delta.minWriterVersion=2]",
         ""
        ]
       ],
       "datasetInfos": [],
       "dbfsResultPath": null,
       "isJsonSchema": true,
       "metadata": {},
       "overflow": false,
       "plotOptions": {
        "customPlotOptions": {},
        "displayType": "table",
        "pivotAggregation": null,
        "pivotColumns": null,
        "xColumns": null,
        "yColumns": null
       },
       "removedWidgets": [],
       "schema": [
        {
         "metadata": "{\"comment\":\"name of the column\"}",
         "name": "col_name",
         "type": "\"string\""
        },
        {
         "metadata": "{\"comment\":\"data type of the column\"}",
         "name": "data_type",
         "type": "\"string\""
        },
        {
         "metadata": "{\"comment\":\"comment of the column\"}",
         "name": "comment",
         "type": "\"string\""
        }
       ],
       "type": "table"
      }
     },
     "output_type": "display_data"
    }
   ],
   "source": [
    "%sql\n",
    "DESCRIBE EXTENDED sakila_dlh.fact_genres_silver"
   ]
  },
  {
   "cell_type": "markdown",
   "metadata": {
    "application/vnd.databricks.v1+cell": {
     "cellMetadata": {
      "byteLimit": 2048000,
      "rowLimit": 10000
     },
     "inputWidgets": {},
     "nuid": "afcd8638-0fa1-41a7-a4b6-bed1639390b8",
     "showTitle": false,
     "title": ""
    }
   },
   "source": [
    "### Gold Table: Perform Aggregations\n",
    "###Create a new Gold table using the CTAS approach. "
   ]
  },
  {
   "cell_type": "code",
   "execution_count": 0,
   "metadata": {
    "application/vnd.databricks.v1+cell": {
     "cellMetadata": {
      "byteLimit": 2048000,
      "rowLimit": 10000
     },
     "inputWidgets": {},
     "nuid": "2e0a61eb-2c10-4a7b-bc6e-19713176ea40",
     "showTitle": false,
     "title": ""
    }
   },
   "outputs": [],
   "source": [
    "(spark.readStream\n",
    "  .table(\"fact_genres_silver\")\n",
    "  .createOrReplaceTempView(\"genres_gold_tempview\"))"
   ]
  },
  {
   "cell_type": "code",
   "execution_count": 0,
   "metadata": {
    "application/vnd.databricks.v1+cell": {
     "cellMetadata": {
      "byteLimit": 2048000,
      "implicitDf": true,
      "rowLimit": 10000
     },
     "inputWidgets": {},
     "nuid": "e3bd7ec6-4aa4-4713-bbd2-34ecb4800c0d",
     "showTitle": false,
     "title": ""
    }
   },
   "outputs": [
    {
     "output_type": "display_data",
     "data": {
      "text/html": [
       "<style scoped>\n",
       "  .table-result-container {\n",
       "    max-height: 300px;\n",
       "    overflow: auto;\n",
       "  }\n",
       "  table, th, td {\n",
       "    border: 1px solid black;\n",
       "    border-collapse: collapse;\n",
       "  }\n",
       "  th, td {\n",
       "    padding: 5px;\n",
       "  }\n",
       "  th {\n",
       "    text-align: left;\n",
       "  }\n",
       "</style><div class='table-result-container'><table class='table-result'><thead style='background-color: white'><tr></tr></thead><tbody></tbody></table></div>"
      ]
     },
     "metadata": {
      "application/vnd.databricks.v1+output": {
       "addedWidgets": {},
       "aggData": [],
       "aggError": "",
       "aggOverflow": false,
       "aggSchema": [],
       "aggSeriesLimitReached": false,
       "aggType": "",
       "arguments": {},
       "columnCustomDisplayInfos": {},
       "data": [],
       "datasetInfos": [],
       "dbfsResultPath": null,
       "isJsonSchema": true,
       "metadata": {},
       "overflow": false,
       "plotOptions": {
        "customPlotOptions": {},
        "displayType": "table",
        "pivotAggregation": null,
        "pivotColumns": null,
        "xColumns": null,
        "yColumns": null
       },
       "removedWidgets": [],
       "schema": [],
       "type": "table"
      }
     },
     "output_type": "display_data"
    }
   ],
   "source": [
    "%sql\n",
    "CREATE OR REPLACE TEMPORARY VIEW genres_gold_tempview AS (\n",
    "SELECT title, \n",
    "genre as Film_Genre,\n",
    "category_key,\n",
    "release_year,\n",
    "COUNT ('rental_date)') as Rental_Count\n",
    "FROM sakila_dlh.fact_genres_silver\n",
    "GROUP BY title, Film_Genre, category_key, release_year\n",
    "ORDER BY Rental_Count DESC\n",
    ")"
   ]
  },
  {
   "cell_type": "markdown",
   "metadata": {
    "application/vnd.databricks.v1+cell": {
     "cellMetadata": {
      "byteLimit": 2048000,
      "rowLimit": 10000
     },
     "inputWidgets": {},
     "nuid": "f67c530f-02ef-45a3-b570-1ac8eca72dc5",
     "showTitle": false,
     "title": ""
    }
   },
   "source": [
    "#### I used the rental date in order to calculate how many times each movie was rented in order to look at the genres. With this, people can analyze the most popular movies and genres that are rented out. "
   ]
  },
  {
   "cell_type": "code",
   "execution_count": 0,
   "metadata": {
    "application/vnd.databricks.v1+cell": {
     "cellMetadata": {
      "byteLimit": 2048000,
      "implicitDf": true,
      "rowLimit": 10000
     },
     "inputWidgets": {},
     "nuid": "b3708384-f4e9-4e4a-9764-d9fd4e3b61af",
     "showTitle": false,
     "title": ""
    }
   },
   "outputs": [
    {
     "output_type": "display_data",
     "data": {
      "text/html": [
       "<style scoped>\n",
       "  .table-result-container {\n",
       "    max-height: 300px;\n",
       "    overflow: auto;\n",
       "  }\n",
       "  table, th, td {\n",
       "    border: 1px solid black;\n",
       "    border-collapse: collapse;\n",
       "  }\n",
       "  th, td {\n",
       "    padding: 5px;\n",
       "  }\n",
       "  th {\n",
       "    text-align: left;\n",
       "  }\n",
       "</style><div class='table-result-container'><table class='table-result'><thead style='background-color: white'><tr><th>title</th><th>Film_Genre</th><th>category_key</th><th>release_year</th><th>Rental_Count</th></tr></thead><tbody><tr><td>ROBBERS JOON</td><td>Children</td><td>3</td><td>2006</td><td>5</td></tr><tr><td>RIDGEMONT SUBMARINE</td><td>New</td><td>13</td><td>2006</td><td>4</td></tr><tr><td>NETWORK PEAK</td><td>Family</td><td>8</td><td>2006</td><td>4</td></tr><tr><td>ROSES TREASURE</td><td>Sports</td><td>15</td><td>2006</td><td>4</td></tr><tr><td>ROCKETEER MOTHER</td><td>Foreign</td><td>9</td><td>2006</td><td>4</td></tr><tr><td>GRAFFITI LOVE</td><td>Sci-Fi</td><td>14</td><td>2006</td><td>4</td></tr><tr><td>PACIFIC AMISTAD</td><td>Documentary</td><td>6</td><td>2006</td><td>4</td></tr><tr><td>FORWARD TEMPLE</td><td>Games</td><td>10</td><td>2006</td><td>4</td></tr><tr><td>SEATTLE EXPECATIONS</td><td>Drama</td><td>7</td><td>2006</td><td>4</td></tr><tr><td>TIMBERLAND SKY</td><td>Classics</td><td>4</td><td>2006</td><td>4</td></tr></tbody></table></div>"
      ]
     },
     "metadata": {
      "application/vnd.databricks.v1+output": {
       "addedWidgets": {},
       "aggData": [],
       "aggError": "",
       "aggOverflow": false,
       "aggSchema": [],
       "aggSeriesLimitReached": false,
       "aggType": "",
       "arguments": {},
       "columnCustomDisplayInfos": {},
       "data": [
        [
         "ROBBERS JOON",
         "Children",
         3,
         "2006",
         5
        ],
        [
         "RIDGEMONT SUBMARINE",
         "New",
         13,
         "2006",
         4
        ],
        [
         "NETWORK PEAK",
         "Family",
         8,
         "2006",
         4
        ],
        [
         "ROSES TREASURE",
         "Sports",
         15,
         "2006",
         4
        ],
        [
         "ROCKETEER MOTHER",
         "Foreign",
         9,
         "2006",
         4
        ],
        [
         "GRAFFITI LOVE",
         "Sci-Fi",
         14,
         "2006",
         4
        ],
        [
         "PACIFIC AMISTAD",
         "Documentary",
         6,
         "2006",
         4
        ],
        [
         "FORWARD TEMPLE",
         "Games",
         10,
         "2006",
         4
        ],
        [
         "SEATTLE EXPECATIONS",
         "Drama",
         7,
         "2006",
         4
        ],
        [
         "TIMBERLAND SKY",
         "Classics",
         4,
         "2006",
         4
        ]
       ],
       "datasetInfos": [],
       "dbfsResultPath": null,
       "isJsonSchema": true,
       "metadata": {},
       "overflow": false,
       "plotOptions": {
        "customPlotOptions": {},
        "displayType": "table",
        "pivotAggregation": null,
        "pivotColumns": null,
        "xColumns": null,
        "yColumns": null
       },
       "removedWidgets": [],
       "schema": [
        {
         "metadata": "{}",
         "name": "title",
         "type": "\"string\""
        },
        {
         "metadata": "{\"scale\":0}",
         "name": "Film_Genre",
         "type": "\"string\""
        },
        {
         "metadata": "{\"scale\":0}",
         "name": "category_key",
         "type": "\"long\""
        },
        {
         "metadata": "{}",
         "name": "release_year",
         "type": "\"string\""
        },
        {
         "metadata": "{}",
         "name": "Rental_Count",
         "type": "\"long\""
        }
       ],
       "type": "table"
      }
     },
     "output_type": "display_data"
    }
   ],
   "source": [
    "%sql\n",
    "SELECT * FROM genres_gold_tempview LIMIT 10"
   ]
  },
  {
   "cell_type": "code",
   "execution_count": 0,
   "metadata": {
    "application/vnd.databricks.v1+cell": {
     "cellMetadata": {
      "byteLimit": 2048000,
      "rowLimit": 10000
     },
     "inputWidgets": {},
     "nuid": "8657bdf8-80a5-484d-a917-f8d57638d6cb",
     "showTitle": false,
     "title": ""
    }
   },
   "outputs": [],
   "source": [
    "(spark.table(\"genres_gold_tempview\")\n",
    "      .write\n",
    "      .format(\"delta\")\n",
    "      .option(\"path\", f\"{genres_output_gold}/fact_genres_gold\")\n",
    "      .option(\"checkpointLocation\", f\"{genres_output_gold}/_checkpoint\")\n",
    "      .mode(\"overwrite\")\n",
    "      .saveAsTable(\"fact_genres_gold\"))"
   ]
  },
  {
   "cell_type": "code",
   "execution_count": 0,
   "metadata": {
    "application/vnd.databricks.v1+cell": {
     "cellMetadata": {
      "byteLimit": 2048000,
      "implicitDf": true,
      "rowLimit": 10000
     },
     "inputWidgets": {},
     "nuid": "c5c53934-fce7-4f6b-ac24-1394512f8ce2",
     "showTitle": false,
     "title": ""
    }
   },
   "outputs": [
    {
     "output_type": "display_data",
     "data": {
      "text/html": [
       "<style scoped>\n",
       "  .table-result-container {\n",
       "    max-height: 300px;\n",
       "    overflow: auto;\n",
       "  }\n",
       "  table, th, td {\n",
       "    border: 1px solid black;\n",
       "    border-collapse: collapse;\n",
       "  }\n",
       "  th, td {\n",
       "    padding: 5px;\n",
       "  }\n",
       "  th {\n",
       "    text-align: left;\n",
       "  }\n",
       "</style><div class='table-result-container'><table class='table-result'><thead style='background-color: white'><tr><th>title</th><th>Film_Genre</th><th>category_key</th><th>release_year</th><th>Rental_Count</th></tr></thead><tbody><tr><td>ROBBERS JOON</td><td>Children</td><td>3</td><td>2006</td><td>5</td></tr><tr><td>BOOGIE AMELIE</td><td>Music</td><td>12</td><td>2006</td><td>4</td></tr><tr><td>PULP BEVERLY</td><td>Horror</td><td>11</td><td>2006</td><td>4</td></tr><tr><td>GRAFFITI LOVE</td><td>Sci-Fi</td><td>14</td><td>2006</td><td>4</td></tr><tr><td>FANTASY TROOPERS</td><td>Action</td><td>1</td><td>2006</td><td>4</td></tr><tr><td>FORWARD TEMPLE</td><td>Games</td><td>10</td><td>2006</td><td>4</td></tr><tr><td>HILLS NEIGHBORS</td><td>Action</td><td>1</td><td>2006</td><td>4</td></tr><tr><td>ROSES TREASURE</td><td>Sports</td><td>15</td><td>2006</td><td>4</td></tr><tr><td>NETWORK PEAK</td><td>Family</td><td>8</td><td>2006</td><td>4</td></tr><tr><td>ROCKETEER MOTHER</td><td>Foreign</td><td>9</td><td>2006</td><td>4</td></tr><tr><td>PACIFIC AMISTAD</td><td>Documentary</td><td>6</td><td>2006</td><td>4</td></tr><tr><td>SEATTLE EXPECATIONS</td><td>Drama</td><td>7</td><td>2006</td><td>4</td></tr><tr><td>TIMBERLAND SKY</td><td>Classics</td><td>4</td><td>2006</td><td>4</td></tr><tr><td>IDOLS SNATCHERS</td><td>Children</td><td>3</td><td>2006</td><td>4</td></tr><tr><td>OUTBREAK DIVINE</td><td>Games</td><td>10</td><td>2006</td><td>4</td></tr></tbody></table></div>"
      ]
     },
     "metadata": {
      "application/vnd.databricks.v1+output": {
       "addedWidgets": {},
       "aggData": [],
       "aggError": "",
       "aggOverflow": false,
       "aggSchema": [],
       "aggSeriesLimitReached": false,
       "aggType": "",
       "arguments": {},
       "columnCustomDisplayInfos": {},
       "data": [
        [
         "ROBBERS JOON",
         "Children",
         3,
         "2006",
         5
        ],
        [
         "BOOGIE AMELIE",
         "Music",
         12,
         "2006",
         4
        ],
        [
         "PULP BEVERLY",
         "Horror",
         11,
         "2006",
         4
        ],
        [
         "GRAFFITI LOVE",
         "Sci-Fi",
         14,
         "2006",
         4
        ],
        [
         "FANTASY TROOPERS",
         "Action",
         1,
         "2006",
         4
        ],
        [
         "FORWARD TEMPLE",
         "Games",
         10,
         "2006",
         4
        ],
        [
         "HILLS NEIGHBORS",
         "Action",
         1,
         "2006",
         4
        ],
        [
         "ROSES TREASURE",
         "Sports",
         15,
         "2006",
         4
        ],
        [
         "NETWORK PEAK",
         "Family",
         8,
         "2006",
         4
        ],
        [
         "ROCKETEER MOTHER",
         "Foreign",
         9,
         "2006",
         4
        ],
        [
         "PACIFIC AMISTAD",
         "Documentary",
         6,
         "2006",
         4
        ],
        [
         "SEATTLE EXPECATIONS",
         "Drama",
         7,
         "2006",
         4
        ],
        [
         "TIMBERLAND SKY",
         "Classics",
         4,
         "2006",
         4
        ],
        [
         "IDOLS SNATCHERS",
         "Children",
         3,
         "2006",
         4
        ],
        [
         "OUTBREAK DIVINE",
         "Games",
         10,
         "2006",
         4
        ]
       ],
       "datasetInfos": [],
       "dbfsResultPath": null,
       "isJsonSchema": true,
       "metadata": {},
       "overflow": false,
       "plotOptions": {
        "customPlotOptions": {},
        "displayType": "table",
        "pivotAggregation": null,
        "pivotColumns": null,
        "xColumns": null,
        "yColumns": null
       },
       "removedWidgets": [],
       "schema": [
        {
         "metadata": "{}",
         "name": "title",
         "type": "\"string\""
        },
        {
         "metadata": "{\"scale\":0}",
         "name": "Film_Genre",
         "type": "\"string\""
        },
        {
         "metadata": "{\"scale\":0}",
         "name": "category_key",
         "type": "\"long\""
        },
        {
         "metadata": "{}",
         "name": "release_year",
         "type": "\"string\""
        },
        {
         "metadata": "{}",
         "name": "Rental_Count",
         "type": "\"long\""
        }
       ],
       "type": "table"
      }
     },
     "output_type": "display_data"
    }
   ],
   "source": [
    "%sql\n",
    "SELECT * FROM fact_genres_gold LIMIT 15"
   ]
  },
  {
   "cell_type": "code",
   "execution_count": 0,
   "metadata": {
    "application/vnd.databricks.v1+cell": {
     "cellMetadata": {
      "byteLimit": 2048000,
      "implicitDf": true,
      "rowLimit": 10000
     },
     "inputWidgets": {},
     "nuid": "b5e2f79b-77b0-47b2-8740-c802aae3c84d",
     "showTitle": false,
     "title": ""
    }
   },
   "outputs": [
    {
     "output_type": "display_data",
     "data": {
      "text/html": [
       "<style scoped>\n",
       "  .table-result-container {\n",
       "    max-height: 300px;\n",
       "    overflow: auto;\n",
       "  }\n",
       "  table, th, td {\n",
       "    border: 1px solid black;\n",
       "    border-collapse: collapse;\n",
       "  }\n",
       "  th, td {\n",
       "    padding: 5px;\n",
       "  }\n",
       "  th {\n",
       "    text-align: left;\n",
       "  }\n",
       "</style><div class='table-result-container'><table class='table-result'><thead style='background-color: white'><tr><th>col_name</th><th>data_type</th><th>comment</th></tr></thead><tbody><tr><td>title</td><td>string</td><td>null</td></tr><tr><td>Film_Genre</td><td>string</td><td>null</td></tr><tr><td>category_key</td><td>bigint</td><td>null</td></tr><tr><td>release_year</td><td>string</td><td>null</td></tr><tr><td>Rental_Count</td><td>bigint</td><td>null</td></tr><tr><td></td><td></td><td></td></tr><tr><td># Detailed Table Information</td><td></td><td></td></tr><tr><td>Catalog</td><td>spark_catalog</td><td></td></tr><tr><td>Database</td><td>sakila_dlh</td><td></td></tr><tr><td>Table</td><td>fact_genres_gold</td><td></td></tr><tr><td>Created Time</td><td>Tue Dec 05 05:18:20 UTC 2023</td><td></td></tr><tr><td>Last Access</td><td>UNKNOWN</td><td></td></tr><tr><td>Created By</td><td>Spark 3.3.0</td><td></td></tr><tr><td>Type</td><td>EXTERNAL</td><td></td></tr><tr><td>Location</td><td>dbfs:/FileStore/ds2002final/sakila_dlh/fact_genres/gold/fact_genres_gold</td><td></td></tr><tr><td>Provider</td><td>delta</td><td></td></tr><tr><td>Owner</td><td>root</td><td></td></tr><tr><td>Table Properties</td><td>[delta.minReaderVersion=1,delta.minWriterVersion=2]</td><td></td></tr></tbody></table></div>"
      ]
     },
     "metadata": {
      "application/vnd.databricks.v1+output": {
       "addedWidgets": {},
       "aggData": [],
       "aggError": "",
       "aggOverflow": false,
       "aggSchema": [],
       "aggSeriesLimitReached": false,
       "aggType": "",
       "arguments": {},
       "columnCustomDisplayInfos": {},
       "data": [
        [
         "title",
         "string",
         null
        ],
        [
         "Film_Genre",
         "string",
         null
        ],
        [
         "category_key",
         "bigint",
         null
        ],
        [
         "release_year",
         "string",
         null
        ],
        [
         "Rental_Count",
         "bigint",
         null
        ],
        [
         "",
         "",
         ""
        ],
        [
         "# Detailed Table Information",
         "",
         ""
        ],
        [
         "Catalog",
         "spark_catalog",
         ""
        ],
        [
         "Database",
         "sakila_dlh",
         ""
        ],
        [
         "Table",
         "fact_genres_gold",
         ""
        ],
        [
         "Created Time",
         "Tue Dec 05 05:18:20 UTC 2023",
         ""
        ],
        [
         "Last Access",
         "UNKNOWN",
         ""
        ],
        [
         "Created By",
         "Spark 3.3.0",
         ""
        ],
        [
         "Type",
         "EXTERNAL",
         ""
        ],
        [
         "Location",
         "dbfs:/FileStore/ds2002final/sakila_dlh/fact_genres/gold/fact_genres_gold",
         ""
        ],
        [
         "Provider",
         "delta",
         ""
        ],
        [
         "Owner",
         "root",
         ""
        ],
        [
         "Table Properties",
         "[delta.minReaderVersion=1,delta.minWriterVersion=2]",
         ""
        ]
       ],
       "datasetInfos": [],
       "dbfsResultPath": null,
       "isJsonSchema": true,
       "metadata": {},
       "overflow": false,
       "plotOptions": {
        "customPlotOptions": {},
        "displayType": "table",
        "pivotAggregation": null,
        "pivotColumns": null,
        "xColumns": null,
        "yColumns": null
       },
       "removedWidgets": [],
       "schema": [
        {
         "metadata": "{\"comment\":\"name of the column\"}",
         "name": "col_name",
         "type": "\"string\""
        },
        {
         "metadata": "{\"comment\":\"data type of the column\"}",
         "name": "data_type",
         "type": "\"string\""
        },
        {
         "metadata": "{\"comment\":\"comment of the column\"}",
         "name": "comment",
         "type": "\"string\""
        }
       ],
       "type": "table"
      }
     },
     "output_type": "display_data"
    }
   ],
   "source": [
    "%sql\n",
    "DESCRIBE EXTENDED fact_genres_gold"
   ]
  },
  {
   "cell_type": "markdown",
   "metadata": {
    "application/vnd.databricks.v1+cell": {
     "cellMetadata": {
      "byteLimit": 2048000,
      "rowLimit": 10000
     },
     "inputWidgets": {},
     "nuid": "319be8dd-729b-4b03-b68e-145d0a094bdc",
     "showTitle": false,
     "title": ""
    }
   },
   "source": [
    "### Query the Results\n",
    "### Visualization"
   ]
  },
  {
   "cell_type": "markdown",
   "metadata": {
    "application/vnd.databricks.v1+cell": {
     "cellMetadata": {
      "byteLimit": 2048000,
      "rowLimit": 10000
     },
     "inputWidgets": {},
     "nuid": "12e491e9-1c0c-4d7b-967a-4ac809a67b9e",
     "showTitle": false,
     "title": ""
    }
   },
   "source": [
    "#### This visualization demonstrates the buinsess value of my solution because owners could look at this data and see which movies tend to do well in the store. Thus, owners can purchase more of that genre (such as Family movies) to increase profit and also save money by not buying less popular genres (such as Horror films)."
   ]
  },
  {
   "cell_type": "code",
   "execution_count": 0,
   "metadata": {
    "application/vnd.databricks.v1+cell": {
     "cellMetadata": {
      "byteLimit": 2048000,
      "implicitDf": true,
      "rowLimit": 10000
     },
     "inputWidgets": {},
     "nuid": "3b217a64-abd7-412d-b947-ea5c783f3ab2",
     "showTitle": false,
     "title": ""
    }
   },
   "outputs": [
    {
     "output_type": "display_data",
     "data": {
      "text/html": [
       "<style scoped>\n",
       "  .table-result-container {\n",
       "    max-height: 300px;\n",
       "    overflow: auto;\n",
       "  }\n",
       "  table, th, td {\n",
       "    border: 1px solid black;\n",
       "    border-collapse: collapse;\n",
       "  }\n",
       "  th, td {\n",
       "    padding: 5px;\n",
       "  }\n",
       "  th {\n",
       "    text-align: left;\n",
       "  }\n",
       "</style><div class='table-result-container'><table class='table-result'><thead style='background-color: white'><tr><th>title</th><th>Film_Genre</th><th>category_key</th><th>release_year</th><th>Rental_Count</th></tr></thead><tbody><tr><td>ROBBERS JOON</td><td>Children</td><td>3</td><td>2006</td><td>5</td></tr><tr><td>BOOGIE AMELIE</td><td>Music</td><td>12</td><td>2006</td><td>4</td></tr><tr><td>PULP BEVERLY</td><td>Horror</td><td>11</td><td>2006</td><td>4</td></tr><tr><td>GRAFFITI LOVE</td><td>Sci-Fi</td><td>14</td><td>2006</td><td>4</td></tr><tr><td>FANTASY TROOPERS</td><td>Action</td><td>1</td><td>2006</td><td>4</td></tr><tr><td>FORWARD TEMPLE</td><td>Games</td><td>10</td><td>2006</td><td>4</td></tr><tr><td>HILLS NEIGHBORS</td><td>Action</td><td>1</td><td>2006</td><td>4</td></tr><tr><td>ROSES TREASURE</td><td>Sports</td><td>15</td><td>2006</td><td>4</td></tr><tr><td>NETWORK PEAK</td><td>Family</td><td>8</td><td>2006</td><td>4</td></tr><tr><td>ROCKETEER MOTHER</td><td>Foreign</td><td>9</td><td>2006</td><td>4</td></tr><tr><td>PACIFIC AMISTAD</td><td>Documentary</td><td>6</td><td>2006</td><td>4</td></tr><tr><td>SEATTLE EXPECATIONS</td><td>Drama</td><td>7</td><td>2006</td><td>4</td></tr><tr><td>TIMBERLAND SKY</td><td>Classics</td><td>4</td><td>2006</td><td>4</td></tr><tr><td>IDOLS SNATCHERS</td><td>Children</td><td>3</td><td>2006</td><td>4</td></tr><tr><td>OUTBREAK DIVINE</td><td>Games</td><td>10</td><td>2006</td><td>4</td></tr><tr><td>ENGLISH BULWORTH</td><td>Sci-Fi</td><td>14</td><td>2006</td><td>4</td></tr><tr><td>RIDGEMONT SUBMARINE</td><td>New</td><td>13</td><td>2006</td><td>4</td></tr><tr><td>FEUD FROGMEN</td><td>Family</td><td>8</td><td>2006</td><td>4</td></tr><tr><td>TALENTED HOMICIDE</td><td>Sports</td><td>15</td><td>2006</td><td>4</td></tr><tr><td>HANDICAP BOONDOCK</td><td>Action</td><td>1</td><td>2006</td><td>4</td></tr><tr><td>GUNFIGHT MOON</td><td>Comedy</td><td>5</td><td>2006</td><td>3</td></tr><tr><td>EFFECT GLADIATOR</td><td>Family</td><td>8</td><td>2006</td><td>3</td></tr><tr><td>ISLAND EXORCIST</td><td>Classics</td><td>4</td><td>2006</td><td>3</td></tr><tr><td>TEEN APOLLO</td><td>Travel</td><td>16</td><td>2006</td><td>3</td></tr><tr><td>ANTHEM LUKE</td><td>Comedy</td><td>5</td><td>2006</td><td>3</td></tr><tr><td>SCISSORHANDS SLUMS</td><td>Foreign</td><td>9</td><td>2006</td><td>3</td></tr><tr><td>METAL ARMAGEDDON</td><td>Documentary</td><td>6</td><td>2006</td><td>3</td></tr><tr><td>RANGE MOONWALKER</td><td>Family</td><td>8</td><td>2006</td><td>3</td></tr><tr><td>HANKY OCTOBER</td><td>Sci-Fi</td><td>14</td><td>2006</td><td>3</td></tr><tr><td>LIES TREATMENT</td><td>Drama</td><td>7</td><td>2006</td><td>3</td></tr><tr><td>BARBARELLA STREETCAR</td><td>Sci-Fi</td><td>14</td><td>2006</td><td>3</td></tr><tr><td>DOOM DANCING</td><td>Comedy</td><td>5</td><td>2006</td><td>3</td></tr><tr><td>HANGING DEEP</td><td>Drama</td><td>7</td><td>2006</td><td>3</td></tr><tr><td>TOURIST PELICAN</td><td>Sports</td><td>15</td><td>2006</td><td>3</td></tr><tr><td>DOWNHILL ENOUGH</td><td>Comedy</td><td>5</td><td>2006</td><td>3</td></tr><tr><td>JADE BUNCH</td><td>Sports</td><td>15</td><td>2006</td><td>3</td></tr><tr><td>GUN BONNIE</td><td>Games</td><td>10</td><td>2006</td><td>3</td></tr><tr><td>BUTTERFLY CHOCOLAT</td><td>New</td><td>13</td><td>2006</td><td>3</td></tr><tr><td>DETECTIVE VISION</td><td>Classics</td><td>4</td><td>2006</td><td>3</td></tr><tr><td>DORADO NOTTING</td><td>Music</td><td>12</td><td>2006</td><td>3</td></tr><tr><td>CHEAPER CLYDE</td><td>Sci-Fi</td><td>14</td><td>2006</td><td>3</td></tr><tr><td>MOVIE SHAKESPEARE</td><td>Family</td><td>8</td><td>2006</td><td>3</td></tr><tr><td>COAST RAINBOW</td><td>Documentary</td><td>6</td><td>2006</td><td>3</td></tr><tr><td>ENEMY ODDS</td><td>Music</td><td>12</td><td>2006</td><td>3</td></tr><tr><td>JUMPING WRATH</td><td>Children</td><td>3</td><td>2006</td><td>3</td></tr><tr><td>POLISH BROOKLYN</td><td>Children</td><td>3</td><td>2006</td><td>3</td></tr><tr><td>GOLDMINE TYCOON</td><td>Sci-Fi</td><td>14</td><td>2006</td><td>3</td></tr><tr><td>HALF OUTFIELD</td><td>Family</td><td>8</td><td>2006</td><td>3</td></tr><tr><td>MILLION ACE</td><td>Classics</td><td>4</td><td>2006</td><td>3</td></tr><tr><td>CELEBRITY HORN</td><td>Action</td><td>1</td><td>2006</td><td>3</td></tr><tr><td>MASSACRE USUAL</td><td>Games</td><td>10</td><td>2006</td><td>3</td></tr><tr><td>FATAL HAUNTED</td><td>New</td><td>13</td><td>2006</td><td>3</td></tr><tr><td>MALLRATS UNITED</td><td>Comedy</td><td>5</td><td>2006</td><td>3</td></tr><tr><td>FARGO GANDHI</td><td>Children</td><td>3</td><td>2006</td><td>3</td></tr><tr><td>EASY GLADIATOR</td><td>Action</td><td>1</td><td>2006</td><td>3</td></tr><tr><td>SHREK LICENSE</td><td>Foreign</td><td>9</td><td>2006</td><td>3</td></tr><tr><td>CONFIDENTIAL INTERVIEW</td><td>Music</td><td>12</td><td>2006</td><td>3</td></tr><tr><td>JUGGLER HARDLY</td><td>Animation</td><td>2</td><td>2006</td><td>3</td></tr><tr><td>BINGO TALENTED</td><td>Sci-Fi</td><td>14</td><td>2006</td><td>3</td></tr><tr><td>CLOSER BANG</td><td>Comedy</td><td>5</td><td>2006</td><td>3</td></tr><tr><td>GRIT CLOCKWORK</td><td>Games</td><td>10</td><td>2006</td><td>3</td></tr><tr><td>CENTER DINOSAUR</td><td>Classics</td><td>4</td><td>2006</td><td>3</td></tr><tr><td>CANDLES GRAPES</td><td>Games</td><td>10</td><td>2006</td><td>3</td></tr><tr><td>BUCKET BROTHERHOOD</td><td>Travel</td><td>16</td><td>2006</td><td>3</td></tr><tr><td>CHICKEN HELLFIGHTERS</td><td>Documentary</td><td>6</td><td>2006</td><td>3</td></tr><tr><td>METROPOLIS COMA</td><td>Sci-Fi</td><td>14</td><td>2006</td><td>2</td></tr><tr><td>PHILADELPHIA WIFE</td><td>Sports</td><td>15</td><td>2006</td><td>2</td></tr><tr><td>CAMELOT VACATION</td><td>Sci-Fi</td><td>14</td><td>2006</td><td>2</td></tr><tr><td>FALCON VOLUME</td><td>Animation</td><td>2</td><td>2006</td><td>2</td></tr><tr><td>KNOCK WARLOCK</td><td>Comedy</td><td>5</td><td>2006</td><td>2</td></tr><tr><td>LONELY ELEPHANT</td><td>Comedy</td><td>5</td><td>2006</td><td>2</td></tr><tr><td>SCORPION APOLLO</td><td>Drama</td><td>7</td><td>2006</td><td>2</td></tr><tr><td>MODEL FISH</td><td>Children</td><td>3</td><td>2006</td><td>2</td></tr><tr><td>MASK PEACH</td><td>New</td><td>13</td><td>2006</td><td>2</td></tr><tr><td>AIRPORT POLLOCK</td><td>Horror</td><td>11</td><td>2006</td><td>2</td></tr><tr><td>LOST BIRD</td><td>Foreign</td><td>9</td><td>2006</td><td>2</td></tr><tr><td>DOUBLE WRATH</td><td>Animation</td><td>2</td><td>2006</td><td>2</td></tr><tr><td>CONQUERER NUTS</td><td>Drama</td><td>7</td><td>2006</td><td>2</td></tr><tr><td>ARTIST COLDBLOODED</td><td>Sports</td><td>15</td><td>2006</td><td>2</td></tr><tr><td>CALENDAR GUNFIGHT</td><td>Foreign</td><td>9</td><td>2006</td><td>2</td></tr><tr><td>KISSING DOLLS</td><td>Action</td><td>1</td><td>2006</td><td>2</td></tr><tr><td>SUNRISE LEAGUE</td><td>Animation</td><td>2</td><td>2006</td><td>2</td></tr><tr><td>DISTURBING SCARFACE</td><td>Sci-Fi</td><td>14</td><td>2006</td><td>2</td></tr><tr><td>AFFAIR PREJUDICE</td><td>Horror</td><td>11</td><td>2006</td><td>2</td></tr><tr><td>PANKY SUBMARINE</td><td>Games</td><td>10</td><td>2006</td><td>2</td></tr><tr><td>FLATLINERS KILLER</td><td>Sports</td><td>15</td><td>2006</td><td>2</td></tr><tr><td>ACADEMY DINOSAUR</td><td>Documentary</td><td>6</td><td>2006</td><td>2</td></tr><tr><td>INSIDER ARIZONA</td><td>Music</td><td>12</td><td>2006</td><td>2</td></tr><tr><td>HONEY TIES</td><td>Sports</td><td>15</td><td>2006</td><td>2</td></tr><tr><td>SLEUTH ORIENT</td><td>Games</td><td>10</td><td>2006</td><td>2</td></tr><tr><td>COLOR PHILADELPHIA</td><td>Classics</td><td>4</td><td>2006</td><td>2</td></tr><tr><td>NORTHWEST POLISH</td><td>Sports</td><td>15</td><td>2006</td><td>2</td></tr><tr><td>DRACULA CRYSTAL</td><td>Classics</td><td>4</td><td>2006</td><td>2</td></tr><tr><td>COMFORTS RUSH</td><td>Travel</td><td>16</td><td>2006</td><td>2</td></tr><tr><td>MOON BUNCH</td><td>Foreign</td><td>9</td><td>2006</td><td>2</td></tr><tr><td>EAGLES PANKY</td><td>New</td><td>13</td><td>2006</td><td>2</td></tr><tr><td>SHEPHERD MIDSUMMER</td><td>Children</td><td>3</td><td>2006</td><td>2</td></tr><tr><td>RULES HUMAN</td><td>Horror</td><td>11</td><td>2006</td><td>2</td></tr><tr><td>STAGECOACH ARMAGEDDON</td><td>Action</td><td>1</td><td>2006</td><td>2</td></tr><tr><td>HARRY IDAHO</td><td>Drama</td><td>7</td><td>2006</td><td>2</td></tr><tr><td>LABYRINTH LEAGUE</td><td>Children</td><td>3</td><td>2006</td><td>2</td></tr><tr><td>LUCK OPUS</td><td>Drama</td><td>7</td><td>2006</td><td>2</td></tr><tr><td>TITANS JERK</td><td>Sci-Fi</td><td>14</td><td>2006</td><td>2</td></tr><tr><td>HUNTING MUSKETEERS</td><td>Family</td><td>8</td><td>2006</td><td>2</td></tr><tr><td>ALAMO VIDEOTAPE</td><td>Foreign</td><td>9</td><td>2006</td><td>2</td></tr><tr><td>BLUES INSTINCT</td><td>Family</td><td>8</td><td>2006</td><td>2</td></tr><tr><td>BOILED DARES</td><td>Travel</td><td>16</td><td>2006</td><td>2</td></tr><tr><td>DRIVER ANNIE</td><td>Sports</td><td>15</td><td>2006</td><td>2</td></tr><tr><td>HORROR REIGN</td><td>Travel</td><td>16</td><td>2006</td><td>2</td></tr><tr><td>CONTACT ANONYMOUS</td><td>Travel</td><td>16</td><td>2006</td><td>2</td></tr><tr><td>SUN CONFESSIONS</td><td>Sci-Fi</td><td>14</td><td>2006</td><td>2</td></tr><tr><td>HIGHBALL POTTER</td><td>Foreign</td><td>9</td><td>2006</td><td>2</td></tr><tr><td>BREAKING HOME</td><td>New</td><td>13</td><td>2006</td><td>2</td></tr><tr><td>KICK SAVANNAH</td><td>Travel</td><td>16</td><td>2006</td><td>2</td></tr><tr><td>CHAINSAW UPTOWN</td><td>Sci-Fi</td><td>14</td><td>2006</td><td>2</td></tr><tr><td>ELEPHANT TROJAN</td><td>Horror</td><td>11</td><td>2006</td><td>2</td></tr><tr><td>HEDWIG ALTER</td><td>Comedy</td><td>5</td><td>2006</td><td>2</td></tr><tr><td>ELIZABETH SHANE</td><td>Sports</td><td>15</td><td>2006</td><td>2</td></tr><tr><td>AGENT TRUMAN</td><td>Foreign</td><td>9</td><td>2006</td><td>2</td></tr><tr><td>SECRET GROUNDHOG</td><td>Documentary</td><td>6</td><td>2006</td><td>2</td></tr><tr><td>ANGELS LIFE</td><td>New</td><td>13</td><td>2006</td><td>2</td></tr><tr><td>NIGHTMARE CHILL</td><td>Games</td><td>10</td><td>2006</td><td>2</td></tr><tr><td>PELICAN COMFORTS</td><td>Documentary</td><td>6</td><td>2006</td><td>2</td></tr><tr><td>ALASKA PHANTOM</td><td>Music</td><td>12</td><td>2006</td><td>2</td></tr><tr><td>HOUSE DYNAMITE</td><td>Family</td><td>8</td><td>2006</td><td>2</td></tr><tr><td>STORY SIDE</td><td>Action</td><td>1</td><td>2006</td><td>2</td></tr><tr><td>CAT CONEHEADS</td><td>Comedy</td><td>5</td><td>2006</td><td>2</td></tr><tr><td>HOME PITY</td><td>Music</td><td>12</td><td>2006</td><td>2</td></tr><tr><td>THIEF PELICAN</td><td>Animation</td><td>2</td><td>2006</td><td>2</td></tr><tr><td>SLEEPY JAPANESE</td><td>New</td><td>13</td><td>2006</td><td>2</td></tr><tr><td>AMERICAN CIRCUS</td><td>Action</td><td>1</td><td>2006</td><td>2</td></tr><tr><td>ROCKY WAR</td><td>Drama</td><td>7</td><td>2006</td><td>2</td></tr><tr><td>SWEETHEARTS SUSPECTS</td><td>Children</td><td>3</td><td>2006</td><td>2</td></tr><tr><td>PEAK FOREVER</td><td>Sports</td><td>15</td><td>2006</td><td>2</td></tr><tr><td>SWARM GOLD</td><td>Horror</td><td>11</td><td>2006</td><td>2</td></tr><tr><td>BLACKOUT PRIVATE</td><td>Animation</td><td>2</td><td>2006</td><td>2</td></tr><tr><td>HUNCHBACK IMPOSSIBLE</td><td>Drama</td><td>7</td><td>2006</td><td>2</td></tr><tr><td>FELLOWSHIP AUTUMN</td><td>Travel</td><td>16</td><td>2006</td><td>2</td></tr><tr><td>LEBOWSKI SOLDIERS</td><td>Drama</td><td>7</td><td>2006</td><td>2</td></tr><tr><td>STREAK RIDGEMONT</td><td>Documentary</td><td>6</td><td>2006</td><td>2</td></tr><tr><td>CRAFT OUTFIELD</td><td>Drama</td><td>7</td><td>2006</td><td>2</td></tr><tr><td>DYING MAKER</td><td>Comedy</td><td>5</td><td>2006</td><td>2</td></tr><tr><td>ALTER VICTORY</td><td>Animation</td><td>2</td><td>2006</td><td>2</td></tr><tr><td>GAMES BOWFINGER</td><td>Travel</td><td>16</td><td>2006</td><td>2</td></tr><tr><td>CLUELESS BUCKET</td><td>Action</td><td>1</td><td>2006</td><td>2</td></tr><tr><td>STORM HAPPINESS</td><td>Animation</td><td>2</td><td>2006</td><td>2</td></tr><tr><td>ANNIE IDENTITY</td><td>Sci-Fi</td><td>14</td><td>2006</td><td>2</td></tr><tr><td>SCALAWAG DUCK</td><td>Music</td><td>12</td><td>2006</td><td>2</td></tr><tr><td>SEA VIRGIN</td><td>Drama</td><td>7</td><td>2006</td><td>2</td></tr><tr><td>ALIEN CENTER</td><td>Foreign</td><td>9</td><td>2006</td><td>2</td></tr><tr><td>SLEEPING SUSPECTS</td><td>Horror</td><td>11</td><td>2006</td><td>2</td></tr><tr><td>CLONES PINOCCHIO</td><td>Music</td><td>12</td><td>2006</td><td>2</td></tr><tr><td>STRANGELOVE DESIRE</td><td>Children</td><td>3</td><td>2006</td><td>2</td></tr><tr><td>SWEET BROTHERHOOD</td><td>Travel</td><td>16</td><td>2006</td><td>2</td></tr><tr><td>CURTAIN VIDEOTAPE</td><td>Games</td><td>10</td><td>2006</td><td>2</td></tr><tr><td>MOURNING PURPLE</td><td>Sci-Fi</td><td>14</td><td>2006</td><td>2</td></tr><tr><td>SECRETS PARADISE</td><td>Family</td><td>8</td><td>2006</td><td>2</td></tr><tr><td>SUSPECTS QUILLS</td><td>Action</td><td>1</td><td>2006</td><td>2</td></tr><tr><td>FIGHT JAWBREAKER</td><td>Animation</td><td>2</td><td>2006</td><td>2</td></tr><tr><td>MISSION ZOOLANDER</td><td>Animation</td><td>2</td><td>2006</td><td>2</td></tr><tr><td>NOON PAPI</td><td>Children</td><td>3</td><td>2006</td><td>2</td></tr><tr><td>EXPENDABLE STALLION</td><td>Documentary</td><td>6</td><td>2006</td><td>2</td></tr><tr><td>GLASS DYING</td><td>Action</td><td>1</td><td>2006</td><td>2</td></tr><tr><td>SNATCH SLIPPER</td><td>Comedy</td><td>5</td><td>2006</td><td>2</td></tr><tr><td>HANOVER GALAXY</td><td>Music</td><td>12</td><td>2006</td><td>2</td></tr><tr><td>PLUTO OLEANDER</td><td>New</td><td>13</td><td>2006</td><td>2</td></tr><tr><td>HALLOWEEN NUTS</td><td>Documentary</td><td>6</td><td>2006</td><td>2</td></tr><tr><td>QUILLS BULL</td><td>Documentary</td><td>6</td><td>2006</td><td>2</td></tr><tr><td>HOBBIT ALIEN</td><td>Drama</td><td>7</td><td>2006</td><td>2</td></tr><tr><td>MUSIC BOONDOCK</td><td>Family</td><td>8</td><td>2006</td><td>2</td></tr><tr><td>HAMLET WISDOM</td><td>Sci-Fi</td><td>14</td><td>2006</td><td>2</td></tr><tr><td>RESURRECTION SILVERADO</td><td>Family</td><td>8</td><td>2006</td><td>2</td></tr><tr><td>OTHERS SOUP</td><td>Travel</td><td>16</td><td>2006</td><td>2</td></tr><tr><td>GONE TROUBLE</td><td>Drama</td><td>7</td><td>2006</td><td>2</td></tr><tr><td>FREDDY STORM</td><td>Horror</td><td>11</td><td>2006</td><td>2</td></tr><tr><td>INTERVIEW LIAISONS</td><td>New</td><td>13</td><td>2006</td><td>2</td></tr><tr><td>LOVE SUICIDES</td><td>Horror</td><td>11</td><td>2006</td><td>2</td></tr><tr><td>FISH OPUS</td><td>Sci-Fi</td><td>14</td><td>2006</td><td>2</td></tr><tr><td>APACHE DIVINE</td><td>Family</td><td>8</td><td>2006</td><td>2</td></tr><tr><td>BROOKLYN DESERT</td><td>Foreign</td><td>9</td><td>2006</td><td>2</td></tr><tr><td>CAUSE DATE</td><td>Documentary</td><td>6</td><td>2006</td><td>2</td></tr><tr><td>EDGE KISSING</td><td>Drama</td><td>7</td><td>2006</td><td>2</td></tr><tr><td>OZ LIAISONS</td><td>Animation</td><td>2</td><td>2006</td><td>2</td></tr><tr><td>CHARIOTS CONSPIRACY</td><td>Sci-Fi</td><td>14</td><td>2006</td><td>2</td></tr><tr><td>EMPIRE MALKOVICH</td><td>Children</td><td>3</td><td>2006</td><td>2</td></tr><tr><td>FIDELITY DEVIL</td><td>Horror</td><td>11</td><td>2006</td><td>2</td></tr><tr><td>EYES DRIVING</td><td>Sci-Fi</td><td>14</td><td>2006</td><td>2</td></tr><tr><td>RUGRATS SHAKESPEARE</td><td>Action</td><td>1</td><td>2006</td><td>2</td></tr><tr><td>SHOW LORD</td><td>Documentary</td><td>6</td><td>2006</td><td>2</td></tr><tr><td>ARMY FLINTSTONES</td><td>Documentary</td><td>6</td><td>2006</td><td>2</td></tr><tr><td>ATLANTIS CAUSE</td><td>Family</td><td>8</td><td>2006</td><td>2</td></tr><tr><td>FREAKY POCUS</td><td>Music</td><td>12</td><td>2006</td><td>2</td></tr><tr><td>BACKLASH UNDEFEATED</td><td>Children</td><td>3</td><td>2006</td><td>2</td></tr><tr><td>MIDSUMMER GROUNDHOG</td><td>Documentary</td><td>6</td><td>2006</td><td>2</td></tr><tr><td>BORROWERS BEDAZZLED</td><td>Animation</td><td>2</td><td>2006</td><td>2</td></tr><tr><td>BANGER PINOCCHIO</td><td>Music</td><td>12</td><td>2006</td><td>2</td></tr><tr><td>ENTRAPMENT SATISFACTION</td><td>Action</td><td>1</td><td>2006</td><td>2</td></tr><tr><td>COMA HEAD</td><td>Travel</td><td>16</td><td>2006</td><td>2</td></tr><tr><td>EVERYONE CRAFT</td><td>Foreign</td><td>9</td><td>2006</td><td>2</td></tr><tr><td>PACKER MADIGAN</td><td>Animation</td><td>2</td><td>2006</td><td>2</td></tr><tr><td>HOLLOW JEOPARDY</td><td>Sci-Fi</td><td>14</td><td>2006</td><td>2</td></tr><tr><td>ODDS BOOGIE</td><td>Family</td><td>8</td><td>2006</td><td>2</td></tr><tr><td>BEAR GRACELAND</td><td>Children</td><td>3</td><td>2006</td><td>2</td></tr><tr><td>BLADE POLISH</td><td>Drama</td><td>7</td><td>2006</td><td>2</td></tr><tr><td>GABLES METROPOLIS</td><td>Family</td><td>8</td><td>2006</td><td>2</td></tr><tr><td>DANCING FEVER</td><td>Documentary</td><td>6</td><td>2006</td><td>2</td></tr><tr><td>GOLDFINGER SENSIBILITY</td><td>Drama</td><td>7</td><td>2006</td><td>2</td></tr><tr><td>DRIVING POLISH</td><td>Music</td><td>12</td><td>2006</td><td>2</td></tr><tr><td>ICE CROSSING</td><td>Games</td><td>10</td><td>2006</td><td>2</td></tr><tr><td>ORANGE GRAPES</td><td>Foreign</td><td>9</td><td>2006</td><td>2</td></tr><tr><td>BLOOD ARGONAUTS</td><td>Family</td><td>8</td><td>2006</td><td>2</td></tr><tr><td>MAJESTIC FLOATS</td><td>Documentary</td><td>6</td><td>2006</td><td>2</td></tr><tr><td>GROUNDHOG UNCUT</td><td>Comedy</td><td>5</td><td>2006</td><td>2</td></tr><tr><td>MALKOVICH PET</td><td>Classics</td><td>4</td><td>2006</td><td>2</td></tr><tr><td>MUSCLE BRIGHT</td><td>Travel</td><td>16</td><td>2006</td><td>2</td></tr><tr><td>PITY BOUND</td><td>Drama</td><td>7</td><td>2006</td><td>2</td></tr><tr><td>SINNERS ATLANTIS</td><td>Horror</td><td>11</td><td>2006</td><td>2</td></tr><tr><td>SWEDEN SHINING</td><td>Comedy</td><td>5</td><td>2006</td><td>2</td></tr><tr><td>ROMAN PUNK</td><td>Music</td><td>12</td><td>2006</td><td>2</td></tr><tr><td>MODERN DORADO</td><td>Documentary</td><td>6</td><td>2006</td><td>2</td></tr><tr><td>HEAVEN FREEDOM</td><td>Comedy</td><td>5</td><td>2006</td><td>2</td></tr><tr><td>GORGEOUS BINGO</td><td>Children</td><td>3</td><td>2006</td><td>2</td></tr><tr><td>DEER VIRGINIAN</td><td>Music</td><td>12</td><td>2006</td><td>2</td></tr><tr><td>GANDHI KWAI</td><td>Family</td><td>8</td><td>2006</td><td>2</td></tr><tr><td>CHANCE RESURRECTION</td><td>Sports</td><td>15</td><td>2006</td><td>2</td></tr><tr><td>GANGS PRIDE</td><td>Animation</td><td>2</td><td>2006</td><td>2</td></tr><tr><td>DADDY PITTSBURGH</td><td>Comedy</td><td>5</td><td>2006</td><td>2</td></tr><tr><td>LUCKY FLYING</td><td>Music</td><td>12</td><td>2006</td><td>2</td></tr><tr><td>OPERATION OPERATION</td><td>Comedy</td><td>5</td><td>2006</td><td>2</td></tr><tr><td>HAUNTING PIANIST</td><td>Games</td><td>10</td><td>2006</td><td>2</td></tr><tr><td>RUSH GOODFELLAS</td><td>Family</td><td>8</td><td>2006</td><td>2</td></tr><tr><td>FURY MURDER</td><td>Children</td><td>3</td><td>2006</td><td>2</td></tr><tr><td>SEABISCUIT PUNK</td><td>Sports</td><td>15</td><td>2006</td><td>2</td></tr><tr><td>BROTHERHOOD BLANKET</td><td>Documentary</td><td>6</td><td>2006</td><td>2</td></tr><tr><td>GRAIL FRANKENSTEIN</td><td>Action</td><td>1</td><td>2006</td><td>2</td></tr><tr><td>BEACH HEARTBREAKERS</td><td>Documentary</td><td>6</td><td>2006</td><td>2</td></tr><tr><td>MYSTIC TRUMAN</td><td>Comedy</td><td>5</td><td>2006</td><td>2</td></tr><tr><td>BRANNIGAN SUNRISE</td><td>New</td><td>13</td><td>2006</td><td>2</td></tr><tr><td>ROOTS REMEMBER</td><td>Classics</td><td>4</td><td>2006</td><td>2</td></tr><tr><td>FAMILY SWEET</td><td>Horror</td><td>11</td><td>2006</td><td>2</td></tr><tr><td>DOGMA FAMILY</td><td>Animation</td><td>2</td><td>2006</td><td>2</td></tr><tr><td>SALUTE APOLLO</td><td>New</td><td>13</td><td>2006</td><td>2</td></tr><tr><td>DRIFTER COMMANDMENTS</td><td>Action</td><td>1</td><td>2006</td><td>2</td></tr><tr><td>CROOKED FROGMEN</td><td>Children</td><td>3</td><td>2006</td><td>1</td></tr><tr><td>POCUS PULP</td><td>Documentary</td><td>6</td><td>2006</td><td>1</td></tr><tr><td>BIRDS PERDITION</td><td>New</td><td>13</td><td>2006</td><td>1</td></tr><tr><td>CHAMPION FLATLINERS</td><td>Animation</td><td>2</td><td>2006</td><td>1</td></tr><tr><td>DONNIE ALLEY</td><td>Animation</td><td>2</td><td>2006</td><td>1</td></tr><tr><td>SOMETHING DUCK</td><td>Drama</td><td>7</td><td>2006</td><td>1</td></tr><tr><td>NATIONAL STORY</td><td>Documentary</td><td>6</td><td>2006</td><td>1</td></tr><tr><td>LION UNCUT</td><td>Comedy</td><td>5</td><td>2006</td><td>1</td></tr><tr><td>ROXANNE REBEL</td><td>Games</td><td>10</td><td>2006</td><td>1</td></tr><tr><td>FACTORY DRAGON</td><td>Travel</td><td>16</td><td>2006</td><td>1</td></tr><tr><td>BLINDNESS GUN</td><td>Sci-Fi</td><td>14</td><td>2006</td><td>1</td></tr><tr><td>PIRATES ROXANNE</td><td>Sports</td><td>15</td><td>2006</td><td>1</td></tr><tr><td>SATISFACTION CONFIDENTIAL</td><td>Sports</td><td>15</td><td>2006</td><td>1</td></tr><tr><td>FORREST SONS</td><td>Action</td><td>1</td><td>2006</td><td>1</td></tr><tr><td>HOLOCAUST HIGHBALL</td><td>Children</td><td>3</td><td>2006</td><td>1</td></tr><tr><td>ANYTHING SAVANNAH</td><td>Horror</td><td>11</td><td>2006</td><td>1</td></tr><tr><td>CLEOPATRA DEVIL</td><td>New</td><td>13</td><td>2006</td><td>1</td></tr><tr><td>STEPMOM DREAM</td><td>Foreign</td><td>9</td><td>2006</td><td>1</td></tr><tr><td>GREATEST NORTH</td><td>Music</td><td>12</td><td>2006</td><td>1</td></tr><tr><td>DOLLS RAGE</td><td>Sci-Fi</td><td>14</td><td>2006</td><td>1</td></tr><tr><td>FRENCH HOLIDAY</td><td>Documentary</td><td>6</td><td>2006</td><td>1</td></tr><tr><td>ESCAPE METROPOLIS</td><td>Travel</td><td>16</td><td>2006</td><td>1</td></tr><tr><td>MICROCOSMOS PARADISE</td><td>Children</td><td>3</td><td>2006</td><td>1</td></tr><tr><td>SASSY PACKER</td><td>Games</td><td>10</td><td>2006</td><td>1</td></tr><tr><td>GLEAMING JAWBREAKER</td><td>Sports</td><td>15</td><td>2006</td><td>1</td></tr><tr><td>CHISUM BEHAVIOR</td><td>Family</td><td>8</td><td>2006</td><td>1</td></tr><tr><td>DAY UNFAITHFUL</td><td>New</td><td>13</td><td>2006</td><td>1</td></tr><tr><td>SUIT WALLS</td><td>Games</td><td>10</td><td>2006</td><td>1</td></tr><tr><td>ROOM ROMAN</td><td>Animation</td><td>2</td><td>2006</td><td>1</td></tr><tr><td>SHOOTIST SUPERFLY</td><td>Drama</td><td>7</td><td>2006</td><td>1</td></tr><tr><td>MURDER ANTITRUST</td><td>Children</td><td>3</td><td>2006</td><td>1</td></tr><tr><td>RESERVOIR ADAPTATION</td><td>Foreign</td><td>9</td><td>2006</td><td>1</td></tr><tr><td>SANTA PARIS</td><td>Children</td><td>3</td><td>2006</td><td>1</td></tr><tr><td>BALLROOM MOCKINGBIRD</td><td>Foreign</td><td>9</td><td>2006</td><td>1</td></tr><tr><td>BLANKET BEVERLY</td><td>Family</td><td>8</td><td>2006</td><td>1</td></tr><tr><td>NOTTING SPEAKEASY</td><td>Drama</td><td>7</td><td>2006</td><td>1</td></tr><tr><td>DOORS PRESIDENT</td><td>Animation</td><td>2</td><td>2006</td><td>1</td></tr><tr><td>INDIAN LOVE</td><td>Family</td><td>8</td><td>2006</td><td>1</td></tr><tr><td>JEDI BENEATH</td><td>Family</td><td>8</td><td>2006</td><td>1</td></tr><tr><td>CLUB GRAFFITI</td><td>Animation</td><td>2</td><td>2006</td><td>1</td></tr><tr><td>GILMORE BOILED</td><td>Classics</td><td>4</td><td>2006</td><td>1</td></tr><tr><td>DROP WATERFRONT</td><td>Sports</td><td>15</td><td>2006</td><td>1</td></tr><tr><td>MONSTER SPARTACUS</td><td>Music</td><td>12</td><td>2006</td><td>1</td></tr><tr><td>SOLDIERS EVOLUTION</td><td>Sci-Fi</td><td>14</td><td>2006</td><td>1</td></tr><tr><td>BUGSY SONG</td><td>Foreign</td><td>9</td><td>2006</td><td>1</td></tr><tr><td>GARDEN ISLAND</td><td>Sci-Fi</td><td>14</td><td>2006</td><td>1</td></tr><tr><td>GROOVE FICTION</td><td>Sports</td><td>15</td><td>2006</td><td>1</td></tr><tr><td>REQUIEM TYCOON</td><td>Classics</td><td>4</td><td>2006</td><td>1</td></tr><tr><td>JAWS HARRY</td><td>Comedy</td><td>5</td><td>2006</td><td>1</td></tr><tr><td>PATTON INTERVIEW</td><td>Horror</td><td>11</td><td>2006</td><td>1</td></tr><tr><td>KISS GLORY</td><td>Foreign</td><td>9</td><td>2006</td><td>1</td></tr><tr><td>ANACONDA CONFESSIONS</td><td>Animation</td><td>2</td><td>2006</td><td>1</td></tr><tr><td>HOURS RAGE</td><td>New</td><td>13</td><td>2006</td><td>1</td></tr><tr><td>IDAHO LOVE</td><td>New</td><td>13</td><td>2006</td><td>1</td></tr><tr><td>REMEMBER DIARY</td><td>Family</td><td>8</td><td>2006</td><td>1</td></tr><tr><td>SAVANNAH TOWN</td><td>Drama</td><td>7</td><td>2006</td><td>1</td></tr><tr><td>LEGALLY SECRETARY</td><td>Children</td><td>3</td><td>2006</td><td>1</td></tr><tr><td>BEAST HUNCHBACK</td><td>Classics</td><td>4</td><td>2006</td><td>1</td></tr><tr><td>LOATHING LEGALLY</td><td>Classics</td><td>4</td><td>2006</td><td>1</td></tr><tr><td>SOUTH WAIT</td><td>Action</td><td>1</td><td>2006</td><td>1</td></tr><tr><td>IMPACT ALADDIN</td><td>Music</td><td>12</td><td>2006</td><td>1</td></tr><tr><td>LOCK REAR</td><td>Travel</td><td>16</td><td>2006</td><td>1</td></tr><tr><td>INDEPENDENCE HOTEL</td><td>Documentary</td><td>6</td><td>2006</td><td>1</td></tr><tr><td>JERK PAYCHECK</td><td>Classics</td><td>4</td><td>2006</td><td>1</td></tr><tr><td>NOTORIOUS REUNION</td><td>Documentary</td><td>6</td><td>2006</td><td>1</td></tr><tr><td>PINOCCHIO SIMON</td><td>Comedy</td><td>5</td><td>2006</td><td>1</td></tr><tr><td>PUNK DIVORCE</td><td>Animation</td><td>2</td><td>2006</td><td>1</td></tr><tr><td>ARMAGEDDON LOST</td><td>Sci-Fi</td><td>14</td><td>2006</td><td>1</td></tr><tr><td>MOB DUFFEL</td><td>Drama</td><td>7</td><td>2006</td><td>1</td></tr><tr><td>DREAM PICKUP</td><td>Action</td><td>1</td><td>2006</td><td>1</td></tr><tr><td>OUTFIELD MASSACRE</td><td>Music</td><td>12</td><td>2006</td><td>1</td></tr><tr><td>DESTINY SATURDAY</td><td>New</td><td>13</td><td>2006</td><td>1</td></tr><tr><td>TITANIC BOONDOCK</td><td>Animation</td><td>2</td><td>2006</td><td>1</td></tr><tr><td>LOVER TRUMAN</td><td>Classics</td><td>4</td><td>2006</td><td>1</td></tr><tr><td>LEGEND JEDI</td><td>Music</td><td>12</td><td>2006</td><td>1</td></tr><tr><td>EGYPT TENENBAUMS</td><td>Horror</td><td>11</td><td>2006</td><td>1</td></tr><tr><td>LORD ARIZONA</td><td>Action</td><td>1</td><td>2006</td><td>1</td></tr><tr><td>CASUALTIES ENCINO</td><td>Action</td><td>1</td><td>2006</td><td>1</td></tr><tr><td>ENDING CROWDS</td><td>New</td><td>13</td><td>2006</td><td>1</td></tr><tr><td>SHANE DARKNESS</td><td>Travel</td><td>16</td><td>2006</td><td>1</td></tr><tr><td>LOSER HUSTLER</td><td>Sports</td><td>15</td><td>2006</td><td>1</td></tr><tr><td>TEMPLE ATTRACTION</td><td>Horror</td><td>11</td><td>2006</td><td>1</td></tr><tr><td>DOZEN LION</td><td>Documentary</td><td>6</td><td>2006</td><td>1</td></tr><tr><td>STATE WASTELAND</td><td>Games</td><td>10</td><td>2006</td><td>1</td></tr><tr><td>CRANES RESERVOIR</td><td>Sports</td><td>15</td><td>2006</td><td>1</td></tr><tr><td>MOTIONS DETAILS</td><td>Horror</td><td>11</td><td>2006</td><td>1</td></tr><tr><td>CADDYSHACK JEDI</td><td>Action</td><td>1</td><td>2006</td><td>1</td></tr><tr><td>CHILL LUCK</td><td>Drama</td><td>7</td><td>2006</td><td>1</td></tr><tr><td>BASIC EASY</td><td>Travel</td><td>16</td><td>2006</td><td>1</td></tr><tr><td>MENAGERIE RUSHMORE</td><td>Animation</td><td>2</td><td>2006</td><td>1</td></tr><tr><td>OPPOSITE NECKLACE</td><td>Family</td><td>8</td><td>2006</td><td>1</td></tr><tr><td>BRIDE INTRIGUE</td><td>Action</td><td>1</td><td>2006</td><td>1</td></tr><tr><td>GO PURPLE</td><td>Music</td><td>12</td><td>2006</td><td>1</td></tr><tr><td>CHRISTMAS MOONSHINE</td><td>Children</td><td>3</td><td>2006</td><td>1</td></tr><tr><td>DATE SPEED</td><td>Family</td><td>8</td><td>2006</td><td>1</td></tr><tr><td>IDENTITY LOVER</td><td>Sci-Fi</td><td>14</td><td>2006</td><td>1</td></tr><tr><td>EXPECATIONS NATURAL</td><td>Travel</td><td>16</td><td>2006</td><td>1</td></tr><tr><td>ROAD ROXANNE</td><td>Documentary</td><td>6</td><td>2006</td><td>1</td></tr><tr><td>STAR OPERATION</td><td>Sports</td><td>15</td><td>2006</td><td>1</td></tr><tr><td>RIVER OUTLAW</td><td>Sports</td><td>15</td><td>2006</td><td>1</td></tr><tr><td>ROBBERY BRIGHT</td><td>Family</td><td>8</td><td>2006</td><td>1</td></tr><tr><td>FEATHERS METAL</td><td>Games</td><td>10</td><td>2006</td><td>1</td></tr><tr><td>HUNGER ROOF</td><td>Foreign</td><td>9</td><td>2006</td><td>1</td></tr><tr><td>REAR TRADING</td><td>Action</td><td>1</td><td>2006</td><td>1</td></tr><tr><td>GHOSTBUSTERS ELF</td><td>Animation</td><td>2</td><td>2006</td><td>1</td></tr><tr><td>HURRICANE AFFAIR</td><td>Comedy</td><td>5</td><td>2006</td><td>1</td></tr><tr><td>BIRD INDEPENDENCE</td><td>Travel</td><td>16</td><td>2006</td><td>1</td></tr><tr><td>MAIDEN HOME</td><td>New</td><td>13</td><td>2006</td><td>1</td></tr><tr><td>MEET CHOCOLATE</td><td>Foreign</td><td>9</td><td>2006</td><td>1</td></tr><tr><td>DEEP CRUSADE</td><td>Documentary</td><td>6</td><td>2006</td><td>1</td></tr><tr><td>HOMICIDE PEACH</td><td>Family</td><td>8</td><td>2006</td><td>1</td></tr><tr><td>PATIENT SISTER</td><td>Classics</td><td>4</td><td>2006</td><td>1</td></tr><tr><td>HAROLD FRENCH</td><td>Drama</td><td>7</td><td>2006</td><td>1</td></tr><tr><td>JEEPERS WEDDING</td><td>Classics</td><td>4</td><td>2006</td><td>1</td></tr><tr><td>JUNGLE CLOSER</td><td>New</td><td>13</td><td>2006</td><td>1</td></tr><tr><td>PILOT HOOSIERS</td><td>Family</td><td>8</td><td>2006</td><td>1</td></tr><tr><td>CIDER DESIRE</td><td>Documentary</td><td>6</td><td>2006</td><td>1</td></tr><tr><td>HOPE TOOTSIE</td><td>Classics</td><td>4</td><td>2006</td><td>1</td></tr><tr><td>NONE SPIKING</td><td>Sci-Fi</td><td>14</td><td>2006</td><td>1</td></tr><tr><td>CONNECTION MICROCOSMOS</td><td>Comedy</td><td>5</td><td>2006</td><td>1</td></tr><tr><td>DARES PLUTO</td><td>Animation</td><td>2</td><td>2006</td><td>1</td></tr><tr><td>CYCLONE FAMILY</td><td>Foreign</td><td>9</td><td>2006</td><td>1</td></tr><tr><td>CHARADE DUFFEL</td><td>Sci-Fi</td><td>14</td><td>2006</td><td>1</td></tr><tr><td>FLYING HOOK</td><td>Animation</td><td>2</td><td>2006</td><td>1</td></tr><tr><td>MOSQUITO ARMAGEDDON</td><td>Sports</td><td>15</td><td>2006</td><td>1</td></tr><tr><td>SLEEPLESS MONSOON</td><td>Animation</td><td>2</td><td>2006</td><td>1</td></tr><tr><td>GATHERING CALENDAR</td><td>Games</td><td>10</td><td>2006</td><td>1</td></tr><tr><td>HEAVENLY GUN</td><td>Music</td><td>12</td><td>2006</td><td>1</td></tr><tr><td>SAGEBRUSH CLUELESS</td><td>Documentary</td><td>6</td><td>2006</td><td>1</td></tr><tr><td>HELLFIGHTERS SIERRA</td><td>Foreign</td><td>9</td><td>2006</td><td>1</td></tr><tr><td>CONNECTICUT TRAMP</td><td>Sci-Fi</td><td>14</td><td>2006</td><td>1</td></tr><tr><td>LIFE TWISTED</td><td>Comedy</td><td>5</td><td>2006</td><td>1</td></tr><tr><td>SUPER WYOMING</td><td>Family</td><td>8</td><td>2006</td><td>1</td></tr><tr><td>PARK CITIZEN</td><td>Action</td><td>1</td><td>2006</td><td>1</td></tr><tr><td>ALONE TRIP</td><td>Music</td><td>12</td><td>2006</td><td>1</td></tr><tr><td>MONTEREY LABYRINTH</td><td>Horror</td><td>11</td><td>2006</td><td>1</td></tr><tr><td>SONG HEDWIG</td><td>Music</td><td>12</td><td>2006</td><td>1</td></tr><tr><td>HEAD STRANGER</td><td>Games</td><td>10</td><td>2006</td><td>1</td></tr><tr><td>SHAKESPEARE SADDLE</td><td>Sports</td><td>15</td><td>2006</td><td>1</td></tr><tr><td>SUPERFLY TRIP</td><td>Travel</td><td>16</td><td>2006</td><td>1</td></tr><tr><td>PATRIOT ROMAN</td><td>Action</td><td>1</td><td>2006</td><td>1</td></tr><tr><td>MADISON TRAP</td><td>Documentary</td><td>6</td><td>2006</td><td>1</td></tr><tr><td>SLUMS DUCK</td><td>Family</td><td>8</td><td>2006</td><td>1</td></tr><tr><td>DECEIVER BETRAYED</td><td>Drama</td><td>7</td><td>2006</td><td>1</td></tr><tr><td>NOVOCAINE FLIGHT</td><td>Sports</td><td>15</td><td>2006</td><td>1</td></tr><tr><td>BAREFOOT MANCHURIAN</td><td>Action</td><td>1</td><td>2006</td><td>1</td></tr><tr><td>DRUMLINE CYCLONE</td><td>Travel</td><td>16</td><td>2006</td><td>1</td></tr><tr><td>HOTEL HAPPINESS</td><td>Foreign</td><td>9</td><td>2006</td><td>1</td></tr><tr><td>MADIGAN DORADO</td><td>Travel</td><td>16</td><td>2006</td><td>1</td></tr><tr><td>SUMMER SCARFACE</td><td>Classics</td><td>4</td><td>2006</td><td>1</td></tr><tr><td>FROST HEAD</td><td>Classics</td><td>4</td><td>2006</td><td>1</td></tr><tr><td>FIREBALL PHILADELPHIA</td><td>Comedy</td><td>5</td><td>2006</td><td>1</td></tr><tr><td>FORRESTER COMANCHEROS</td><td>Animation</td><td>2</td><td>2006</td><td>1</td></tr><tr><td>DARN FORRESTER</td><td>Action</td><td>1</td><td>2006</td><td>1</td></tr><tr><td>OPUS ICE</td><td>Foreign</td><td>9</td><td>2006</td><td>1</td></tr><tr><td>TOWN ARK</td><td>Foreign</td><td>9</td><td>2006</td><td>1</td></tr><tr><td>PRIX UNDEFEATED</td><td>Family</td><td>8</td><td>2006</td><td>1</td></tr><tr><td>CRUSADE HONEY</td><td>Sports</td><td>15</td><td>2006</td><td>1</td></tr><tr><td>PERSONAL LADYBUGS</td><td>Music</td><td>12</td><td>2006</td><td>1</td></tr><tr><td>SHIP WONDERLAND</td><td>Documentary</td><td>6</td><td>2006</td><td>1</td></tr><tr><td>TOWERS HURRICANE</td><td>Classics</td><td>4</td><td>2006</td><td>1</td></tr><tr><td>BALLOON HOMEWARD</td><td>Music</td><td>12</td><td>2006</td><td>1</td></tr><tr><td>SCARFACE BANG</td><td>Children</td><td>3</td><td>2006</td><td>1</td></tr><tr><td>BAKED CLEOPATRA</td><td>Family</td><td>8</td><td>2006</td><td>1</td></tr><tr><td>ROLLERCOASTER BRINGING</td><td>Horror</td><td>11</td><td>2006</td><td>1</td></tr><tr><td>PITTSBURGH HUNCHBACK</td><td>Family</td><td>8</td><td>2006</td><td>1</td></tr><tr><td>CABIN FLASH</td><td>Children</td><td>3</td><td>2006</td><td>1</td></tr><tr><td>SILENCE KANE</td><td>Music</td><td>12</td><td>2006</td><td>1</td></tr><tr><td>MINE TITANS</td><td>New</td><td>13</td><td>2006</td><td>1</td></tr><tr><td>REIGN GENTLEMEN</td><td>Sci-Fi</td><td>14</td><td>2006</td><td>1</td></tr><tr><td>MILE MULAN</td><td>Sports</td><td>15</td><td>2006</td><td>1</td></tr><tr><td>CAPER MOTIONS</td><td>Comedy</td><td>5</td><td>2006</td><td>1</td></tr><tr><td>EXCITEMENT EVE</td><td>Action</td><td>1</td><td>2006</td><td>1</td></tr><tr><td>NAME DETECTIVE</td><td>Games</td><td>10</td><td>2006</td><td>1</td></tr><tr><td>NECKLACE OUTBREAK</td><td>Drama</td><td>7</td><td>2006</td><td>1</td></tr><tr><td>STALLION SUNDANCE</td><td>Sci-Fi</td><td>14</td><td>2006</td><td>1</td></tr><tr><td>GIANT TROOPERS</td><td>Children</td><td>3</td><td>2006</td><td>1</td></tr><tr><td>ATTRACTION NEWTON</td><td>New</td><td>13</td><td>2006</td><td>1</td></tr><tr><td>IGBY MAKER</td><td>Travel</td><td>16</td><td>2006</td><td>1</td></tr><tr><td>SPEAKEASY DATE</td><td>Action</td><td>1</td><td>2006</td><td>1</td></tr><tr><td>CONTROL ANTHEM</td><td>Comedy</td><td>5</td><td>2006</td><td>1</td></tr><tr><td>OPEN AFRICAN</td><td>Sci-Fi</td><td>14</td><td>2006</td><td>1</td></tr><tr><td>DETAILS PACKER</td><td>Games</td><td>10</td><td>2006</td><td>1</td></tr><tr><td>DIRTY ACE</td><td>Games</td><td>10</td><td>2006</td><td>1</td></tr><tr><td>DOCTOR GRAIL</td><td>Children</td><td>3</td><td>2006</td><td>1</td></tr><tr><td>ENCOUNTERS CURTAIN</td><td>Drama</td><td>7</td><td>2006</td><td>1</td></tr><tr><td>EXPRESS LONELY</td><td>Sci-Fi</td><td>14</td><td>2006</td><td>1</td></tr><tr><td>MASSAGE IMAGE</td><td>Animation</td><td>2</td><td>2006</td><td>1</td></tr><tr><td>CHOCOLAT HARRY</td><td>Family</td><td>8</td><td>2006</td><td>1</td></tr><tr><td>CLASH FREDDY</td><td>Animation</td><td>2</td><td>2006</td><td>1</td></tr><tr><td>GALAXY SWEETHEARTS</td><td>Classics</td><td>4</td><td>2006</td><td>1</td></tr><tr><td>ELF MURDER</td><td>Music</td><td>12</td><td>2006</td><td>1</td></tr><tr><td>STONE FIRE</td><td>Travel</td><td>16</td><td>2006</td><td>1</td></tr><tr><td>LAWLESS VISION</td><td>Animation</td><td>2</td><td>2006</td><td>1</td></tr><tr><td>PAPI NECKLACE</td><td>Travel</td><td>16</td><td>2006</td><td>1</td></tr><tr><td>TELEMARK HEARTBREAKERS</td><td>Animation</td><td>2</td><td>2006</td><td>1</td></tr><tr><td>BEAUTY GREASE</td><td>Drama</td><td>7</td><td>2006</td><td>1</td></tr><tr><td>BIKINI BORROWERS</td><td>Animation</td><td>2</td><td>2006</td><td>1</td></tr><tr><td>BRIGHT ENCOUNTERS</td><td>Drama</td><td>7</td><td>2006</td><td>1</td></tr><tr><td>CONGENIALITY QUEST</td><td>Sports</td><td>15</td><td>2006</td><td>1</td></tr><tr><td>LOLITA WORLD</td><td>Family</td><td>8</td><td>2006</td><td>1</td></tr><tr><td>BOULEVARD MOB</td><td>New</td><td>13</td><td>2006</td><td>1</td></tr><tr><td>GREASE YOUTH</td><td>Family</td><td>8</td><td>2006</td><td>1</td></tr><tr><td>MATRIX SNOWMAN</td><td>Foreign</td><td>9</td><td>2006</td><td>1</td></tr><tr><td>OCTOBER SUBMARINE</td><td>Classics</td><td>4</td><td>2006</td><td>1</td></tr><tr><td>POTLUCK MIXED</td><td>Animation</td><td>2</td><td>2006</td><td>1</td></tr><tr><td>STREETCAR INTENTIONS</td><td>Horror</td><td>11</td><td>2006</td><td>1</td></tr><tr><td>CIRCUS YOUTH</td><td>Children</td><td>3</td><td>2006</td><td>1</td></tr><tr><td>MADRE GABLES</td><td>Games</td><td>10</td><td>2006</td><td>1</td></tr><tr><td>ENOUGH RAGING</td><td>Travel</td><td>16</td><td>2006</td><td>1</td></tr><tr><td>RINGS HEARTBREAKERS</td><td>Action</td><td>1</td><td>2006</td><td>1</td></tr><tr><td>TRACY CIDER</td><td>Animation</td><td>2</td><td>2006</td><td>1</td></tr><tr><td>DRAGONFLY STRANGERS</td><td>New</td><td>13</td><td>2006</td><td>1</td></tr><tr><td>SPICE SORORITY</td><td>Drama</td><td>7</td><td>2006</td><td>1</td></tr><tr><td>TIES HUNGER</td><td>Children</td><td>3</td><td>2006</td><td>1</td></tr><tr><td>LIBERTY MAGNIFICENT</td><td>Sports</td><td>15</td><td>2006</td><td>1</td></tr><tr><td>CLERKS ANGELS</td><td>Documentary</td><td>6</td><td>2006</td><td>1</td></tr><tr><td>CINCINATTI WHISPERER</td><td>Sci-Fi</td><td>14</td><td>2006</td><td>1</td></tr><tr><td>CONFESSIONS MAGUIRE</td><td>Drama</td><td>7</td><td>2006</td><td>1</td></tr><tr><td>HOLY TADPOLE</td><td>Classics</td><td>4</td><td>2006</td><td>1</td></tr><tr><td>MARS ROMAN</td><td>Games</td><td>10</td><td>2006</td><td>1</td></tr><tr><td>RECORDS ZORRO</td><td>Sports</td><td>15</td><td>2006</td><td>1</td></tr><tr><td>GOODFELLAS SALUTE</td><td>Sci-Fi</td><td>14</td><td>2006</td><td>1</td></tr><tr><td>MALTESE HOPE</td><td>Games</td><td>10</td><td>2006</td><td>1</td></tr><tr><td>MOCKINGBIRD HOLLYWOOD</td><td>Action</td><td>1</td><td>2006</td><td>1</td></tr><tr><td>RAGING AIRPLANE</td><td>Sci-Fi</td><td>14</td><td>2006</td><td>1</td></tr><tr><td>BEDAZZLED MARRIED</td><td>Family</td><td>8</td><td>2006</td><td>1</td></tr><tr><td>PREJUDICE OLEANDER</td><td>Classics</td><td>4</td><td>2006</td><td>1</td></tr><tr><td>SADDLE ANTITRUST</td><td>Comedy</td><td>5</td><td>2006</td><td>1</td></tr><tr><td>LESSON CLEOPATRA</td><td>Sports</td><td>15</td><td>2006</td><td>1</td></tr><tr><td>SHRUNK DIVINE</td><td>Action</td><td>1</td><td>2006</td><td>1</td></tr><tr><td>DIARY PANIC</td><td>Drama</td><td>7</td><td>2006</td><td>1</td></tr><tr><td>SLACKER LIAISONS</td><td>Drama</td><td>7</td><td>2006</td><td>1</td></tr><tr><td>PICKUP DRIVING</td><td>Sports</td><td>15</td><td>2006</td><td>1</td></tr><tr><td>POND SEATTLE</td><td>Animation</td><td>2</td><td>2006</td><td>1</td></tr><tr><td>HYDE DOCTOR</td><td>Classics</td><td>4</td><td>2006</td><td>1</td></tr><tr><td>SOUP WISDOM</td><td>Family</td><td>8</td><td>2006</td><td>1</td></tr><tr><td>STRAIGHT HOURS</td><td>Sports</td><td>15</td><td>2006</td><td>1</td></tr><tr><td>DALMATIONS SWEDEN</td><td>Drama</td><td>7</td><td>2006</td><td>1</td></tr><tr><td>LOSE INCH</td><td>Foreign</td><td>9</td><td>2006</td><td>1</td></tr><tr><td>TOOTSIE PILOT</td><td>Children</td><td>3</td><td>2006</td><td>1</td></tr><tr><td>AFRICAN EGG</td><td>Family</td><td>8</td><td>2006</td><td>1</td></tr><tr><td>MIGHTY LUCK</td><td>Documentary</td><td>6</td><td>2006</td><td>1</td></tr><tr><td>NASH CHOCOLAT</td><td>Animation</td><td>2</td><td>2006</td><td>1</td></tr><tr><td>SLIPPER FIDELITY</td><td>Sports</td><td>15</td><td>2006</td><td>1</td></tr><tr><td>CALIFORNIA BIRDS</td><td>Sports</td><td>15</td><td>2006</td><td>1</td></tr><tr><td>EARLY HOME</td><td>Animation</td><td>2</td><td>2006</td><td>1</td></tr><tr><td>FOREVER CANDIDATE</td><td>Children</td><td>3</td><td>2006</td><td>1</td></tr><tr><td>NORTH TEQUILA</td><td>Documentary</td><td>6</td><td>2006</td><td>1</td></tr><tr><td>BETRAYED REAR</td><td>Children</td><td>3</td><td>2006</td><td>1</td></tr><tr><td>MINDS TRUMAN</td><td>Action</td><td>1</td><td>2006</td><td>1</td></tr><tr><td>CONEHEADS SMOOCHY</td><td>Drama</td><td>7</td><td>2006</td><td>1</td></tr><tr><td>HIGH ENCINO</td><td>Horror</td><td>11</td><td>2006</td><td>1</td></tr><tr><td>MADNESS ATTACKS</td><td>Foreign</td><td>9</td><td>2006</td><td>1</td></tr><tr><td>OLEANDER CLUE</td><td>Music</td><td>12</td><td>2006</td><td>1</td></tr><tr><td>GUYS FALCON</td><td>Sci-Fi</td><td>14</td><td>2006</td><td>1</td></tr><tr><td>MULAN MOON</td><td>Comedy</td><td>5</td><td>2006</td><td>1</td></tr><tr><td>FOOL MOCKINGBIRD</td><td>Action</td><td>1</td><td>2006</td><td>1</td></tr><tr><td>TENENBAUMS COMMAND</td><td>Drama</td><td>7</td><td>2006</td><td>1</td></tr><tr><td>DYNAMITE TARZAN</td><td>Classics</td><td>4</td><td>2006</td><td>1</td></tr><tr><td>MANCHURIAN CURTAIN</td><td>Family</td><td>8</td><td>2006</td><td>1</td></tr><tr><td>CARIBBEAN LIBERTY</td><td>Sports</td><td>15</td><td>2006</td><td>1</td></tr><tr><td>ARABIA DOGMA</td><td>Horror</td><td>11</td><td>2006</td><td>1</td></tr><tr><td>KANE EXORCIST</td><td>Foreign</td><td>9</td><td>2006</td><td>1</td></tr><tr><td>KING EVOLUTION</td><td>Family</td><td>8</td><td>2006</td><td>1</td></tr><tr><td>DARKO DORADO</td><td>Action</td><td>1</td><td>2006</td><td>1</td></tr><tr><td>SMOKING BARBARELLA</td><td>Documentary</td><td>6</td><td>2006</td><td>1</td></tr><tr><td>DURHAM PANKY</td><td>Sports</td><td>15</td><td>2006</td><td>1</td></tr><tr><td>EXORCIST STING</td><td>Sports</td><td>15</td><td>2006</td><td>1</td></tr><tr><td>MUSKETEERS WAIT</td><td>Classics</td><td>4</td><td>2006</td><td>1</td></tr><tr><td>JOON NORTHWEST</td><td>Sports</td><td>15</td><td>2006</td><td>1</td></tr><tr><td>HEAVYWEIGHTS BEAST</td><td>Documentary</td><td>6</td><td>2006</td><td>1</td></tr><tr><td>MIDNIGHT WESTWARD</td><td>Action</td><td>1</td><td>2006</td><td>1</td></tr><tr><td>NEIGHBORS CHARADE</td><td>Sports</td><td>15</td><td>2006</td><td>1</td></tr><tr><td>INVASION CYCLONE</td><td>Children</td><td>3</td><td>2006</td><td>1</td></tr><tr><td>PRINCESS GIANT</td><td>Documentary</td><td>6</td><td>2006</td><td>1</td></tr><tr><td>STRANGER STRANGERS</td><td>Children</td><td>3</td><td>2006</td><td>1</td></tr><tr><td>JET NEIGHBORS</td><td>Foreign</td><td>9</td><td>2006</td><td>1</td></tr><tr><td>KWAI HOMEWARD</td><td>Drama</td><td>7</td><td>2006</td><td>1</td></tr><tr><td>STRANGERS GRAFFITI</td><td>Horror</td><td>11</td><td>2006</td><td>1</td></tr><tr><td>CANDIDATE PERDITION</td><td>Classics</td><td>4</td><td>2006</td><td>1</td></tr><tr><td>BERETS AGENT</td><td>Action</td><td>1</td><td>2006</td><td>1</td></tr><tr><td>JERICHO MULAN</td><td>Games</td><td>10</td><td>2006</td><td>1</td></tr><tr><td>PAST SUICIDES</td><td>Foreign</td><td>9</td><td>2006</td><td>1</td></tr><tr><td>CREEPERS KANE</td><td>Classics</td><td>4</td><td>2006</td><td>1</td></tr><tr><td>DARKNESS WAR</td><td>Drama</td><td>7</td><td>2006</td><td>1</td></tr><tr><td>TELEGRAPH VOYAGE</td><td>Music</td><td>12</td><td>2006</td><td>1</td></tr><tr><td>BEHAVIOR RUNAWAY</td><td>Horror</td><td>11</td><td>2006</td><td>1</td></tr><tr><td>CHICAGO NORTH</td><td>Games</td><td>10</td><td>2006</td><td>1</td></tr><tr><td>JINGLE SAGEBRUSH</td><td>Classics</td><td>4</td><td>2006</td><td>1</td></tr><tr><td>ALLEY EVOLUTION</td><td>Foreign</td><td>9</td><td>2006</td><td>1</td></tr><tr><td>CHASING FIGHT</td><td>Family</td><td>8</td><td>2006</td><td>1</td></tr><tr><td>LANGUAGE COWBOY</td><td>Children</td><td>3</td><td>2006</td><td>1</td></tr><tr><td>REUNION WITCHES</td><td>Drama</td><td>7</td><td>2006</td><td>1</td></tr><tr><td>SPEED SUIT</td><td>Travel</td><td>16</td><td>2006</td><td>1</td></tr><tr><td>DWARFS ALTER</td><td>Games</td><td>10</td><td>2006</td><td>1</td></tr><tr><td>GRADUATE LORD</td><td>Children</td><td>3</td><td>2006</td><td>1</td></tr><tr><td>JASON TRAP</td><td>Family</td><td>8</td><td>2006</td><td>1</td></tr><tr><td>ISHTAR ROCKETEER</td><td>Animation</td><td>2</td><td>2006</td><td>1</td></tr><tr><td>LOLA AGENT</td><td>Horror</td><td>11</td><td>2006</td><td>1</td></tr><tr><td>PIZZA JUMANJI</td><td>Games</td><td>10</td><td>2006</td><td>1</td></tr><tr><td>REDS POCUS</td><td>Music</td><td>12</td><td>2006</td><td>1</td></tr><tr><td>FINDING ANACONDA</td><td>Family</td><td>8</td><td>2006</td><td>1</td></tr><tr><td>QUEEN LUKE</td><td>Drama</td><td>7</td><td>2006</td><td>1</td></tr><tr><td>EARRING INSTINCT</td><td>Family</td><td>8</td><td>2006</td><td>1</td></tr><tr><td>GHOST GROUNDHOG</td><td>Children</td><td>3</td><td>2006</td><td>1</td></tr><tr><td>KARATE MOON</td><td>Horror</td><td>11</td><td>2006</td><td>1</td></tr><tr><td>LIGHTS DEER</td><td>Classics</td><td>4</td><td>2006</td><td>1</td></tr><tr><td>PURE RUNNER</td><td>Comedy</td><td>5</td><td>2006</td><td>1</td></tr><tr><td>LOUISIANA HARRY</td><td>Family</td><td>8</td><td>2006</td><td>1</td></tr><tr><td>PURPLE MOVIE</td><td>Foreign</td><td>9</td><td>2006</td><td>1</td></tr><tr><td>SATURDAY LAMBS</td><td>Sports</td><td>15</td><td>2006</td><td>1</td></tr><tr><td>MERMAID INSECTS</td><td>Sports</td><td>15</td><td>2006</td><td>1</td></tr><tr><td>RUNAWAY TENENBAUMS</td><td>New</td><td>13</td><td>2006</td><td>1</td></tr><tr><td>CRUELTY UNFORGIVEN</td><td>Classics</td><td>4</td><td>2006</td><td>1</td></tr><tr><td>FERRIS MOTHER</td><td>Comedy</td><td>5</td><td>2006</td><td>1</td></tr><tr><td>HAWK CHILL</td><td>Documentary</td><td>6</td><td>2006</td><td>1</td></tr><tr><td>AMADEUS HOLY</td><td>Action</td><td>1</td><td>2006</td><td>1</td></tr><tr><td>FLAMINGOS CONNECTICUT</td><td>New</td><td>13</td><td>2006</td><td>1</td></tr><tr><td>DISCIPLE MOTHER</td><td>Travel</td><td>16</td><td>2006</td><td>1</td></tr><tr><td>SIEGE MADRE</td><td>Family</td><td>8</td><td>2006</td><td>1</td></tr><tr><td>SUBMARINE BED</td><td>Comedy</td><td>5</td><td>2006</td><td>1</td></tr><tr><td>NEWTON LABYRINTH</td><td>Foreign</td><td>9</td><td>2006</td><td>1</td></tr><tr><td>GREEDY ROOTS</td><td>Drama</td><td>7</td><td>2006</td><td>1</td></tr><tr><td>DOUBTFIRE LABYRINTH</td><td>Foreign</td><td>9</td><td>2006</td><td>1</td></tr><tr><td>ILLUSION AMELIE</td><td>Foreign</td><td>9</td><td>2006</td><td>1</td></tr><tr><td>LADY STAGE</td><td>Horror</td><td>11</td><td>2006</td><td>1</td></tr><tr><td>AUTUMN CROW</td><td>Games</td><td>10</td><td>2006</td><td>1</td></tr></tbody></table></div>"
      ]
     },
     "metadata": {
      "application/vnd.databricks.v1+output": {
       "addedWidgets": {},
       "aggData": [],
       "aggError": "",
       "aggOverflow": false,
       "aggSchema": [],
       "aggSeriesLimitReached": false,
       "aggType": "",
       "arguments": {},
       "columnCustomDisplayInfos": {},
       "data": [
        [
         "ROBBERS JOON",
         "Children",
         3,
         "2006",
         5
        ],
        [
         "BOOGIE AMELIE",
         "Music",
         12,
         "2006",
         4
        ],
        [
         "PULP BEVERLY",
         "Horror",
         11,
         "2006",
         4
        ],
        [
         "GRAFFITI LOVE",
         "Sci-Fi",
         14,
         "2006",
         4
        ],
        [
         "FANTASY TROOPERS",
         "Action",
         1,
         "2006",
         4
        ],
        [
         "FORWARD TEMPLE",
         "Games",
         10,
         "2006",
         4
        ],
        [
         "HILLS NEIGHBORS",
         "Action",
         1,
         "2006",
         4
        ],
        [
         "ROSES TREASURE",
         "Sports",
         15,
         "2006",
         4
        ],
        [
         "NETWORK PEAK",
         "Family",
         8,
         "2006",
         4
        ],
        [
         "ROCKETEER MOTHER",
         "Foreign",
         9,
         "2006",
         4
        ],
        [
         "PACIFIC AMISTAD",
         "Documentary",
         6,
         "2006",
         4
        ],
        [
         "SEATTLE EXPECATIONS",
         "Drama",
         7,
         "2006",
         4
        ],
        [
         "TIMBERLAND SKY",
         "Classics",
         4,
         "2006",
         4
        ],
        [
         "IDOLS SNATCHERS",
         "Children",
         3,
         "2006",
         4
        ],
        [
         "OUTBREAK DIVINE",
         "Games",
         10,
         "2006",
         4
        ],
        [
         "ENGLISH BULWORTH",
         "Sci-Fi",
         14,
         "2006",
         4
        ],
        [
         "RIDGEMONT SUBMARINE",
         "New",
         13,
         "2006",
         4
        ],
        [
         "FEUD FROGMEN",
         "Family",
         8,
         "2006",
         4
        ],
        [
         "TALENTED HOMICIDE",
         "Sports",
         15,
         "2006",
         4
        ],
        [
         "HANDICAP BOONDOCK",
         "Action",
         1,
         "2006",
         4
        ],
        [
         "GUNFIGHT MOON",
         "Comedy",
         5,
         "2006",
         3
        ],
        [
         "EFFECT GLADIATOR",
         "Family",
         8,
         "2006",
         3
        ],
        [
         "ISLAND EXORCIST",
         "Classics",
         4,
         "2006",
         3
        ],
        [
         "TEEN APOLLO",
         "Travel",
         16,
         "2006",
         3
        ],
        [
         "ANTHEM LUKE",
         "Comedy",
         5,
         "2006",
         3
        ],
        [
         "SCISSORHANDS SLUMS",
         "Foreign",
         9,
         "2006",
         3
        ],
        [
         "METAL ARMAGEDDON",
         "Documentary",
         6,
         "2006",
         3
        ],
        [
         "RANGE MOONWALKER",
         "Family",
         8,
         "2006",
         3
        ],
        [
         "HANKY OCTOBER",
         "Sci-Fi",
         14,
         "2006",
         3
        ],
        [
         "LIES TREATMENT",
         "Drama",
         7,
         "2006",
         3
        ],
        [
         "BARBARELLA STREETCAR",
         "Sci-Fi",
         14,
         "2006",
         3
        ],
        [
         "DOOM DANCING",
         "Comedy",
         5,
         "2006",
         3
        ],
        [
         "HANGING DEEP",
         "Drama",
         7,
         "2006",
         3
        ],
        [
         "TOURIST PELICAN",
         "Sports",
         15,
         "2006",
         3
        ],
        [
         "DOWNHILL ENOUGH",
         "Comedy",
         5,
         "2006",
         3
        ],
        [
         "JADE BUNCH",
         "Sports",
         15,
         "2006",
         3
        ],
        [
         "GUN BONNIE",
         "Games",
         10,
         "2006",
         3
        ],
        [
         "BUTTERFLY CHOCOLAT",
         "New",
         13,
         "2006",
         3
        ],
        [
         "DETECTIVE VISION",
         "Classics",
         4,
         "2006",
         3
        ],
        [
         "DORADO NOTTING",
         "Music",
         12,
         "2006",
         3
        ],
        [
         "CHEAPER CLYDE",
         "Sci-Fi",
         14,
         "2006",
         3
        ],
        [
         "MOVIE SHAKESPEARE",
         "Family",
         8,
         "2006",
         3
        ],
        [
         "COAST RAINBOW",
         "Documentary",
         6,
         "2006",
         3
        ],
        [
         "ENEMY ODDS",
         "Music",
         12,
         "2006",
         3
        ],
        [
         "JUMPING WRATH",
         "Children",
         3,
         "2006",
         3
        ],
        [
         "POLISH BROOKLYN",
         "Children",
         3,
         "2006",
         3
        ],
        [
         "GOLDMINE TYCOON",
         "Sci-Fi",
         14,
         "2006",
         3
        ],
        [
         "HALF OUTFIELD",
         "Family",
         8,
         "2006",
         3
        ],
        [
         "MILLION ACE",
         "Classics",
         4,
         "2006",
         3
        ],
        [
         "CELEBRITY HORN",
         "Action",
         1,
         "2006",
         3
        ],
        [
         "MASSACRE USUAL",
         "Games",
         10,
         "2006",
         3
        ],
        [
         "FATAL HAUNTED",
         "New",
         13,
         "2006",
         3
        ],
        [
         "MALLRATS UNITED",
         "Comedy",
         5,
         "2006",
         3
        ],
        [
         "FARGO GANDHI",
         "Children",
         3,
         "2006",
         3
        ],
        [
         "EASY GLADIATOR",
         "Action",
         1,
         "2006",
         3
        ],
        [
         "SHREK LICENSE",
         "Foreign",
         9,
         "2006",
         3
        ],
        [
         "CONFIDENTIAL INTERVIEW",
         "Music",
         12,
         "2006",
         3
        ],
        [
         "JUGGLER HARDLY",
         "Animation",
         2,
         "2006",
         3
        ],
        [
         "BINGO TALENTED",
         "Sci-Fi",
         14,
         "2006",
         3
        ],
        [
         "CLOSER BANG",
         "Comedy",
         5,
         "2006",
         3
        ],
        [
         "GRIT CLOCKWORK",
         "Games",
         10,
         "2006",
         3
        ],
        [
         "CENTER DINOSAUR",
         "Classics",
         4,
         "2006",
         3
        ],
        [
         "CANDLES GRAPES",
         "Games",
         10,
         "2006",
         3
        ],
        [
         "BUCKET BROTHERHOOD",
         "Travel",
         16,
         "2006",
         3
        ],
        [
         "CHICKEN HELLFIGHTERS",
         "Documentary",
         6,
         "2006",
         3
        ],
        [
         "METROPOLIS COMA",
         "Sci-Fi",
         14,
         "2006",
         2
        ],
        [
         "PHILADELPHIA WIFE",
         "Sports",
         15,
         "2006",
         2
        ],
        [
         "CAMELOT VACATION",
         "Sci-Fi",
         14,
         "2006",
         2
        ],
        [
         "FALCON VOLUME",
         "Animation",
         2,
         "2006",
         2
        ],
        [
         "KNOCK WARLOCK",
         "Comedy",
         5,
         "2006",
         2
        ],
        [
         "LONELY ELEPHANT",
         "Comedy",
         5,
         "2006",
         2
        ],
        [
         "SCORPION APOLLO",
         "Drama",
         7,
         "2006",
         2
        ],
        [
         "MODEL FISH",
         "Children",
         3,
         "2006",
         2
        ],
        [
         "MASK PEACH",
         "New",
         13,
         "2006",
         2
        ],
        [
         "AIRPORT POLLOCK",
         "Horror",
         11,
         "2006",
         2
        ],
        [
         "LOST BIRD",
         "Foreign",
         9,
         "2006",
         2
        ],
        [
         "DOUBLE WRATH",
         "Animation",
         2,
         "2006",
         2
        ],
        [
         "CONQUERER NUTS",
         "Drama",
         7,
         "2006",
         2
        ],
        [
         "ARTIST COLDBLOODED",
         "Sports",
         15,
         "2006",
         2
        ],
        [
         "CALENDAR GUNFIGHT",
         "Foreign",
         9,
         "2006",
         2
        ],
        [
         "KISSING DOLLS",
         "Action",
         1,
         "2006",
         2
        ],
        [
         "SUNRISE LEAGUE",
         "Animation",
         2,
         "2006",
         2
        ],
        [
         "DISTURBING SCARFACE",
         "Sci-Fi",
         14,
         "2006",
         2
        ],
        [
         "AFFAIR PREJUDICE",
         "Horror",
         11,
         "2006",
         2
        ],
        [
         "PANKY SUBMARINE",
         "Games",
         10,
         "2006",
         2
        ],
        [
         "FLATLINERS KILLER",
         "Sports",
         15,
         "2006",
         2
        ],
        [
         "ACADEMY DINOSAUR",
         "Documentary",
         6,
         "2006",
         2
        ],
        [
         "INSIDER ARIZONA",
         "Music",
         12,
         "2006",
         2
        ],
        [
         "HONEY TIES",
         "Sports",
         15,
         "2006",
         2
        ],
        [
         "SLEUTH ORIENT",
         "Games",
         10,
         "2006",
         2
        ],
        [
         "COLOR PHILADELPHIA",
         "Classics",
         4,
         "2006",
         2
        ],
        [
         "NORTHWEST POLISH",
         "Sports",
         15,
         "2006",
         2
        ],
        [
         "DRACULA CRYSTAL",
         "Classics",
         4,
         "2006",
         2
        ],
        [
         "COMFORTS RUSH",
         "Travel",
         16,
         "2006",
         2
        ],
        [
         "MOON BUNCH",
         "Foreign",
         9,
         "2006",
         2
        ],
        [
         "EAGLES PANKY",
         "New",
         13,
         "2006",
         2
        ],
        [
         "SHEPHERD MIDSUMMER",
         "Children",
         3,
         "2006",
         2
        ],
        [
         "RULES HUMAN",
         "Horror",
         11,
         "2006",
         2
        ],
        [
         "STAGECOACH ARMAGEDDON",
         "Action",
         1,
         "2006",
         2
        ],
        [
         "HARRY IDAHO",
         "Drama",
         7,
         "2006",
         2
        ],
        [
         "LABYRINTH LEAGUE",
         "Children",
         3,
         "2006",
         2
        ],
        [
         "LUCK OPUS",
         "Drama",
         7,
         "2006",
         2
        ],
        [
         "TITANS JERK",
         "Sci-Fi",
         14,
         "2006",
         2
        ],
        [
         "HUNTING MUSKETEERS",
         "Family",
         8,
         "2006",
         2
        ],
        [
         "ALAMO VIDEOTAPE",
         "Foreign",
         9,
         "2006",
         2
        ],
        [
         "BLUES INSTINCT",
         "Family",
         8,
         "2006",
         2
        ],
        [
         "BOILED DARES",
         "Travel",
         16,
         "2006",
         2
        ],
        [
         "DRIVER ANNIE",
         "Sports",
         15,
         "2006",
         2
        ],
        [
         "HORROR REIGN",
         "Travel",
         16,
         "2006",
         2
        ],
        [
         "CONTACT ANONYMOUS",
         "Travel",
         16,
         "2006",
         2
        ],
        [
         "SUN CONFESSIONS",
         "Sci-Fi",
         14,
         "2006",
         2
        ],
        [
         "HIGHBALL POTTER",
         "Foreign",
         9,
         "2006",
         2
        ],
        [
         "BREAKING HOME",
         "New",
         13,
         "2006",
         2
        ],
        [
         "KICK SAVANNAH",
         "Travel",
         16,
         "2006",
         2
        ],
        [
         "CHAINSAW UPTOWN",
         "Sci-Fi",
         14,
         "2006",
         2
        ],
        [
         "ELEPHANT TROJAN",
         "Horror",
         11,
         "2006",
         2
        ],
        [
         "HEDWIG ALTER",
         "Comedy",
         5,
         "2006",
         2
        ],
        [
         "ELIZABETH SHANE",
         "Sports",
         15,
         "2006",
         2
        ],
        [
         "AGENT TRUMAN",
         "Foreign",
         9,
         "2006",
         2
        ],
        [
         "SECRET GROUNDHOG",
         "Documentary",
         6,
         "2006",
         2
        ],
        [
         "ANGELS LIFE",
         "New",
         13,
         "2006",
         2
        ],
        [
         "NIGHTMARE CHILL",
         "Games",
         10,
         "2006",
         2
        ],
        [
         "PELICAN COMFORTS",
         "Documentary",
         6,
         "2006",
         2
        ],
        [
         "ALASKA PHANTOM",
         "Music",
         12,
         "2006",
         2
        ],
        [
         "HOUSE DYNAMITE",
         "Family",
         8,
         "2006",
         2
        ],
        [
         "STORY SIDE",
         "Action",
         1,
         "2006",
         2
        ],
        [
         "CAT CONEHEADS",
         "Comedy",
         5,
         "2006",
         2
        ],
        [
         "HOME PITY",
         "Music",
         12,
         "2006",
         2
        ],
        [
         "THIEF PELICAN",
         "Animation",
         2,
         "2006",
         2
        ],
        [
         "SLEEPY JAPANESE",
         "New",
         13,
         "2006",
         2
        ],
        [
         "AMERICAN CIRCUS",
         "Action",
         1,
         "2006",
         2
        ],
        [
         "ROCKY WAR",
         "Drama",
         7,
         "2006",
         2
        ],
        [
         "SWEETHEARTS SUSPECTS",
         "Children",
         3,
         "2006",
         2
        ],
        [
         "PEAK FOREVER",
         "Sports",
         15,
         "2006",
         2
        ],
        [
         "SWARM GOLD",
         "Horror",
         11,
         "2006",
         2
        ],
        [
         "BLACKOUT PRIVATE",
         "Animation",
         2,
         "2006",
         2
        ],
        [
         "HUNCHBACK IMPOSSIBLE",
         "Drama",
         7,
         "2006",
         2
        ],
        [
         "FELLOWSHIP AUTUMN",
         "Travel",
         16,
         "2006",
         2
        ],
        [
         "LEBOWSKI SOLDIERS",
         "Drama",
         7,
         "2006",
         2
        ],
        [
         "STREAK RIDGEMONT",
         "Documentary",
         6,
         "2006",
         2
        ],
        [
         "CRAFT OUTFIELD",
         "Drama",
         7,
         "2006",
         2
        ],
        [
         "DYING MAKER",
         "Comedy",
         5,
         "2006",
         2
        ],
        [
         "ALTER VICTORY",
         "Animation",
         2,
         "2006",
         2
        ],
        [
         "GAMES BOWFINGER",
         "Travel",
         16,
         "2006",
         2
        ],
        [
         "CLUELESS BUCKET",
         "Action",
         1,
         "2006",
         2
        ],
        [
         "STORM HAPPINESS",
         "Animation",
         2,
         "2006",
         2
        ],
        [
         "ANNIE IDENTITY",
         "Sci-Fi",
         14,
         "2006",
         2
        ],
        [
         "SCALAWAG DUCK",
         "Music",
         12,
         "2006",
         2
        ],
        [
         "SEA VIRGIN",
         "Drama",
         7,
         "2006",
         2
        ],
        [
         "ALIEN CENTER",
         "Foreign",
         9,
         "2006",
         2
        ],
        [
         "SLEEPING SUSPECTS",
         "Horror",
         11,
         "2006",
         2
        ],
        [
         "CLONES PINOCCHIO",
         "Music",
         12,
         "2006",
         2
        ],
        [
         "STRANGELOVE DESIRE",
         "Children",
         3,
         "2006",
         2
        ],
        [
         "SWEET BROTHERHOOD",
         "Travel",
         16,
         "2006",
         2
        ],
        [
         "CURTAIN VIDEOTAPE",
         "Games",
         10,
         "2006",
         2
        ],
        [
         "MOURNING PURPLE",
         "Sci-Fi",
         14,
         "2006",
         2
        ],
        [
         "SECRETS PARADISE",
         "Family",
         8,
         "2006",
         2
        ],
        [
         "SUSPECTS QUILLS",
         "Action",
         1,
         "2006",
         2
        ],
        [
         "FIGHT JAWBREAKER",
         "Animation",
         2,
         "2006",
         2
        ],
        [
         "MISSION ZOOLANDER",
         "Animation",
         2,
         "2006",
         2
        ],
        [
         "NOON PAPI",
         "Children",
         3,
         "2006",
         2
        ],
        [
         "EXPENDABLE STALLION",
         "Documentary",
         6,
         "2006",
         2
        ],
        [
         "GLASS DYING",
         "Action",
         1,
         "2006",
         2
        ],
        [
         "SNATCH SLIPPER",
         "Comedy",
         5,
         "2006",
         2
        ],
        [
         "HANOVER GALAXY",
         "Music",
         12,
         "2006",
         2
        ],
        [
         "PLUTO OLEANDER",
         "New",
         13,
         "2006",
         2
        ],
        [
         "HALLOWEEN NUTS",
         "Documentary",
         6,
         "2006",
         2
        ],
        [
         "QUILLS BULL",
         "Documentary",
         6,
         "2006",
         2
        ],
        [
         "HOBBIT ALIEN",
         "Drama",
         7,
         "2006",
         2
        ],
        [
         "MUSIC BOONDOCK",
         "Family",
         8,
         "2006",
         2
        ],
        [
         "HAMLET WISDOM",
         "Sci-Fi",
         14,
         "2006",
         2
        ],
        [
         "RESURRECTION SILVERADO",
         "Family",
         8,
         "2006",
         2
        ],
        [
         "OTHERS SOUP",
         "Travel",
         16,
         "2006",
         2
        ],
        [
         "GONE TROUBLE",
         "Drama",
         7,
         "2006",
         2
        ],
        [
         "FREDDY STORM",
         "Horror",
         11,
         "2006",
         2
        ],
        [
         "INTERVIEW LIAISONS",
         "New",
         13,
         "2006",
         2
        ],
        [
         "LOVE SUICIDES",
         "Horror",
         11,
         "2006",
         2
        ],
        [
         "FISH OPUS",
         "Sci-Fi",
         14,
         "2006",
         2
        ],
        [
         "APACHE DIVINE",
         "Family",
         8,
         "2006",
         2
        ],
        [
         "BROOKLYN DESERT",
         "Foreign",
         9,
         "2006",
         2
        ],
        [
         "CAUSE DATE",
         "Documentary",
         6,
         "2006",
         2
        ],
        [
         "EDGE KISSING",
         "Drama",
         7,
         "2006",
         2
        ],
        [
         "OZ LIAISONS",
         "Animation",
         2,
         "2006",
         2
        ],
        [
         "CHARIOTS CONSPIRACY",
         "Sci-Fi",
         14,
         "2006",
         2
        ],
        [
         "EMPIRE MALKOVICH",
         "Children",
         3,
         "2006",
         2
        ],
        [
         "FIDELITY DEVIL",
         "Horror",
         11,
         "2006",
         2
        ],
        [
         "EYES DRIVING",
         "Sci-Fi",
         14,
         "2006",
         2
        ],
        [
         "RUGRATS SHAKESPEARE",
         "Action",
         1,
         "2006",
         2
        ],
        [
         "SHOW LORD",
         "Documentary",
         6,
         "2006",
         2
        ],
        [
         "ARMY FLINTSTONES",
         "Documentary",
         6,
         "2006",
         2
        ],
        [
         "ATLANTIS CAUSE",
         "Family",
         8,
         "2006",
         2
        ],
        [
         "FREAKY POCUS",
         "Music",
         12,
         "2006",
         2
        ],
        [
         "BACKLASH UNDEFEATED",
         "Children",
         3,
         "2006",
         2
        ],
        [
         "MIDSUMMER GROUNDHOG",
         "Documentary",
         6,
         "2006",
         2
        ],
        [
         "BORROWERS BEDAZZLED",
         "Animation",
         2,
         "2006",
         2
        ],
        [
         "BANGER PINOCCHIO",
         "Music",
         12,
         "2006",
         2
        ],
        [
         "ENTRAPMENT SATISFACTION",
         "Action",
         1,
         "2006",
         2
        ],
        [
         "COMA HEAD",
         "Travel",
         16,
         "2006",
         2
        ],
        [
         "EVERYONE CRAFT",
         "Foreign",
         9,
         "2006",
         2
        ],
        [
         "PACKER MADIGAN",
         "Animation",
         2,
         "2006",
         2
        ],
        [
         "HOLLOW JEOPARDY",
         "Sci-Fi",
         14,
         "2006",
         2
        ],
        [
         "ODDS BOOGIE",
         "Family",
         8,
         "2006",
         2
        ],
        [
         "BEAR GRACELAND",
         "Children",
         3,
         "2006",
         2
        ],
        [
         "BLADE POLISH",
         "Drama",
         7,
         "2006",
         2
        ],
        [
         "GABLES METROPOLIS",
         "Family",
         8,
         "2006",
         2
        ],
        [
         "DANCING FEVER",
         "Documentary",
         6,
         "2006",
         2
        ],
        [
         "GOLDFINGER SENSIBILITY",
         "Drama",
         7,
         "2006",
         2
        ],
        [
         "DRIVING POLISH",
         "Music",
         12,
         "2006",
         2
        ],
        [
         "ICE CROSSING",
         "Games",
         10,
         "2006",
         2
        ],
        [
         "ORANGE GRAPES",
         "Foreign",
         9,
         "2006",
         2
        ],
        [
         "BLOOD ARGONAUTS",
         "Family",
         8,
         "2006",
         2
        ],
        [
         "MAJESTIC FLOATS",
         "Documentary",
         6,
         "2006",
         2
        ],
        [
         "GROUNDHOG UNCUT",
         "Comedy",
         5,
         "2006",
         2
        ],
        [
         "MALKOVICH PET",
         "Classics",
         4,
         "2006",
         2
        ],
        [
         "MUSCLE BRIGHT",
         "Travel",
         16,
         "2006",
         2
        ],
        [
         "PITY BOUND",
         "Drama",
         7,
         "2006",
         2
        ],
        [
         "SINNERS ATLANTIS",
         "Horror",
         11,
         "2006",
         2
        ],
        [
         "SWEDEN SHINING",
         "Comedy",
         5,
         "2006",
         2
        ],
        [
         "ROMAN PUNK",
         "Music",
         12,
         "2006",
         2
        ],
        [
         "MODERN DORADO",
         "Documentary",
         6,
         "2006",
         2
        ],
        [
         "HEAVEN FREEDOM",
         "Comedy",
         5,
         "2006",
         2
        ],
        [
         "GORGEOUS BINGO",
         "Children",
         3,
         "2006",
         2
        ],
        [
         "DEER VIRGINIAN",
         "Music",
         12,
         "2006",
         2
        ],
        [
         "GANDHI KWAI",
         "Family",
         8,
         "2006",
         2
        ],
        [
         "CHANCE RESURRECTION",
         "Sports",
         15,
         "2006",
         2
        ],
        [
         "GANGS PRIDE",
         "Animation",
         2,
         "2006",
         2
        ],
        [
         "DADDY PITTSBURGH",
         "Comedy",
         5,
         "2006",
         2
        ],
        [
         "LUCKY FLYING",
         "Music",
         12,
         "2006",
         2
        ],
        [
         "OPERATION OPERATION",
         "Comedy",
         5,
         "2006",
         2
        ],
        [
         "HAUNTING PIANIST",
         "Games",
         10,
         "2006",
         2
        ],
        [
         "RUSH GOODFELLAS",
         "Family",
         8,
         "2006",
         2
        ],
        [
         "FURY MURDER",
         "Children",
         3,
         "2006",
         2
        ],
        [
         "SEABISCUIT PUNK",
         "Sports",
         15,
         "2006",
         2
        ],
        [
         "BROTHERHOOD BLANKET",
         "Documentary",
         6,
         "2006",
         2
        ],
        [
         "GRAIL FRANKENSTEIN",
         "Action",
         1,
         "2006",
         2
        ],
        [
         "BEACH HEARTBREAKERS",
         "Documentary",
         6,
         "2006",
         2
        ],
        [
         "MYSTIC TRUMAN",
         "Comedy",
         5,
         "2006",
         2
        ],
        [
         "BRANNIGAN SUNRISE",
         "New",
         13,
         "2006",
         2
        ],
        [
         "ROOTS REMEMBER",
         "Classics",
         4,
         "2006",
         2
        ],
        [
         "FAMILY SWEET",
         "Horror",
         11,
         "2006",
         2
        ],
        [
         "DOGMA FAMILY",
         "Animation",
         2,
         "2006",
         2
        ],
        [
         "SALUTE APOLLO",
         "New",
         13,
         "2006",
         2
        ],
        [
         "DRIFTER COMMANDMENTS",
         "Action",
         1,
         "2006",
         2
        ],
        [
         "CROOKED FROGMEN",
         "Children",
         3,
         "2006",
         1
        ],
        [
         "POCUS PULP",
         "Documentary",
         6,
         "2006",
         1
        ],
        [
         "BIRDS PERDITION",
         "New",
         13,
         "2006",
         1
        ],
        [
         "CHAMPION FLATLINERS",
         "Animation",
         2,
         "2006",
         1
        ],
        [
         "DONNIE ALLEY",
         "Animation",
         2,
         "2006",
         1
        ],
        [
         "SOMETHING DUCK",
         "Drama",
         7,
         "2006",
         1
        ],
        [
         "NATIONAL STORY",
         "Documentary",
         6,
         "2006",
         1
        ],
        [
         "LION UNCUT",
         "Comedy",
         5,
         "2006",
         1
        ],
        [
         "ROXANNE REBEL",
         "Games",
         10,
         "2006",
         1
        ],
        [
         "FACTORY DRAGON",
         "Travel",
         16,
         "2006",
         1
        ],
        [
         "BLINDNESS GUN",
         "Sci-Fi",
         14,
         "2006",
         1
        ],
        [
         "PIRATES ROXANNE",
         "Sports",
         15,
         "2006",
         1
        ],
        [
         "SATISFACTION CONFIDENTIAL",
         "Sports",
         15,
         "2006",
         1
        ],
        [
         "FORREST SONS",
         "Action",
         1,
         "2006",
         1
        ],
        [
         "HOLOCAUST HIGHBALL",
         "Children",
         3,
         "2006",
         1
        ],
        [
         "ANYTHING SAVANNAH",
         "Horror",
         11,
         "2006",
         1
        ],
        [
         "CLEOPATRA DEVIL",
         "New",
         13,
         "2006",
         1
        ],
        [
         "STEPMOM DREAM",
         "Foreign",
         9,
         "2006",
         1
        ],
        [
         "GREATEST NORTH",
         "Music",
         12,
         "2006",
         1
        ],
        [
         "DOLLS RAGE",
         "Sci-Fi",
         14,
         "2006",
         1
        ],
        [
         "FRENCH HOLIDAY",
         "Documentary",
         6,
         "2006",
         1
        ],
        [
         "ESCAPE METROPOLIS",
         "Travel",
         16,
         "2006",
         1
        ],
        [
         "MICROCOSMOS PARADISE",
         "Children",
         3,
         "2006",
         1
        ],
        [
         "SASSY PACKER",
         "Games",
         10,
         "2006",
         1
        ],
        [
         "GLEAMING JAWBREAKER",
         "Sports",
         15,
         "2006",
         1
        ],
        [
         "CHISUM BEHAVIOR",
         "Family",
         8,
         "2006",
         1
        ],
        [
         "DAY UNFAITHFUL",
         "New",
         13,
         "2006",
         1
        ],
        [
         "SUIT WALLS",
         "Games",
         10,
         "2006",
         1
        ],
        [
         "ROOM ROMAN",
         "Animation",
         2,
         "2006",
         1
        ],
        [
         "SHOOTIST SUPERFLY",
         "Drama",
         7,
         "2006",
         1
        ],
        [
         "MURDER ANTITRUST",
         "Children",
         3,
         "2006",
         1
        ],
        [
         "RESERVOIR ADAPTATION",
         "Foreign",
         9,
         "2006",
         1
        ],
        [
         "SANTA PARIS",
         "Children",
         3,
         "2006",
         1
        ],
        [
         "BALLROOM MOCKINGBIRD",
         "Foreign",
         9,
         "2006",
         1
        ],
        [
         "BLANKET BEVERLY",
         "Family",
         8,
         "2006",
         1
        ],
        [
         "NOTTING SPEAKEASY",
         "Drama",
         7,
         "2006",
         1
        ],
        [
         "DOORS PRESIDENT",
         "Animation",
         2,
         "2006",
         1
        ],
        [
         "INDIAN LOVE",
         "Family",
         8,
         "2006",
         1
        ],
        [
         "JEDI BENEATH",
         "Family",
         8,
         "2006",
         1
        ],
        [
         "CLUB GRAFFITI",
         "Animation",
         2,
         "2006",
         1
        ],
        [
         "GILMORE BOILED",
         "Classics",
         4,
         "2006",
         1
        ],
        [
         "DROP WATERFRONT",
         "Sports",
         15,
         "2006",
         1
        ],
        [
         "MONSTER SPARTACUS",
         "Music",
         12,
         "2006",
         1
        ],
        [
         "SOLDIERS EVOLUTION",
         "Sci-Fi",
         14,
         "2006",
         1
        ],
        [
         "BUGSY SONG",
         "Foreign",
         9,
         "2006",
         1
        ],
        [
         "GARDEN ISLAND",
         "Sci-Fi",
         14,
         "2006",
         1
        ],
        [
         "GROOVE FICTION",
         "Sports",
         15,
         "2006",
         1
        ],
        [
         "REQUIEM TYCOON",
         "Classics",
         4,
         "2006",
         1
        ],
        [
         "JAWS HARRY",
         "Comedy",
         5,
         "2006",
         1
        ],
        [
         "PATTON INTERVIEW",
         "Horror",
         11,
         "2006",
         1
        ],
        [
         "KISS GLORY",
         "Foreign",
         9,
         "2006",
         1
        ],
        [
         "ANACONDA CONFESSIONS",
         "Animation",
         2,
         "2006",
         1
        ],
        [
         "HOURS RAGE",
         "New",
         13,
         "2006",
         1
        ],
        [
         "IDAHO LOVE",
         "New",
         13,
         "2006",
         1
        ],
        [
         "REMEMBER DIARY",
         "Family",
         8,
         "2006",
         1
        ],
        [
         "SAVANNAH TOWN",
         "Drama",
         7,
         "2006",
         1
        ],
        [
         "LEGALLY SECRETARY",
         "Children",
         3,
         "2006",
         1
        ],
        [
         "BEAST HUNCHBACK",
         "Classics",
         4,
         "2006",
         1
        ],
        [
         "LOATHING LEGALLY",
         "Classics",
         4,
         "2006",
         1
        ],
        [
         "SOUTH WAIT",
         "Action",
         1,
         "2006",
         1
        ],
        [
         "IMPACT ALADDIN",
         "Music",
         12,
         "2006",
         1
        ],
        [
         "LOCK REAR",
         "Travel",
         16,
         "2006",
         1
        ],
        [
         "INDEPENDENCE HOTEL",
         "Documentary",
         6,
         "2006",
         1
        ],
        [
         "JERK PAYCHECK",
         "Classics",
         4,
         "2006",
         1
        ],
        [
         "NOTORIOUS REUNION",
         "Documentary",
         6,
         "2006",
         1
        ],
        [
         "PINOCCHIO SIMON",
         "Comedy",
         5,
         "2006",
         1
        ],
        [
         "PUNK DIVORCE",
         "Animation",
         2,
         "2006",
         1
        ],
        [
         "ARMAGEDDON LOST",
         "Sci-Fi",
         14,
         "2006",
         1
        ],
        [
         "MOB DUFFEL",
         "Drama",
         7,
         "2006",
         1
        ],
        [
         "DREAM PICKUP",
         "Action",
         1,
         "2006",
         1
        ],
        [
         "OUTFIELD MASSACRE",
         "Music",
         12,
         "2006",
         1
        ],
        [
         "DESTINY SATURDAY",
         "New",
         13,
         "2006",
         1
        ],
        [
         "TITANIC BOONDOCK",
         "Animation",
         2,
         "2006",
         1
        ],
        [
         "LOVER TRUMAN",
         "Classics",
         4,
         "2006",
         1
        ],
        [
         "LEGEND JEDI",
         "Music",
         12,
         "2006",
         1
        ],
        [
         "EGYPT TENENBAUMS",
         "Horror",
         11,
         "2006",
         1
        ],
        [
         "LORD ARIZONA",
         "Action",
         1,
         "2006",
         1
        ],
        [
         "CASUALTIES ENCINO",
         "Action",
         1,
         "2006",
         1
        ],
        [
         "ENDING CROWDS",
         "New",
         13,
         "2006",
         1
        ],
        [
         "SHANE DARKNESS",
         "Travel",
         16,
         "2006",
         1
        ],
        [
         "LOSER HUSTLER",
         "Sports",
         15,
         "2006",
         1
        ],
        [
         "TEMPLE ATTRACTION",
         "Horror",
         11,
         "2006",
         1
        ],
        [
         "DOZEN LION",
         "Documentary",
         6,
         "2006",
         1
        ],
        [
         "STATE WASTELAND",
         "Games",
         10,
         "2006",
         1
        ],
        [
         "CRANES RESERVOIR",
         "Sports",
         15,
         "2006",
         1
        ],
        [
         "MOTIONS DETAILS",
         "Horror",
         11,
         "2006",
         1
        ],
        [
         "CADDYSHACK JEDI",
         "Action",
         1,
         "2006",
         1
        ],
        [
         "CHILL LUCK",
         "Drama",
         7,
         "2006",
         1
        ],
        [
         "BASIC EASY",
         "Travel",
         16,
         "2006",
         1
        ],
        [
         "MENAGERIE RUSHMORE",
         "Animation",
         2,
         "2006",
         1
        ],
        [
         "OPPOSITE NECKLACE",
         "Family",
         8,
         "2006",
         1
        ],
        [
         "BRIDE INTRIGUE",
         "Action",
         1,
         "2006",
         1
        ],
        [
         "GO PURPLE",
         "Music",
         12,
         "2006",
         1
        ],
        [
         "CHRISTMAS MOONSHINE",
         "Children",
         3,
         "2006",
         1
        ],
        [
         "DATE SPEED",
         "Family",
         8,
         "2006",
         1
        ],
        [
         "IDENTITY LOVER",
         "Sci-Fi",
         14,
         "2006",
         1
        ],
        [
         "EXPECATIONS NATURAL",
         "Travel",
         16,
         "2006",
         1
        ],
        [
         "ROAD ROXANNE",
         "Documentary",
         6,
         "2006",
         1
        ],
        [
         "STAR OPERATION",
         "Sports",
         15,
         "2006",
         1
        ],
        [
         "RIVER OUTLAW",
         "Sports",
         15,
         "2006",
         1
        ],
        [
         "ROBBERY BRIGHT",
         "Family",
         8,
         "2006",
         1
        ],
        [
         "FEATHERS METAL",
         "Games",
         10,
         "2006",
         1
        ],
        [
         "HUNGER ROOF",
         "Foreign",
         9,
         "2006",
         1
        ],
        [
         "REAR TRADING",
         "Action",
         1,
         "2006",
         1
        ],
        [
         "GHOSTBUSTERS ELF",
         "Animation",
         2,
         "2006",
         1
        ],
        [
         "HURRICANE AFFAIR",
         "Comedy",
         5,
         "2006",
         1
        ],
        [
         "BIRD INDEPENDENCE",
         "Travel",
         16,
         "2006",
         1
        ],
        [
         "MAIDEN HOME",
         "New",
         13,
         "2006",
         1
        ],
        [
         "MEET CHOCOLATE",
         "Foreign",
         9,
         "2006",
         1
        ],
        [
         "DEEP CRUSADE",
         "Documentary",
         6,
         "2006",
         1
        ],
        [
         "HOMICIDE PEACH",
         "Family",
         8,
         "2006",
         1
        ],
        [
         "PATIENT SISTER",
         "Classics",
         4,
         "2006",
         1
        ],
        [
         "HAROLD FRENCH",
         "Drama",
         7,
         "2006",
         1
        ],
        [
         "JEEPERS WEDDING",
         "Classics",
         4,
         "2006",
         1
        ],
        [
         "JUNGLE CLOSER",
         "New",
         13,
         "2006",
         1
        ],
        [
         "PILOT HOOSIERS",
         "Family",
         8,
         "2006",
         1
        ],
        [
         "CIDER DESIRE",
         "Documentary",
         6,
         "2006",
         1
        ],
        [
         "HOPE TOOTSIE",
         "Classics",
         4,
         "2006",
         1
        ],
        [
         "NONE SPIKING",
         "Sci-Fi",
         14,
         "2006",
         1
        ],
        [
         "CONNECTION MICROCOSMOS",
         "Comedy",
         5,
         "2006",
         1
        ],
        [
         "DARES PLUTO",
         "Animation",
         2,
         "2006",
         1
        ],
        [
         "CYCLONE FAMILY",
         "Foreign",
         9,
         "2006",
         1
        ],
        [
         "CHARADE DUFFEL",
         "Sci-Fi",
         14,
         "2006",
         1
        ],
        [
         "FLYING HOOK",
         "Animation",
         2,
         "2006",
         1
        ],
        [
         "MOSQUITO ARMAGEDDON",
         "Sports",
         15,
         "2006",
         1
        ],
        [
         "SLEEPLESS MONSOON",
         "Animation",
         2,
         "2006",
         1
        ],
        [
         "GATHERING CALENDAR",
         "Games",
         10,
         "2006",
         1
        ],
        [
         "HEAVENLY GUN",
         "Music",
         12,
         "2006",
         1
        ],
        [
         "SAGEBRUSH CLUELESS",
         "Documentary",
         6,
         "2006",
         1
        ],
        [
         "HELLFIGHTERS SIERRA",
         "Foreign",
         9,
         "2006",
         1
        ],
        [
         "CONNECTICUT TRAMP",
         "Sci-Fi",
         14,
         "2006",
         1
        ],
        [
         "LIFE TWISTED",
         "Comedy",
         5,
         "2006",
         1
        ],
        [
         "SUPER WYOMING",
         "Family",
         8,
         "2006",
         1
        ],
        [
         "PARK CITIZEN",
         "Action",
         1,
         "2006",
         1
        ],
        [
         "ALONE TRIP",
         "Music",
         12,
         "2006",
         1
        ],
        [
         "MONTEREY LABYRINTH",
         "Horror",
         11,
         "2006",
         1
        ],
        [
         "SONG HEDWIG",
         "Music",
         12,
         "2006",
         1
        ],
        [
         "HEAD STRANGER",
         "Games",
         10,
         "2006",
         1
        ],
        [
         "SHAKESPEARE SADDLE",
         "Sports",
         15,
         "2006",
         1
        ],
        [
         "SUPERFLY TRIP",
         "Travel",
         16,
         "2006",
         1
        ],
        [
         "PATRIOT ROMAN",
         "Action",
         1,
         "2006",
         1
        ],
        [
         "MADISON TRAP",
         "Documentary",
         6,
         "2006",
         1
        ],
        [
         "SLUMS DUCK",
         "Family",
         8,
         "2006",
         1
        ],
        [
         "DECEIVER BETRAYED",
         "Drama",
         7,
         "2006",
         1
        ],
        [
         "NOVOCAINE FLIGHT",
         "Sports",
         15,
         "2006",
         1
        ],
        [
         "BAREFOOT MANCHURIAN",
         "Action",
         1,
         "2006",
         1
        ],
        [
         "DRUMLINE CYCLONE",
         "Travel",
         16,
         "2006",
         1
        ],
        [
         "HOTEL HAPPINESS",
         "Foreign",
         9,
         "2006",
         1
        ],
        [
         "MADIGAN DORADO",
         "Travel",
         16,
         "2006",
         1
        ],
        [
         "SUMMER SCARFACE",
         "Classics",
         4,
         "2006",
         1
        ],
        [
         "FROST HEAD",
         "Classics",
         4,
         "2006",
         1
        ],
        [
         "FIREBALL PHILADELPHIA",
         "Comedy",
         5,
         "2006",
         1
        ],
        [
         "FORRESTER COMANCHEROS",
         "Animation",
         2,
         "2006",
         1
        ],
        [
         "DARN FORRESTER",
         "Action",
         1,
         "2006",
         1
        ],
        [
         "OPUS ICE",
         "Foreign",
         9,
         "2006",
         1
        ],
        [
         "TOWN ARK",
         "Foreign",
         9,
         "2006",
         1
        ],
        [
         "PRIX UNDEFEATED",
         "Family",
         8,
         "2006",
         1
        ],
        [
         "CRUSADE HONEY",
         "Sports",
         15,
         "2006",
         1
        ],
        [
         "PERSONAL LADYBUGS",
         "Music",
         12,
         "2006",
         1
        ],
        [
         "SHIP WONDERLAND",
         "Documentary",
         6,
         "2006",
         1
        ],
        [
         "TOWERS HURRICANE",
         "Classics",
         4,
         "2006",
         1
        ],
        [
         "BALLOON HOMEWARD",
         "Music",
         12,
         "2006",
         1
        ],
        [
         "SCARFACE BANG",
         "Children",
         3,
         "2006",
         1
        ],
        [
         "BAKED CLEOPATRA",
         "Family",
         8,
         "2006",
         1
        ],
        [
         "ROLLERCOASTER BRINGING",
         "Horror",
         11,
         "2006",
         1
        ],
        [
         "PITTSBURGH HUNCHBACK",
         "Family",
         8,
         "2006",
         1
        ],
        [
         "CABIN FLASH",
         "Children",
         3,
         "2006",
         1
        ],
        [
         "SILENCE KANE",
         "Music",
         12,
         "2006",
         1
        ],
        [
         "MINE TITANS",
         "New",
         13,
         "2006",
         1
        ],
        [
         "REIGN GENTLEMEN",
         "Sci-Fi",
         14,
         "2006",
         1
        ],
        [
         "MILE MULAN",
         "Sports",
         15,
         "2006",
         1
        ],
        [
         "CAPER MOTIONS",
         "Comedy",
         5,
         "2006",
         1
        ],
        [
         "EXCITEMENT EVE",
         "Action",
         1,
         "2006",
         1
        ],
        [
         "NAME DETECTIVE",
         "Games",
         10,
         "2006",
         1
        ],
        [
         "NECKLACE OUTBREAK",
         "Drama",
         7,
         "2006",
         1
        ],
        [
         "STALLION SUNDANCE",
         "Sci-Fi",
         14,
         "2006",
         1
        ],
        [
         "GIANT TROOPERS",
         "Children",
         3,
         "2006",
         1
        ],
        [
         "ATTRACTION NEWTON",
         "New",
         13,
         "2006",
         1
        ],
        [
         "IGBY MAKER",
         "Travel",
         16,
         "2006",
         1
        ],
        [
         "SPEAKEASY DATE",
         "Action",
         1,
         "2006",
         1
        ],
        [
         "CONTROL ANTHEM",
         "Comedy",
         5,
         "2006",
         1
        ],
        [
         "OPEN AFRICAN",
         "Sci-Fi",
         14,
         "2006",
         1
        ],
        [
         "DETAILS PACKER",
         "Games",
         10,
         "2006",
         1
        ],
        [
         "DIRTY ACE",
         "Games",
         10,
         "2006",
         1
        ],
        [
         "DOCTOR GRAIL",
         "Children",
         3,
         "2006",
         1
        ],
        [
         "ENCOUNTERS CURTAIN",
         "Drama",
         7,
         "2006",
         1
        ],
        [
         "EXPRESS LONELY",
         "Sci-Fi",
         14,
         "2006",
         1
        ],
        [
         "MASSAGE IMAGE",
         "Animation",
         2,
         "2006",
         1
        ],
        [
         "CHOCOLAT HARRY",
         "Family",
         8,
         "2006",
         1
        ],
        [
         "CLASH FREDDY",
         "Animation",
         2,
         "2006",
         1
        ],
        [
         "GALAXY SWEETHEARTS",
         "Classics",
         4,
         "2006",
         1
        ],
        [
         "ELF MURDER",
         "Music",
         12,
         "2006",
         1
        ],
        [
         "STONE FIRE",
         "Travel",
         16,
         "2006",
         1
        ],
        [
         "LAWLESS VISION",
         "Animation",
         2,
         "2006",
         1
        ],
        [
         "PAPI NECKLACE",
         "Travel",
         16,
         "2006",
         1
        ],
        [
         "TELEMARK HEARTBREAKERS",
         "Animation",
         2,
         "2006",
         1
        ],
        [
         "BEAUTY GREASE",
         "Drama",
         7,
         "2006",
         1
        ],
        [
         "BIKINI BORROWERS",
         "Animation",
         2,
         "2006",
         1
        ],
        [
         "BRIGHT ENCOUNTERS",
         "Drama",
         7,
         "2006",
         1
        ],
        [
         "CONGENIALITY QUEST",
         "Sports",
         15,
         "2006",
         1
        ],
        [
         "LOLITA WORLD",
         "Family",
         8,
         "2006",
         1
        ],
        [
         "BOULEVARD MOB",
         "New",
         13,
         "2006",
         1
        ],
        [
         "GREASE YOUTH",
         "Family",
         8,
         "2006",
         1
        ],
        [
         "MATRIX SNOWMAN",
         "Foreign",
         9,
         "2006",
         1
        ],
        [
         "OCTOBER SUBMARINE",
         "Classics",
         4,
         "2006",
         1
        ],
        [
         "POTLUCK MIXED",
         "Animation",
         2,
         "2006",
         1
        ],
        [
         "STREETCAR INTENTIONS",
         "Horror",
         11,
         "2006",
         1
        ],
        [
         "CIRCUS YOUTH",
         "Children",
         3,
         "2006",
         1
        ],
        [
         "MADRE GABLES",
         "Games",
         10,
         "2006",
         1
        ],
        [
         "ENOUGH RAGING",
         "Travel",
         16,
         "2006",
         1
        ],
        [
         "RINGS HEARTBREAKERS",
         "Action",
         1,
         "2006",
         1
        ],
        [
         "TRACY CIDER",
         "Animation",
         2,
         "2006",
         1
        ],
        [
         "DRAGONFLY STRANGERS",
         "New",
         13,
         "2006",
         1
        ],
        [
         "SPICE SORORITY",
         "Drama",
         7,
         "2006",
         1
        ],
        [
         "TIES HUNGER",
         "Children",
         3,
         "2006",
         1
        ],
        [
         "LIBERTY MAGNIFICENT",
         "Sports",
         15,
         "2006",
         1
        ],
        [
         "CLERKS ANGELS",
         "Documentary",
         6,
         "2006",
         1
        ],
        [
         "CINCINATTI WHISPERER",
         "Sci-Fi",
         14,
         "2006",
         1
        ],
        [
         "CONFESSIONS MAGUIRE",
         "Drama",
         7,
         "2006",
         1
        ],
        [
         "HOLY TADPOLE",
         "Classics",
         4,
         "2006",
         1
        ],
        [
         "MARS ROMAN",
         "Games",
         10,
         "2006",
         1
        ],
        [
         "RECORDS ZORRO",
         "Sports",
         15,
         "2006",
         1
        ],
        [
         "GOODFELLAS SALUTE",
         "Sci-Fi",
         14,
         "2006",
         1
        ],
        [
         "MALTESE HOPE",
         "Games",
         10,
         "2006",
         1
        ],
        [
         "MOCKINGBIRD HOLLYWOOD",
         "Action",
         1,
         "2006",
         1
        ],
        [
         "RAGING AIRPLANE",
         "Sci-Fi",
         14,
         "2006",
         1
        ],
        [
         "BEDAZZLED MARRIED",
         "Family",
         8,
         "2006",
         1
        ],
        [
         "PREJUDICE OLEANDER",
         "Classics",
         4,
         "2006",
         1
        ],
        [
         "SADDLE ANTITRUST",
         "Comedy",
         5,
         "2006",
         1
        ],
        [
         "LESSON CLEOPATRA",
         "Sports",
         15,
         "2006",
         1
        ],
        [
         "SHRUNK DIVINE",
         "Action",
         1,
         "2006",
         1
        ],
        [
         "DIARY PANIC",
         "Drama",
         7,
         "2006",
         1
        ],
        [
         "SLACKER LIAISONS",
         "Drama",
         7,
         "2006",
         1
        ],
        [
         "PICKUP DRIVING",
         "Sports",
         15,
         "2006",
         1
        ],
        [
         "POND SEATTLE",
         "Animation",
         2,
         "2006",
         1
        ],
        [
         "HYDE DOCTOR",
         "Classics",
         4,
         "2006",
         1
        ],
        [
         "SOUP WISDOM",
         "Family",
         8,
         "2006",
         1
        ],
        [
         "STRAIGHT HOURS",
         "Sports",
         15,
         "2006",
         1
        ],
        [
         "DALMATIONS SWEDEN",
         "Drama",
         7,
         "2006",
         1
        ],
        [
         "LOSE INCH",
         "Foreign",
         9,
         "2006",
         1
        ],
        [
         "TOOTSIE PILOT",
         "Children",
         3,
         "2006",
         1
        ],
        [
         "AFRICAN EGG",
         "Family",
         8,
         "2006",
         1
        ],
        [
         "MIGHTY LUCK",
         "Documentary",
         6,
         "2006",
         1
        ],
        [
         "NASH CHOCOLAT",
         "Animation",
         2,
         "2006",
         1
        ],
        [
         "SLIPPER FIDELITY",
         "Sports",
         15,
         "2006",
         1
        ],
        [
         "CALIFORNIA BIRDS",
         "Sports",
         15,
         "2006",
         1
        ],
        [
         "EARLY HOME",
         "Animation",
         2,
         "2006",
         1
        ],
        [
         "FOREVER CANDIDATE",
         "Children",
         3,
         "2006",
         1
        ],
        [
         "NORTH TEQUILA",
         "Documentary",
         6,
         "2006",
         1
        ],
        [
         "BETRAYED REAR",
         "Children",
         3,
         "2006",
         1
        ],
        [
         "MINDS TRUMAN",
         "Action",
         1,
         "2006",
         1
        ],
        [
         "CONEHEADS SMOOCHY",
         "Drama",
         7,
         "2006",
         1
        ],
        [
         "HIGH ENCINO",
         "Horror",
         11,
         "2006",
         1
        ],
        [
         "MADNESS ATTACKS",
         "Foreign",
         9,
         "2006",
         1
        ],
        [
         "OLEANDER CLUE",
         "Music",
         12,
         "2006",
         1
        ],
        [
         "GUYS FALCON",
         "Sci-Fi",
         14,
         "2006",
         1
        ],
        [
         "MULAN MOON",
         "Comedy",
         5,
         "2006",
         1
        ],
        [
         "FOOL MOCKINGBIRD",
         "Action",
         1,
         "2006",
         1
        ],
        [
         "TENENBAUMS COMMAND",
         "Drama",
         7,
         "2006",
         1
        ],
        [
         "DYNAMITE TARZAN",
         "Classics",
         4,
         "2006",
         1
        ],
        [
         "MANCHURIAN CURTAIN",
         "Family",
         8,
         "2006",
         1
        ],
        [
         "CARIBBEAN LIBERTY",
         "Sports",
         15,
         "2006",
         1
        ],
        [
         "ARABIA DOGMA",
         "Horror",
         11,
         "2006",
         1
        ],
        [
         "KANE EXORCIST",
         "Foreign",
         9,
         "2006",
         1
        ],
        [
         "KING EVOLUTION",
         "Family",
         8,
         "2006",
         1
        ],
        [
         "DARKO DORADO",
         "Action",
         1,
         "2006",
         1
        ],
        [
         "SMOKING BARBARELLA",
         "Documentary",
         6,
         "2006",
         1
        ],
        [
         "DURHAM PANKY",
         "Sports",
         15,
         "2006",
         1
        ],
        [
         "EXORCIST STING",
         "Sports",
         15,
         "2006",
         1
        ],
        [
         "MUSKETEERS WAIT",
         "Classics",
         4,
         "2006",
         1
        ],
        [
         "JOON NORTHWEST",
         "Sports",
         15,
         "2006",
         1
        ],
        [
         "HEAVYWEIGHTS BEAST",
         "Documentary",
         6,
         "2006",
         1
        ],
        [
         "MIDNIGHT WESTWARD",
         "Action",
         1,
         "2006",
         1
        ],
        [
         "NEIGHBORS CHARADE",
         "Sports",
         15,
         "2006",
         1
        ],
        [
         "INVASION CYCLONE",
         "Children",
         3,
         "2006",
         1
        ],
        [
         "PRINCESS GIANT",
         "Documentary",
         6,
         "2006",
         1
        ],
        [
         "STRANGER STRANGERS",
         "Children",
         3,
         "2006",
         1
        ],
        [
         "JET NEIGHBORS",
         "Foreign",
         9,
         "2006",
         1
        ],
        [
         "KWAI HOMEWARD",
         "Drama",
         7,
         "2006",
         1
        ],
        [
         "STRANGERS GRAFFITI",
         "Horror",
         11,
         "2006",
         1
        ],
        [
         "CANDIDATE PERDITION",
         "Classics",
         4,
         "2006",
         1
        ],
        [
         "BERETS AGENT",
         "Action",
         1,
         "2006",
         1
        ],
        [
         "JERICHO MULAN",
         "Games",
         10,
         "2006",
         1
        ],
        [
         "PAST SUICIDES",
         "Foreign",
         9,
         "2006",
         1
        ],
        [
         "CREEPERS KANE",
         "Classics",
         4,
         "2006",
         1
        ],
        [
         "DARKNESS WAR",
         "Drama",
         7,
         "2006",
         1
        ],
        [
         "TELEGRAPH VOYAGE",
         "Music",
         12,
         "2006",
         1
        ],
        [
         "BEHAVIOR RUNAWAY",
         "Horror",
         11,
         "2006",
         1
        ],
        [
         "CHICAGO NORTH",
         "Games",
         10,
         "2006",
         1
        ],
        [
         "JINGLE SAGEBRUSH",
         "Classics",
         4,
         "2006",
         1
        ],
        [
         "ALLEY EVOLUTION",
         "Foreign",
         9,
         "2006",
         1
        ],
        [
         "CHASING FIGHT",
         "Family",
         8,
         "2006",
         1
        ],
        [
         "LANGUAGE COWBOY",
         "Children",
         3,
         "2006",
         1
        ],
        [
         "REUNION WITCHES",
         "Drama",
         7,
         "2006",
         1
        ],
        [
         "SPEED SUIT",
         "Travel",
         16,
         "2006",
         1
        ],
        [
         "DWARFS ALTER",
         "Games",
         10,
         "2006",
         1
        ],
        [
         "GRADUATE LORD",
         "Children",
         3,
         "2006",
         1
        ],
        [
         "JASON TRAP",
         "Family",
         8,
         "2006",
         1
        ],
        [
         "ISHTAR ROCKETEER",
         "Animation",
         2,
         "2006",
         1
        ],
        [
         "LOLA AGENT",
         "Horror",
         11,
         "2006",
         1
        ],
        [
         "PIZZA JUMANJI",
         "Games",
         10,
         "2006",
         1
        ],
        [
         "REDS POCUS",
         "Music",
         12,
         "2006",
         1
        ],
        [
         "FINDING ANACONDA",
         "Family",
         8,
         "2006",
         1
        ],
        [
         "QUEEN LUKE",
         "Drama",
         7,
         "2006",
         1
        ],
        [
         "EARRING INSTINCT",
         "Family",
         8,
         "2006",
         1
        ],
        [
         "GHOST GROUNDHOG",
         "Children",
         3,
         "2006",
         1
        ],
        [
         "KARATE MOON",
         "Horror",
         11,
         "2006",
         1
        ],
        [
         "LIGHTS DEER",
         "Classics",
         4,
         "2006",
         1
        ],
        [
         "PURE RUNNER",
         "Comedy",
         5,
         "2006",
         1
        ],
        [
         "LOUISIANA HARRY",
         "Family",
         8,
         "2006",
         1
        ],
        [
         "PURPLE MOVIE",
         "Foreign",
         9,
         "2006",
         1
        ],
        [
         "SATURDAY LAMBS",
         "Sports",
         15,
         "2006",
         1
        ],
        [
         "MERMAID INSECTS",
         "Sports",
         15,
         "2006",
         1
        ],
        [
         "RUNAWAY TENENBAUMS",
         "New",
         13,
         "2006",
         1
        ],
        [
         "CRUELTY UNFORGIVEN",
         "Classics",
         4,
         "2006",
         1
        ],
        [
         "FERRIS MOTHER",
         "Comedy",
         5,
         "2006",
         1
        ],
        [
         "HAWK CHILL",
         "Documentary",
         6,
         "2006",
         1
        ],
        [
         "AMADEUS HOLY",
         "Action",
         1,
         "2006",
         1
        ],
        [
         "FLAMINGOS CONNECTICUT",
         "New",
         13,
         "2006",
         1
        ],
        [
         "DISCIPLE MOTHER",
         "Travel",
         16,
         "2006",
         1
        ],
        [
         "SIEGE MADRE",
         "Family",
         8,
         "2006",
         1
        ],
        [
         "SUBMARINE BED",
         "Comedy",
         5,
         "2006",
         1
        ],
        [
         "NEWTON LABYRINTH",
         "Foreign",
         9,
         "2006",
         1
        ],
        [
         "GREEDY ROOTS",
         "Drama",
         7,
         "2006",
         1
        ],
        [
         "DOUBTFIRE LABYRINTH",
         "Foreign",
         9,
         "2006",
         1
        ],
        [
         "ILLUSION AMELIE",
         "Foreign",
         9,
         "2006",
         1
        ],
        [
         "LADY STAGE",
         "Horror",
         11,
         "2006",
         1
        ],
        [
         "AUTUMN CROW",
         "Games",
         10,
         "2006",
         1
        ]
       ],
       "datasetInfos": [],
       "dbfsResultPath": null,
       "isJsonSchema": true,
       "metadata": {},
       "overflow": false,
       "plotOptions": {
        "customPlotOptions": {},
        "displayType": "table",
        "pivotAggregation": null,
        "pivotColumns": null,
        "xColumns": null,
        "yColumns": null
       },
       "removedWidgets": [],
       "schema": [
        {
         "metadata": "{}",
         "name": "title",
         "type": "\"string\""
        },
        {
         "metadata": "{\"scale\":0}",
         "name": "Film_Genre",
         "type": "\"string\""
        },
        {
         "metadata": "{\"scale\":0}",
         "name": "category_key",
         "type": "\"long\""
        },
        {
         "metadata": "{}",
         "name": "release_year",
         "type": "\"string\""
        },
        {
         "metadata": "{}",
         "name": "Rental_Count",
         "type": "\"long\""
        }
       ],
       "type": "table"
      }
     },
     "output_type": "display_data"
    },
    {
     "output_type": "display_data",
     "data": {
      "text/plain": [
       "Databricks visualization. Run in Databricks to view."
      ]
     },
     "metadata": {
      "application/vnd.databricks.v1.subcommand+json": {
       "bindings": {},
       "collapsed": false,
       "command": "%sql WITH q AS (SELECT * FROM fact_genres_gold) SELECT `Film_Genre`,COUNT(`Film_Genre`) `column_43ef28dd19` FROM q GROUP BY `Film_Genre`",
       "commandTitle": "Bar Graph",
       "commandType": "auto",
       "commandVersion": 0,
       "commentThread": [],
       "commentsVisible": false,
       "contentSha256Hex": null,
       "customPlotOptions": {
        "redashChart": [
         {
          "key": "type",
          "value": "CHART"
         },
         {
          "key": "options",
          "value": {
           "alignYAxesAtZero": true,
           "coefficient": 1,
           "columnConfigurationMap": {
            "x": {
             "column": "Film_Genre",
             "id": "column_43ef28dd17"
            },
            "y": [
             {
              "column": "Film_Genre",
              "id": "column_43ef28dd19",
              "transform": "COUNT"
             }
            ]
           },
           "dateTimeFormat": "DD/MM/YYYY HH:mm",
           "direction": {
            "type": "counterclockwise"
           },
           "error_y": {
            "type": "data",
            "visible": true
           },
           "globalSeriesType": "column",
           "hideXAxis": false,
           "isAggregationOn": true,
           "legend": {
            "traceorder": "normal"
           },
           "missingValuesAsZero": true,
           "numberFormat": "0,0.[00000]",
           "percentFormat": "0[.]00%",
           "reverseX": false,
           "series": {
            "error_y": {
             "type": "data",
             "visible": true
            },
            "stacking": null
           },
           "seriesOptions": {
            "column_43ef28dd19": {
             "color": "#99DDB4",
             "type": "column",
             "yAxis": 0
            }
           },
           "showDataLabels": true,
           "sizemode": "diameter",
           "sortX": true,
           "sortY": true,
           "swappedAxes": true,
           "textFormat": "",
           "useAggregationsUi": true,
           "valuesOptions": {},
           "version": 2,
           "xAxis": {
            "labels": {
             "enabled": true
            },
            "title": {
             "text": "Film Genres"
            },
            "type": "-"
           },
           "yAxis": [
            {
             "title": {
              "text": "Number of Times Rented"
             },
             "type": "-"
            },
            {
             "opposite": true,
             "type": "-"
            }
           ]
          }
         }
        ]
       },
       "datasetPreviewNameToCmdIdMap": {},
       "diffDeletes": [],
       "diffInserts": [],
       "displayType": "redashChart",
       "error": null,
       "errorDetails": null,
       "errorSummary": null,
       "errorTraceType": null,
       "finishTime": 0,
       "globalVars": {},
       "guid": "",
       "height": "auto",
       "hideCommandCode": false,
       "hideCommandResult": false,
       "iPythonMetadata": null,
       "inputWidgets": {},
       "isLockedInExamMode": false,
       "latestUser": "a user",
       "latestUserId": null,
       "listResultMetadata": null,
       "metadata": {
        "byteLimit": 2048000,
        "implicitDf": true,
        "rowLimit": 10000
       },
       "nuid": "5b1572d3-89d9-47f1-8ff1-00ff23914c0e",
       "origId": 0,
       "parentHierarchy": [],
       "pivotAggregation": null,
       "pivotColumns": null,
       "position": 40.5,
       "resultDbfsErrorMessage": null,
       "resultDbfsStatus": "INLINED_IN_TREE",
       "results": null,
       "showCommandTitle": false,
       "startTime": 0,
       "state": "input",
       "streamStates": {},
       "subcommandOptions": {
        "queryPlan": {
         "groups": [
          {
           "column": "Film_Genre",
           "type": "column"
          }
         ],
         "selects": [
          {
           "column": "Film_Genre",
           "type": "column"
          },
          {
           "alias": "column_43ef28dd19",
           "args": [
            {
             "column": "Film_Genre",
             "type": "column"
            }
           ],
           "function": "COUNT",
           "type": "function"
          }
         ]
        }
       },
       "submitTime": 0,
       "subtype": "tableResultSubCmd.visualization",
       "tableResultIndex": 0,
       "useConsistentColors": false,
       "version": "CommandV1",
       "width": "auto",
       "workflows": [],
       "xColumns": null,
       "yColumns": null
      }
     },
     "output_type": "display_data"
    }
   ],
   "source": [
    "%sql\n",
    "SELECT * FROM fact_genres_gold"
   ]
  },
  {
   "cell_type": "markdown",
   "metadata": {
    "application/vnd.databricks.v1+cell": {
     "cellMetadata": {
      "byteLimit": 2048000,
      "rowLimit": 10000
     },
     "inputWidgets": {},
     "nuid": "16a92676-9476-4226-b1dc-a07f4301d8af",
     "showTitle": false,
     "title": ""
    }
   },
   "source": [
    "### Clean up the File System "
   ]
  },
  {
   "cell_type": "code",
   "execution_count": 0,
   "metadata": {
    "application/vnd.databricks.v1+cell": {
     "cellMetadata": {
      "byteLimit": 2048000,
      "rowLimit": 10000
     },
     "inputWidgets": {},
     "nuid": "0762e74e-1ccf-493f-8d29-ad449ba7203d",
     "showTitle": false,
     "title": ""
    }
   },
   "outputs": [],
   "source": [
    "#%fs rm -r /FileStore/ds2002final/"
   ]
  }
 ],
 "metadata": {
  "application/vnd.databricks.v1+notebook": {
   "dashboards": [],
   "language": "python",
   "notebookMetadata": {
    "mostRecentlyExecutedCommandWithImplicitDF": {
     "commandId": 701318354243929,
     "dataframes": [
      "_sqldf"
     ]
    },
    "pythonIndentUnit": 4
   },
   "notebookName": "Data Project 2 (Course Capstone) - Britney Hoang",
   "widgets": {}
  }
 },
 "nbformat": 4,
 "nbformat_minor": 0
}
