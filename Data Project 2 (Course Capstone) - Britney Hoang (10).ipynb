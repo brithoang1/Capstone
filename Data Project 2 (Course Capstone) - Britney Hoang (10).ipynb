{
 "cells": [
  {
   "cell_type": "markdown",
   "metadata": {
    "application/vnd.databricks.v1+cell": {
     "cellMetadata": {
      "byteLimit": 2048000,
      "rowLimit": 10000
     },
     "inputWidgets": {},
     "nuid": "d6fd1034-c9fe-435f-b940-de2628826f32",
     "showTitle": false,
     "title": ""
    }
   },
   "source": [
    "##Project 2: Capstone - Britney Hoang \n"
   ]
  },
  {
   "cell_type": "markdown",
   "metadata": {
    "application/vnd.databricks.v1+cell": {
     "cellMetadata": {
      "byteLimit": 2048000,
      "rowLimit": 10000
     },
     "inputWidgets": {},
     "nuid": "11796317-c45c-42e8-8807-30e7a596f7fe",
     "showTitle": false,
     "title": ""
    }
   },
   "source": [
    "####For my final project, I used the Sakila SQL database. The simple buisness process that I will again be inquiring about is the rental sales of each genre at the DVD rental place."
   ]
  },
  {
   "cell_type": "markdown",
   "metadata": {
    "application/vnd.databricks.v1+cell": {
     "cellMetadata": {
      "byteLimit": 2048000,
      "rowLimit": 10000
     },
     "inputWidgets": {},
     "nuid": "8fd83bfd-8ce5-4cea-9598-866851412a26",
     "showTitle": false,
     "title": ""
    }
   },
   "source": [
    "###Import Required Libraries  "
   ]
  },
  {
   "cell_type": "code",
   "execution_count": 0,
   "metadata": {
    "application/vnd.databricks.v1+cell": {
     "cellMetadata": {
      "byteLimit": 2048000,
      "rowLimit": 10000
     },
     "inputWidgets": {},
     "nuid": "e2df9030-69d5-4cd6-9fe6-ab35760d5140",
     "showTitle": false,
     "title": ""
    }
   },
   "outputs": [],
   "source": [
    "import os\n",
    "import json\n",
    "import pymongo\n",
    "import pyspark.pandas as pd  # This uses Koalas that is included in PySpark version 3.2 or newer.\n",
    "from pyspark.sql.functions import col\n",
    "from pyspark.sql.types import StructType, StructField, StringType, TimestampType, BinaryType\n",
    "from pyspark.sql.types import ByteType, ShortType, IntegerType, LongType, FloatType, DecimalType"
   ]
  },
  {
   "cell_type": "markdown",
   "metadata": {
    "application/vnd.databricks.v1+cell": {
     "cellMetadata": {
      "byteLimit": 2048000,
      "rowLimit": 10000
     },
     "inputWidgets": {},
     "nuid": "a9fdecd9-63b8-463e-88e4-af2b82536b44",
     "showTitle": false,
     "title": ""
    }
   },
   "source": [
    "### Instantiate Global Variables"
   ]
  },
  {
   "cell_type": "code",
   "execution_count": 0,
   "metadata": {
    "application/vnd.databricks.v1+cell": {
     "cellMetadata": {
      "byteLimit": 2048000,
      "rowLimit": 10000
     },
     "inputWidgets": {},
     "nuid": "e29bd3df-7a56-4075-873f-f5c5d005c429",
     "showTitle": false,
     "title": ""
    }
   },
   "outputs": [
    {
     "output_type": "stream",
     "name": "stdout",
     "output_type": "stream",
     "text": [
      "Out[2]: True"
     ]
    }
   ],
   "source": [
    "# Azure MySQL Server Connection Information ###################\n",
    "jdbc_hostname = \"rcq5jz-mysql.mysql.database.azure.com\"\n",
    "jdbc_port = 3306\n",
    "src_database = \"sakila_dw\"\n",
    "\n",
    "#mongoDB\n",
    "connection_properties = {\n",
    "  \"user\" : \"britneyhoang0\",\n",
    "  \"password\" : \"Shawnmendes1\",\n",
    "  \"driver\" : \"org.mariadb.jdbc.Driver\"\n",
    "}\n",
    "\n",
    "# MongoDB Atlas Connection Information ########################\n",
    "atlas_cluster_name = \"period.vb5iusq\"\n",
    "atlas_database_name = \"sakila_dw2\"\n",
    "atlas_user_name = \"britneyhoang0\"\n",
    "atlas_password = \"Shawnmendes1\"\n",
    "\n",
    "# Data Files (JSON) Information ###############################\n",
    "dst_database = \"sakila_dlh\" #new sakila lakehouse\n",
    "base_dir = \"dbfs:/FileStore/ds2002final\"\n",
    "database_dir = f\"{base_dir}/{dst_database}\"\n",
    "\n",
    "data_dir = f\"{base_dir}/source_data\"\n",
    "batch_dir = f\"{data_dir}/batch\"\n",
    "stream_dir = f\"{data_dir}/stream\"\n",
    "\n",
    "genres_output_bronze = f\"{database_dir}/fact_genres/bronze\"\n",
    "genres_output_silver = f\"{database_dir}/fact_genres/silver\"\n",
    "genres_output_gold   = f\"{database_dir}/fact_genres/gold\"\n",
    "\n",
    "# Delete the Streaming Files ################################## \n",
    "dbutils.fs.rm(f\"{database_dir}/fact_genres\", True) \n",
    "\n",
    "# Delete the Database Files ###################################\n",
    "dbutils.fs.rm(database_dir, True)\n"
   ]
  },
  {
   "cell_type": "markdown",
   "metadata": {
    "application/vnd.databricks.v1+cell": {
     "cellMetadata": {
      "byteLimit": 2048000,
      "rowLimit": 10000
     },
     "inputWidgets": {},
     "nuid": "832e4a57-9641-4638-ae86-b0a581dca593",
     "showTitle": false,
     "title": ""
    }
   },
   "source": [
    "### Global functions"
   ]
  },
  {
   "cell_type": "code",
   "execution_count": 0,
   "metadata": {
    "application/vnd.databricks.v1+cell": {
     "cellMetadata": {
      "byteLimit": 2048000,
      "rowLimit": 10000
     },
     "inputWidgets": {},
     "nuid": "fa2311b2-589f-4da4-aebf-2dd83c464355",
     "showTitle": false,
     "title": ""
    }
   },
   "outputs": [],
   "source": [
    "# ######################################################################################################################\n",
    "# Use this Function to Fetch a DataFrame from the MongoDB Atlas database server Using PyMongo.\n",
    "# ######################################################################################################################\n",
    "def get_mongo_dataframe(user_id, pwd, cluster_name, db_name, collection, conditions, projection, sort):\n",
    "    '''Create a client connection to MongoDB'''\n",
    "    mongo_uri = f\"mongodb+srv://{user_id}:{pwd}@{cluster_name}.mongodb.net/{db_name}\"\n",
    "    \n",
    "    client = pymongo.MongoClient(mongo_uri)\n",
    "\n",
    "    '''Query MongoDB, and fill a python list with documents to create a DataFrame'''\n",
    "    db = client[db_name]\n",
    "    if conditions and projection and sort:\n",
    "        dframe = pd.DataFrame(list(db[collection].find(conditions, projection).sort(sort)))\n",
    "    elif conditions and projection and not sort:\n",
    "        dframe = pd.DataFrame(list(db[collection].find(conditions, projection)))\n",
    "    else:\n",
    "        dframe = pd.DataFrame(list(db[collection].find()))\n",
    "\n",
    "    client.close()\n",
    "    \n",
    "    return dframe\n",
    "\n",
    "# ######################################################################################################################\n",
    "# Use this Function to Create New Collections by Uploading JSON file(s) to the MongoDB Atlas server.\n",
    "# ######################################################################################################################\n",
    "def set_mongo_collection(user_id, pwd, cluster_name, db_name, src_file_path, json_files):\n",
    "    '''Create a client connection to MongoDB'''\n",
    "    mongo_uri = f\"mongodb+srv://{user_id}:{pwd}@{cluster_name}.mongodb.net/{db_name}\"\n",
    "    client = pymongo.MongoClient(mongo_uri)\n",
    "    db = client[db_name]\n",
    "    \n",
    "    '''Read in a JSON file, and Use It to Create a New Collection'''\n",
    "    for file in json_files:\n",
    "        db.drop_collection(file)\n",
    "        json_file = os.path.join(src_file_path, json_files[file])\n",
    "        with open(json_file, 'r') as openfile:\n",
    "            json_object = json.load(openfile)\n",
    "            file = db[file]\n",
    "            result = file.insert_many(json_object)\n",
    "\n",
    "    client.close()\n",
    "    \n",
    "    return result"
   ]
  },
  {
   "cell_type": "code",
   "execution_count": 0,
   "metadata": {
    "application/vnd.databricks.v1+cell": {
     "cellMetadata": {
      "byteLimit": 2048000,
      "implicitDf": true,
      "rowLimit": 10000
     },
     "inputWidgets": {},
     "nuid": "30dbbbd2-8b85-4285-84d3-6c2e5370d96f",
     "showTitle": false,
     "title": ""
    }
   },
   "outputs": [
    {
     "output_type": "display_data",
     "data": {
      "text/html": [
       "<style scoped>\n",
       "  .table-result-container {\n",
       "    max-height: 300px;\n",
       "    overflow: auto;\n",
       "  }\n",
       "  table, th, td {\n",
       "    border: 1px solid black;\n",
       "    border-collapse: collapse;\n",
       "  }\n",
       "  th, td {\n",
       "    padding: 5px;\n",
       "  }\n",
       "  th {\n",
       "    text-align: left;\n",
       "  }\n",
       "</style><div class='table-result-container'><table class='table-result'><thead style='background-color: white'><tr></tr></thead><tbody></tbody></table></div>"
      ]
     },
     "metadata": {
      "application/vnd.databricks.v1+output": {
       "addedWidgets": {},
       "aggData": [],
       "aggError": "",
       "aggOverflow": false,
       "aggSchema": [],
       "aggSeriesLimitReached": false,
       "aggType": "",
       "arguments": {},
       "columnCustomDisplayInfos": {},
       "data": [],
       "datasetInfos": [],
       "dbfsResultPath": null,
       "isJsonSchema": true,
       "metadata": {},
       "overflow": false,
       "plotOptions": {
        "customPlotOptions": {},
        "displayType": "table",
        "pivotAggregation": null,
        "pivotColumns": null,
        "xColumns": null,
        "yColumns": null
       },
       "removedWidgets": [],
       "schema": [],
       "type": "table"
      }
     },
     "output_type": "display_data"
    }
   ],
   "source": [
    "%sql\n",
    "DROP DATABASE IF EXISTS sakila_dlh CASCADE;"
   ]
  },
  {
   "cell_type": "markdown",
   "metadata": {
    "application/vnd.databricks.v1+cell": {
     "cellMetadata": {
      "byteLimit": 2048000,
      "rowLimit": 10000
     },
     "inputWidgets": {},
     "nuid": "8d41fb9f-2015-48e8-8ae6-1f3e86327509",
     "showTitle": false,
     "title": ""
    }
   },
   "source": [
    "###Get Data from Azure SQL Database"
   ]
  },
  {
   "cell_type": "code",
   "execution_count": 0,
   "metadata": {
    "application/vnd.databricks.v1+cell": {
     "cellMetadata": {
      "byteLimit": 2048000,
      "implicitDf": true,
      "rowLimit": 10000
     },
     "inputWidgets": {},
     "nuid": "407bd2c0-56be-402e-bd21-2698a409a7f1",
     "showTitle": false,
     "title": ""
    }
   },
   "outputs": [
    {
     "output_type": "display_data",
     "data": {
      "text/html": [
       "<style scoped>\n",
       "  .table-result-container {\n",
       "    max-height: 300px;\n",
       "    overflow: auto;\n",
       "  }\n",
       "  table, th, td {\n",
       "    border: 1px solid black;\n",
       "    border-collapse: collapse;\n",
       "  }\n",
       "  th, td {\n",
       "    padding: 5px;\n",
       "  }\n",
       "  th {\n",
       "    text-align: left;\n",
       "  }\n",
       "</style><div class='table-result-container'><table class='table-result'><thead style='background-color: white'><tr></tr></thead><tbody></tbody></table></div>"
      ]
     },
     "metadata": {
      "application/vnd.databricks.v1+output": {
       "addedWidgets": {},
       "aggData": [],
       "aggError": "",
       "aggOverflow": false,
       "aggSchema": [],
       "aggSeriesLimitReached": false,
       "aggType": "",
       "arguments": {},
       "columnCustomDisplayInfos": {},
       "data": [],
       "datasetInfos": [],
       "dbfsResultPath": null,
       "isJsonSchema": true,
       "metadata": {},
       "overflow": false,
       "plotOptions": {
        "customPlotOptions": {},
        "displayType": "table",
        "pivotAggregation": null,
        "pivotColumns": null,
        "xColumns": null,
        "yColumns": null
       },
       "removedWidgets": [],
       "schema": [],
       "type": "table"
      }
     },
     "output_type": "display_data"
    }
   ],
   "source": [
    "%sql\n",
    "CREATE DATABASE IF NOT EXISTS sakila_dlh\n",
    "COMMENT \"DS-2002 Final Project Database\"\n",
    "LOCATION \"dbfs:/FileStore/ds2002final/sakila_dlh\"\n",
    "WITH DBPROPERTIES (contains_pii = true, purpose = \"Final Project\");"
   ]
  },
  {
   "cell_type": "code",
   "execution_count": 0,
   "metadata": {
    "application/vnd.databricks.v1+cell": {
     "cellMetadata": {
      "byteLimit": 2048000,
      "implicitDf": true,
      "rowLimit": 10000
     },
     "inputWidgets": {},
     "nuid": "63582913-6b91-4a71-a294-6582646c2fe4",
     "showTitle": false,
     "title": ""
    }
   },
   "outputs": [
    {
     "output_type": "display_data",
     "data": {
      "text/html": [
       "<style scoped>\n",
       "  .table-result-container {\n",
       "    max-height: 300px;\n",
       "    overflow: auto;\n",
       "  }\n",
       "  table, th, td {\n",
       "    border: 1px solid black;\n",
       "    border-collapse: collapse;\n",
       "  }\n",
       "  th, td {\n",
       "    padding: 5px;\n",
       "  }\n",
       "  th {\n",
       "    text-align: left;\n",
       "  }\n",
       "</style><div class='table-result-container'><table class='table-result'><thead style='background-color: white'><tr></tr></thead><tbody></tbody></table></div>"
      ]
     },
     "metadata": {
      "application/vnd.databricks.v1+output": {
       "addedWidgets": {},
       "aggData": [],
       "aggError": "",
       "aggOverflow": false,
       "aggSchema": [],
       "aggSeriesLimitReached": false,
       "aggType": "",
       "arguments": {},
       "columnCustomDisplayInfos": {},
       "data": [],
       "datasetInfos": [],
       "dbfsResultPath": null,
       "isJsonSchema": true,
       "metadata": {},
       "overflow": false,
       "plotOptions": {
        "customPlotOptions": {},
        "displayType": "table",
        "pivotAggregation": null,
        "pivotColumns": null,
        "xColumns": null,
        "yColumns": null
       },
       "removedWidgets": [],
       "schema": [],
       "type": "table"
      }
     },
     "output_type": "display_data"
    }
   ],
   "source": [
    "%sql\n",
    "CREATE OR REPLACE TEMPORARY VIEW view_date\n",
    "USING org.apache.spark.sql.jdbc\n",
    "OPTIONS (\n",
    "  url \"jdbc:mysql://rcq5jz-mysql.mysql.database.azure.com:3306/sakila_dw\",\n",
    "  dbtable \"dim_date\",\n",
    "  user \"brithoang\",\n",
    "  password \"Shawnmendes.1\"\n",
    ")"
   ]
  },
  {
   "cell_type": "markdown",
   "metadata": {
    "application/vnd.databricks.v1+cell": {
     "cellMetadata": {
      "byteLimit": 2048000,
      "rowLimit": 10000
     },
     "inputWidgets": {},
     "nuid": "3391de07-6cec-4782-bb5c-18a60a23fd5c",
     "showTitle": false,
     "title": ""
    }
   },
   "source": [
    "###Create a New Table that Sources Date Dimension Data from a Table in an Azure MySQL database"
   ]
  },
  {
   "cell_type": "code",
   "execution_count": 0,
   "metadata": {
    "application/vnd.databricks.v1+cell": {
     "cellMetadata": {
      "byteLimit": 2048000,
      "implicitDf": true,
      "rowLimit": 10000
     },
     "inputWidgets": {},
     "nuid": "ad9c97ef-8ddf-49cb-a852-0675fc2ad6d8",
     "showTitle": false,
     "title": ""
    }
   },
   "outputs": [
    {
     "output_type": "display_data",
     "data": {
      "text/html": [
       "<style scoped>\n",
       "  .table-result-container {\n",
       "    max-height: 300px;\n",
       "    overflow: auto;\n",
       "  }\n",
       "  table, th, td {\n",
       "    border: 1px solid black;\n",
       "    border-collapse: collapse;\n",
       "  }\n",
       "  th, td {\n",
       "    padding: 5px;\n",
       "  }\n",
       "  th {\n",
       "    text-align: left;\n",
       "  }\n",
       "</style><div class='table-result-container'><table class='table-result'><thead style='background-color: white'><tr><th>num_affected_rows</th><th>num_inserted_rows</th></tr></thead><tbody></tbody></table></div>"
      ]
     },
     "metadata": {
      "application/vnd.databricks.v1+output": {
       "addedWidgets": {},
       "aggData": [],
       "aggError": "",
       "aggOverflow": false,
       "aggSchema": [],
       "aggSeriesLimitReached": false,
       "aggType": "",
       "arguments": {},
       "columnCustomDisplayInfos": {},
       "data": [],
       "datasetInfos": [],
       "dbfsResultPath": null,
       "isJsonSchema": true,
       "metadata": {},
       "overflow": false,
       "plotOptions": {
        "customPlotOptions": {},
        "displayType": "table",
        "pivotAggregation": null,
        "pivotColumns": null,
        "xColumns": null,
        "yColumns": null
       },
       "removedWidgets": [],
       "schema": [
        {
         "metadata": "{}",
         "name": "num_affected_rows",
         "type": "\"long\""
        },
        {
         "metadata": "{}",
         "name": "num_inserted_rows",
         "type": "\"long\""
        }
       ],
       "type": "table"
      }
     },
     "output_type": "display_data"
    }
   ],
   "source": [
    "%sql\n",
    "USE DATABASE sakila_dlh;\n",
    "\n",
    "CREATE OR REPLACE TABLE sakila_dlh.dim_date\n",
    "COMMENT \"Date Dimension Table\"\n",
    "LOCATION \"dbfs:/FileStore/ds2002final/sakila_dlh/dim_date\"\n",
    "AS SELECT * FROM view_date"
   ]
  },
  {
   "cell_type": "code",
   "execution_count": 0,
   "metadata": {
    "application/vnd.databricks.v1+cell": {
     "cellMetadata": {
      "byteLimit": 2048000,
      "implicitDf": true,
      "rowLimit": 10000
     },
     "inputWidgets": {},
     "nuid": "5d7eeb24-c9df-42ba-a595-c293ad816c05",
     "showTitle": false,
     "title": ""
    }
   },
   "outputs": [
    {
     "output_type": "display_data",
     "data": {
      "text/html": [
       "<style scoped>\n",
       "  .table-result-container {\n",
       "    max-height: 300px;\n",
       "    overflow: auto;\n",
       "  }\n",
       "  table, th, td {\n",
       "    border: 1px solid black;\n",
       "    border-collapse: collapse;\n",
       "  }\n",
       "  th, td {\n",
       "    padding: 5px;\n",
       "  }\n",
       "  th {\n",
       "    text-align: left;\n",
       "  }\n",
       "</style><div class='table-result-container'><table class='table-result'><thead style='background-color: white'><tr><th>col_name</th><th>data_type</th><th>comment</th></tr></thead><tbody><tr><td>date_key</td><td>int</td><td>null</td></tr><tr><td>full_date</td><td>date</td><td>null</td></tr><tr><td>date_name</td><td>string</td><td>null</td></tr><tr><td>date_name_us</td><td>string</td><td>null</td></tr><tr><td>date_name_eu</td><td>string</td><td>null</td></tr><tr><td>day_of_week</td><td>int</td><td>null</td></tr><tr><td>day_name_of_week</td><td>string</td><td>null</td></tr><tr><td>day_of_month</td><td>int</td><td>null</td></tr><tr><td>day_of_year</td><td>int</td><td>null</td></tr><tr><td>weekday_weekend</td><td>string</td><td>null</td></tr><tr><td>week_of_year</td><td>int</td><td>null</td></tr><tr><td>month_name</td><td>string</td><td>null</td></tr><tr><td>month_of_year</td><td>int</td><td>null</td></tr><tr><td>is_last_day_of_month</td><td>string</td><td>null</td></tr><tr><td>calendar_quarter</td><td>int</td><td>null</td></tr><tr><td>calendar_year</td><td>int</td><td>null</td></tr><tr><td>calendar_year_month</td><td>string</td><td>null</td></tr><tr><td>calendar_year_qtr</td><td>string</td><td>null</td></tr><tr><td>fiscal_month_of_year</td><td>int</td><td>null</td></tr><tr><td>fiscal_quarter</td><td>int</td><td>null</td></tr><tr><td>fiscal_year</td><td>int</td><td>null</td></tr><tr><td>fiscal_year_month</td><td>string</td><td>null</td></tr><tr><td>fiscal_year_qtr</td><td>string</td><td>null</td></tr><tr><td></td><td></td><td></td></tr><tr><td># Detailed Table Information</td><td></td><td></td></tr><tr><td>Catalog</td><td>spark_catalog</td><td></td></tr><tr><td>Database</td><td>sakila_dlh</td><td></td></tr><tr><td>Table</td><td>dim_date</td><td></td></tr><tr><td>Created Time</td><td>Tue Dec 05 05:17:48 UTC 2023</td><td></td></tr><tr><td>Last Access</td><td>UNKNOWN</td><td></td></tr><tr><td>Created By</td><td>Spark 3.3.0</td><td></td></tr><tr><td>Type</td><td>EXTERNAL</td><td></td></tr><tr><td>Comment</td><td>Date Dimension Table</td><td></td></tr><tr><td>Location</td><td>dbfs:/FileStore/ds2002final/sakila_dlh/dim_date</td><td></td></tr><tr><td>Provider</td><td>delta</td><td></td></tr><tr><td>Owner</td><td>root</td><td></td></tr><tr><td>Table Properties</td><td>[delta.minReaderVersion=1,delta.minWriterVersion=2]</td><td></td></tr></tbody></table></div>"
      ]
     },
     "metadata": {
      "application/vnd.databricks.v1+output": {
       "addedWidgets": {},
       "aggData": [],
       "aggError": "",
       "aggOverflow": false,
       "aggSchema": [],
       "aggSeriesLimitReached": false,
       "aggType": "",
       "arguments": {},
       "columnCustomDisplayInfos": {},
       "data": [
        [
         "date_key",
         "int",
         null
        ],
        [
         "full_date",
         "date",
         null
        ],
        [
         "date_name",
         "string",
         null
        ],
        [
         "date_name_us",
         "string",
         null
        ],
        [
         "date_name_eu",
         "string",
         null
        ],
        [
         "day_of_week",
         "int",
         null
        ],
        [
         "day_name_of_week",
         "string",
         null
        ],
        [
         "day_of_month",
         "int",
         null
        ],
        [
         "day_of_year",
         "int",
         null
        ],
        [
         "weekday_weekend",
         "string",
         null
        ],
        [
         "week_of_year",
         "int",
         null
        ],
        [
         "month_name",
         "string",
         null
        ],
        [
         "month_of_year",
         "int",
         null
        ],
        [
         "is_last_day_of_month",
         "string",
         null
        ],
        [
         "calendar_quarter",
         "int",
         null
        ],
        [
         "calendar_year",
         "int",
         null
        ],
        [
         "calendar_year_month",
         "string",
         null
        ],
        [
         "calendar_year_qtr",
         "string",
         null
        ],
        [
         "fiscal_month_of_year",
         "int",
         null
        ],
        [
         "fiscal_quarter",
         "int",
         null
        ],
        [
         "fiscal_year",
         "int",
         null
        ],
        [
         "fiscal_year_month",
         "string",
         null
        ],
        [
         "fiscal_year_qtr",
         "string",
         null
        ],
        [
         "",
         "",
         ""
        ],
        [
         "# Detailed Table Information",
         "",
         ""
        ],
        [
         "Catalog",
         "spark_catalog",
         ""
        ],
        [
         "Database",
         "sakila_dlh",
         ""
        ],
        [
         "Table",
         "dim_date",
         ""
        ],
        [
         "Created Time",
         "Tue Dec 05 05:17:48 UTC 2023",
         ""
        ],
        [
         "Last Access",
         "UNKNOWN",
         ""
        ],
        [
         "Created By",
         "Spark 3.3.0",
         ""
        ],
        [
         "Type",
         "EXTERNAL",
         ""
        ],
        [
         "Comment",
         "Date Dimension Table",
         ""
        ],
        [
         "Location",
         "dbfs:/FileStore/ds2002final/sakila_dlh/dim_date",
         ""
        ],
        [
         "Provider",
         "delta",
         ""
        ],
        [
         "Owner",
         "root",
         ""
        ],
        [
         "Table Properties",
         "[delta.minReaderVersion=1,delta.minWriterVersion=2]",
         ""
        ]
       ],
       "datasetInfos": [],
       "dbfsResultPath": null,
       "isJsonSchema": true,
       "metadata": {},
       "overflow": false,
       "plotOptions": {
        "customPlotOptions": {},
        "displayType": "table",
        "pivotAggregation": null,
        "pivotColumns": null,
        "xColumns": null,
        "yColumns": null
       },
       "removedWidgets": [],
       "schema": [
        {
         "metadata": "{\"comment\":\"name of the column\"}",
         "name": "col_name",
         "type": "\"string\""
        },
        {
         "metadata": "{\"comment\":\"data type of the column\"}",
         "name": "data_type",
         "type": "\"string\""
        },
        {
         "metadata": "{\"comment\":\"comment of the column\"}",
         "name": "comment",
         "type": "\"string\""
        }
       ],
       "type": "table"
      }
     },
     "output_type": "display_data"
    }
   ],
   "source": [
    "%sql\n",
    "DESCRIBE EXTENDED sakila_dlh.dim_date;"
   ]
  },
  {
   "cell_type": "code",
   "execution_count": 0,
   "metadata": {
    "application/vnd.databricks.v1+cell": {
     "cellMetadata": {
      "byteLimit": 2048000,
      "implicitDf": true,
      "rowLimit": 10000
     },
     "inputWidgets": {},
     "nuid": "791f865d-1eab-4272-aa3c-85612d00174b",
     "showTitle": false,
     "title": ""
    }
   },
   "outputs": [
    {
     "output_type": "display_data",
     "data": {
      "text/html": [
       "<style scoped>\n",
       "  .table-result-container {\n",
       "    max-height: 300px;\n",
       "    overflow: auto;\n",
       "  }\n",
       "  table, th, td {\n",
       "    border: 1px solid black;\n",
       "    border-collapse: collapse;\n",
       "  }\n",
       "  th, td {\n",
       "    padding: 5px;\n",
       "  }\n",
       "  th {\n",
       "    text-align: left;\n",
       "  }\n",
       "</style><div class='table-result-container'><table class='table-result'><thead style='background-color: white'><tr><th>date_key</th><th>full_date</th><th>date_name</th><th>date_name_us</th><th>date_name_eu</th><th>day_of_week</th><th>day_name_of_week</th><th>day_of_month</th><th>day_of_year</th><th>weekday_weekend</th><th>week_of_year</th><th>month_name</th><th>month_of_year</th><th>is_last_day_of_month</th><th>calendar_quarter</th><th>calendar_year</th><th>calendar_year_month</th><th>calendar_year_qtr</th><th>fiscal_month_of_year</th><th>fiscal_quarter</th><th>fiscal_year</th><th>fiscal_year_month</th><th>fiscal_year_qtr</th></tr></thead><tbody><tr><td>20000101</td><td>2000-01-01</td><td>2000/01/01</td><td>01/01/2000</td><td>01/01/2000</td><td>7</td><td>Saturday</td><td>1</td><td>1</td><td>Weekend</td><td>52</td><td>January</td><td>1</td><td>N</td><td>1</td><td>2000</td><td>2000-01</td><td>2000Q1</td><td>7</td><td>3</td><td>2000</td><td>2000-07</td><td>2000Q3</td></tr><tr><td>20000102</td><td>2000-01-02</td><td>2000/01/02</td><td>01/02/2000</td><td>02/01/2000</td><td>1</td><td>Sunday</td><td>2</td><td>2</td><td>Weekend</td><td>52</td><td>January</td><td>1</td><td>N</td><td>1</td><td>2000</td><td>2000-01</td><td>2000Q1</td><td>7</td><td>3</td><td>2000</td><td>2000-07</td><td>2000Q3</td></tr><tr><td>20000103</td><td>2000-01-03</td><td>2000/01/03</td><td>01/03/2000</td><td>03/01/2000</td><td>2</td><td>Monday</td><td>3</td><td>3</td><td>Weekday</td><td>1</td><td>January</td><td>1</td><td>N</td><td>1</td><td>2000</td><td>2000-01</td><td>2000Q1</td><td>7</td><td>3</td><td>2000</td><td>2000-07</td><td>2000Q3</td></tr><tr><td>20000104</td><td>2000-01-04</td><td>2000/01/04</td><td>01/04/2000</td><td>04/01/2000</td><td>3</td><td>Tuesday</td><td>4</td><td>4</td><td>Weekday</td><td>1</td><td>January</td><td>1</td><td>N</td><td>1</td><td>2000</td><td>2000-01</td><td>2000Q1</td><td>7</td><td>3</td><td>2000</td><td>2000-07</td><td>2000Q3</td></tr><tr><td>20000105</td><td>2000-01-05</td><td>2000/01/05</td><td>01/05/2000</td><td>05/01/2000</td><td>4</td><td>Wednesday</td><td>5</td><td>5</td><td>Weekday</td><td>1</td><td>January</td><td>1</td><td>N</td><td>1</td><td>2000</td><td>2000-01</td><td>2000Q1</td><td>7</td><td>3</td><td>2000</td><td>2000-07</td><td>2000Q3</td></tr></tbody></table></div>"
      ]
     },
     "metadata": {
      "application/vnd.databricks.v1+output": {
       "addedWidgets": {},
       "aggData": [],
       "aggError": "",
       "aggOverflow": false,
       "aggSchema": [],
       "aggSeriesLimitReached": false,
       "aggType": "",
       "arguments": {},
       "columnCustomDisplayInfos": {},
       "data": [
        [
         20000101,
         "2000-01-01",
         "2000/01/01",
         "01/01/2000",
         "01/01/2000",
         7,
         "Saturday",
         1,
         1,
         "Weekend",
         52,
         "January",
         1,
         "N",
         1,
         2000,
         "2000-01",
         "2000Q1",
         7,
         3,
         2000,
         "2000-07",
         "2000Q3"
        ],
        [
         20000102,
         "2000-01-02",
         "2000/01/02",
         "01/02/2000",
         "02/01/2000",
         1,
         "Sunday",
         2,
         2,
         "Weekend",
         52,
         "January",
         1,
         "N",
         1,
         2000,
         "2000-01",
         "2000Q1",
         7,
         3,
         2000,
         "2000-07",
         "2000Q3"
        ],
        [
         20000103,
         "2000-01-03",
         "2000/01/03",
         "01/03/2000",
         "03/01/2000",
         2,
         "Monday",
         3,
         3,
         "Weekday",
         1,
         "January",
         1,
         "N",
         1,
         2000,
         "2000-01",
         "2000Q1",
         7,
         3,
         2000,
         "2000-07",
         "2000Q3"
        ],
        [
         20000104,
         "2000-01-04",
         "2000/01/04",
         "01/04/2000",
         "04/01/2000",
         3,
         "Tuesday",
         4,
         4,
         "Weekday",
         1,
         "January",
         1,
         "N",
         1,
         2000,
         "2000-01",
         "2000Q1",
         7,
         3,
         2000,
         "2000-07",
         "2000Q3"
        ],
        [
         20000105,
         "2000-01-05",
         "2000/01/05",
         "01/05/2000",
         "05/01/2000",
         4,
         "Wednesday",
         5,
         5,
         "Weekday",
         1,
         "January",
         1,
         "N",
         1,
         2000,
         "2000-01",
         "2000Q1",
         7,
         3,
         2000,
         "2000-07",
         "2000Q3"
        ]
       ],
       "datasetInfos": [],
       "dbfsResultPath": null,
       "isJsonSchema": true,
       "metadata": {},
       "overflow": false,
       "plotOptions": {
        "customPlotOptions": {},
        "displayType": "table",
        "pivotAggregation": null,
        "pivotColumns": null,
        "xColumns": null,
        "yColumns": null
       },
       "removedWidgets": [],
       "schema": [
        {
         "metadata": "{\"scale\":0}",
         "name": "date_key",
         "type": "\"integer\""
        },
        {
         "metadata": "{\"scale\":0}",
         "name": "full_date",
         "type": "\"date\""
        },
        {
         "metadata": "{\"scale\":0}",
         "name": "date_name",
         "type": "\"string\""
        },
        {
         "metadata": "{\"scale\":0}",
         "name": "date_name_us",
         "type": "\"string\""
        },
        {
         "metadata": "{\"scale\":0}",
         "name": "date_name_eu",
         "type": "\"string\""
        },
        {
         "metadata": "{\"scale\":0}",
         "name": "day_of_week",
         "type": "\"integer\""
        },
        {
         "metadata": "{\"scale\":0}",
         "name": "day_name_of_week",
         "type": "\"string\""
        },
        {
         "metadata": "{\"scale\":0}",
         "name": "day_of_month",
         "type": "\"integer\""
        },
        {
         "metadata": "{\"scale\":0}",
         "name": "day_of_year",
         "type": "\"integer\""
        },
        {
         "metadata": "{\"scale\":0}",
         "name": "weekday_weekend",
         "type": "\"string\""
        },
        {
         "metadata": "{\"scale\":0}",
         "name": "week_of_year",
         "type": "\"integer\""
        },
        {
         "metadata": "{\"scale\":0}",
         "name": "month_name",
         "type": "\"string\""
        },
        {
         "metadata": "{\"scale\":0}",
         "name": "month_of_year",
         "type": "\"integer\""
        },
        {
         "metadata": "{\"scale\":0}",
         "name": "is_last_day_of_month",
         "type": "\"string\""
        },
        {
         "metadata": "{\"scale\":0}",
         "name": "calendar_quarter",
         "type": "\"integer\""
        },
        {
         "metadata": "{\"scale\":0}",
         "name": "calendar_year",
         "type": "\"integer\""
        },
        {
         "metadata": "{\"scale\":0}",
         "name": "calendar_year_month",
         "type": "\"string\""
        },
        {
         "metadata": "{\"scale\":0}",
         "name": "calendar_year_qtr",
         "type": "\"string\""
        },
        {
         "metadata": "{\"scale\":0}",
         "name": "fiscal_month_of_year",
         "type": "\"integer\""
        },
        {
         "metadata": "{\"scale\":0}",
         "name": "fiscal_quarter",
         "type": "\"integer\""
        },
        {
         "metadata": "{\"scale\":0}",
         "name": "fiscal_year",
         "type": "\"integer\""
        },
        {
         "metadata": "{\"scale\":0}",
         "name": "fiscal_year_month",
         "type": "\"string\""
        },
        {
         "metadata": "{\"scale\":0}",
         "name": "fiscal_year_qtr",
         "type": "\"string\""
        }
       ],
       "type": "table"
      }
     },
     "output_type": "display_data"
    }
   ],
   "source": [
    "%sql\n",
    "SELECT * FROM sakila_dlh.dim_date LIMIT 5"
   ]
  },
  {
   "cell_type": "markdown",
   "metadata": {
    "application/vnd.databricks.v1+cell": {
     "cellMetadata": {
      "byteLimit": 2048000,
      "rowLimit": 10000
     },
     "inputWidgets": {},
     "nuid": "95222950-af96-4757-a3e7-0290b7fb6102",
     "showTitle": false,
     "title": ""
    }
   },
   "source": [
    "### Exract Film Dimension from Mongo DB"
   ]
  },
  {
   "cell_type": "code",
   "execution_count": 0,
   "metadata": {
    "application/vnd.databricks.v1+cell": {
     "cellMetadata": {
      "byteLimit": 2048000,
      "rowLimit": 10000
     },
     "inputWidgets": {},
     "nuid": "3d18ae5a-a691-4b33-a9eb-417116a67ca8",
     "showTitle": false,
     "title": ""
    }
   },
   "outputs": [
    {
     "output_type": "display_data",
     "data": {
      "text/html": [
       "<style scoped>\n",
       "  .ansiout {\n",
       "    display: block;\n",
       "    unicode-bidi: embed;\n",
       "    white-space: pre-wrap;\n",
       "    word-wrap: break-word;\n",
       "    word-break: break-all;\n",
       "    font-family: \"Menlo\", \"Monaco\", \"Consolas\", \"Ubuntu Mono\", \"Source Code Pro\", monospace;\n",
       "    font-size: 13px;\n",
       "    color: #555;\n",
       "    margin-left: 4px;\n",
       "    line-height: 19px;\n",
       "  }\n",
       "</style>\n",
       "<div class=\"ansiout\">import com.mongodb.spark._\n",
       "df_film: org.apache.spark.sql.DataFrame = [film_id: int, title: string ... 10 more fields]\n",
       "</div>"
      ]
     },
     "metadata": {
      "application/vnd.databricks.v1+output": {
       "addedWidgets": {},
       "arguments": {},
       "data": "<div class=\"ansiout\">import com.mongodb.spark._\ndf_film: org.apache.spark.sql.DataFrame = [film_id: int, title: string ... 10 more fields]\n</div>",
       "datasetInfos": [
        {
         "name": "df_film",
         "schema": {
          "fields": [
           {
            "metadata": {},
            "name": "film_id",
            "nullable": true,
            "type": "integer"
           },
           {
            "metadata": {},
            "name": "title",
            "nullable": true,
            "type": "string"
           },
           {
            "metadata": {},
            "name": "description",
            "nullable": true,
            "type": "string"
           },
           {
            "metadata": {},
            "name": "release_year",
            "nullable": true,
            "type": "string"
           },
           {
            "metadata": {},
            "name": "language_id",
            "nullable": true,
            "type": "integer"
           },
           {
            "metadata": {},
            "name": "original_language_id",
            "nullable": true,
            "type": "integer"
           },
           {
            "metadata": {},
            "name": "rental_duration",
            "nullable": true,
            "type": "integer"
           },
           {
            "metadata": {},
            "name": "length",
            "nullable": true,
            "type": "integer"
           },
           {
            "metadata": {},
            "name": "replacement_cost",
            "nullable": true,
            "type": "double"
           },
           {
            "metadata": {},
            "name": "rating",
            "nullable": true,
            "type": "string"
           },
           {
            "metadata": {},
            "name": "special_features",
            "nullable": true,
            "type": "string"
           },
           {
            "metadata": {},
            "name": "last_update",
            "nullable": true,
            "type": "string"
           }
          ],
          "type": "struct"
         },
         "tableIdentifier": null,
         "typeStr": "org.apache.spark.sql.DataFrame"
        }
       ],
       "metadata": {
        "isDbfsCommandResult": false
       },
       "removedWidgets": [],
       "type": "html"
      }
     },
     "output_type": "display_data"
    }
   ],
   "source": [
    "%scala\n",
    "import com.mongodb.spark._\n",
    "\n",
    "val df_film = spark.read.format(\"com.mongodb.spark.sql.DefaultSource\")\n",
    ".option(\"database\", \"sakila\").option(\"collection\", \"film\").load()\n",
    ".select(\"film_id\", \"title\", \"description\", \"release_year\", \"language_id\", \"original_language_id\", \"rental_duration\", \"length\", \"replacement_cost\", \"rating\",\n",
    "\"special_features\", \"last_update\")"
   ]
  },
  {
   "cell_type": "code",
   "execution_count": 0,
   "metadata": {
    "application/vnd.databricks.v1+cell": {
     "cellMetadata": {
      "byteLimit": 2048000,
      "implicitDf": true,
      "rowLimit": 10000
     },
     "inputWidgets": {},
     "nuid": "e23afb14-8818-441d-96d1-df3182bfe192",
     "showTitle": false,
     "title": ""
    }
   },
   "outputs": [
    {
     "output_type": "display_data",
     "data": {
      "text/html": [
       "<style scoped>\n",
       "  .table-result-container {\n",
       "    max-height: 300px;\n",
       "    overflow: auto;\n",
       "  }\n",
       "  table, th, td {\n",
       "    border: 1px solid black;\n",
       "    border-collapse: collapse;\n",
       "  }\n",
       "  th, td {\n",
       "    padding: 5px;\n",
       "  }\n",
       "  th {\n",
       "    text-align: left;\n",
       "  }\n",
       "</style><div class='table-result-container'><table class='table-result'><thead style='background-color: white'><tr><th>film_id</th><th>title</th><th>description</th><th>release_year</th><th>language_id</th><th>original_language_id</th><th>rental_duration</th><th>length</th><th>replacement_cost</th><th>rating</th><th>special_features</th><th>last_update</th></tr></thead><tbody><tr><td>1</td><td>ACADEMY DINOSAUR</td><td>A Epic Drama of a Feminist And a Mad Scientist who must Battle a Teacher in The Canadian Rockies</td><td>2006</td><td>1</td><td>0</td><td>6</td><td>86</td><td>20.99</td><td>PG</td><td>Deleted Scenes,Behind the Scenes</td><td>2006-02-15 05:03:42</td></tr><tr><td>2</td><td>ACE GOLDFINGER</td><td>A Astounding Epistle of a Database Administrator And a Explorer who must Find a Car in Ancient China</td><td>2006</td><td>1</td><td>0</td><td>3</td><td>48</td><td>12.99</td><td>G</td><td>Trailers,Deleted Scenes</td><td>2006-02-15 05:03:42</td></tr><tr><td>3</td><td>ADAPTATION HOLES</td><td>A Astounding Reflection of a Lumberjack And a Car who must Sink a Lumberjack in A Baloon Factory</td><td>2006</td><td>1</td><td>0</td><td>7</td><td>50</td><td>18.99</td><td>NC-17</td><td>Trailers,Deleted Scenes</td><td>2006-02-15 05:03:42</td></tr><tr><td>4</td><td>AFFAIR PREJUDICE</td><td>A Fanciful Documentary of a Frisbee And a Lumberjack who must Chase a Monkey in A Shark Tank</td><td>2006</td><td>1</td><td>0</td><td>5</td><td>117</td><td>26.99</td><td>G</td><td>Commentaries,Behind the Scenes</td><td>2006-02-15 05:03:42</td></tr><tr><td>5</td><td>AFRICAN EGG</td><td>A Fast-Paced Documentary of a Pastry Chef And a Dentist who must Pursue a Forensic Psychologist in The Gulf of Mexico</td><td>2006</td><td>1</td><td>0</td><td>6</td><td>130</td><td>22.99</td><td>G</td><td>Deleted Scenes</td><td>2006-02-15 05:03:42</td></tr><tr><td>6</td><td>AGENT TRUMAN</td><td>A Intrepid Panorama of a Robot And a Boy who must Escape a Sumo Wrestler in Ancient China</td><td>2006</td><td>1</td><td>0</td><td>3</td><td>169</td><td>17.99</td><td>PG</td><td>Deleted Scenes</td><td>2006-02-15 05:03:42</td></tr><tr><td>7</td><td>AIRPLANE SIERRA</td><td>A Touching Saga of a Hunter And a Butler who must Discover a Butler in A Jet Boat</td><td>2006</td><td>1</td><td>0</td><td>6</td><td>62</td><td>28.99</td><td>PG-13</td><td>Trailers,Deleted Scenes</td><td>2006-02-15 05:03:42</td></tr><tr><td>8</td><td>AIRPORT POLLOCK</td><td>A Epic Tale of a Moose And a Girl who must Confront a Monkey in Ancient India</td><td>2006</td><td>1</td><td>0</td><td>6</td><td>54</td><td>15.99</td><td>R</td><td>Trailers</td><td>2006-02-15 05:03:42</td></tr><tr><td>9</td><td>ALABAMA DEVIL</td><td>A Thoughtful Panorama of a Database Administrator And a Mad Scientist who must Outgun a Mad Scientist in A Jet Boat</td><td>2006</td><td>1</td><td>0</td><td>3</td><td>114</td><td>21.99</td><td>PG-13</td><td>Trailers,Deleted Scenes</td><td>2006-02-15 05:03:42</td></tr><tr><td>10</td><td>ALADDIN CALENDAR</td><td>A Action-Packed Tale of a Man And a Lumberjack who must Reach a Feminist in Ancient China</td><td>2006</td><td>1</td><td>0</td><td>6</td><td>63</td><td>24.99</td><td>NC-17</td><td>Trailers,Deleted Scenes</td><td>2006-02-15 05:03:42</td></tr></tbody></table></div>"
      ]
     },
     "metadata": {
      "application/vnd.databricks.v1+output": {
       "addedWidgets": {},
       "aggData": [],
       "aggError": "",
       "aggOverflow": false,
       "aggSchema": [],
       "aggSeriesLimitReached": false,
       "aggType": "",
       "arguments": {},
       "columnCustomDisplayInfos": {},
       "data": [
        [
         1,
         "ACADEMY DINOSAUR",
         "A Epic Drama of a Feminist And a Mad Scientist who must Battle a Teacher in The Canadian Rockies",
         "2006",
         1,
         0,
         6,
         86,
         20.99,
         "PG",
         "Deleted Scenes,Behind the Scenes",
         "2006-02-15 05:03:42"
        ],
        [
         2,
         "ACE GOLDFINGER",
         "A Astounding Epistle of a Database Administrator And a Explorer who must Find a Car in Ancient China",
         "2006",
         1,
         0,
         3,
         48,
         12.99,
         "G",
         "Trailers,Deleted Scenes",
         "2006-02-15 05:03:42"
        ],
        [
         3,
         "ADAPTATION HOLES",
         "A Astounding Reflection of a Lumberjack And a Car who must Sink a Lumberjack in A Baloon Factory",
         "2006",
         1,
         0,
         7,
         50,
         18.99,
         "NC-17",
         "Trailers,Deleted Scenes",
         "2006-02-15 05:03:42"
        ],
        [
         4,
         "AFFAIR PREJUDICE",
         "A Fanciful Documentary of a Frisbee And a Lumberjack who must Chase a Monkey in A Shark Tank",
         "2006",
         1,
         0,
         5,
         117,
         26.99,
         "G",
         "Commentaries,Behind the Scenes",
         "2006-02-15 05:03:42"
        ],
        [
         5,
         "AFRICAN EGG",
         "A Fast-Paced Documentary of a Pastry Chef And a Dentist who must Pursue a Forensic Psychologist in The Gulf of Mexico",
         "2006",
         1,
         0,
         6,
         130,
         22.99,
         "G",
         "Deleted Scenes",
         "2006-02-15 05:03:42"
        ],
        [
         6,
         "AGENT TRUMAN",
         "A Intrepid Panorama of a Robot And a Boy who must Escape a Sumo Wrestler in Ancient China",
         "2006",
         1,
         0,
         3,
         169,
         17.99,
         "PG",
         "Deleted Scenes",
         "2006-02-15 05:03:42"
        ],
        [
         7,
         "AIRPLANE SIERRA",
         "A Touching Saga of a Hunter And a Butler who must Discover a Butler in A Jet Boat",
         "2006",
         1,
         0,
         6,
         62,
         28.99,
         "PG-13",
         "Trailers,Deleted Scenes",
         "2006-02-15 05:03:42"
        ],
        [
         8,
         "AIRPORT POLLOCK",
         "A Epic Tale of a Moose And a Girl who must Confront a Monkey in Ancient India",
         "2006",
         1,
         0,
         6,
         54,
         15.99,
         "R",
         "Trailers",
         "2006-02-15 05:03:42"
        ],
        [
         9,
         "ALABAMA DEVIL",
         "A Thoughtful Panorama of a Database Administrator And a Mad Scientist who must Outgun a Mad Scientist in A Jet Boat",
         "2006",
         1,
         0,
         3,
         114,
         21.99,
         "PG-13",
         "Trailers,Deleted Scenes",
         "2006-02-15 05:03:42"
        ],
        [
         10,
         "ALADDIN CALENDAR",
         "A Action-Packed Tale of a Man And a Lumberjack who must Reach a Feminist in Ancient China",
         "2006",
         1,
         0,
         6,
         63,
         24.99,
         "NC-17",
         "Trailers,Deleted Scenes",
         "2006-02-15 05:03:42"
        ]
       ],
       "datasetInfos": [
        {
         "name": "df_test",
         "schema": {
          "fields": [
           {
            "metadata": {},
            "name": "film_id",
            "nullable": true,
            "type": "integer"
           },
           {
            "metadata": {},
            "name": "title",
            "nullable": true,
            "type": "string"
           },
           {
            "metadata": {},
            "name": "description",
            "nullable": true,
            "type": "string"
           },
           {
            "metadata": {},
            "name": "release_year",
            "nullable": true,
            "type": "string"
           },
           {
            "metadata": {},
            "name": "language_id",
            "nullable": true,
            "type": "integer"
           },
           {
            "metadata": {},
            "name": "original_language_id",
            "nullable": true,
            "type": "integer"
           },
           {
            "metadata": {},
            "name": "rental_duration",
            "nullable": true,
            "type": "integer"
           },
           {
            "metadata": {},
            "name": "length",
            "nullable": true,
            "type": "integer"
           },
           {
            "metadata": {},
            "name": "replacement_cost",
            "nullable": true,
            "type": "double"
           },
           {
            "metadata": {},
            "name": "rating",
            "nullable": true,
            "type": "string"
           },
           {
            "metadata": {},
            "name": "special_features",
            "nullable": true,
            "type": "string"
           },
           {
            "metadata": {},
            "name": "last_update",
            "nullable": true,
            "type": "string"
           }
          ],
          "type": "struct"
         },
         "tableIdentifier": null,
         "typeStr": "org.apache.spark.sql.Dataset[org.apache.spark.sql.Row]"
        }
       ],
       "dbfsResultPath": null,
       "isJsonSchema": true,
       "metadata": {
        "isDbfsCommandResult": false
       },
       "overflow": false,
       "plotOptions": {
        "customPlotOptions": {},
        "displayType": "table",
        "pivotAggregation": null,
        "pivotColumns": null,
        "xColumns": null,
        "yColumns": null
       },
       "removedWidgets": [],
       "schema": [
        {
         "metadata": "{}",
         "name": "film_id",
         "type": "\"integer\""
        },
        {
         "metadata": "{}",
         "name": "title",
         "type": "\"string\""
        },
        {
         "metadata": "{}",
         "name": "description",
         "type": "\"string\""
        },
        {
         "metadata": "{}",
         "name": "release_year",
         "type": "\"string\""
        },
        {
         "metadata": "{}",
         "name": "language_id",
         "type": "\"integer\""
        },
        {
         "metadata": "{}",
         "name": "original_language_id",
         "type": "\"integer\""
        },
        {
         "metadata": "{}",
         "name": "rental_duration",
         "type": "\"integer\""
        },
        {
         "metadata": "{}",
         "name": "length",
         "type": "\"integer\""
        },
        {
         "metadata": "{}",
         "name": "replacement_cost",
         "type": "\"double\""
        },
        {
         "metadata": "{}",
         "name": "rating",
         "type": "\"string\""
        },
        {
         "metadata": "{}",
         "name": "special_features",
         "type": "\"string\""
        },
        {
         "metadata": "{}",
         "name": "last_update",
         "type": "\"string\""
        }
       ],
       "type": "table"
      }
     },
     "output_type": "display_data"
    }
   ],
   "source": [
    "%scala\n",
    "val df_test = df_film.limit(10)\n",
    "display(df_test)"
   ]
  },
  {
   "cell_type": "code",
   "execution_count": 0,
   "metadata": {
    "application/vnd.databricks.v1+cell": {
     "cellMetadata": {
      "byteLimit": 2048000,
      "rowLimit": 10000
     },
     "inputWidgets": {},
     "nuid": "4f56e34a-c935-40b9-b2ab-c4c09898f41c",
     "showTitle": false,
     "title": ""
    }
   },
   "outputs": [
    {
     "output_type": "display_data",
     "data": {
      "text/html": [
       "<style scoped>\n",
       "  .ansiout {\n",
       "    display: block;\n",
       "    unicode-bidi: embed;\n",
       "    white-space: pre-wrap;\n",
       "    word-wrap: break-word;\n",
       "    word-break: break-all;\n",
       "    font-family: \"Menlo\", \"Monaco\", \"Consolas\", \"Ubuntu Mono\", \"Source Code Pro\", monospace;\n",
       "    font-size: 13px;\n",
       "    color: #555;\n",
       "    margin-left: 4px;\n",
       "    line-height: 19px;\n",
       "  }\n",
       "</style>\n",
       "<div class=\"ansiout\">root\n",
       "-- film_id: integer (nullable = true)\n",
       "-- title: string (nullable = true)\n",
       "-- description: string (nullable = true)\n",
       "-- release_year: string (nullable = true)\n",
       "-- language_id: integer (nullable = true)\n",
       "-- original_language_id: integer (nullable = true)\n",
       "-- rental_duration: integer (nullable = true)\n",
       "-- length: integer (nullable = true)\n",
       "-- replacement_cost: double (nullable = true)\n",
       "-- rating: string (nullable = true)\n",
       "-- special_features: string (nullable = true)\n",
       "-- last_update: string (nullable = true)\n",
       "\n",
       "</div>"
      ]
     },
     "metadata": {
      "application/vnd.databricks.v1+output": {
       "addedWidgets": {},
       "arguments": {},
       "data": "<div class=\"ansiout\">root\n |-- film_id: integer (nullable = true)\n |-- title: string (nullable = true)\n |-- description: string (nullable = true)\n |-- release_year: string (nullable = true)\n |-- language_id: integer (nullable = true)\n |-- original_language_id: integer (nullable = true)\n |-- rental_duration: integer (nullable = true)\n |-- length: integer (nullable = true)\n |-- replacement_cost: double (nullable = true)\n |-- rating: string (nullable = true)\n |-- special_features: string (nullable = true)\n |-- last_update: string (nullable = true)\n\n</div>",
       "datasetInfos": [],
       "metadata": {
        "isDbfsCommandResult": false
       },
       "removedWidgets": [],
       "type": "html"
      }
     },
     "output_type": "display_data"
    }
   ],
   "source": [
    "%scala\n",
    "df_film.printSchema()"
   ]
  },
  {
   "cell_type": "code",
   "execution_count": 0,
   "metadata": {
    "application/vnd.databricks.v1+cell": {
     "cellMetadata": {
      "byteLimit": 2048000,
      "rowLimit": 10000
     },
     "inputWidgets": {},
     "nuid": "3066a750-2bbe-4616-8269-32ec9e21a67a",
     "showTitle": false,
     "title": ""
    }
   },
   "outputs": [
    {
     "output_type": "display_data",
     "data": {
      "text/html": [
       "<style scoped>\n",
       "  .ansiout {\n",
       "    display: block;\n",
       "    unicode-bidi: embed;\n",
       "    white-space: pre-wrap;\n",
       "    word-wrap: break-word;\n",
       "    word-break: break-all;\n",
       "    font-family: \"Menlo\", \"Monaco\", \"Consolas\", \"Ubuntu Mono\", \"Source Code Pro\", monospace;\n",
       "    font-size: 13px;\n",
       "    color: #555;\n",
       "    margin-left: 4px;\n",
       "    line-height: 19px;\n",
       "  }\n",
       "</style>\n",
       "<div class=\"ansiout\"></div>"
      ]
     },
     "metadata": {
      "application/vnd.databricks.v1+output": {
       "addedWidgets": {},
       "arguments": {},
       "data": "<div class=\"ansiout\"></div>",
       "datasetInfos": [],
       "metadata": {
        "isDbfsCommandResult": false
       },
       "removedWidgets": [],
       "type": "html"
      }
     },
     "output_type": "display_data"
    }
   ],
   "source": [
    "%scala\n",
    "df_film.write.format(\"delta\").mode(\"overwrite\").saveAsTable(\"sakila_dlh.dim_film\")"
   ]
  },
  {
   "cell_type": "code",
   "execution_count": 0,
   "metadata": {
    "application/vnd.databricks.v1+cell": {
     "cellMetadata": {
      "byteLimit": 2048000,
      "implicitDf": true,
      "rowLimit": 10000
     },
     "inputWidgets": {},
     "nuid": "6a3b8880-df87-43a7-8f5c-581d9cc8b75c",
     "showTitle": false,
     "title": ""
    }
   },
   "outputs": [
    {
     "output_type": "display_data",
     "data": {
      "text/html": [
       "<style scoped>\n",
       "  .table-result-container {\n",
       "    max-height: 300px;\n",
       "    overflow: auto;\n",
       "  }\n",
       "  table, th, td {\n",
       "    border: 1px solid black;\n",
       "    border-collapse: collapse;\n",
       "  }\n",
       "  th, td {\n",
       "    padding: 5px;\n",
       "  }\n",
       "  th {\n",
       "    text-align: left;\n",
       "  }\n",
       "</style><div class='table-result-container'><table class='table-result'><thead style='background-color: white'><tr><th>col_name</th><th>data_type</th><th>comment</th></tr></thead><tbody><tr><td>film_id</td><td>int</td><td>null</td></tr><tr><td>title</td><td>string</td><td>null</td></tr><tr><td>description</td><td>string</td><td>null</td></tr><tr><td>release_year</td><td>string</td><td>null</td></tr><tr><td>language_id</td><td>int</td><td>null</td></tr><tr><td>original_language_id</td><td>int</td><td>null</td></tr><tr><td>rental_duration</td><td>int</td><td>null</td></tr><tr><td>length</td><td>int</td><td>null</td></tr><tr><td>replacement_cost</td><td>double</td><td>null</td></tr><tr><td>rating</td><td>string</td><td>null</td></tr><tr><td>special_features</td><td>string</td><td>null</td></tr><tr><td>last_update</td><td>string</td><td>null</td></tr><tr><td></td><td></td><td></td></tr><tr><td># Detailed Table Information</td><td></td><td></td></tr><tr><td>Catalog</td><td>spark_catalog</td><td></td></tr><tr><td>Database</td><td>sakila_dlh</td><td></td></tr><tr><td>Table</td><td>dim_film</td><td></td></tr><tr><td>Created Time</td><td>Tue Dec 05 05:17:58 UTC 2023</td><td></td></tr><tr><td>Last Access</td><td>UNKNOWN</td><td></td></tr><tr><td>Created By</td><td>Spark 3.3.0</td><td></td></tr><tr><td>Type</td><td>MANAGED</td><td></td></tr><tr><td>Location</td><td>dbfs:/FileStore/ds2002final/sakila_dlh/dim_film</td><td></td></tr><tr><td>Provider</td><td>delta</td><td></td></tr><tr><td>Owner</td><td>root</td><td></td></tr><tr><td>Is_managed_location</td><td>true</td><td></td></tr><tr><td>Table Properties</td><td>[delta.minReaderVersion=1,delta.minWriterVersion=2]</td><td></td></tr></tbody></table></div>"
      ]
     },
     "metadata": {
      "application/vnd.databricks.v1+output": {
       "addedWidgets": {},
       "aggData": [],
       "aggError": "",
       "aggOverflow": false,
       "aggSchema": [],
       "aggSeriesLimitReached": false,
       "aggType": "",
       "arguments": {},
       "columnCustomDisplayInfos": {},
       "data": [
        [
         "film_id",
         "int",
         null
        ],
        [
         "title",
         "string",
         null
        ],
        [
         "description",
         "string",
         null
        ],
        [
         "release_year",
         "string",
         null
        ],
        [
         "language_id",
         "int",
         null
        ],
        [
         "original_language_id",
         "int",
         null
        ],
        [
         "rental_duration",
         "int",
         null
        ],
        [
         "length",
         "int",
         null
        ],
        [
         "replacement_cost",
         "double",
         null
        ],
        [
         "rating",
         "string",
         null
        ],
        [
         "special_features",
         "string",
         null
        ],
        [
         "last_update",
         "string",
         null
        ],
        [
         "",
         "",
         ""
        ],
        [
         "# Detailed Table Information",
         "",
         ""
        ],
        [
         "Catalog",
         "spark_catalog",
         ""
        ],
        [
         "Database",
         "sakila_dlh",
         ""
        ],
        [
         "Table",
         "dim_film",
         ""
        ],
        [
         "Created Time",
         "Tue Dec 05 05:17:58 UTC 2023",
         ""
        ],
        [
         "Last Access",
         "UNKNOWN",
         ""
        ],
        [
         "Created By",
         "Spark 3.3.0",
         ""
        ],
        [
         "Type",
         "MANAGED",
         ""
        ],
        [
         "Location",
         "dbfs:/FileStore/ds2002final/sakila_dlh/dim_film",
         ""
        ],
        [
         "Provider",
         "delta",
         ""
        ],
        [
         "Owner",
         "root",
         ""
        ],
        [
         "Is_managed_location",
         "true",
         ""
        ],
        [
         "Table Properties",
         "[delta.minReaderVersion=1,delta.minWriterVersion=2]",
         ""
        ]
       ],
       "datasetInfos": [],
       "dbfsResultPath": null,
       "isJsonSchema": true,
       "metadata": {},
       "overflow": false,
       "plotOptions": {
        "customPlotOptions": {},
        "displayType": "table",
        "pivotAggregation": null,
        "pivotColumns": null,
        "xColumns": null,
        "yColumns": null
       },
       "removedWidgets": [],
       "schema": [
        {
         "metadata": "{\"comment\":\"name of the column\"}",
         "name": "col_name",
         "type": "\"string\""
        },
        {
         "metadata": "{\"comment\":\"data type of the column\"}",
         "name": "data_type",
         "type": "\"string\""
        },
        {
         "metadata": "{\"comment\":\"comment of the column\"}",
         "name": "comment",
         "type": "\"string\""
        }
       ],
       "type": "table"
      }
     },
     "output_type": "display_data"
    }
   ],
   "source": [
    "%sql\n",
    "DESCRIBE EXTENDED sakila_dlh.dim_film"
   ]
  },
  {
   "cell_type": "code",
   "execution_count": 0,
   "metadata": {
    "application/vnd.databricks.v1+cell": {
     "cellMetadata": {
      "byteLimit": 2048000,
      "implicitDf": true,
      "rowLimit": 10000
     },
     "inputWidgets": {},
     "nuid": "452d56ab-18e1-41dd-97ab-b2dbbe92a012",
     "showTitle": false,
     "title": ""
    }
   },
   "outputs": [
    {
     "output_type": "display_data",
     "data": {
      "text/html": [
       "<style scoped>\n",
       "  .table-result-container {\n",
       "    max-height: 300px;\n",
       "    overflow: auto;\n",
       "  }\n",
       "  table, th, td {\n",
       "    border: 1px solid black;\n",
       "    border-collapse: collapse;\n",
       "  }\n",
       "  th, td {\n",
       "    padding: 5px;\n",
       "  }\n",
       "  th {\n",
       "    text-align: left;\n",
       "  }\n",
       "</style><div class='table-result-container'><table class='table-result'><thead style='background-color: white'><tr><th>film_id</th><th>title</th><th>description</th><th>release_year</th><th>language_id</th><th>original_language_id</th><th>rental_duration</th><th>length</th><th>replacement_cost</th><th>rating</th><th>special_features</th><th>last_update</th></tr></thead><tbody><tr><td>1</td><td>ACADEMY DINOSAUR</td><td>A Epic Drama of a Feminist And a Mad Scientist who must Battle a Teacher in The Canadian Rockies</td><td>2006</td><td>1</td><td>0</td><td>6</td><td>86</td><td>20.99</td><td>PG</td><td>Deleted Scenes,Behind the Scenes</td><td>2006-02-15 05:03:42</td></tr><tr><td>2</td><td>ACE GOLDFINGER</td><td>A Astounding Epistle of a Database Administrator And a Explorer who must Find a Car in Ancient China</td><td>2006</td><td>1</td><td>0</td><td>3</td><td>48</td><td>12.99</td><td>G</td><td>Trailers,Deleted Scenes</td><td>2006-02-15 05:03:42</td></tr><tr><td>3</td><td>ADAPTATION HOLES</td><td>A Astounding Reflection of a Lumberjack And a Car who must Sink a Lumberjack in A Baloon Factory</td><td>2006</td><td>1</td><td>0</td><td>7</td><td>50</td><td>18.99</td><td>NC-17</td><td>Trailers,Deleted Scenes</td><td>2006-02-15 05:03:42</td></tr><tr><td>4</td><td>AFFAIR PREJUDICE</td><td>A Fanciful Documentary of a Frisbee And a Lumberjack who must Chase a Monkey in A Shark Tank</td><td>2006</td><td>1</td><td>0</td><td>5</td><td>117</td><td>26.99</td><td>G</td><td>Commentaries,Behind the Scenes</td><td>2006-02-15 05:03:42</td></tr><tr><td>5</td><td>AFRICAN EGG</td><td>A Fast-Paced Documentary of a Pastry Chef And a Dentist who must Pursue a Forensic Psychologist in The Gulf of Mexico</td><td>2006</td><td>1</td><td>0</td><td>6</td><td>130</td><td>22.99</td><td>G</td><td>Deleted Scenes</td><td>2006-02-15 05:03:42</td></tr></tbody></table></div>"
      ]
     },
     "metadata": {
      "application/vnd.databricks.v1+output": {
       "addedWidgets": {},
       "aggData": [],
       "aggError": "",
       "aggOverflow": false,
       "aggSchema": [],
       "aggSeriesLimitReached": false,
       "aggType": "",
       "arguments": {},
       "columnCustomDisplayInfos": {},
       "data": [
        [
         1,
         "ACADEMY DINOSAUR",
         "A Epic Drama of a Feminist And a Mad Scientist who must Battle a Teacher in The Canadian Rockies",
         "2006",
         1,
         0,
         6,
         86,
         20.99,
         "PG",
         "Deleted Scenes,Behind the Scenes",
         "2006-02-15 05:03:42"
        ],
        [
         2,
         "ACE GOLDFINGER",
         "A Astounding Epistle of a Database Administrator And a Explorer who must Find a Car in Ancient China",
         "2006",
         1,
         0,
         3,
         48,
         12.99,
         "G",
         "Trailers,Deleted Scenes",
         "2006-02-15 05:03:42"
        ],
        [
         3,
         "ADAPTATION HOLES",
         "A Astounding Reflection of a Lumberjack And a Car who must Sink a Lumberjack in A Baloon Factory",
         "2006",
         1,
         0,
         7,
         50,
         18.99,
         "NC-17",
         "Trailers,Deleted Scenes",
         "2006-02-15 05:03:42"
        ],
        [
         4,
         "AFFAIR PREJUDICE",
         "A Fanciful Documentary of a Frisbee And a Lumberjack who must Chase a Monkey in A Shark Tank",
         "2006",
         1,
         0,
         5,
         117,
         26.99,
         "G",
         "Commentaries,Behind the Scenes",
         "2006-02-15 05:03:42"
        ],
        [
         5,
         "AFRICAN EGG",
         "A Fast-Paced Documentary of a Pastry Chef And a Dentist who must Pursue a Forensic Psychologist in The Gulf of Mexico",
         "2006",
         1,
         0,
         6,
         130,
         22.99,
         "G",
         "Deleted Scenes",
         "2006-02-15 05:03:42"
        ]
       ],
       "datasetInfos": [],
       "dbfsResultPath": null,
       "isJsonSchema": true,
       "metadata": {},
       "overflow": false,
       "plotOptions": {
        "customPlotOptions": {},
        "displayType": "table",
        "pivotAggregation": null,
        "pivotColumns": null,
        "xColumns": null,
        "yColumns": null
       },
       "removedWidgets": [],
       "schema": [
        {
         "metadata": "{}",
         "name": "film_id",
         "type": "\"integer\""
        },
        {
         "metadata": "{}",
         "name": "title",
         "type": "\"string\""
        },
        {
         "metadata": "{}",
         "name": "description",
         "type": "\"string\""
        },
        {
         "metadata": "{}",
         "name": "release_year",
         "type": "\"string\""
        },
        {
         "metadata": "{}",
         "name": "language_id",
         "type": "\"integer\""
        },
        {
         "metadata": "{}",
         "name": "original_language_id",
         "type": "\"integer\""
        },
        {
         "metadata": "{}",
         "name": "rental_duration",
         "type": "\"integer\""
        },
        {
         "metadata": "{}",
         "name": "length",
         "type": "\"integer\""
        },
        {
         "metadata": "{}",
         "name": "replacement_cost",
         "type": "\"double\""
        },
        {
         "metadata": "{}",
         "name": "rating",
         "type": "\"string\""
        },
        {
         "metadata": "{}",
         "name": "special_features",
         "type": "\"string\""
        },
        {
         "metadata": "{}",
         "name": "last_update",
         "type": "\"string\""
        }
       ],
       "type": "table"
      }
     },
     "output_type": "display_data"
    }
   ],
   "source": [
    "%sql\n",
    "SELECT * FROM sakila_dlh.dim_film LIMIT 5"
   ]
  },
  {
   "cell_type": "markdown",
   "metadata": {
    "application/vnd.databricks.v1+cell": {
     "cellMetadata": {
      "byteLimit": 2048000,
      "rowLimit": 10000
     },
     "inputWidgets": {},
     "nuid": "647175c2-978d-42ad-8054-d1ec1df13553",
     "showTitle": false,
     "title": ""
    }
   },
   "source": [
    "###Use PySpark to Read From a CSV File"
   ]
  },
  {
   "cell_type": "code",
   "execution_count": 0,
   "metadata": {
    "application/vnd.databricks.v1+cell": {
     "cellMetadata": {
      "byteLimit": 2048000,
      "rowLimit": 10000
     },
     "inputWidgets": {},
     "nuid": "7235f44b-f2c3-4463-811b-b5e33cfc3c8f",
     "showTitle": false,
     "title": ""
    }
   },
   "outputs": [],
   "source": [
    "rental_csv = f\"{batch_dir}/rental_table.csv\"\n",
    "\n",
    "df_rental = spark.read.format('csv').options(header='true', inferSchema='true').load(rental_csv)"
   ]
  },
  {
   "cell_type": "code",
   "execution_count": 0,
   "metadata": {
    "application/vnd.databricks.v1+cell": {
     "cellMetadata": {
      "byteLimit": 2048000,
      "rowLimit": 10000
     },
     "inputWidgets": {},
     "nuid": "4ea18d5c-20f9-486a-b70b-c0d9c514c669",
     "showTitle": false,
     "title": ""
    }
   },
   "outputs": [
    {
     "output_type": "display_data",
     "data": {
      "text/html": [
       "<style scoped>\n",
       "  .table-result-container {\n",
       "    max-height: 300px;\n",
       "    overflow: auto;\n",
       "  }\n",
       "  table, th, td {\n",
       "    border: 1px solid black;\n",
       "    border-collapse: collapse;\n",
       "  }\n",
       "  th, td {\n",
       "    padding: 5px;\n",
       "  }\n",
       "  th {\n",
       "    text-align: left;\n",
       "  }\n",
       "</style><div class='table-result-container'><table class='table-result'><thead style='background-color: white'><tr><th>rental_id</th><th>rental_date</th><th>inventory_id</th><th>customer_id</th><th>return_date</th><th>staff_id</th><th>last_update</th></tr></thead><tbody><tr><td>1</td><td>2005-05-24T22:53:30.000+0000</td><td>367</td><td>130</td><td>2005-05-26T22:04:30.000+0000</td><td>1</td><td>2006-02-15T21:30:53.000+0000</td></tr><tr><td>2</td><td>2005-05-24T22:54:33.000+0000</td><td>1525</td><td>459</td><td>2005-05-28T19:40:33.000+0000</td><td>1</td><td>2006-02-15T21:30:53.000+0000</td></tr><tr><td>3</td><td>2005-05-24T23:03:39.000+0000</td><td>1711</td><td>408</td><td>2005-06-01T22:12:39.000+0000</td><td>1</td><td>2006-02-15T21:30:53.000+0000</td></tr><tr><td>4</td><td>2005-05-24T23:04:41.000+0000</td><td>2452</td><td>333</td><td>2005-06-03T01:43:41.000+0000</td><td>2</td><td>2006-02-15T21:30:53.000+0000</td></tr><tr><td>5</td><td>2005-05-24T23:05:21.000+0000</td><td>2079</td><td>222</td><td>2005-06-02T04:33:21.000+0000</td><td>1</td><td>2006-02-15T21:30:53.000+0000</td></tr><tr><td>6</td><td>2005-05-24T23:08:07.000+0000</td><td>2792</td><td>549</td><td>2005-05-27T01:32:07.000+0000</td><td>1</td><td>2006-02-15T21:30:53.000+0000</td></tr><tr><td>7</td><td>2005-05-24T23:11:53.000+0000</td><td>3995</td><td>269</td><td>2005-05-29T20:34:53.000+0000</td><td>2</td><td>2006-02-15T21:30:53.000+0000</td></tr><tr><td>8</td><td>2005-05-24T23:31:46.000+0000</td><td>2346</td><td>239</td><td>2005-05-27T23:33:46.000+0000</td><td>2</td><td>2006-02-15T21:30:53.000+0000</td></tr><tr><td>9</td><td>2005-05-25T00:00:40.000+0000</td><td>2580</td><td>126</td><td>2005-05-28T00:22:40.000+0000</td><td>1</td><td>2006-02-15T21:30:53.000+0000</td></tr><tr><td>10</td><td>2005-05-25T00:02:21.000+0000</td><td>1824</td><td>399</td><td>2005-05-31T22:44:21.000+0000</td><td>2</td><td>2006-02-15T21:30:53.000+0000</td></tr><tr><td>11</td><td>2005-05-25T00:09:02.000+0000</td><td>4443</td><td>142</td><td>2005-06-02T20:56:02.000+0000</td><td>2</td><td>2006-02-15T21:30:53.000+0000</td></tr><tr><td>12</td><td>2005-05-25T00:19:27.000+0000</td><td>1584</td><td>261</td><td>2005-05-30T05:44:27.000+0000</td><td>2</td><td>2006-02-15T21:30:53.000+0000</td></tr><tr><td>13</td><td>2005-05-25T00:22:55.000+0000</td><td>2294</td><td>334</td><td>2005-05-30T04:28:55.000+0000</td><td>1</td><td>2006-02-15T21:30:53.000+0000</td></tr><tr><td>14</td><td>2005-05-25T00:31:15.000+0000</td><td>2701</td><td>446</td><td>2005-05-26T02:56:15.000+0000</td><td>1</td><td>2006-02-15T21:30:53.000+0000</td></tr><tr><td>15</td><td>2005-05-25T00:39:22.000+0000</td><td>3049</td><td>319</td><td>2005-06-03T03:30:22.000+0000</td><td>1</td><td>2006-02-15T21:30:53.000+0000</td></tr></tbody></table></div>"
      ]
     },
     "metadata": {
      "application/vnd.databricks.v1+output": {
       "addedWidgets": {},
       "aggData": [],
       "aggError": "",
       "aggOverflow": false,
       "aggSchema": [],
       "aggSeriesLimitReached": false,
       "aggType": "",
       "arguments": {},
       "columnCustomDisplayInfos": {},
       "data": [
        [
         1,
         "2005-05-24T22:53:30.000+0000",
         367,
         130,
         "2005-05-26T22:04:30.000+0000",
         1,
         "2006-02-15T21:30:53.000+0000"
        ],
        [
         2,
         "2005-05-24T22:54:33.000+0000",
         1525,
         459,
         "2005-05-28T19:40:33.000+0000",
         1,
         "2006-02-15T21:30:53.000+0000"
        ],
        [
         3,
         "2005-05-24T23:03:39.000+0000",
         1711,
         408,
         "2005-06-01T22:12:39.000+0000",
         1,
         "2006-02-15T21:30:53.000+0000"
        ],
        [
         4,
         "2005-05-24T23:04:41.000+0000",
         2452,
         333,
         "2005-06-03T01:43:41.000+0000",
         2,
         "2006-02-15T21:30:53.000+0000"
        ],
        [
         5,
         "2005-05-24T23:05:21.000+0000",
         2079,
         222,
         "2005-06-02T04:33:21.000+0000",
         1,
         "2006-02-15T21:30:53.000+0000"
        ],
        [
         6,
         "2005-05-24T23:08:07.000+0000",
         2792,
         549,
         "2005-05-27T01:32:07.000+0000",
         1,
         "2006-02-15T21:30:53.000+0000"
        ],
        [
         7,
         "2005-05-24T23:11:53.000+0000",
         3995,
         269,
         "2005-05-29T20:34:53.000+0000",
         2,
         "2006-02-15T21:30:53.000+0000"
        ],
        [
         8,
         "2005-05-24T23:31:46.000+0000",
         2346,
         239,
         "2005-05-27T23:33:46.000+0000",
         2,
         "2006-02-15T21:30:53.000+0000"
        ],
        [
         9,
         "2005-05-25T00:00:40.000+0000",
         2580,
         126,
         "2005-05-28T00:22:40.000+0000",
         1,
         "2006-02-15T21:30:53.000+0000"
        ],
        [
         10,
         "2005-05-25T00:02:21.000+0000",
         1824,
         399,
         "2005-05-31T22:44:21.000+0000",
         2,
         "2006-02-15T21:30:53.000+0000"
        ],
        [
         11,
         "2005-05-25T00:09:02.000+0000",
         4443,
         142,
         "2005-06-02T20:56:02.000+0000",
         2,
         "2006-02-15T21:30:53.000+0000"
        ],
        [
         12,
         "2005-05-25T00:19:27.000+0000",
         1584,
         261,
         "2005-05-30T05:44:27.000+0000",
         2,
         "2006-02-15T21:30:53.000+0000"
        ],
        [
         13,
         "2005-05-25T00:22:55.000+0000",
         2294,
         334,
         "2005-05-30T04:28:55.000+0000",
         1,
         "2006-02-15T21:30:53.000+0000"
        ],
        [
         14,
         "2005-05-25T00:31:15.000+0000",
         2701,
         446,
         "2005-05-26T02:56:15.000+0000",
         1,
         "2006-02-15T21:30:53.000+0000"
        ],
        [
         15,
         "2005-05-25T00:39:22.000+0000",
         3049,
         319,
         "2005-06-03T03:30:22.000+0000",
         1,
         "2006-02-15T21:30:53.000+0000"
        ]
       ],
       "datasetInfos": [],
       "dbfsResultPath": null,
       "isJsonSchema": true,
       "metadata": {},
       "overflow": false,
       "plotOptions": {
        "customPlotOptions": {},
        "displayType": "table",
        "pivotAggregation": null,
        "pivotColumns": null,
        "xColumns": null,
        "yColumns": null
       },
       "removedWidgets": [],
       "schema": [
        {
         "metadata": "{}",
         "name": "rental_id",
         "type": "\"long\""
        },
        {
         "metadata": "{}",
         "name": "rental_date",
         "type": "\"timestamp\""
        },
        {
         "metadata": "{}",
         "name": "inventory_id",
         "type": "\"long\""
        },
        {
         "metadata": "{}",
         "name": "customer_id",
         "type": "\"long\""
        },
        {
         "metadata": "{}",
         "name": "return_date",
         "type": "\"timestamp\""
        },
        {
         "metadata": "{}",
         "name": "staff_id",
         "type": "\"long\""
        },
        {
         "metadata": "{}",
         "name": "last_update",
         "type": "\"timestamp\""
        }
       ],
       "type": "table"
      }
     },
     "output_type": "display_data"
    }
   ],
   "source": [
    "rent_dis= df_rental.head(15)\n",
    "display(rent_dis)"
   ]
  },
  {
   "cell_type": "code",
   "execution_count": 0,
   "metadata": {
    "application/vnd.databricks.v1+cell": {
     "cellMetadata": {
      "byteLimit": 2048000,
      "rowLimit": 10000
     },
     "inputWidgets": {},
     "nuid": "9add8fe8-23d6-4a40-a744-de892beb7566",
     "showTitle": false,
     "title": ""
    }
   },
   "outputs": [
    {
     "output_type": "display_data",
     "data": {
      "text/html": [
       "<style scoped>\n",
       "  .table-result-container {\n",
       "    max-height: 300px;\n",
       "    overflow: auto;\n",
       "  }\n",
       "  table, th, td {\n",
       "    border: 1px solid black;\n",
       "    border-collapse: collapse;\n",
       "  }\n",
       "  th, td {\n",
       "    padding: 5px;\n",
       "  }\n",
       "  th {\n",
       "    text-align: left;\n",
       "  }\n",
       "</style><div class='table-result-container'><table class='table-result'><thead style='background-color: white'><tr><th>path</th><th>name</th><th>size</th><th>modificationTime</th></tr></thead><tbody><tr><td>dbfs:/FileStore/ds2002final/source_data/batch/rental_table.csv</td><td>rental_table.csv</td><td>80552</td><td>1701307307000</td></tr></tbody></table></div>"
      ]
     },
     "metadata": {
      "application/vnd.databricks.v1+output": {
       "addedWidgets": {},
       "aggData": [],
       "aggError": "",
       "aggOverflow": false,
       "aggSchema": [],
       "aggSeriesLimitReached": false,
       "aggType": "",
       "arguments": {},
       "columnCustomDisplayInfos": {},
       "data": [
        [
         "dbfs:/FileStore/ds2002final/source_data/batch/rental_table.csv",
         "rental_table.csv",
         80552,
         1701307307000
        ]
       ],
       "datasetInfos": [],
       "dbfsResultPath": null,
       "isJsonSchema": true,
       "metadata": {},
       "overflow": false,
       "plotOptions": {
        "customPlotOptions": {},
        "displayType": "table",
        "pivotAggregation": null,
        "pivotColumns": null,
        "xColumns": null,
        "yColumns": null
       },
       "removedWidgets": [],
       "schema": [
        {
         "metadata": "{}",
         "name": "path",
         "type": "\"string\""
        },
        {
         "metadata": "{}",
         "name": "name",
         "type": "\"string\""
        },
        {
         "metadata": "{}",
         "name": "size",
         "type": "\"long\""
        },
        {
         "metadata": "{}",
         "name": "modificationTime",
         "type": "\"long\""
        }
       ],
       "type": "table"
      }
     },
     "output_type": "display_data"
    }
   ],
   "source": [
    "#prints the files it currently sees in the batch directory\n",
    "display(dbutils.fs.ls(batch_dir))"
   ]
  },
  {
   "cell_type": "code",
   "execution_count": 0,
   "metadata": {
    "application/vnd.databricks.v1+cell": {
     "cellMetadata": {
      "byteLimit": 2048000,
      "rowLimit": 10000
     },
     "inputWidgets": {},
     "nuid": "89ca380e-ac4c-42fb-bad4-1b6959070339",
     "showTitle": false,
     "title": ""
    }
   },
   "outputs": [],
   "source": [
    "df_rental.write.format(\"delta\").mode(\"overwrite\").saveAsTable(\"sakila_dlh.dim_rental\")"
   ]
  },
  {
   "cell_type": "code",
   "execution_count": 0,
   "metadata": {
    "application/vnd.databricks.v1+cell": {
     "cellMetadata": {
      "byteLimit": 2048000,
      "implicitDf": true,
      "rowLimit": 10000
     },
     "inputWidgets": {},
     "nuid": "eaa3230f-1c3e-4422-a3fa-d7b02e6dbc6d",
     "showTitle": false,
     "title": ""
    }
   },
   "outputs": [
    {
     "output_type": "display_data",
     "data": {
      "text/html": [
       "<style scoped>\n",
       "  .table-result-container {\n",
       "    max-height: 300px;\n",
       "    overflow: auto;\n",
       "  }\n",
       "  table, th, td {\n",
       "    border: 1px solid black;\n",
       "    border-collapse: collapse;\n",
       "  }\n",
       "  th, td {\n",
       "    padding: 5px;\n",
       "  }\n",
       "  th {\n",
       "    text-align: left;\n",
       "  }\n",
       "</style><div class='table-result-container'><table class='table-result'><thead style='background-color: white'><tr><th>col_name</th><th>data_type</th><th>comment</th></tr></thead><tbody><tr><td>rental_id</td><td>int</td><td>null</td></tr><tr><td>rental_date</td><td>timestamp</td><td>null</td></tr><tr><td>inventory_id</td><td>int</td><td>null</td></tr><tr><td>customer_id</td><td>int</td><td>null</td></tr><tr><td>return_date</td><td>timestamp</td><td>null</td></tr><tr><td>staff_id</td><td>int</td><td>null</td></tr><tr><td>last_update</td><td>timestamp</td><td>null</td></tr><tr><td></td><td></td><td></td></tr><tr><td># Detailed Table Information</td><td></td><td></td></tr><tr><td>Catalog</td><td>spark_catalog</td><td></td></tr><tr><td>Database</td><td>sakila_dlh</td><td></td></tr><tr><td>Table</td><td>dim_rental</td><td></td></tr><tr><td>Created Time</td><td>Tue Dec 05 05:18:01 UTC 2023</td><td></td></tr><tr><td>Last Access</td><td>UNKNOWN</td><td></td></tr><tr><td>Created By</td><td>Spark 3.3.0</td><td></td></tr><tr><td>Type</td><td>MANAGED</td><td></td></tr><tr><td>Location</td><td>dbfs:/FileStore/ds2002final/sakila_dlh/dim_rental</td><td></td></tr><tr><td>Provider</td><td>delta</td><td></td></tr><tr><td>Owner</td><td>root</td><td></td></tr><tr><td>Is_managed_location</td><td>true</td><td></td></tr><tr><td>Table Properties</td><td>[delta.minReaderVersion=1,delta.minWriterVersion=2]</td><td></td></tr></tbody></table></div>"
      ]
     },
     "metadata": {
      "application/vnd.databricks.v1+output": {
       "addedWidgets": {},
       "aggData": [],
       "aggError": "",
       "aggOverflow": false,
       "aggSchema": [],
       "aggSeriesLimitReached": false,
       "aggType": "",
       "arguments": {},
       "columnCustomDisplayInfos": {},
       "data": [
        [
         "rental_id",
         "int",
         null
        ],
        [
         "rental_date",
         "timestamp",
         null
        ],
        [
         "inventory_id",
         "int",
         null
        ],
        [
         "customer_id",
         "int",
         null
        ],
        [
         "return_date",
         "timestamp",
         null
        ],
        [
         "staff_id",
         "int",
         null
        ],
        [
         "last_update",
         "timestamp",
         null
        ],
        [
         "",
         "",
         ""
        ],
        [
         "# Detailed Table Information",
         "",
         ""
        ],
        [
         "Catalog",
         "spark_catalog",
         ""
        ],
        [
         "Database",
         "sakila_dlh",
         ""
        ],
        [
         "Table",
         "dim_rental",
         ""
        ],
        [
         "Created Time",
         "Tue Dec 05 05:18:01 UTC 2023",
         ""
        ],
        [
         "Last Access",
         "UNKNOWN",
         ""
        ],
        [
         "Created By",
         "Spark 3.3.0",
         ""
        ],
        [
         "Type",
         "MANAGED",
         ""
        ],
        [
         "Location",
         "dbfs:/FileStore/ds2002final/sakila_dlh/dim_rental",
         ""
        ],
        [
         "Provider",
         "delta",
         ""
        ],
        [
         "Owner",
         "root",
         ""
        ],
        [
         "Is_managed_location",
         "true",
         ""
        ],
        [
         "Table Properties",
         "[delta.minReaderVersion=1,delta.minWriterVersion=2]",
         ""
        ]
       ],
       "datasetInfos": [],
       "dbfsResultPath": null,
       "isJsonSchema": true,
       "metadata": {},
       "overflow": false,
       "plotOptions": {
        "customPlotOptions": {},
        "displayType": "table",
        "pivotAggregation": null,
        "pivotColumns": null,
        "xColumns": null,
        "yColumns": null
       },
       "removedWidgets": [],
       "schema": [
        {
         "metadata": "{\"comment\":\"name of the column\"}",
         "name": "col_name",
         "type": "\"string\""
        },
        {
         "metadata": "{\"comment\":\"data type of the column\"}",
         "name": "data_type",
         "type": "\"string\""
        },
        {
         "metadata": "{\"comment\":\"comment of the column\"}",
         "name": "comment",
         "type": "\"string\""
        }
       ],
       "type": "table"
      }
     },
     "output_type": "display_data"
    }
   ],
   "source": [
    "%sql\n",
    "DESCRIBE EXTENDED sakila_dlh.dim_rental;"
   ]
  },
  {
   "cell_type": "code",
   "execution_count": 0,
   "metadata": {
    "application/vnd.databricks.v1+cell": {
     "cellMetadata": {
      "byteLimit": 2048000,
      "implicitDf": true,
      "rowLimit": 10000
     },
     "inputWidgets": {},
     "nuid": "c0e74872-7163-496e-9b37-278aa3b70cba",
     "showTitle": false,
     "title": ""
    }
   },
   "outputs": [
    {
     "output_type": "display_data",
     "data": {
      "text/html": [
       "<style scoped>\n",
       "  .table-result-container {\n",
       "    max-height: 300px;\n",
       "    overflow: auto;\n",
       "  }\n",
       "  table, th, td {\n",
       "    border: 1px solid black;\n",
       "    border-collapse: collapse;\n",
       "  }\n",
       "  th, td {\n",
       "    padding: 5px;\n",
       "  }\n",
       "  th {\n",
       "    text-align: left;\n",
       "  }\n",
       "</style><div class='table-result-container'><table class='table-result'><thead style='background-color: white'><tr><th>rental_id</th><th>rental_date</th><th>inventory_id</th><th>customer_id</th><th>return_date</th><th>staff_id</th><th>last_update</th></tr></thead><tbody><tr><td>1</td><td>2005-05-24T22:53:30.000+0000</td><td>367</td><td>130</td><td>2005-05-26T22:04:30.000+0000</td><td>1</td><td>2006-02-15T21:30:53.000+0000</td></tr><tr><td>2</td><td>2005-05-24T22:54:33.000+0000</td><td>1525</td><td>459</td><td>2005-05-28T19:40:33.000+0000</td><td>1</td><td>2006-02-15T21:30:53.000+0000</td></tr><tr><td>3</td><td>2005-05-24T23:03:39.000+0000</td><td>1711</td><td>408</td><td>2005-06-01T22:12:39.000+0000</td><td>1</td><td>2006-02-15T21:30:53.000+0000</td></tr><tr><td>4</td><td>2005-05-24T23:04:41.000+0000</td><td>2452</td><td>333</td><td>2005-06-03T01:43:41.000+0000</td><td>2</td><td>2006-02-15T21:30:53.000+0000</td></tr><tr><td>5</td><td>2005-05-24T23:05:21.000+0000</td><td>2079</td><td>222</td><td>2005-06-02T04:33:21.000+0000</td><td>1</td><td>2006-02-15T21:30:53.000+0000</td></tr></tbody></table></div>"
      ]
     },
     "metadata": {
      "application/vnd.databricks.v1+output": {
       "addedWidgets": {},
       "aggData": [],
       "aggError": "",
       "aggOverflow": false,
       "aggSchema": [],
       "aggSeriesLimitReached": false,
       "aggType": "",
       "arguments": {},
       "columnCustomDisplayInfos": {},
       "data": [
        [
         1,
         "2005-05-24T22:53:30.000+0000",
         367,
         130,
         "2005-05-26T22:04:30.000+0000",
         1,
         "2006-02-15T21:30:53.000+0000"
        ],
        [
         2,
         "2005-05-24T22:54:33.000+0000",
         1525,
         459,
         "2005-05-28T19:40:33.000+0000",
         1,
         "2006-02-15T21:30:53.000+0000"
        ],
        [
         3,
         "2005-05-24T23:03:39.000+0000",
         1711,
         408,
         "2005-06-01T22:12:39.000+0000",
         1,
         "2006-02-15T21:30:53.000+0000"
        ],
        [
         4,
         "2005-05-24T23:04:41.000+0000",
         2452,
         333,
         "2005-06-03T01:43:41.000+0000",
         2,
         "2006-02-15T21:30:53.000+0000"
        ],
        [
         5,
         "2005-05-24T23:05:21.000+0000",
         2079,
         222,
         "2005-06-02T04:33:21.000+0000",
         1,
         "2006-02-15T21:30:53.000+0000"
        ]
       ],
       "datasetInfos": [],
       "dbfsResultPath": null,
       "isJsonSchema": true,
       "metadata": {},
       "overflow": false,
       "plotOptions": {
        "customPlotOptions": {},
        "displayType": "table",
        "pivotAggregation": null,
        "pivotColumns": null,
        "xColumns": null,
        "yColumns": null
       },
       "removedWidgets": [],
       "schema": [
        {
         "metadata": "{}",
         "name": "rental_id",
         "type": "\"integer\""
        },
        {
         "metadata": "{}",
         "name": "rental_date",
         "type": "\"timestamp\""
        },
        {
         "metadata": "{}",
         "name": "inventory_id",
         "type": "\"integer\""
        },
        {
         "metadata": "{}",
         "name": "customer_id",
         "type": "\"integer\""
        },
        {
         "metadata": "{}",
         "name": "return_date",
         "type": "\"timestamp\""
        },
        {
         "metadata": "{}",
         "name": "staff_id",
         "type": "\"integer\""
        },
        {
         "metadata": "{}",
         "name": "last_update",
         "type": "\"timestamp\""
        }
       ],
       "type": "table"
      }
     },
     "output_type": "display_data"
    }
   ],
   "source": [
    "%sql\n",
    "SELECT * FROM sakila_dlh.dim_rental LIMIT 5;"
   ]
  },
  {
   "cell_type": "markdown",
   "metadata": {
    "application/vnd.databricks.v1+cell": {
     "cellMetadata": {
      "byteLimit": 2048000,
      "rowLimit": 10000
     },
     "inputWidgets": {},
     "nuid": "78bf979c-c932-4bf7-a436-062d4bf8dcba",
     "showTitle": false,
     "title": ""
    }
   },
   "source": [
    "###Create the rest of tables from Azure MySQL database"
   ]
  },
  {
   "cell_type": "code",
   "execution_count": 0,
   "metadata": {
    "application/vnd.databricks.v1+cell": {
     "cellMetadata": {
      "byteLimit": 2048000,
      "implicitDf": true,
      "rowLimit": 10000
     },
     "inputWidgets": {},
     "nuid": "249f686a-de3d-4897-a941-e229328b4e50",
     "showTitle": false,
     "title": ""
    }
   },
   "outputs": [
    {
     "output_type": "display_data",
     "data": {
      "text/html": [
       "<style scoped>\n",
       "  .table-result-container {\n",
       "    max-height: 300px;\n",
       "    overflow: auto;\n",
       "  }\n",
       "  table, th, td {\n",
       "    border: 1px solid black;\n",
       "    border-collapse: collapse;\n",
       "  }\n",
       "  th, td {\n",
       "    padding: 5px;\n",
       "  }\n",
       "  th {\n",
       "    text-align: left;\n",
       "  }\n",
       "</style><div class='table-result-container'><table class='table-result'><thead style='background-color: white'><tr></tr></thead><tbody></tbody></table></div>"
      ]
     },
     "metadata": {
      "application/vnd.databricks.v1+output": {
       "addedWidgets": {},
       "aggData": [],
       "aggError": "",
       "aggOverflow": false,
       "aggSchema": [],
       "aggSeriesLimitReached": false,
       "aggType": "",
       "arguments": {},
       "columnCustomDisplayInfos": {},
       "data": [],
       "datasetInfos": [],
       "dbfsResultPath": null,
       "isJsonSchema": true,
       "metadata": {},
       "overflow": false,
       "plotOptions": {
        "customPlotOptions": {},
        "displayType": "table",
        "pivotAggregation": null,
        "pivotColumns": null,
        "xColumns": null,
        "yColumns": null
       },
       "removedWidgets": [],
       "schema": [],
       "type": "table"
      }
     },
     "output_type": "display_data"
    }
   ],
   "source": [
    "%sql\n",
    "CREATE OR REPLACE TEMPORARY VIEW view_inventory\n",
    "USING org.apache.spark.sql.jdbc\n",
    "OPTIONS (\n",
    "  url \"jdbc:mysql://rcq5jz-mysql.mysql.database.azure.com:3306/sakila_dw\",\n",
    "  dbtable \"dim_inventory\",\n",
    "  user \"brithoang\",\n",
    "  password \"Shawnmendes.1\"\n",
    ")"
   ]
  },
  {
   "cell_type": "code",
   "execution_count": 0,
   "metadata": {
    "application/vnd.databricks.v1+cell": {
     "cellMetadata": {
      "byteLimit": 2048000,
      "implicitDf": true,
      "rowLimit": 10000
     },
     "inputWidgets": {},
     "nuid": "cd888ac9-e220-4506-88ff-26fee7c6fe1e",
     "showTitle": false,
     "title": ""
    }
   },
   "outputs": [
    {
     "output_type": "display_data",
     "data": {
      "text/html": [
       "<style scoped>\n",
       "  .table-result-container {\n",
       "    max-height: 300px;\n",
       "    overflow: auto;\n",
       "  }\n",
       "  table, th, td {\n",
       "    border: 1px solid black;\n",
       "    border-collapse: collapse;\n",
       "  }\n",
       "  th, td {\n",
       "    padding: 5px;\n",
       "  }\n",
       "  th {\n",
       "    text-align: left;\n",
       "  }\n",
       "</style><div class='table-result-container'><table class='table-result'><thead style='background-color: white'><tr><th>num_affected_rows</th><th>num_inserted_rows</th></tr></thead><tbody></tbody></table></div>"
      ]
     },
     "metadata": {
      "application/vnd.databricks.v1+output": {
       "addedWidgets": {},
       "aggData": [],
       "aggError": "",
       "aggOverflow": false,
       "aggSchema": [],
       "aggSeriesLimitReached": false,
       "aggType": "",
       "arguments": {},
       "columnCustomDisplayInfos": {},
       "data": [],
       "datasetInfos": [],
       "dbfsResultPath": null,
       "isJsonSchema": true,
       "metadata": {},
       "overflow": false,
       "plotOptions": {
        "customPlotOptions": {},
        "displayType": "table",
        "pivotAggregation": null,
        "pivotColumns": null,
        "xColumns": null,
        "yColumns": null
       },
       "removedWidgets": [],
       "schema": [
        {
         "metadata": "{}",
         "name": "num_affected_rows",
         "type": "\"long\""
        },
        {
         "metadata": "{}",
         "name": "num_inserted_rows",
         "type": "\"long\""
        }
       ],
       "type": "table"
      }
     },
     "output_type": "display_data"
    }
   ],
   "source": [
    "%sql\n",
    "USE DATABASE sakila_dlh;\n",
    "\n",
    "CREATE OR REPLACE TABLE sakila_dlh.dim_inventory\n",
    "COMMENT \"Inventory Dimension Table\"\n",
    "LOCATION \"dbfs:/FileStore/source_data/sakila_dlh/dim_inventory\"\n",
    "AS SELECT * FROM view_inventory\n"
   ]
  },
  {
   "cell_type": "code",
   "execution_count": 0,
   "metadata": {
    "application/vnd.databricks.v1+cell": {
     "cellMetadata": {
      "byteLimit": 2048000,
      "implicitDf": true,
      "rowLimit": 10000
     },
     "inputWidgets": {},
     "nuid": "bc83247f-b298-4ed0-a851-95cba4382797",
     "showTitle": false,
     "title": ""
    }
   },
   "outputs": [
    {
     "output_type": "display_data",
     "data": {
      "text/html": [
       "<style scoped>\n",
       "  .table-result-container {\n",
       "    max-height: 300px;\n",
       "    overflow: auto;\n",
       "  }\n",
       "  table, th, td {\n",
       "    border: 1px solid black;\n",
       "    border-collapse: collapse;\n",
       "  }\n",
       "  th, td {\n",
       "    padding: 5px;\n",
       "  }\n",
       "  th {\n",
       "    text-align: left;\n",
       "  }\n",
       "</style><div class='table-result-container'><table class='table-result'><thead style='background-color: white'><tr><th>col_name</th><th>data_type</th><th>comment</th></tr></thead><tbody><tr><td>inventory_key</td><td>bigint</td><td>null</td></tr><tr><td>film_key</td><td>bigint</td><td>null</td></tr><tr><td></td><td></td><td></td></tr><tr><td># Detailed Table Information</td><td></td><td></td></tr><tr><td>Catalog</td><td>spark_catalog</td><td></td></tr><tr><td>Database</td><td>sakila_dlh</td><td></td></tr><tr><td>Table</td><td>dim_inventory</td><td></td></tr><tr><td>Created Time</td><td>Tue Dec 05 05:18:04 UTC 2023</td><td></td></tr><tr><td>Last Access</td><td>UNKNOWN</td><td></td></tr><tr><td>Created By</td><td>Spark 3.3.0</td><td></td></tr><tr><td>Type</td><td>EXTERNAL</td><td></td></tr><tr><td>Comment</td><td>Inventory Dimension Table</td><td></td></tr><tr><td>Location</td><td>dbfs:/FileStore/source_data/sakila_dlh/dim_inventory</td><td></td></tr><tr><td>Provider</td><td>delta</td><td></td></tr><tr><td>Owner</td><td>root</td><td></td></tr><tr><td>Table Properties</td><td>[delta.minReaderVersion=1,delta.minWriterVersion=2]</td><td></td></tr></tbody></table></div>"
      ]
     },
     "metadata": {
      "application/vnd.databricks.v1+output": {
       "addedWidgets": {},
       "aggData": [],
       "aggError": "",
       "aggOverflow": false,
       "aggSchema": [],
       "aggSeriesLimitReached": false,
       "aggType": "",
       "arguments": {},
       "columnCustomDisplayInfos": {},
       "data": [
        [
         "inventory_key",
         "bigint",
         null
        ],
        [
         "film_key",
         "bigint",
         null
        ],
        [
         "",
         "",
         ""
        ],
        [
         "# Detailed Table Information",
         "",
         ""
        ],
        [
         "Catalog",
         "spark_catalog",
         ""
        ],
        [
         "Database",
         "sakila_dlh",
         ""
        ],
        [
         "Table",
         "dim_inventory",
         ""
        ],
        [
         "Created Time",
         "Tue Dec 05 05:18:04 UTC 2023",
         ""
        ],
        [
         "Last Access",
         "UNKNOWN",
         ""
        ],
        [
         "Created By",
         "Spark 3.3.0",
         ""
        ],
        [
         "Type",
         "EXTERNAL",
         ""
        ],
        [
         "Comment",
         "Inventory Dimension Table",
         ""
        ],
        [
         "Location",
         "dbfs:/FileStore/source_data/sakila_dlh/dim_inventory",
         ""
        ],
        [
         "Provider",
         "delta",
         ""
        ],
        [
         "Owner",
         "root",
         ""
        ],
        [
         "Table Properties",
         "[delta.minReaderVersion=1,delta.minWriterVersion=2]",
         ""
        ]
       ],
       "datasetInfos": [],
       "dbfsResultPath": null,
       "isJsonSchema": true,
       "metadata": {},
       "overflow": false,
       "plotOptions": {
        "customPlotOptions": {},
        "displayType": "table",
        "pivotAggregation": null,
        "pivotColumns": null,
        "xColumns": null,
        "yColumns": null
       },
       "removedWidgets": [],
       "schema": [
        {
         "metadata": "{\"comment\":\"name of the column\"}",
         "name": "col_name",
         "type": "\"string\""
        },
        {
         "metadata": "{\"comment\":\"data type of the column\"}",
         "name": "data_type",
         "type": "\"string\""
        },
        {
         "metadata": "{\"comment\":\"comment of the column\"}",
         "name": "comment",
         "type": "\"string\""
        }
       ],
       "type": "table"
      }
     },
     "output_type": "display_data"
    }
   ],
   "source": [
    "%sql\n",
    "DESCRIBE EXTENDED sakila_dlh.dim_inventory;"
   ]
  },
  {
   "cell_type": "code",
   "execution_count": 0,
   "metadata": {
    "application/vnd.databricks.v1+cell": {
     "cellMetadata": {
      "byteLimit": 2048000,
      "implicitDf": true,
      "rowLimit": 10000
     },
     "inputWidgets": {},
     "nuid": "0812c6c9-ddbd-436e-b5e7-23e6f2bea4cf",
     "showTitle": false,
     "title": ""
    }
   },
   "outputs": [
    {
     "output_type": "display_data",
     "data": {
      "text/html": [
       "<style scoped>\n",
       "  .table-result-container {\n",
       "    max-height: 300px;\n",
       "    overflow: auto;\n",
       "  }\n",
       "  table, th, td {\n",
       "    border: 1px solid black;\n",
       "    border-collapse: collapse;\n",
       "  }\n",
       "  th, td {\n",
       "    padding: 5px;\n",
       "  }\n",
       "  th {\n",
       "    text-align: left;\n",
       "  }\n",
       "</style><div class='table-result-container'><table class='table-result'><thead style='background-color: white'><tr><th>inventory_key</th><th>film_key</th></tr></thead><tbody><tr><td>1</td><td>1</td></tr><tr><td>2</td><td>1</td></tr><tr><td>3</td><td>1</td></tr><tr><td>4</td><td>1</td></tr><tr><td>5</td><td>1</td></tr></tbody></table></div>"
      ]
     },
     "metadata": {
      "application/vnd.databricks.v1+output": {
       "addedWidgets": {},
       "aggData": [],
       "aggError": "",
       "aggOverflow": false,
       "aggSchema": [],
       "aggSeriesLimitReached": false,
       "aggType": "",
       "arguments": {},
       "columnCustomDisplayInfos": {},
       "data": [
        [
         1,
         1
        ],
        [
         2,
         1
        ],
        [
         3,
         1
        ],
        [
         4,
         1
        ],
        [
         5,
         1
        ]
       ],
       "datasetInfos": [],
       "dbfsResultPath": null,
       "isJsonSchema": true,
       "metadata": {},
       "overflow": false,
       "plotOptions": {
        "customPlotOptions": {},
        "displayType": "table",
        "pivotAggregation": null,
        "pivotColumns": null,
        "xColumns": null,
        "yColumns": null
       },
       "removedWidgets": [],
       "schema": [
        {
         "metadata": "{\"scale\":0}",
         "name": "inventory_key",
         "type": "\"long\""
        },
        {
         "metadata": "{\"scale\":0}",
         "name": "film_key",
         "type": "\"long\""
        }
       ],
       "type": "table"
      }
     },
     "output_type": "display_data"
    }
   ],
   "source": [
    "%sql\n",
    "SELECT * FROM sakila_dlh.dim_inventory LIMIT 5"
   ]
  },
  {
   "cell_type": "code",
   "execution_count": 0,
   "metadata": {
    "application/vnd.databricks.v1+cell": {
     "cellMetadata": {
      "byteLimit": 2048000,
      "implicitDf": true,
      "rowLimit": 10000
     },
     "inputWidgets": {},
     "nuid": "4b7c0b7f-c01f-4023-a246-ac6576ce67b7",
     "showTitle": false,
     "title": ""
    }
   },
   "outputs": [
    {
     "output_type": "display_data",
     "data": {
      "text/html": [
       "<style scoped>\n",
       "  .table-result-container {\n",
       "    max-height: 300px;\n",
       "    overflow: auto;\n",
       "  }\n",
       "  table, th, td {\n",
       "    border: 1px solid black;\n",
       "    border-collapse: collapse;\n",
       "  }\n",
       "  th, td {\n",
       "    padding: 5px;\n",
       "  }\n",
       "  th {\n",
       "    text-align: left;\n",
       "  }\n",
       "</style><div class='table-result-container'><table class='table-result'><thead style='background-color: white'><tr></tr></thead><tbody></tbody></table></div>"
      ]
     },
     "metadata": {
      "application/vnd.databricks.v1+output": {
       "addedWidgets": {},
       "aggData": [],
       "aggError": "",
       "aggOverflow": false,
       "aggSchema": [],
       "aggSeriesLimitReached": false,
       "aggType": "",
       "arguments": {},
       "columnCustomDisplayInfos": {},
       "data": [],
       "datasetInfos": [],
       "dbfsResultPath": null,
       "isJsonSchema": true,
       "metadata": {},
       "overflow": false,
       "plotOptions": {
        "customPlotOptions": {},
        "displayType": "table",
        "pivotAggregation": null,
        "pivotColumns": null,
        "xColumns": null,
        "yColumns": null
       },
       "removedWidgets": [],
       "schema": [],
       "type": "table"
      }
     },
     "output_type": "display_data"
    }
   ],
   "source": [
    "%sql\n",
    "CREATE OR REPLACE TEMPORARY VIEW view_film_category\n",
    "USING org.apache.spark.sql.jdbc\n",
    "OPTIONS (\n",
    "  url \"jdbc:mysql://rcq5jz-mysql.mysql.database.azure.com:3306/sakila_dw\",\n",
    "  dbtable \"dim_film_category\",\n",
    "  user \"brithoang\",\n",
    "  password \"Shawnmendes.1\"\n",
    ")"
   ]
  },
  {
   "cell_type": "code",
   "execution_count": 0,
   "metadata": {
    "application/vnd.databricks.v1+cell": {
     "cellMetadata": {
      "byteLimit": 2048000,
      "implicitDf": true,
      "rowLimit": 10000
     },
     "inputWidgets": {},
     "nuid": "9d3fc087-0210-435a-91cd-0fa9f862f7c2",
     "showTitle": false,
     "title": ""
    }
   },
   "outputs": [
    {
     "output_type": "display_data",
     "data": {
      "text/html": [
       "<style scoped>\n",
       "  .table-result-container {\n",
       "    max-height: 300px;\n",
       "    overflow: auto;\n",
       "  }\n",
       "  table, th, td {\n",
       "    border: 1px solid black;\n",
       "    border-collapse: collapse;\n",
       "  }\n",
       "  th, td {\n",
       "    padding: 5px;\n",
       "  }\n",
       "  th {\n",
       "    text-align: left;\n",
       "  }\n",
       "</style><div class='table-result-container'><table class='table-result'><thead style='background-color: white'><tr><th>num_affected_rows</th><th>num_inserted_rows</th></tr></thead><tbody></tbody></table></div>"
      ]
     },
     "metadata": {
      "application/vnd.databricks.v1+output": {
       "addedWidgets": {},
       "aggData": [],
       "aggError": "",
       "aggOverflow": false,
       "aggSchema": [],
       "aggSeriesLimitReached": false,
       "aggType": "",
       "arguments": {},
       "columnCustomDisplayInfos": {},
       "data": [],
       "datasetInfos": [],
       "dbfsResultPath": null,
       "isJsonSchema": true,
       "metadata": {},
       "overflow": false,
       "plotOptions": {
        "customPlotOptions": {},
        "displayType": "table",
        "pivotAggregation": null,
        "pivotColumns": null,
        "xColumns": null,
        "yColumns": null
       },
       "removedWidgets": [],
       "schema": [
        {
         "metadata": "{}",
         "name": "num_affected_rows",
         "type": "\"long\""
        },
        {
         "metadata": "{}",
         "name": "num_inserted_rows",
         "type": "\"long\""
        }
       ],
       "type": "table"
      }
     },
     "output_type": "display_data"
    }
   ],
   "source": [
    "%sql\n",
    "USE DATABASE sakila_dlh;\n",
    "\n",
    "CREATE OR REPLACE TABLE sakila_dlh.dim_film_category\n",
    "COMMENT \"Film Category Dimension Table\"\n",
    "LOCATION \"dbfs:/FileStore/ds2002-final/sakila_dlh/dim_film_category\"\n",
    "AS SELECT * FROM view_film_category"
   ]
  },
  {
   "cell_type": "code",
   "execution_count": 0,
   "metadata": {
    "application/vnd.databricks.v1+cell": {
     "cellMetadata": {
      "byteLimit": 2048000,
      "implicitDf": true,
      "rowLimit": 10000
     },
     "inputWidgets": {},
     "nuid": "11cd42a4-c592-4f4b-8327-63820cb3f742",
     "showTitle": false,
     "title": ""
    }
   },
   "outputs": [
    {
     "output_type": "display_data",
     "data": {
      "text/html": [
       "<style scoped>\n",
       "  .table-result-container {\n",
       "    max-height: 300px;\n",
       "    overflow: auto;\n",
       "  }\n",
       "  table, th, td {\n",
       "    border: 1px solid black;\n",
       "    border-collapse: collapse;\n",
       "  }\n",
       "  th, td {\n",
       "    padding: 5px;\n",
       "  }\n",
       "  th {\n",
       "    text-align: left;\n",
       "  }\n",
       "</style><div class='table-result-container'><table class='table-result'><thead style='background-color: white'><tr><th>col_name</th><th>data_type</th><th>comment</th></tr></thead><tbody><tr><td>film_category_key</td><td>bigint</td><td>null</td></tr><tr><td>film_key</td><td>bigint</td><td>null</td></tr><tr><td>category_key</td><td>bigint</td><td>null</td></tr><tr><td>last_update</td><td>timestamp</td><td>null</td></tr><tr><td></td><td></td><td></td></tr><tr><td># Detailed Table Information</td><td></td><td></td></tr><tr><td>Catalog</td><td>spark_catalog</td><td></td></tr><tr><td>Database</td><td>sakila_dlh</td><td></td></tr><tr><td>Table</td><td>dim_film_category</td><td></td></tr><tr><td>Created Time</td><td>Tue Dec 05 05:18:07 UTC 2023</td><td></td></tr><tr><td>Last Access</td><td>UNKNOWN</td><td></td></tr><tr><td>Created By</td><td>Spark 3.3.0</td><td></td></tr><tr><td>Type</td><td>EXTERNAL</td><td></td></tr><tr><td>Comment</td><td>Film Category Dimension Table</td><td></td></tr><tr><td>Location</td><td>dbfs:/FileStore/ds2002-final/sakila_dlh/dim_film_category</td><td></td></tr><tr><td>Provider</td><td>delta</td><td></td></tr><tr><td>Owner</td><td>root</td><td></td></tr><tr><td>Table Properties</td><td>[delta.minReaderVersion=1,delta.minWriterVersion=2]</td><td></td></tr></tbody></table></div>"
      ]
     },
     "metadata": {
      "application/vnd.databricks.v1+output": {
       "addedWidgets": {},
       "aggData": [],
       "aggError": "",
       "aggOverflow": false,
       "aggSchema": [],
       "aggSeriesLimitReached": false,
       "aggType": "",
       "arguments": {},
       "columnCustomDisplayInfos": {},
       "data": [
        [
         "film_category_key",
         "bigint",
         null
        ],
        [
         "film_key",
         "bigint",
         null
        ],
        [
         "category_key",
         "bigint",
         null
        ],
        [
         "last_update",
         "timestamp",
         null
        ],
        [
         "",
         "",
         ""
        ],
        [
         "# Detailed Table Information",
         "",
         ""
        ],
        [
         "Catalog",
         "spark_catalog",
         ""
        ],
        [
         "Database",
         "sakila_dlh",
         ""
        ],
        [
         "Table",
         "dim_film_category",
         ""
        ],
        [
         "Created Time",
         "Tue Dec 05 05:18:07 UTC 2023",
         ""
        ],
        [
         "Last Access",
         "UNKNOWN",
         ""
        ],
        [
         "Created By",
         "Spark 3.3.0",
         ""
        ],
        [
         "Type",
         "EXTERNAL",
         ""
        ],
        [
         "Comment",
         "Film Category Dimension Table",
         ""
        ],
        [
         "Location",
         "dbfs:/FileStore/ds2002-final/sakila_dlh/dim_film_category",
         ""
        ],
        [
         "Provider",
         "delta",
         ""
        ],
        [
         "Owner",
         "root",
         ""
        ],
        [
         "Table Properties",
         "[delta.minReaderVersion=1,delta.minWriterVersion=2]",
         ""
        ]
       ],
       "datasetInfos": [],
       "dbfsResultPath": null,
       "isJsonSchema": true,
       "metadata": {},
       "overflow": false,
       "plotOptions": {
        "customPlotOptions": {},
        "displayType": "table",
        "pivotAggregation": null,
        "pivotColumns": null,
        "xColumns": null,
        "yColumns": null
       },
       "removedWidgets": [],
       "schema": [
        {
         "metadata": "{\"comment\":\"name of the column\"}",
         "name": "col_name",
         "type": "\"string\""
        },
        {
         "metadata": "{\"comment\":\"data type of the column\"}",
         "name": "data_type",
         "type": "\"string\""
        },
        {
         "metadata": "{\"comment\":\"comment of the column\"}",
         "name": "comment",
         "type": "\"string\""
        }
       ],
       "type": "table"
      }
     },
     "output_type": "display_data"
    }
   ],
   "source": [
    "%sql\n",
    "DESCRIBE EXTENDED sakila_dlh.dim_film_category;"
   ]
  },
  {
   "cell_type": "code",
   "execution_count": 0,
   "metadata": {
    "application/vnd.databricks.v1+cell": {
     "cellMetadata": {
      "byteLimit": 2048000,
      "implicitDf": true,
      "rowLimit": 10000
     },
     "inputWidgets": {},
     "nuid": "4a292232-6d0c-43cd-b740-7a0eb85cf734",
     "showTitle": false,
     "title": ""
    }
   },
   "outputs": [
    {
     "output_type": "display_data",
     "data": {
      "text/html": [
       "<style scoped>\n",
       "  .table-result-container {\n",
       "    max-height: 300px;\n",
       "    overflow: auto;\n",
       "  }\n",
       "  table, th, td {\n",
       "    border: 1px solid black;\n",
       "    border-collapse: collapse;\n",
       "  }\n",
       "  th, td {\n",
       "    padding: 5px;\n",
       "  }\n",
       "  th {\n",
       "    text-align: left;\n",
       "  }\n",
       "</style><div class='table-result-container'><table class='table-result'><thead style='background-color: white'><tr><th>film_category_key</th><th>film_key</th><th>category_key</th><th>last_update</th></tr></thead><tbody><tr><td>1</td><td>1</td><td>6</td><td>2006-02-15T05:07:09.000+0000</td></tr><tr><td>2</td><td>2</td><td>11</td><td>2006-02-15T05:07:09.000+0000</td></tr><tr><td>3</td><td>3</td><td>6</td><td>2006-02-15T05:07:09.000+0000</td></tr><tr><td>4</td><td>4</td><td>11</td><td>2006-02-15T05:07:09.000+0000</td></tr><tr><td>5</td><td>5</td><td>8</td><td>2006-02-15T05:07:09.000+0000</td></tr></tbody></table></div>"
      ]
     },
     "metadata": {
      "application/vnd.databricks.v1+output": {
       "addedWidgets": {},
       "aggData": [],
       "aggError": "",
       "aggOverflow": false,
       "aggSchema": [],
       "aggSeriesLimitReached": false,
       "aggType": "",
       "arguments": {},
       "columnCustomDisplayInfos": {},
       "data": [
        [
         1,
         1,
         6,
         "2006-02-15T05:07:09.000+0000"
        ],
        [
         2,
         2,
         11,
         "2006-02-15T05:07:09.000+0000"
        ],
        [
         3,
         3,
         6,
         "2006-02-15T05:07:09.000+0000"
        ],
        [
         4,
         4,
         11,
         "2006-02-15T05:07:09.000+0000"
        ],
        [
         5,
         5,
         8,
         "2006-02-15T05:07:09.000+0000"
        ]
       ],
       "datasetInfos": [],
       "dbfsResultPath": null,
       "isJsonSchema": true,
       "metadata": {},
       "overflow": false,
       "plotOptions": {
        "customPlotOptions": {},
        "displayType": "table",
        "pivotAggregation": null,
        "pivotColumns": null,
        "xColumns": null,
        "yColumns": null
       },
       "removedWidgets": [],
       "schema": [
        {
         "metadata": "{\"scale\":0}",
         "name": "film_category_key",
         "type": "\"long\""
        },
        {
         "metadata": "{\"scale\":0}",
         "name": "film_key",
         "type": "\"long\""
        },
        {
         "metadata": "{\"scale\":0}",
         "name": "category_key",
         "type": "\"long\""
        },
        {
         "metadata": "{\"scale\":0}",
         "name": "last_update",
         "type": "\"timestamp\""
        }
       ],
       "type": "table"
      }
     },
     "output_type": "display_data"
    }
   ],
   "source": [
    "%sql\n",
    "SELECT * FROM sakila_dlh.dim_film_category LIMIT 5"
   ]
  },
  {
   "cell_type": "code",
   "execution_count": 0,
   "metadata": {
    "application/vnd.databricks.v1+cell": {
     "cellMetadata": {
      "byteLimit": 2048000,
      "implicitDf": true,
      "rowLimit": 10000
     },
     "inputWidgets": {},
     "nuid": "687e6880-9825-41f6-af9e-6925a8ff7607",
     "showTitle": false,
     "title": ""
    }
   },
   "outputs": [
    {
     "output_type": "display_data",
     "data": {
      "text/html": [
       "<style scoped>\n",
       "  .table-result-container {\n",
       "    max-height: 300px;\n",
       "    overflow: auto;\n",
       "  }\n",
       "  table, th, td {\n",
       "    border: 1px solid black;\n",
       "    border-collapse: collapse;\n",
       "  }\n",
       "  th, td {\n",
       "    padding: 5px;\n",
       "  }\n",
       "  th {\n",
       "    text-align: left;\n",
       "  }\n",
       "</style><div class='table-result-container'><table class='table-result'><thead style='background-color: white'><tr></tr></thead><tbody></tbody></table></div>"
      ]
     },
     "metadata": {
      "application/vnd.databricks.v1+output": {
       "addedWidgets": {},
       "aggData": [],
       "aggError": "",
       "aggOverflow": false,
       "aggSchema": [],
       "aggSeriesLimitReached": false,
       "aggType": "",
       "arguments": {},
       "columnCustomDisplayInfos": {},
       "data": [],
       "datasetInfos": [],
       "dbfsResultPath": null,
       "isJsonSchema": true,
       "metadata": {},
       "overflow": false,
       "plotOptions": {
        "customPlotOptions": {},
        "displayType": "table",
        "pivotAggregation": null,
        "pivotColumns": null,
        "xColumns": null,
        "yColumns": null
       },
       "removedWidgets": [],
       "schema": [],
       "type": "table"
      }
     },
     "output_type": "display_data"
    }
   ],
   "source": [
    "%sql\n",
    "CREATE OR REPLACE TEMPORARY VIEW view_category\n",
    "USING org.apache.spark.sql.jdbc\n",
    "OPTIONS (\n",
    "  url \"jdbc:mysql://rcq5jz-mysql.mysql.database.azure.com:3306/sakila_dw\",\n",
    "  dbtable \"dim_category\",\n",
    "  user \"brithoang\",\n",
    "  password \"Shawnmendes.1\"\n",
    ")"
   ]
  },
  {
   "cell_type": "code",
   "execution_count": 0,
   "metadata": {
    "application/vnd.databricks.v1+cell": {
     "cellMetadata": {
      "byteLimit": 2048000,
      "implicitDf": true,
      "rowLimit": 10000
     },
     "inputWidgets": {},
     "nuid": "ce6d6536-5739-4473-847f-b46a3ce8543a",
     "showTitle": false,
     "title": ""
    }
   },
   "outputs": [
    {
     "output_type": "display_data",
     "data": {
      "text/html": [
       "<style scoped>\n",
       "  .table-result-container {\n",
       "    max-height: 300px;\n",
       "    overflow: auto;\n",
       "  }\n",
       "  table, th, td {\n",
       "    border: 1px solid black;\n",
       "    border-collapse: collapse;\n",
       "  }\n",
       "  th, td {\n",
       "    padding: 5px;\n",
       "  }\n",
       "  th {\n",
       "    text-align: left;\n",
       "  }\n",
       "</style><div class='table-result-container'><table class='table-result'><thead style='background-color: white'><tr><th>num_affected_rows</th><th>num_inserted_rows</th></tr></thead><tbody></tbody></table></div>"
      ]
     },
     "metadata": {
      "application/vnd.databricks.v1+output": {
       "addedWidgets": {},
       "aggData": [],
       "aggError": "",
       "aggOverflow": false,
       "aggSchema": [],
       "aggSeriesLimitReached": false,
       "aggType": "",
       "arguments": {},
       "columnCustomDisplayInfos": {},
       "data": [],
       "datasetInfos": [],
       "dbfsResultPath": null,
       "isJsonSchema": true,
       "metadata": {},
       "overflow": false,
       "plotOptions": {
        "customPlotOptions": {},
        "displayType": "table",
        "pivotAggregation": null,
        "pivotColumns": null,
        "xColumns": null,
        "yColumns": null
       },
       "removedWidgets": [],
       "schema": [
        {
         "metadata": "{}",
         "name": "num_affected_rows",
         "type": "\"long\""
        },
        {
         "metadata": "{}",
         "name": "num_inserted_rows",
         "type": "\"long\""
        }
       ],
       "type": "table"
      }
     },
     "output_type": "display_data"
    }
   ],
   "source": [
    "%sql\n",
    "USE DATABASE sakila_dlh;\n",
    "\n",
    "CREATE OR REPLACE TABLE sakila_dlh.dim_category\n",
    "COMMENT \"Category Dimension Table\"\n",
    "LOCATION \"dbfs:/FileStore/ds2002-final/sakila_dlh/dim_category\"\n",
    "AS SELECT * FROM view_category"
   ]
  },
  {
   "cell_type": "code",
   "execution_count": 0,
   "metadata": {
    "application/vnd.databricks.v1+cell": {
     "cellMetadata": {
      "byteLimit": 2048000,
      "implicitDf": true,
      "rowLimit": 10000
     },
     "inputWidgets": {},
     "nuid": "4cc60867-4a2c-4af8-aaab-d4d7f0fd6f94",
     "showTitle": false,
     "title": ""
    }
   },
   "outputs": [
    {
     "output_type": "display_data",
     "data": {
      "text/html": [
       "<style scoped>\n",
       "  .table-result-container {\n",
       "    max-height: 300px;\n",
       "    overflow: auto;\n",
       "  }\n",
       "  table, th, td {\n",
       "    border: 1px solid black;\n",
       "    border-collapse: collapse;\n",
       "  }\n",
       "  th, td {\n",
       "    padding: 5px;\n",
       "  }\n",
       "  th {\n",
       "    text-align: left;\n",
       "  }\n",
       "</style><div class='table-result-container'><table class='table-result'><thead style='background-color: white'><tr><th>col_name</th><th>data_type</th><th>comment</th></tr></thead><tbody><tr><td>category_key</td><td>bigint</td><td>null</td></tr><tr><td>name</td><td>string</td><td>null</td></tr><tr><td>last_update</td><td>timestamp</td><td>null</td></tr><tr><td></td><td></td><td></td></tr><tr><td># Detailed Table Information</td><td></td><td></td></tr><tr><td>Catalog</td><td>spark_catalog</td><td></td></tr><tr><td>Database</td><td>sakila_dlh</td><td></td></tr><tr><td>Table</td><td>dim_category</td><td></td></tr><tr><td>Created Time</td><td>Tue Dec 05 05:18:09 UTC 2023</td><td></td></tr><tr><td>Last Access</td><td>UNKNOWN</td><td></td></tr><tr><td>Created By</td><td>Spark 3.3.0</td><td></td></tr><tr><td>Type</td><td>EXTERNAL</td><td></td></tr><tr><td>Comment</td><td>Category Dimension Table</td><td></td></tr><tr><td>Location</td><td>dbfs:/FileStore/ds2002-final/sakila_dlh/dim_category</td><td></td></tr><tr><td>Provider</td><td>delta</td><td></td></tr><tr><td>Owner</td><td>root</td><td></td></tr><tr><td>Table Properties</td><td>[delta.minReaderVersion=1,delta.minWriterVersion=2]</td><td></td></tr></tbody></table></div>"
      ]
     },
     "metadata": {
      "application/vnd.databricks.v1+output": {
       "addedWidgets": {},
       "aggData": [],
       "aggError": "",
       "aggOverflow": false,
       "aggSchema": [],
       "aggSeriesLimitReached": false,
       "aggType": "",
       "arguments": {},
       "columnCustomDisplayInfos": {},
       "data": [
        [
         "category_key",
         "bigint",
         null
        ],
        [
         "name",
         "string",
         null
        ],
        [
         "last_update",
         "timestamp",
         null
        ],
        [
         "",
         "",
         ""
        ],
        [
         "# Detailed Table Information",
         "",
         ""
        ],
        [
         "Catalog",
         "spark_catalog",
         ""
        ],
        [
         "Database",
         "sakila_dlh",
         ""
        ],
        [
         "Table",
         "dim_category",
         ""
        ],
        [
         "Created Time",
         "Tue Dec 05 05:18:09 UTC 2023",
         ""
        ],
        [
         "Last Access",
         "UNKNOWN",
         ""
        ],
        [
         "Created By",
         "Spark 3.3.0",
         ""
        ],
        [
         "Type",
         "EXTERNAL",
         ""
        ],
        [
         "Comment",
         "Category Dimension Table",
         ""
        ],
        [
         "Location",
         "dbfs:/FileStore/ds2002-final/sakila_dlh/dim_category",
         ""
        ],
        [
         "Provider",
         "delta",
         ""
        ],
        [
         "Owner",
         "root",
         ""
        ],
        [
         "Table Properties",
         "[delta.minReaderVersion=1,delta.minWriterVersion=2]",
         ""
        ]
       ],
       "datasetInfos": [],
       "dbfsResultPath": null,
       "isJsonSchema": true,
       "metadata": {},
       "overflow": false,
       "plotOptions": {
        "customPlotOptions": {},
        "displayType": "table",
        "pivotAggregation": null,
        "pivotColumns": null,
        "xColumns": null,
        "yColumns": null
       },
       "removedWidgets": [],
       "schema": [
        {
         "metadata": "{\"comment\":\"name of the column\"}",
         "name": "col_name",
         "type": "\"string\""
        },
        {
         "metadata": "{\"comment\":\"data type of the column\"}",
         "name": "data_type",
         "type": "\"string\""
        },
        {
         "metadata": "{\"comment\":\"comment of the column\"}",
         "name": "comment",
         "type": "\"string\""
        }
       ],
       "type": "table"
      }
     },
     "output_type": "display_data"
    }
   ],
   "source": [
    "%sql\n",
    "DESCRIBE EXTENDED sakila_dlh.dim_category;"
   ]
  },
  {
   "cell_type": "code",
   "execution_count": 0,
   "metadata": {
    "application/vnd.databricks.v1+cell": {
     "cellMetadata": {
      "byteLimit": 2048000,
      "implicitDf": true,
      "rowLimit": 10000
     },
     "inputWidgets": {},
     "nuid": "ea690216-b79c-4d26-9cbc-160c26520920",
     "showTitle": false,
     "title": ""
    }
   },
   "outputs": [
    {
     "output_type": "display_data",
     "data": {
      "text/html": [
       "<style scoped>\n",
       "  .table-result-container {\n",
       "    max-height: 300px;\n",
       "    overflow: auto;\n",
       "  }\n",
       "  table, th, td {\n",
       "    border: 1px solid black;\n",
       "    border-collapse: collapse;\n",
       "  }\n",
       "  th, td {\n",
       "    padding: 5px;\n",
       "  }\n",
       "  th {\n",
       "    text-align: left;\n",
       "  }\n",
       "</style><div class='table-result-container'><table class='table-result'><thead style='background-color: white'><tr><th>category_key</th><th>name</th><th>last_update</th></tr></thead><tbody><tr><td>1</td><td>Action</td><td>2006-02-15T04:46:27.000+0000</td></tr><tr><td>2</td><td>Animation</td><td>2006-02-15T04:46:27.000+0000</td></tr><tr><td>3</td><td>Children</td><td>2006-02-15T04:46:27.000+0000</td></tr><tr><td>4</td><td>Classics</td><td>2006-02-15T04:46:27.000+0000</td></tr><tr><td>5</td><td>Comedy</td><td>2006-02-15T04:46:27.000+0000</td></tr></tbody></table></div>"
      ]
     },
     "metadata": {
      "application/vnd.databricks.v1+output": {
       "addedWidgets": {},
       "aggData": [],
       "aggError": "",
       "aggOverflow": false,
       "aggSchema": [],
       "aggSeriesLimitReached": false,
       "aggType": "",
       "arguments": {},
       "columnCustomDisplayInfos": {},
       "data": [
        [
         1,
         "Action",
         "2006-02-15T04:46:27.000+0000"
        ],
        [
         2,
         "Animation",
         "2006-02-15T04:46:27.000+0000"
        ],
        [
         3,
         "Children",
         "2006-02-15T04:46:27.000+0000"
        ],
        [
         4,
         "Classics",
         "2006-02-15T04:46:27.000+0000"
        ],
        [
         5,
         "Comedy",
         "2006-02-15T04:46:27.000+0000"
        ]
       ],
       "datasetInfos": [],
       "dbfsResultPath": null,
       "isJsonSchema": true,
       "metadata": {},
       "overflow": false,
       "plotOptions": {
        "customPlotOptions": {},
        "displayType": "table",
        "pivotAggregation": null,
        "pivotColumns": null,
        "xColumns": null,
        "yColumns": null
       },
       "removedWidgets": [],
       "schema": [
        {
         "metadata": "{\"scale\":0}",
         "name": "category_key",
         "type": "\"long\""
        },
        {
         "metadata": "{\"scale\":0}",
         "name": "name",
         "type": "\"string\""
        },
        {
         "metadata": "{\"scale\":0}",
         "name": "last_update",
         "type": "\"timestamp\""
        }
       ],
       "type": "table"
      }
     },
     "output_type": "display_data"
    }
   ],
   "source": [
    "%sql\n",
    "SELECT * FROM sakila_dlh.dim_category LIMIT 5"
   ]
  },
  {
   "cell_type": "markdown",
   "metadata": {
    "application/vnd.databricks.v1+cell": {
     "cellMetadata": {
      "byteLimit": 2048000,
      "rowLimit": 10000
     },
     "inputWidgets": {},
     "nuid": "5fc86c4f-3fd0-4833-9b44-0ab1197c537b",
     "showTitle": false,
     "title": ""
    }
   },
   "source": [
    "### Verify Dimension Tables"
   ]
  },
  {
   "cell_type": "code",
   "execution_count": 0,
   "metadata": {
    "application/vnd.databricks.v1+cell": {
     "cellMetadata": {
      "byteLimit": 2048000,
      "implicitDf": true,
      "rowLimit": 10000
     },
     "inputWidgets": {},
     "nuid": "5c72f107-67f1-4bbb-8a7d-4607e1a2580b",
     "showTitle": false,
     "title": ""
    }
   },
   "outputs": [
    {
     "output_type": "display_data",
     "data": {
      "text/html": [
       "<style scoped>\n",
       "  .table-result-container {\n",
       "    max-height: 300px;\n",
       "    overflow: auto;\n",
       "  }\n",
       "  table, th, td {\n",
       "    border: 1px solid black;\n",
       "    border-collapse: collapse;\n",
       "  }\n",
       "  th, td {\n",
       "    padding: 5px;\n",
       "  }\n",
       "  th {\n",
       "    text-align: left;\n",
       "  }\n",
       "</style><div class='table-result-container'><table class='table-result'><thead style='background-color: white'><tr><th>database</th><th>tableName</th><th>isTemporary</th></tr></thead><tbody><tr><td>sakila_dlh</td><td>dim_category</td><td>false</td></tr><tr><td>sakila_dlh</td><td>dim_date</td><td>false</td></tr><tr><td>sakila_dlh</td><td>dim_film</td><td>false</td></tr><tr><td>sakila_dlh</td><td>dim_film_category</td><td>false</td></tr><tr><td>sakila_dlh</td><td>dim_inventory</td><td>false</td></tr><tr><td>sakila_dlh</td><td>dim_rental</td><td>false</td></tr><tr><td></td><td>view_category</td><td>true</td></tr><tr><td></td><td>view_date</td><td>true</td></tr><tr><td></td><td>view_film_category</td><td>true</td></tr><tr><td></td><td>view_inventory</td><td>true</td></tr></tbody></table></div>"
      ]
     },
     "metadata": {
      "application/vnd.databricks.v1+output": {
       "addedWidgets": {},
       "aggData": [],
       "aggError": "",
       "aggOverflow": false,
       "aggSchema": [],
       "aggSeriesLimitReached": false,
       "aggType": "",
       "arguments": {},
       "columnCustomDisplayInfos": {},
       "data": [
        [
         "sakila_dlh",
         "dim_category",
         false
        ],
        [
         "sakila_dlh",
         "dim_date",
         false
        ],
        [
         "sakila_dlh",
         "dim_film",
         false
        ],
        [
         "sakila_dlh",
         "dim_film_category",
         false
        ],
        [
         "sakila_dlh",
         "dim_inventory",
         false
        ],
        [
         "sakila_dlh",
         "dim_rental",
         false
        ],
        [
         "",
         "view_category",
         true
        ],
        [
         "",
         "view_date",
         true
        ],
        [
         "",
         "view_film_category",
         true
        ],
        [
         "",
         "view_inventory",
         true
        ]
       ],
       "datasetInfos": [],
       "dbfsResultPath": null,
       "isJsonSchema": true,
       "metadata": {},
       "overflow": false,
       "plotOptions": {
        "customPlotOptions": {},
        "displayType": "table",
        "pivotAggregation": null,
        "pivotColumns": null,
        "xColumns": null,
        "yColumns": null
       },
       "removedWidgets": [],
       "schema": [
        {
         "metadata": "{}",
         "name": "database",
         "type": "\"string\""
        },
        {
         "metadata": "{}",
         "name": "tableName",
         "type": "\"string\""
        },
        {
         "metadata": "{}",
         "name": "isTemporary",
         "type": "\"boolean\""
        }
       ],
       "type": "table"
      }
     },
     "output_type": "display_data"
    }
   ],
   "source": [
    "%sql\n",
    "USE sakila_dlh;\n",
    "SHOW TABLES"
   ]
  },
  {
   "cell_type": "markdown",
   "metadata": {
    "application/vnd.databricks.v1+cell": {
     "cellMetadata": {
      "byteLimit": 2048000,
      "rowLimit": 10000
     },
     "inputWidgets": {},
     "nuid": "cc228c0c-30de-4210-a967-8af612309201",
     "showTitle": false,
     "title": ""
    }
   },
   "source": [
    "### Use AutoLoader to Process Streaming (Hot Path) Orders Fact Data \n",
    "###Bronze Table: Process 'Raw' JSON Data"
   ]
  },
  {
   "cell_type": "code",
   "execution_count": 0,
   "metadata": {
    "application/vnd.databricks.v1+cell": {
     "cellMetadata": {
      "byteLimit": 2048000,
      "rowLimit": 10000
     },
     "inputWidgets": {},
     "nuid": "e40ef298-7606-4357-ac42-3230343fb7bd",
     "showTitle": false,
     "title": ""
    }
   },
   "outputs": [
    {
     "output_type": "display_data",
     "data": {
      "text/html": [
       "<style scoped>\n",
       "  .table-result-container {\n",
       "    max-height: 300px;\n",
       "    overflow: auto;\n",
       "  }\n",
       "  table, th, td {\n",
       "    border: 1px solid black;\n",
       "    border-collapse: collapse;\n",
       "  }\n",
       "  th, td {\n",
       "    padding: 5px;\n",
       "  }\n",
       "  th {\n",
       "    text-align: left;\n",
       "  }\n",
       "</style><div class='table-result-container'><table class='table-result'><thead style='background-color: white'><tr><th>path</th><th>name</th><th>size</th><th>modificationTime</th></tr></thead><tbody><tr><td>dbfs:/FileStore/ds2002final/source_data/stream/fact_gen1.json</td><td>fact_gen1.json</td><td>87148</td><td>1701378212000</td></tr><tr><td>dbfs:/FileStore/ds2002final/source_data/stream/fact_gen2.json</td><td>fact_gen2.json</td><td>87455</td><td>1701378212000</td></tr><tr><td>dbfs:/FileStore/ds2002final/source_data/stream/fact_gen3.json</td><td>fact_gen3.json</td><td>87684</td><td>1701378212000</td></tr></tbody></table></div>"
      ]
     },
     "metadata": {
      "application/vnd.databricks.v1+output": {
       "addedWidgets": {},
       "aggData": [],
       "aggError": "",
       "aggOverflow": false,
       "aggSchema": [],
       "aggSeriesLimitReached": false,
       "aggType": "",
       "arguments": {},
       "columnCustomDisplayInfos": {},
       "data": [
        [
         "dbfs:/FileStore/ds2002final/source_data/stream/fact_gen1.json",
         "fact_gen1.json",
         87148,
         1701378212000
        ],
        [
         "dbfs:/FileStore/ds2002final/source_data/stream/fact_gen2.json",
         "fact_gen2.json",
         87455,
         1701378212000
        ],
        [
         "dbfs:/FileStore/ds2002final/source_data/stream/fact_gen3.json",
         "fact_gen3.json",
         87684,
         1701378212000
        ]
       ],
       "datasetInfos": [],
       "dbfsResultPath": null,
       "isJsonSchema": true,
       "metadata": {},
       "overflow": false,
       "plotOptions": {
        "customPlotOptions": {},
        "displayType": "table",
        "pivotAggregation": null,
        "pivotColumns": null,
        "xColumns": null,
        "yColumns": null
       },
       "removedWidgets": [],
       "schema": [
        {
         "metadata": "{}",
         "name": "path",
         "type": "\"string\""
        },
        {
         "metadata": "{}",
         "name": "name",
         "type": "\"string\""
        },
        {
         "metadata": "{}",
         "name": "size",
         "type": "\"long\""
        },
        {
         "metadata": "{}",
         "name": "modificationTime",
         "type": "\"long\""
        }
       ],
       "type": "table"
      }
     },
     "output_type": "display_data"
    }
   ],
   "source": [
    "display(dbutils.fs.ls(stream_dir))"
   ]
  },
  {
   "cell_type": "code",
   "execution_count": 0,
   "metadata": {
    "application/vnd.databricks.v1+cell": {
     "cellMetadata": {
      "byteLimit": 2048000,
      "rowLimit": 10000
     },
     "inputWidgets": {},
     "nuid": "8f522f25-ee95-4ed3-8d77-56e31504aff8",
     "showTitle": false,
     "title": ""
    }
   },
   "outputs": [],
   "source": [
    "(spark.readStream\n",
    " .format(\"cloudFiles\")\n",
    " .option(\"cloudFiles.format\", \"json\")\n",
    " #.option(\"cloudFiles.schemaHints\", \"date_key BIGINT\")\n",
    " #.option(\"cloudFiles.schemaHints\", \"rental_key BIGINT\")\n",
    " #.option(\"cloudFiles.schemaHints\", \"last_name STRING\")\n",
    " #.option(\"cloudFiles.schemaHints\", \"inventory_key STRING\")\n",
    " #.option(\"cloudFiles.schemaHints\", \"film_category_key STRING\")\n",
    " #.option(\"cloudFiles.schemaHints\", \"category_key STRING\")\n",
    " #.option(\"cloudFiles.schemaHints\", \"release_year BIGINT\")\n",
    " #.option(\"cloudFiles.schemaHints\", \"rental_date BIGINT\")\n",
    " #.option(\"cloudFiles.schemaHints\", \"title STRING\")\n",
    " #.option(\"cloudFiles.schemaHints\", \"rating STRING\")\n",
    " #.option(\"cloudFiles.schemaHints\", \"name STRING\")\n",
    " #.option(\"cloudFiles.schemaHints\", \"rental_key BIGINT\")\n",
    " .option(\"cloudFiles.schemaLocation\", genres_output_bronze)\n",
    " .option(\"cloudFiles.inferColumnTypes\", \"true\")\n",
    " .option(\"multiLine\", \"true\")\n",
    " .load(stream_dir)\n",
    " .createOrReplaceTempView(\"genres_raw_tempview\"))"
   ]
  },
  {
   "cell_type": "code",
   "execution_count": 0,
   "metadata": {
    "application/vnd.databricks.v1+cell": {
     "cellMetadata": {
      "byteLimit": 2048000,
      "implicitDf": true,
      "rowLimit": 10000
     },
     "inputWidgets": {},
     "nuid": "fa0c84c9-48ba-457a-9b56-e871b6f6f531",
     "showTitle": false,
     "title": ""
    }
   },
   "outputs": [
    {
     "output_type": "display_data",
     "data": {
      "text/html": [
       "<style scoped>\n",
       "  .table-result-container {\n",
       "    max-height: 300px;\n",
       "    overflow: auto;\n",
       "  }\n",
       "  table, th, td {\n",
       "    border: 1px solid black;\n",
       "    border-collapse: collapse;\n",
       "  }\n",
       "  th, td {\n",
       "    padding: 5px;\n",
       "  }\n",
       "  th {\n",
       "    text-align: left;\n",
       "  }\n",
       "</style><div class='table-result-container'><table class='table-result'><thead style='background-color: white'><tr></tr></thead><tbody></tbody></table></div>"
      ]
     },
     "metadata": {
      "application/vnd.databricks.v1+output": {
       "addedWidgets": {},
       "aggData": [],
       "aggError": "",
       "aggOverflow": false,
       "aggSchema": [],
       "aggSeriesLimitReached": false,
       "aggType": "",
       "arguments": {},
       "columnCustomDisplayInfos": {},
       "data": [],
       "datasetInfos": [],
       "dbfsResultPath": null,
       "isJsonSchema": true,
       "metadata": {},
       "overflow": false,
       "plotOptions": {
        "customPlotOptions": {},
        "displayType": "table",
        "pivotAggregation": null,
        "pivotColumns": null,
        "xColumns": null,
        "yColumns": null
       },
       "removedWidgets": [],
       "schema": [],
       "type": "table"
      }
     },
     "output_type": "display_data"
    }
   ],
   "source": [
    "%sql\n",
    "/* Add Metadata for Traceability */\n",
    "CREATE OR REPLACE TEMPORARY VIEW genres_bronze_tempview AS (\n",
    "  SELECT *, current_timestamp() receipt_time, input_file_name() source_file\n",
    "  FROM genres_raw_tempview\n",
    ")"
   ]
  },
  {
   "cell_type": "code",
   "execution_count": 0,
   "metadata": {
    "application/vnd.databricks.v1+cell": {
     "cellMetadata": {
      "byteLimit": 2048000,
      "implicitDf": true,
      "rowLimit": 10000
     },
     "inputWidgets": {},
     "nuid": "22c85547-cd92-4eb1-a047-d05b888fd1f1",
     "showTitle": false,
     "title": ""
    }
   },
   "outputs": [
    {
     "output_type": "display_data",
     "data": {
      "text/html": [
       "<style scoped>\n",
       "  .table-result-container {\n",
       "    max-height: 300px;\n",
       "    overflow: auto;\n",
       "  }\n",
       "  table, th, td {\n",
       "    border: 1px solid black;\n",
       "    border-collapse: collapse;\n",
       "  }\n",
       "  th, td {\n",
       "    padding: 5px;\n",
       "  }\n",
       "  th {\n",
       "    text-align: left;\n",
       "  }\n",
       "</style><div class='table-result-container'><table class='table-result'><thead style='background-color: white'><tr><th>category_key</th><th>fact_genre_key</th><th>film_category_key</th><th>film_key</th><th>genre</th><th>inventory_key</th><th>rating</th><th>release_year</th><th>rental_date</th><th>rental_key</th><th>title</th><th>_rescued_data</th><th>receipt_time</th><th>source_file</th></tr></thead><tbody><tr><td>7</td><td>601</td><td>585</td><td>585</td><td>Drama</td><td>2665</td><td>G</td><td>2006</td><td>2005-05-26 21:22:07</td><td>305</td><td>MOB DUFFEL</td><td>null</td><td>2023-12-05T05:18:13.674+0000</td><td>dbfs:/FileStore/ds2002final/source_data/stream/fact_gen3.json</td></tr><tr><td>1</td><td>602</td><td>586</td><td>586</td><td>Action</td><td>2671</td><td>PG</td><td>2006</td><td>2005-05-27 19:03:08</td><td>448</td><td>MOCKINGBIRD HOLLYWOOD</td><td>null</td><td>2023-12-05T05:18:13.674+0000</td><td>dbfs:/FileStore/ds2002final/source_data/stream/fact_gen3.json</td></tr><tr><td>3</td><td>603</td><td>588</td><td>588</td><td>Children</td><td>2679</td><td>NC-17</td><td>2006</td><td>2005-05-28 11:48:55</td><td>583</td><td>MODEL FISH</td><td>null</td><td>2023-12-05T05:18:13.674+0000</td><td>dbfs:/FileStore/ds2002final/source_data/stream/fact_gen3.json</td></tr><tr><td>3</td><td>604</td><td>588</td><td>588</td><td>Children</td><td>2678</td><td>NC-17</td><td>2006</td><td>2005-05-27 01:18:57</td><td>327</td><td>MODEL FISH</td><td>null</td><td>2023-12-05T05:18:13.674+0000</td><td>dbfs:/FileStore/ds2002final/source_data/stream/fact_gen3.json</td></tr><tr><td>6</td><td>605</td><td>589</td><td>589</td><td>Documentary</td><td>2685</td><td>PG</td><td>2006</td><td>2005-05-28 18:24:43</td><td>638</td><td>MODERN DORADO</td><td>null</td><td>2023-12-05T05:18:13.674+0000</td><td>dbfs:/FileStore/ds2002final/source_data/stream/fact_gen3.json</td></tr><tr><td>6</td><td>606</td><td>589</td><td>589</td><td>Documentary</td><td>2684</td><td>PG</td><td>2006</td><td>2005-05-27 10:35:27</td><td>387</td><td>MODERN DORADO</td><td>null</td><td>2023-12-05T05:18:13.674+0000</td><td>dbfs:/FileStore/ds2002final/source_data/stream/fact_gen3.json</td></tr><tr><td>12</td><td>607</td><td>592</td><td>592</td><td>Music</td><td>2697</td><td>PG</td><td>2006</td><td>2005-05-29 16:59:44</td><td>796</td><td>MONSTER SPARTACUS</td><td>null</td><td>2023-12-05T05:18:13.674+0000</td><td>dbfs:/FileStore/ds2002final/source_data/stream/fact_gen3.json</td></tr><tr><td>11</td><td>608</td><td>593</td><td>593</td><td>Horror</td><td>2701</td><td>G</td><td>2006</td><td>2005-05-25 00:31:15</td><td>14</td><td>MONTEREY LABYRINTH</td><td>null</td><td>2023-12-05T05:18:13.674+0000</td><td>dbfs:/FileStore/ds2002final/source_data/stream/fact_gen3.json</td></tr><tr><td>9</td><td>609</td><td>595</td><td>595</td><td>Foreign</td><td>2711</td><td>PG</td><td>2006</td><td>2005-05-29 09:55:43</td><td>751</td><td>MOON BUNCH</td><td>null</td><td>2023-12-05T05:18:13.674+0000</td><td>dbfs:/FileStore/ds2002final/source_data/stream/fact_gen3.json</td></tr><tr><td>9</td><td>610</td><td>595</td><td>595</td><td>Foreign</td><td>2714</td><td>PG</td><td>2006</td><td>2005-05-26 03:07:43</td><td>168</td><td>MOON BUNCH</td><td>null</td><td>2023-12-05T05:18:13.674+0000</td><td>dbfs:/FileStore/ds2002final/source_data/stream/fact_gen3.json</td></tr><tr><td>15</td><td>611</td><td>598</td><td>598</td><td>Sports</td><td>2727</td><td>G</td><td>2006</td><td>2005-05-30 07:10:00</td><td>887</td><td>MOSQUITO ARMAGEDDON</td><td>null</td><td>2023-12-05T05:18:13.674+0000</td><td>dbfs:/FileStore/ds2002final/source_data/stream/fact_gen3.json</td></tr><tr><td>11</td><td>612</td><td>600</td><td>600</td><td>Horror</td><td>2735</td><td>PG</td><td>2006</td><td>2005-05-26 02:28:36</td><td>165</td><td>MOTIONS DETAILS</td><td>null</td><td>2023-12-05T05:18:13.674+0000</td><td>dbfs:/FileStore/ds2002final/source_data/stream/fact_gen3.json</td></tr><tr><td>14</td><td>613</td><td>602</td><td>602</td><td>Sci-Fi</td><td>2744</td><td>PG</td><td>2006</td><td>2005-05-30 08:50:43</td><td>895</td><td>MOURNING PURPLE</td><td>null</td><td>2023-12-05T05:18:13.674+0000</td><td>dbfs:/FileStore/ds2002final/source_data/stream/fact_gen3.json</td></tr><tr><td>14</td><td>614</td><td>602</td><td>602</td><td>Sci-Fi</td><td>2745</td><td>PG</td><td>2006</td><td>2005-05-26 10:14:38</td><td>222</td><td>MOURNING PURPLE</td><td>null</td><td>2023-12-05T05:18:13.674+0000</td><td>dbfs:/FileStore/ds2002final/source_data/stream/fact_gen3.json</td></tr><tr><td>8</td><td>615</td><td>603</td><td>603</td><td>Family</td><td>2748</td><td>PG</td><td>2006</td><td>2005-05-27 09:43:25</td><td>381</td><td>MOVIE SHAKESPEARE</td><td>null</td><td>2023-12-05T05:18:13.674+0000</td><td>dbfs:/FileStore/ds2002final/source_data/stream/fact_gen3.json</td></tr></tbody></table></div>"
      ]
     },
     "metadata": {
      "application/vnd.databricks.v1+output": {
       "addedWidgets": {},
       "aggData": [],
       "aggError": "",
       "aggOverflow": false,
       "aggSchema": [],
       "aggSeriesLimitReached": false,
       "aggType": "",
       "arguments": {},
       "columnCustomDisplayInfos": {},
       "data": [
        [
         7,
         601,
         585,
         585,
         "Drama",
         2665,
         "G",
         "2006",
         "2005-05-26 21:22:07",
         305,
         "MOB DUFFEL",
         null,
         "2023-12-05T05:18:13.674+0000",
         "dbfs:/FileStore/ds2002final/source_data/stream/fact_gen3.json"
        ],
        [
         1,
         602,
         586,
         586,
         "Action",
         2671,
         "PG",
         "2006",
         "2005-05-27 19:03:08",
         448,
         "MOCKINGBIRD HOLLYWOOD",
         null,
         "2023-12-05T05:18:13.674+0000",
         "dbfs:/FileStore/ds2002final/source_data/stream/fact_gen3.json"
        ],
        [
         3,
         603,
         588,
         588,
         "Children",
         2679,
         "NC-17",
         "2006",
         "2005-05-28 11:48:55",
         583,
         "MODEL FISH",
         null,
         "2023-12-05T05:18:13.674+0000",
         "dbfs:/FileStore/ds2002final/source_data/stream/fact_gen3.json"
        ],
        [
         3,
         604,
         588,
         588,
         "Children",
         2678,
         "NC-17",
         "2006",
         "2005-05-27 01:18:57",
         327,
         "MODEL FISH",
         null,
         "2023-12-05T05:18:13.674+0000",
         "dbfs:/FileStore/ds2002final/source_data/stream/fact_gen3.json"
        ],
        [
         6,
         605,
         589,
         589,
         "Documentary",
         2685,
         "PG",
         "2006",
         "2005-05-28 18:24:43",
         638,
         "MODERN DORADO",
         null,
         "2023-12-05T05:18:13.674+0000",
         "dbfs:/FileStore/ds2002final/source_data/stream/fact_gen3.json"
        ],
        [
         6,
         606,
         589,
         589,
         "Documentary",
         2684,
         "PG",
         "2006",
         "2005-05-27 10:35:27",
         387,
         "MODERN DORADO",
         null,
         "2023-12-05T05:18:13.674+0000",
         "dbfs:/FileStore/ds2002final/source_data/stream/fact_gen3.json"
        ],
        [
         12,
         607,
         592,
         592,
         "Music",
         2697,
         "PG",
         "2006",
         "2005-05-29 16:59:44",
         796,
         "MONSTER SPARTACUS",
         null,
         "2023-12-05T05:18:13.674+0000",
         "dbfs:/FileStore/ds2002final/source_data/stream/fact_gen3.json"
        ],
        [
         11,
         608,
         593,
         593,
         "Horror",
         2701,
         "G",
         "2006",
         "2005-05-25 00:31:15",
         14,
         "MONTEREY LABYRINTH",
         null,
         "2023-12-05T05:18:13.674+0000",
         "dbfs:/FileStore/ds2002final/source_data/stream/fact_gen3.json"
        ],
        [
         9,
         609,
         595,
         595,
         "Foreign",
         2711,
         "PG",
         "2006",
         "2005-05-29 09:55:43",
         751,
         "MOON BUNCH",
         null,
         "2023-12-05T05:18:13.674+0000",
         "dbfs:/FileStore/ds2002final/source_data/stream/fact_gen3.json"
        ],
        [
         9,
         610,
         595,
         595,
         "Foreign",
         2714,
         "PG",
         "2006",
         "2005-05-26 03:07:43",
         168,
         "MOON BUNCH",
         null,
         "2023-12-05T05:18:13.674+0000",
         "dbfs:/FileStore/ds2002final/source_data/stream/fact_gen3.json"
        ],
        [
         15,
         611,
         598,
         598,
         "Sports",
         2727,
         "G",
         "2006",
         "2005-05-30 07:10:00",
         887,
         "MOSQUITO ARMAGEDDON",
         null,
         "2023-12-05T05:18:13.674+0000",
         "dbfs:/FileStore/ds2002final/source_data/stream/fact_gen3.json"
        ],
        [
         11,
         612,
         600,
         600,
         "Horror",
         2735,
         "PG",
         "2006",
         "2005-05-26 02:28:36",
         165,
         "MOTIONS DETAILS",
         null,
         "2023-12-05T05:18:13.674+0000",
         "dbfs:/FileStore/ds2002final/source_data/stream/fact_gen3.json"
        ],
        [
         14,
         613,
         602,
         602,
         "Sci-Fi",
         2744,
         "PG",
         "2006",
         "2005-05-30 08:50:43",
         895,
         "MOURNING PURPLE",
         null,
         "2023-12-05T05:18:13.674+0000",
         "dbfs:/FileStore/ds2002final/source_data/stream/fact_gen3.json"
        ],
        [
         14,
         614,
         602,
         602,
         "Sci-Fi",
         2745,
         "PG",
         "2006",
         "2005-05-26 10:14:38",
         222,
         "MOURNING PURPLE",
         null,
         "2023-12-05T05:18:13.674+0000",
         "dbfs:/FileStore/ds2002final/source_data/stream/fact_gen3.json"
        ],
        [
         8,
         615,
         603,
         603,
         "Family",
         2748,
         "PG",
         "2006",
         "2005-05-27 09:43:25",
         381,
         "MOVIE SHAKESPEARE",
         null,
         "2023-12-05T05:18:13.674+0000",
         "dbfs:/FileStore/ds2002final/source_data/stream/fact_gen3.json"
        ]
       ],
       "datasetInfos": [],
       "dbfsResultPath": null,
       "isJsonSchema": true,
       "metadata": {
        "isDbfsCommandResult": false
       },
       "overflow": false,
       "plotOptions": {
        "customPlotOptions": {},
        "displayType": "table",
        "pivotAggregation": null,
        "pivotColumns": null,
        "xColumns": null,
        "yColumns": null
       },
       "removedWidgets": [],
       "schema": [
        {
         "metadata": "{}",
         "name": "category_key",
         "type": "\"long\""
        },
        {
         "metadata": "{}",
         "name": "fact_genre_key",
         "type": "\"long\""
        },
        {
         "metadata": "{}",
         "name": "film_category_key",
         "type": "\"long\""
        },
        {
         "metadata": "{}",
         "name": "film_key",
         "type": "\"long\""
        },
        {
         "metadata": "{}",
         "name": "genre",
         "type": "\"string\""
        },
        {
         "metadata": "{}",
         "name": "inventory_key",
         "type": "\"long\""
        },
        {
         "metadata": "{}",
         "name": "rating",
         "type": "\"string\""
        },
        {
         "metadata": "{}",
         "name": "release_year",
         "type": "\"string\""
        },
        {
         "metadata": "{}",
         "name": "rental_date",
         "type": "\"string\""
        },
        {
         "metadata": "{}",
         "name": "rental_key",
         "type": "\"long\""
        },
        {
         "metadata": "{}",
         "name": "title",
         "type": "\"string\""
        },
        {
         "metadata": "{}",
         "name": "_rescued_data",
         "type": "\"string\""
        },
        {
         "metadata": "{}",
         "name": "receipt_time",
         "type": "\"timestamp\""
        },
        {
         "metadata": "{}",
         "name": "source_file",
         "type": "\"string\""
        }
       ],
       "type": "table"
      }
     },
     "output_type": "display_data"
    }
   ],
   "source": [
    "%sql\n",
    "SELECT * FROM genres_bronze_tempview LIMIT 15"
   ]
  },
  {
   "cell_type": "code",
   "execution_count": 0,
   "metadata": {
    "application/vnd.databricks.v1+cell": {
     "cellMetadata": {
      "byteLimit": 2048000,
      "rowLimit": 10000
     },
     "inputWidgets": {},
     "nuid": "13b0a3ca-e239-4f14-9e52-b64b1f86f6b9",
     "showTitle": false,
     "title": ""
    }
   },
   "outputs": [
    {
     "output_type": "stream",
     "name": "stdout",
     "output_type": "stream",
     "text": [
      "Out[35]: <pyspark.sql.streaming.query.StreamingQuery at 0x7f3acdc421c0>"
     ]
    }
   ],
   "source": [
    "(spark.table(\"genres_bronze_tempview\")\n",
    "      .writeStream\n",
    "      .format(\"delta\")\n",
    "      .option(\"checkpointLocation\", f\"{genres_output_bronze}/_checkpoint\")\n",
    "      .outputMode(\"append\")\n",
    "      .table(\"fact_genres_bronze\"))"
   ]
  },
  {
   "cell_type": "markdown",
   "metadata": {
    "application/vnd.databricks.v1+cell": {
     "cellMetadata": {
      "byteLimit": 2048000,
      "rowLimit": 10000
     },
     "inputWidgets": {},
     "nuid": "b40d8617-c32d-4236-be26-0922f06319c3",
     "showTitle": false,
     "title": ""
    }
   },
   "source": [
    "###Silver Table: Include Reference Data"
   ]
  },
  {
   "cell_type": "code",
   "execution_count": 0,
   "metadata": {
    "application/vnd.databricks.v1+cell": {
     "cellMetadata": {
      "byteLimit": 2048000,
      "rowLimit": 10000
     },
     "inputWidgets": {},
     "nuid": "9c925a0a-20dc-4545-a044-c306f46a1f91",
     "showTitle": false,
     "title": ""
    }
   },
   "outputs": [],
   "source": [
    "(spark.readStream\n",
    "  .table(\"fact_genres_bronze\")\n",
    "  .createOrReplaceTempView(\"genres_silver_tempview\"))"
   ]
  },
  {
   "cell_type": "code",
   "execution_count": 0,
   "metadata": {
    "application/vnd.databricks.v1+cell": {
     "cellMetadata": {
      "byteLimit": 2048000,
      "implicitDf": true,
      "rowLimit": 10000
     },
     "inputWidgets": {},
     "nuid": "46daf04c-e257-433a-bc41-a556abd06185",
     "showTitle": false,
     "title": ""
    }
   },
   "outputs": [
    {
     "output_type": "display_data",
     "data": {
      "text/html": [
       "<style scoped>\n",
       "  .table-result-container {\n",
       "    max-height: 300px;\n",
       "    overflow: auto;\n",
       "  }\n",
       "  table, th, td {\n",
       "    border: 1px solid black;\n",
       "    border-collapse: collapse;\n",
       "  }\n",
       "  th, td {\n",
       "    padding: 5px;\n",
       "  }\n",
       "  th {\n",
       "    text-align: left;\n",
       "  }\n",
       "</style><div class='table-result-container'><table class='table-result'><thead style='background-color: white'><tr><th>category_key</th><th>fact_genre_key</th><th>film_category_key</th><th>film_key</th><th>genre</th><th>inventory_key</th><th>rating</th><th>release_year</th><th>rental_date</th><th>rental_key</th><th>title</th><th>_rescued_data</th><th>receipt_time</th><th>source_file</th></tr></thead><tbody><tr><td>7</td><td>601</td><td>585</td><td>585</td><td>Drama</td><td>2665</td><td>G</td><td>2006</td><td>2005-05-26 21:22:07</td><td>305</td><td>MOB DUFFEL</td><td>null</td><td>2023-12-05T05:18:14.633+0000</td><td>dbfs:/FileStore/ds2002final/source_data/stream/fact_gen3.json</td></tr><tr><td>1</td><td>602</td><td>586</td><td>586</td><td>Action</td><td>2671</td><td>PG</td><td>2006</td><td>2005-05-27 19:03:08</td><td>448</td><td>MOCKINGBIRD HOLLYWOOD</td><td>null</td><td>2023-12-05T05:18:14.633+0000</td><td>dbfs:/FileStore/ds2002final/source_data/stream/fact_gen3.json</td></tr><tr><td>3</td><td>603</td><td>588</td><td>588</td><td>Children</td><td>2679</td><td>NC-17</td><td>2006</td><td>2005-05-28 11:48:55</td><td>583</td><td>MODEL FISH</td><td>null</td><td>2023-12-05T05:18:14.633+0000</td><td>dbfs:/FileStore/ds2002final/source_data/stream/fact_gen3.json</td></tr><tr><td>3</td><td>604</td><td>588</td><td>588</td><td>Children</td><td>2678</td><td>NC-17</td><td>2006</td><td>2005-05-27 01:18:57</td><td>327</td><td>MODEL FISH</td><td>null</td><td>2023-12-05T05:18:14.633+0000</td><td>dbfs:/FileStore/ds2002final/source_data/stream/fact_gen3.json</td></tr><tr><td>6</td><td>605</td><td>589</td><td>589</td><td>Documentary</td><td>2685</td><td>PG</td><td>2006</td><td>2005-05-28 18:24:43</td><td>638</td><td>MODERN DORADO</td><td>null</td><td>2023-12-05T05:18:14.633+0000</td><td>dbfs:/FileStore/ds2002final/source_data/stream/fact_gen3.json</td></tr><tr><td>6</td><td>606</td><td>589</td><td>589</td><td>Documentary</td><td>2684</td><td>PG</td><td>2006</td><td>2005-05-27 10:35:27</td><td>387</td><td>MODERN DORADO</td><td>null</td><td>2023-12-05T05:18:14.633+0000</td><td>dbfs:/FileStore/ds2002final/source_data/stream/fact_gen3.json</td></tr><tr><td>12</td><td>607</td><td>592</td><td>592</td><td>Music</td><td>2697</td><td>PG</td><td>2006</td><td>2005-05-29 16:59:44</td><td>796</td><td>MONSTER SPARTACUS</td><td>null</td><td>2023-12-05T05:18:14.633+0000</td><td>dbfs:/FileStore/ds2002final/source_data/stream/fact_gen3.json</td></tr><tr><td>11</td><td>608</td><td>593</td><td>593</td><td>Horror</td><td>2701</td><td>G</td><td>2006</td><td>2005-05-25 00:31:15</td><td>14</td><td>MONTEREY LABYRINTH</td><td>null</td><td>2023-12-05T05:18:14.633+0000</td><td>dbfs:/FileStore/ds2002final/source_data/stream/fact_gen3.json</td></tr><tr><td>9</td><td>609</td><td>595</td><td>595</td><td>Foreign</td><td>2711</td><td>PG</td><td>2006</td><td>2005-05-29 09:55:43</td><td>751</td><td>MOON BUNCH</td><td>null</td><td>2023-12-05T05:18:14.633+0000</td><td>dbfs:/FileStore/ds2002final/source_data/stream/fact_gen3.json</td></tr><tr><td>9</td><td>610</td><td>595</td><td>595</td><td>Foreign</td><td>2714</td><td>PG</td><td>2006</td><td>2005-05-26 03:07:43</td><td>168</td><td>MOON BUNCH</td><td>null</td><td>2023-12-05T05:18:14.633+0000</td><td>dbfs:/FileStore/ds2002final/source_data/stream/fact_gen3.json</td></tr><tr><td>15</td><td>611</td><td>598</td><td>598</td><td>Sports</td><td>2727</td><td>G</td><td>2006</td><td>2005-05-30 07:10:00</td><td>887</td><td>MOSQUITO ARMAGEDDON</td><td>null</td><td>2023-12-05T05:18:14.633+0000</td><td>dbfs:/FileStore/ds2002final/source_data/stream/fact_gen3.json</td></tr><tr><td>11</td><td>612</td><td>600</td><td>600</td><td>Horror</td><td>2735</td><td>PG</td><td>2006</td><td>2005-05-26 02:28:36</td><td>165</td><td>MOTIONS DETAILS</td><td>null</td><td>2023-12-05T05:18:14.633+0000</td><td>dbfs:/FileStore/ds2002final/source_data/stream/fact_gen3.json</td></tr><tr><td>14</td><td>613</td><td>602</td><td>602</td><td>Sci-Fi</td><td>2744</td><td>PG</td><td>2006</td><td>2005-05-30 08:50:43</td><td>895</td><td>MOURNING PURPLE</td><td>null</td><td>2023-12-05T05:18:14.633+0000</td><td>dbfs:/FileStore/ds2002final/source_data/stream/fact_gen3.json</td></tr><tr><td>14</td><td>614</td><td>602</td><td>602</td><td>Sci-Fi</td><td>2745</td><td>PG</td><td>2006</td><td>2005-05-26 10:14:38</td><td>222</td><td>MOURNING PURPLE</td><td>null</td><td>2023-12-05T05:18:14.633+0000</td><td>dbfs:/FileStore/ds2002final/source_data/stream/fact_gen3.json</td></tr><tr><td>8</td><td>615</td><td>603</td><td>603</td><td>Family</td><td>2748</td><td>PG</td><td>2006</td><td>2005-05-27 09:43:25</td><td>381</td><td>MOVIE SHAKESPEARE</td><td>null</td><td>2023-12-05T05:18:14.633+0000</td><td>dbfs:/FileStore/ds2002final/source_data/stream/fact_gen3.json</td></tr></tbody></table></div>"
      ]
     },
     "metadata": {
      "application/vnd.databricks.v1+output": {
       "addedWidgets": {},
       "aggData": [],
       "aggError": "",
       "aggOverflow": false,
       "aggSchema": [],
       "aggSeriesLimitReached": false,
       "aggType": "",
       "arguments": {},
       "columnCustomDisplayInfos": {},
       "data": [
        [
         7,
         601,
         585,
         585,
         "Drama",
         2665,
         "G",
         "2006",
         "2005-05-26 21:22:07",
         305,
         "MOB DUFFEL",
         null,
         "2023-12-05T05:18:14.633+0000",
         "dbfs:/FileStore/ds2002final/source_data/stream/fact_gen3.json"
        ],
        [
         1,
         602,
         586,
         586,
         "Action",
         2671,
         "PG",
         "2006",
         "2005-05-27 19:03:08",
         448,
         "MOCKINGBIRD HOLLYWOOD",
         null,
         "2023-12-05T05:18:14.633+0000",
         "dbfs:/FileStore/ds2002final/source_data/stream/fact_gen3.json"
        ],
        [
         3,
         603,
         588,
         588,
         "Children",
         2679,
         "NC-17",
         "2006",
         "2005-05-28 11:48:55",
         583,
         "MODEL FISH",
         null,
         "2023-12-05T05:18:14.633+0000",
         "dbfs:/FileStore/ds2002final/source_data/stream/fact_gen3.json"
        ],
        [
         3,
         604,
         588,
         588,
         "Children",
         2678,
         "NC-17",
         "2006",
         "2005-05-27 01:18:57",
         327,
         "MODEL FISH",
         null,
         "2023-12-05T05:18:14.633+0000",
         "dbfs:/FileStore/ds2002final/source_data/stream/fact_gen3.json"
        ],
        [
         6,
         605,
         589,
         589,
         "Documentary",
         2685,
         "PG",
         "2006",
         "2005-05-28 18:24:43",
         638,
         "MODERN DORADO",
         null,
         "2023-12-05T05:18:14.633+0000",
         "dbfs:/FileStore/ds2002final/source_data/stream/fact_gen3.json"
        ],
        [
         6,
         606,
         589,
         589,
         "Documentary",
         2684,
         "PG",
         "2006",
         "2005-05-27 10:35:27",
         387,
         "MODERN DORADO",
         null,
         "2023-12-05T05:18:14.633+0000",
         "dbfs:/FileStore/ds2002final/source_data/stream/fact_gen3.json"
        ],
        [
         12,
         607,
         592,
         592,
         "Music",
         2697,
         "PG",
         "2006",
         "2005-05-29 16:59:44",
         796,
         "MONSTER SPARTACUS",
         null,
         "2023-12-05T05:18:14.633+0000",
         "dbfs:/FileStore/ds2002final/source_data/stream/fact_gen3.json"
        ],
        [
         11,
         608,
         593,
         593,
         "Horror",
         2701,
         "G",
         "2006",
         "2005-05-25 00:31:15",
         14,
         "MONTEREY LABYRINTH",
         null,
         "2023-12-05T05:18:14.633+0000",
         "dbfs:/FileStore/ds2002final/source_data/stream/fact_gen3.json"
        ],
        [
         9,
         609,
         595,
         595,
         "Foreign",
         2711,
         "PG",
         "2006",
         "2005-05-29 09:55:43",
         751,
         "MOON BUNCH",
         null,
         "2023-12-05T05:18:14.633+0000",
         "dbfs:/FileStore/ds2002final/source_data/stream/fact_gen3.json"
        ],
        [
         9,
         610,
         595,
         595,
         "Foreign",
         2714,
         "PG",
         "2006",
         "2005-05-26 03:07:43",
         168,
         "MOON BUNCH",
         null,
         "2023-12-05T05:18:14.633+0000",
         "dbfs:/FileStore/ds2002final/source_data/stream/fact_gen3.json"
        ],
        [
         15,
         611,
         598,
         598,
         "Sports",
         2727,
         "G",
         "2006",
         "2005-05-30 07:10:00",
         887,
         "MOSQUITO ARMAGEDDON",
         null,
         "2023-12-05T05:18:14.633+0000",
         "dbfs:/FileStore/ds2002final/source_data/stream/fact_gen3.json"
        ],
        [
         11,
         612,
         600,
         600,
         "Horror",
         2735,
         "PG",
         "2006",
         "2005-05-26 02:28:36",
         165,
         "MOTIONS DETAILS",
         null,
         "2023-12-05T05:18:14.633+0000",
         "dbfs:/FileStore/ds2002final/source_data/stream/fact_gen3.json"
        ],
        [
         14,
         613,
         602,
         602,
         "Sci-Fi",
         2744,
         "PG",
         "2006",
         "2005-05-30 08:50:43",
         895,
         "MOURNING PURPLE",
         null,
         "2023-12-05T05:18:14.633+0000",
         "dbfs:/FileStore/ds2002final/source_data/stream/fact_gen3.json"
        ],
        [
         14,
         614,
         602,
         602,
         "Sci-Fi",
         2745,
         "PG",
         "2006",
         "2005-05-26 10:14:38",
         222,
         "MOURNING PURPLE",
         null,
         "2023-12-05T05:18:14.633+0000",
         "dbfs:/FileStore/ds2002final/source_data/stream/fact_gen3.json"
        ],
        [
         8,
         615,
         603,
         603,
         "Family",
         2748,
         "PG",
         "2006",
         "2005-05-27 09:43:25",
         381,
         "MOVIE SHAKESPEARE",
         null,
         "2023-12-05T05:18:14.633+0000",
         "dbfs:/FileStore/ds2002final/source_data/stream/fact_gen3.json"
        ]
       ],
       "datasetInfos": [],
       "dbfsResultPath": null,
       "isJsonSchema": true,
       "metadata": {
        "isDbfsCommandResult": false
       },
       "overflow": false,
       "plotOptions": {
        "customPlotOptions": {},
        "displayType": "table",
        "pivotAggregation": null,
        "pivotColumns": null,
        "xColumns": null,
        "yColumns": null
       },
       "removedWidgets": [],
       "schema": [
        {
         "metadata": "{}",
         "name": "category_key",
         "type": "\"long\""
        },
        {
         "metadata": "{}",
         "name": "fact_genre_key",
         "type": "\"long\""
        },
        {
         "metadata": "{}",
         "name": "film_category_key",
         "type": "\"long\""
        },
        {
         "metadata": "{}",
         "name": "film_key",
         "type": "\"long\""
        },
        {
         "metadata": "{}",
         "name": "genre",
         "type": "\"string\""
        },
        {
         "metadata": "{}",
         "name": "inventory_key",
         "type": "\"long\""
        },
        {
         "metadata": "{}",
         "name": "rating",
         "type": "\"string\""
        },
        {
         "metadata": "{}",
         "name": "release_year",
         "type": "\"string\""
        },
        {
         "metadata": "{}",
         "name": "rental_date",
         "type": "\"string\""
        },
        {
         "metadata": "{}",
         "name": "rental_key",
         "type": "\"long\""
        },
        {
         "metadata": "{}",
         "name": "title",
         "type": "\"string\""
        },
        {
         "metadata": "{}",
         "name": "_rescued_data",
         "type": "\"string\""
        },
        {
         "metadata": "{}",
         "name": "receipt_time",
         "type": "\"timestamp\""
        },
        {
         "metadata": "{}",
         "name": "source_file",
         "type": "\"string\""
        }
       ],
       "type": "table"
      }
     },
     "output_type": "display_data"
    }
   ],
   "source": [
    "%sql\n",
    "SELECT * FROM genres_silver_tempview LIMIT 15"
   ]
  },
  {
   "cell_type": "code",
   "execution_count": 0,
   "metadata": {
    "application/vnd.databricks.v1+cell": {
     "cellMetadata": {
      "byteLimit": 2048000,
      "implicitDf": true,
      "rowLimit": 10000
     },
     "inputWidgets": {},
     "nuid": "fccc924b-b4ec-4b73-95bc-a26418e6b3ff",
     "showTitle": false,
     "title": ""
    }
   },
   "outputs": [
    {
     "output_type": "display_data",
     "data": {
      "text/html": [
       "<style scoped>\n",
       "  .table-result-container {\n",
       "    max-height: 300px;\n",
       "    overflow: auto;\n",
       "  }\n",
       "  table, th, td {\n",
       "    border: 1px solid black;\n",
       "    border-collapse: collapse;\n",
       "  }\n",
       "  th, td {\n",
       "    padding: 5px;\n",
       "  }\n",
       "  th {\n",
       "    text-align: left;\n",
       "  }\n",
       "</style><div class='table-result-container'><table class='table-result'><thead style='background-color: white'><tr><th>col_name</th><th>data_type</th><th>comment</th></tr></thead><tbody><tr><td>category_key</td><td>bigint</td><td>null</td></tr><tr><td>fact_genre_key</td><td>bigint</td><td>null</td></tr><tr><td>film_category_key</td><td>bigint</td><td>null</td></tr><tr><td>film_key</td><td>bigint</td><td>null</td></tr><tr><td>genre</td><td>string</td><td>null</td></tr><tr><td>inventory_key</td><td>bigint</td><td>null</td></tr><tr><td>rating</td><td>string</td><td>null</td></tr><tr><td>release_year</td><td>string</td><td>null</td></tr><tr><td>rental_date</td><td>string</td><td>null</td></tr><tr><td>rental_key</td><td>bigint</td><td>null</td></tr><tr><td>title</td><td>string</td><td>null</td></tr><tr><td>_rescued_data</td><td>string</td><td>null</td></tr><tr><td>receipt_time</td><td>timestamp</td><td>null</td></tr><tr><td>source_file</td><td>string</td><td>null</td></tr></tbody></table></div>"
      ]
     },
     "metadata": {
      "application/vnd.databricks.v1+output": {
       "addedWidgets": {},
       "aggData": [],
       "aggError": "",
       "aggOverflow": false,
       "aggSchema": [],
       "aggSeriesLimitReached": false,
       "aggType": "",
       "arguments": {},
       "columnCustomDisplayInfos": {},
       "data": [
        [
         "category_key",
         "bigint",
         null
        ],
        [
         "fact_genre_key",
         "bigint",
         null
        ],
        [
         "film_category_key",
         "bigint",
         null
        ],
        [
         "film_key",
         "bigint",
         null
        ],
        [
         "genre",
         "string",
         null
        ],
        [
         "inventory_key",
         "bigint",
         null
        ],
        [
         "rating",
         "string",
         null
        ],
        [
         "release_year",
         "string",
         null
        ],
        [
         "rental_date",
         "string",
         null
        ],
        [
         "rental_key",
         "bigint",
         null
        ],
        [
         "title",
         "string",
         null
        ],
        [
         "_rescued_data",
         "string",
         null
        ],
        [
         "receipt_time",
         "timestamp",
         null
        ],
        [
         "source_file",
         "string",
         null
        ]
       ],
       "datasetInfos": [],
       "dbfsResultPath": null,
       "isJsonSchema": true,
       "metadata": {},
       "overflow": false,
       "plotOptions": {
        "customPlotOptions": {},
        "displayType": "table",
        "pivotAggregation": null,
        "pivotColumns": null,
        "xColumns": null,
        "yColumns": null
       },
       "removedWidgets": [],
       "schema": [
        {
         "metadata": "{\"comment\":\"name of the column\"}",
         "name": "col_name",
         "type": "\"string\""
        },
        {
         "metadata": "{\"comment\":\"data type of the column\"}",
         "name": "data_type",
         "type": "\"string\""
        },
        {
         "metadata": "{\"comment\":\"comment of the column\"}",
         "name": "comment",
         "type": "\"string\""
        }
       ],
       "type": "table"
      }
     },
     "output_type": "display_data"
    }
   ],
   "source": [
    "%sql\n",
    "DESCRIBE EXTENDED genres_silver_tempview"
   ]
  },
  {
   "cell_type": "code",
   "execution_count": 0,
   "metadata": {
    "application/vnd.databricks.v1+cell": {
     "cellMetadata": {
      "byteLimit": 2048000,
      "implicitDf": true,
      "rowLimit": 10000
     },
     "inputWidgets": {},
     "nuid": "92bc2af4-9db6-4524-aaef-8987a69211e6",
     "showTitle": false,
     "title": ""
    }
   },
   "outputs": [
    {
     "output_type": "display_data",
     "data": {
      "text/html": [
       "<style scoped>\n",
       "  .table-result-container {\n",
       "    max-height: 300px;\n",
       "    overflow: auto;\n",
       "  }\n",
       "  table, th, td {\n",
       "    border: 1px solid black;\n",
       "    border-collapse: collapse;\n",
       "  }\n",
       "  th, td {\n",
       "    padding: 5px;\n",
       "  }\n",
       "  th {\n",
       "    text-align: left;\n",
       "  }\n",
       "</style><div class='table-result-container'><table class='table-result'><thead style='background-color: white'><tr><th>category_key</th><th>fact_genre_key</th><th>film_category_key</th><th>film_key</th><th>genre</th><th>inventory_key</th><th>rating</th><th>release_year</th><th>rental_date</th><th>rental_key</th><th>title</th><th>_rescued_data</th><th>receipt_time</th><th>source_file</th></tr></thead><tbody><tr><td>7</td><td>601</td><td>585</td><td>585</td><td>Drama</td><td>2665</td><td>G</td><td>2006</td><td>2005-05-26 21:22:07</td><td>305</td><td>MOB DUFFEL</td><td>null</td><td>2023-12-05T05:18:14.633+0000</td><td>dbfs:/FileStore/ds2002final/source_data/stream/fact_gen3.json</td></tr><tr><td>1</td><td>602</td><td>586</td><td>586</td><td>Action</td><td>2671</td><td>PG</td><td>2006</td><td>2005-05-27 19:03:08</td><td>448</td><td>MOCKINGBIRD HOLLYWOOD</td><td>null</td><td>2023-12-05T05:18:14.633+0000</td><td>dbfs:/FileStore/ds2002final/source_data/stream/fact_gen3.json</td></tr><tr><td>3</td><td>603</td><td>588</td><td>588</td><td>Children</td><td>2679</td><td>NC-17</td><td>2006</td><td>2005-05-28 11:48:55</td><td>583</td><td>MODEL FISH</td><td>null</td><td>2023-12-05T05:18:14.633+0000</td><td>dbfs:/FileStore/ds2002final/source_data/stream/fact_gen3.json</td></tr><tr><td>3</td><td>604</td><td>588</td><td>588</td><td>Children</td><td>2678</td><td>NC-17</td><td>2006</td><td>2005-05-27 01:18:57</td><td>327</td><td>MODEL FISH</td><td>null</td><td>2023-12-05T05:18:14.633+0000</td><td>dbfs:/FileStore/ds2002final/source_data/stream/fact_gen3.json</td></tr><tr><td>6</td><td>605</td><td>589</td><td>589</td><td>Documentary</td><td>2685</td><td>PG</td><td>2006</td><td>2005-05-28 18:24:43</td><td>638</td><td>MODERN DORADO</td><td>null</td><td>2023-12-05T05:18:14.633+0000</td><td>dbfs:/FileStore/ds2002final/source_data/stream/fact_gen3.json</td></tr><tr><td>6</td><td>606</td><td>589</td><td>589</td><td>Documentary</td><td>2684</td><td>PG</td><td>2006</td><td>2005-05-27 10:35:27</td><td>387</td><td>MODERN DORADO</td><td>null</td><td>2023-12-05T05:18:14.633+0000</td><td>dbfs:/FileStore/ds2002final/source_data/stream/fact_gen3.json</td></tr><tr><td>12</td><td>607</td><td>592</td><td>592</td><td>Music</td><td>2697</td><td>PG</td><td>2006</td><td>2005-05-29 16:59:44</td><td>796</td><td>MONSTER SPARTACUS</td><td>null</td><td>2023-12-05T05:18:14.633+0000</td><td>dbfs:/FileStore/ds2002final/source_data/stream/fact_gen3.json</td></tr><tr><td>11</td><td>608</td><td>593</td><td>593</td><td>Horror</td><td>2701</td><td>G</td><td>2006</td><td>2005-05-25 00:31:15</td><td>14</td><td>MONTEREY LABYRINTH</td><td>null</td><td>2023-12-05T05:18:14.633+0000</td><td>dbfs:/FileStore/ds2002final/source_data/stream/fact_gen3.json</td></tr><tr><td>9</td><td>609</td><td>595</td><td>595</td><td>Foreign</td><td>2711</td><td>PG</td><td>2006</td><td>2005-05-29 09:55:43</td><td>751</td><td>MOON BUNCH</td><td>null</td><td>2023-12-05T05:18:14.633+0000</td><td>dbfs:/FileStore/ds2002final/source_data/stream/fact_gen3.json</td></tr><tr><td>9</td><td>610</td><td>595</td><td>595</td><td>Foreign</td><td>2714</td><td>PG</td><td>2006</td><td>2005-05-26 03:07:43</td><td>168</td><td>MOON BUNCH</td><td>null</td><td>2023-12-05T05:18:14.633+0000</td><td>dbfs:/FileStore/ds2002final/source_data/stream/fact_gen3.json</td></tr><tr><td>15</td><td>611</td><td>598</td><td>598</td><td>Sports</td><td>2727</td><td>G</td><td>2006</td><td>2005-05-30 07:10:00</td><td>887</td><td>MOSQUITO ARMAGEDDON</td><td>null</td><td>2023-12-05T05:18:14.633+0000</td><td>dbfs:/FileStore/ds2002final/source_data/stream/fact_gen3.json</td></tr><tr><td>11</td><td>612</td><td>600</td><td>600</td><td>Horror</td><td>2735</td><td>PG</td><td>2006</td><td>2005-05-26 02:28:36</td><td>165</td><td>MOTIONS DETAILS</td><td>null</td><td>2023-12-05T05:18:14.633+0000</td><td>dbfs:/FileStore/ds2002final/source_data/stream/fact_gen3.json</td></tr><tr><td>14</td><td>613</td><td>602</td><td>602</td><td>Sci-Fi</td><td>2744</td><td>PG</td><td>2006</td><td>2005-05-30 08:50:43</td><td>895</td><td>MOURNING PURPLE</td><td>null</td><td>2023-12-05T05:18:14.633+0000</td><td>dbfs:/FileStore/ds2002final/source_data/stream/fact_gen3.json</td></tr><tr><td>14</td><td>614</td><td>602</td><td>602</td><td>Sci-Fi</td><td>2745</td><td>PG</td><td>2006</td><td>2005-05-26 10:14:38</td><td>222</td><td>MOURNING PURPLE</td><td>null</td><td>2023-12-05T05:18:14.633+0000</td><td>dbfs:/FileStore/ds2002final/source_data/stream/fact_gen3.json</td></tr><tr><td>8</td><td>615</td><td>603</td><td>603</td><td>Family</td><td>2748</td><td>PG</td><td>2006</td><td>2005-05-27 09:43:25</td><td>381</td><td>MOVIE SHAKESPEARE</td><td>null</td><td>2023-12-05T05:18:14.633+0000</td><td>dbfs:/FileStore/ds2002final/source_data/stream/fact_gen3.json</td></tr></tbody></table></div>"
      ]
     },
     "metadata": {
      "application/vnd.databricks.v1+output": {
       "addedWidgets": {},
       "aggData": [],
       "aggError": "",
       "aggOverflow": false,
       "aggSchema": [],
       "aggSeriesLimitReached": false,
       "aggType": "",
       "arguments": {},
       "columnCustomDisplayInfos": {},
       "data": [
        [
         7,
         601,
         585,
         585,
         "Drama",
         2665,
         "G",
         "2006",
         "2005-05-26 21:22:07",
         305,
         "MOB DUFFEL",
         null,
         "2023-12-05T05:18:14.633+0000",
         "dbfs:/FileStore/ds2002final/source_data/stream/fact_gen3.json"
        ],
        [
         1,
         602,
         586,
         586,
         "Action",
         2671,
         "PG",
         "2006",
         "2005-05-27 19:03:08",
         448,
         "MOCKINGBIRD HOLLYWOOD",
         null,
         "2023-12-05T05:18:14.633+0000",
         "dbfs:/FileStore/ds2002final/source_data/stream/fact_gen3.json"
        ],
        [
         3,
         603,
         588,
         588,
         "Children",
         2679,
         "NC-17",
         "2006",
         "2005-05-28 11:48:55",
         583,
         "MODEL FISH",
         null,
         "2023-12-05T05:18:14.633+0000",
         "dbfs:/FileStore/ds2002final/source_data/stream/fact_gen3.json"
        ],
        [
         3,
         604,
         588,
         588,
         "Children",
         2678,
         "NC-17",
         "2006",
         "2005-05-27 01:18:57",
         327,
         "MODEL FISH",
         null,
         "2023-12-05T05:18:14.633+0000",
         "dbfs:/FileStore/ds2002final/source_data/stream/fact_gen3.json"
        ],
        [
         6,
         605,
         589,
         589,
         "Documentary",
         2685,
         "PG",
         "2006",
         "2005-05-28 18:24:43",
         638,
         "MODERN DORADO",
         null,
         "2023-12-05T05:18:14.633+0000",
         "dbfs:/FileStore/ds2002final/source_data/stream/fact_gen3.json"
        ],
        [
         6,
         606,
         589,
         589,
         "Documentary",
         2684,
         "PG",
         "2006",
         "2005-05-27 10:35:27",
         387,
         "MODERN DORADO",
         null,
         "2023-12-05T05:18:14.633+0000",
         "dbfs:/FileStore/ds2002final/source_data/stream/fact_gen3.json"
        ],
        [
         12,
         607,
         592,
         592,
         "Music",
         2697,
         "PG",
         "2006",
         "2005-05-29 16:59:44",
         796,
         "MONSTER SPARTACUS",
         null,
         "2023-12-05T05:18:14.633+0000",
         "dbfs:/FileStore/ds2002final/source_data/stream/fact_gen3.json"
        ],
        [
         11,
         608,
         593,
         593,
         "Horror",
         2701,
         "G",
         "2006",
         "2005-05-25 00:31:15",
         14,
         "MONTEREY LABYRINTH",
         null,
         "2023-12-05T05:18:14.633+0000",
         "dbfs:/FileStore/ds2002final/source_data/stream/fact_gen3.json"
        ],
        [
         9,
         609,
         595,
         595,
         "Foreign",
         2711,
         "PG",
         "2006",
         "2005-05-29 09:55:43",
         751,
         "MOON BUNCH",
         null,
         "2023-12-05T05:18:14.633+0000",
         "dbfs:/FileStore/ds2002final/source_data/stream/fact_gen3.json"
        ],
        [
         9,
         610,
         595,
         595,
         "Foreign",
         2714,
         "PG",
         "2006",
         "2005-05-26 03:07:43",
         168,
         "MOON BUNCH",
         null,
         "2023-12-05T05:18:14.633+0000",
         "dbfs:/FileStore/ds2002final/source_data/stream/fact_gen3.json"
        ],
        [
         15,
         611,
         598,
         598,
         "Sports",
         2727,
         "G",
         "2006",
         "2005-05-30 07:10:00",
         887,
         "MOSQUITO ARMAGEDDON",
         null,
         "2023-12-05T05:18:14.633+0000",
         "dbfs:/FileStore/ds2002final/source_data/stream/fact_gen3.json"
        ],
        [
         11,
         612,
         600,
         600,
         "Horror",
         2735,
         "PG",
         "2006",
         "2005-05-26 02:28:36",
         165,
         "MOTIONS DETAILS",
         null,
         "2023-12-05T05:18:14.633+0000",
         "dbfs:/FileStore/ds2002final/source_data/stream/fact_gen3.json"
        ],
        [
         14,
         613,
         602,
         602,
         "Sci-Fi",
         2744,
         "PG",
         "2006",
         "2005-05-30 08:50:43",
         895,
         "MOURNING PURPLE",
         null,
         "2023-12-05T05:18:14.633+0000",
         "dbfs:/FileStore/ds2002final/source_data/stream/fact_gen3.json"
        ],
        [
         14,
         614,
         602,
         602,
         "Sci-Fi",
         2745,
         "PG",
         "2006",
         "2005-05-26 10:14:38",
         222,
         "MOURNING PURPLE",
         null,
         "2023-12-05T05:18:14.633+0000",
         "dbfs:/FileStore/ds2002final/source_data/stream/fact_gen3.json"
        ],
        [
         8,
         615,
         603,
         603,
         "Family",
         2748,
         "PG",
         "2006",
         "2005-05-27 09:43:25",
         381,
         "MOVIE SHAKESPEARE",
         null,
         "2023-12-05T05:18:14.633+0000",
         "dbfs:/FileStore/ds2002final/source_data/stream/fact_gen3.json"
        ]
       ],
       "datasetInfos": [],
       "dbfsResultPath": null,
       "isJsonSchema": true,
       "metadata": {
        "isDbfsCommandResult": false
       },
       "overflow": false,
       "plotOptions": {
        "customPlotOptions": {},
        "displayType": "table",
        "pivotAggregation": null,
        "pivotColumns": null,
        "xColumns": null,
        "yColumns": null
       },
       "removedWidgets": [],
       "schema": [
        {
         "metadata": "{}",
         "name": "category_key",
         "type": "\"long\""
        },
        {
         "metadata": "{}",
         "name": "fact_genre_key",
         "type": "\"long\""
        },
        {
         "metadata": "{}",
         "name": "film_category_key",
         "type": "\"long\""
        },
        {
         "metadata": "{}",
         "name": "film_key",
         "type": "\"long\""
        },
        {
         "metadata": "{}",
         "name": "genre",
         "type": "\"string\""
        },
        {
         "metadata": "{}",
         "name": "inventory_key",
         "type": "\"long\""
        },
        {
         "metadata": "{}",
         "name": "rating",
         "type": "\"string\""
        },
        {
         "metadata": "{}",
         "name": "release_year",
         "type": "\"string\""
        },
        {
         "metadata": "{}",
         "name": "rental_date",
         "type": "\"string\""
        },
        {
         "metadata": "{}",
         "name": "rental_key",
         "type": "\"long\""
        },
        {
         "metadata": "{}",
         "name": "title",
         "type": "\"string\""
        },
        {
         "metadata": "{}",
         "name": "_rescued_data",
         "type": "\"string\""
        },
        {
         "metadata": "{}",
         "name": "receipt_time",
         "type": "\"timestamp\""
        },
        {
         "metadata": "{}",
         "name": "source_file",
         "type": "\"string\""
        }
       ],
       "type": "table"
      }
     },
     "output_type": "display_data"
    }
   ],
   "source": [
    "%sql\n",
    "SELECT * FROM genres_silver_tempview LIMIT 15"
   ]
  },
  {
   "cell_type": "code",
   "execution_count": 0,
   "metadata": {
    "application/vnd.databricks.v1+cell": {
     "cellMetadata": {
      "byteLimit": 2048000,
      "implicitDf": true,
      "rowLimit": 10000
     },
     "inputWidgets": {},
     "nuid": "714998ee-7992-41fb-a2b9-eac155c7e0b6",
     "showTitle": false,
     "title": ""
    }
   },
   "outputs": [
    {
     "output_type": "display_data",
     "data": {
      "text/html": [
       "<style scoped>\n",
       "  .table-result-container {\n",
       "    max-height: 300px;\n",
       "    overflow: auto;\n",
       "  }\n",
       "  table, th, td {\n",
       "    border: 1px solid black;\n",
       "    border-collapse: collapse;\n",
       "  }\n",
       "  th, td {\n",
       "    padding: 5px;\n",
       "  }\n",
       "  th {\n",
       "    text-align: left;\n",
       "  }\n",
       "</style><div class='table-result-container'><table class='table-result'><thead style='background-color: white'><tr></tr></thead><tbody></tbody></table></div>"
      ]
     },
     "metadata": {
      "application/vnd.databricks.v1+output": {
       "addedWidgets": {},
       "aggData": [],
       "aggError": "",
       "aggOverflow": false,
       "aggSchema": [],
       "aggSeriesLimitReached": false,
       "aggType": "",
       "arguments": {},
       "columnCustomDisplayInfos": {},
       "data": [],
       "datasetInfos": [],
       "dbfsResultPath": null,
       "isJsonSchema": true,
       "metadata": {},
       "overflow": false,
       "plotOptions": {
        "customPlotOptions": {},
        "displayType": "table",
        "pivotAggregation": null,
        "pivotColumns": null,
        "xColumns": null,
        "yColumns": null
       },
       "removedWidgets": [],
       "schema": [],
       "type": "table"
      }
     },
     "output_type": "display_data"
    }
   ],
   "source": [
    "%sql\n",
    "CREATE OR REPLACE TEMPORARY VIEW fact_genres_silver_tempview AS (\n",
    "  SELECT r.rental_id,\n",
    "      r.rental_date, \n",
    "      f.film_id,\n",
    "      f.title,\n",
    "      f.rating,\n",
    "      f.release_year,\n",
    "      fc.film_category_key,\n",
    "      c.category_key,\n",
    "      c.name as genre,\n",
    "      gs.inventory_key\n",
    "  FROM genres_silver_tempview as gs\n",
    "  INNER JOIN sakila_dlh.dim_inventory as i \n",
    "  ON gs.inventory_key = i.inventory_key\n",
    "  INNER JOIN sakila_dlh.dim_rental as r\n",
    "  ON r.inventory_id = i.inventory_key\n",
    "  INNER JOIN sakila_dlh.dim_film as f\n",
    "  ON i.film_key = f.film_id\n",
    "  INNER JOIN sakila_dlh.dim_film_category as fc\n",
    "  ON f.film_id = fc.film_key\n",
    "  INNER JOIN sakila_dlh.dim_category as c\n",
    "  ON fc.category_key = c.category_key\n",
    ")"
   ]
  },
  {
   "cell_type": "markdown",
   "metadata": {
    "application/vnd.databricks.v1+cell": {
     "cellMetadata": {
      "byteLimit": 2048000,
      "rowLimit": 10000
     },
     "inputWidgets": {},
     "nuid": "824d2bdd-4331-4a25-8b5f-d476597c66d1",
     "showTitle": false,
     "title": ""
    }
   },
   "source": [
    "##### Even though I uploaded the dim_date dimension, I did not include it in my silver table because I will be using the rental date in order to calculate my solution. Thus, it is not seem appropriate to add in the dim_date because it doesn't make sense in regards to my project/overall question. "
   ]
  },
  {
   "cell_type": "code",
   "execution_count": 0,
   "metadata": {
    "application/vnd.databricks.v1+cell": {
     "cellMetadata": {
      "byteLimit": 2048000,
      "rowLimit": 10000
     },
     "inputWidgets": {},
     "nuid": "a78801d9-4b8b-4f97-a54e-a1a85a51a17b",
     "showTitle": false,
     "title": ""
    }
   },
   "outputs": [
    {
     "output_type": "stream",
     "name": "stdout",
     "output_type": "stream",
     "text": [
      "Out[57]: <pyspark.sql.streaming.query.StreamingQuery at 0x7f3acdc42df0>"
     ]
    }
   ],
   "source": [
    "(spark.table(\"fact_genres_silver_tempview\")\n",
    "      .writeStream\n",
    "      .format(\"delta\")\n",
    "      .option(\"checkpointLocation\", f\"{genres_output_silver}_checkpoint\")\n",
    "      .outputMode(\"append\")\n",
    "      .table(\"fact_genres_silver\"))"
   ]
  },
  {
   "cell_type": "code",
   "execution_count": 0,
   "metadata": {
    "application/vnd.databricks.v1+cell": {
     "cellMetadata": {
      "byteLimit": 2048000,
      "implicitDf": true,
      "rowLimit": 10000
     },
     "inputWidgets": {},
     "nuid": "3f8140c9-b89f-4340-90e2-50f0b9075a94",
     "showTitle": false,
     "title": ""
    }
   },
   "outputs": [
    {
     "output_type": "display_data",
     "data": {
      "text/html": [
       "<style scoped>\n",
       "  .table-result-container {\n",
       "    max-height: 300px;\n",
       "    overflow: auto;\n",
       "  }\n",
       "  table, th, td {\n",
       "    border: 1px solid black;\n",
       "    border-collapse: collapse;\n",
       "  }\n",
       "  th, td {\n",
       "    padding: 5px;\n",
       "  }\n",
       "  th {\n",
       "    text-align: left;\n",
       "  }\n",
       "</style><div class='table-result-container'><table class='table-result'><thead style='background-color: white'><tr><th>rental_id</th><th>rental_date</th><th>film_id</th><th>title</th><th>rating</th><th>release_year</th><th>film_category_key</th><th>category_key</th><th>genre</th><th>inventory_key</th></tr></thead><tbody><tr><td>972</td><td>2005-05-30T20:21:07.000+0000</td><td>1</td><td>ACADEMY DINOSAUR</td><td>PG</td><td>2006</td><td>1</td><td>6</td><td>Documentary</td><td>2</td></tr><tr><td>361</td><td>2005-05-27T07:03:28.000+0000</td><td>1</td><td>ACADEMY DINOSAUR</td><td>PG</td><td>2006</td><td>1</td><td>6</td><td>Documentary</td><td>6</td></tr><tr><td>995</td><td>2005-05-31T00:06:02.000+0000</td><td>4</td><td>AFFAIR PREJUDICE</td><td>G</td><td>2006</td><td>4</td><td>11</td><td>Horror</td><td>17</td></tr><tr><td>465</td><td>2005-05-27T20:44:36.000+0000</td><td>4</td><td>AFFAIR PREJUDICE</td><td>G</td><td>2006</td><td>4</td><td>11</td><td>Horror</td><td>20</td></tr><tr><td>552</td><td>2005-05-28T07:53:38.000+0000</td><td>5</td><td>AFRICAN EGG</td><td>G</td><td>2006</td><td>5</td><td>8</td><td>Family</td><td>23</td></tr><tr><td>317</td><td>2005-05-26T23:23:56.000+0000</td><td>6</td><td>AGENT TRUMAN</td><td>PG</td><td>2006</td><td>6</td><td>9</td><td>Foreign</td><td>26</td></tr><tr><td>259</td><td>2005-05-26T15:32:46.000+0000</td><td>6</td><td>AGENT TRUMAN</td><td>PG</td><td>2006</td><td>6</td><td>9</td><td>Foreign</td><td>30</td></tr><tr><td>120</td><td>2005-05-25T19:37:47.000+0000</td><td>8</td><td>AIRPORT POLLOCK</td><td>R</td><td>2006</td><td>8</td><td>11</td><td>Horror</td><td>37</td></tr><tr><td>785</td><td>2005-05-29T15:08:41.000+0000</td><td>8</td><td>AIRPORT POLLOCK</td><td>R</td><td>2006</td><td>8</td><td>11</td><td>Horror</td><td>39</td></tr><tr><td>563</td><td>2005-05-28T09:10:49.000+0000</td><td>11</td><td>ALAMO VIDEOTAPE</td><td>G</td><td>2006</td><td>11</td><td>9</td><td>Foreign</td><td>53</td></tr><tr><td>633</td><td>2005-05-28T17:37:59.000+0000</td><td>11</td><td>ALAMO VIDEOTAPE</td><td>G</td><td>2006</td><td>11</td><td>9</td><td>Foreign</td><td>58</td></tr><tr><td>827</td><td>2005-05-29T21:58:43.000+0000</td><td>12</td><td>ALASKA PHANTOM</td><td>PG</td><td>2006</td><td>12</td><td>12</td><td>Music</td><td>62</td></tr><tr><td>983</td><td>2005-05-30T22:15:51.000+0000</td><td>12</td><td>ALASKA PHANTOM</td><td>PG</td><td>2006</td><td>12</td><td>12</td><td>Music</td><td>63</td></tr><tr><td>505</td><td>2005-05-28T02:06:37.000+0000</td><td>15</td><td>ALIEN CENTER</td><td>NC-17</td><td>2006</td><td>15</td><td>9</td><td>Foreign</td><td>71</td></tr><tr><td>481</td><td>2005-05-27T22:49:27.000+0000</td><td>15</td><td>ALIEN CENTER</td><td>NC-17</td><td>2006</td><td>15</td><td>9</td><td>Foreign</td><td>72</td></tr></tbody></table></div>"
      ]
     },
     "metadata": {
      "application/vnd.databricks.v1+output": {
       "addedWidgets": {},
       "aggData": [],
       "aggError": "",
       "aggOverflow": false,
       "aggSchema": [],
       "aggSeriesLimitReached": false,
       "aggType": "",
       "arguments": {},
       "columnCustomDisplayInfos": {},
       "data": [
        [
         972,
         "2005-05-30T20:21:07.000+0000",
         1,
         "ACADEMY DINOSAUR",
         "PG",
         "2006",
         1,
         6,
         "Documentary",
         2
        ],
        [
         361,
         "2005-05-27T07:03:28.000+0000",
         1,
         "ACADEMY DINOSAUR",
         "PG",
         "2006",
         1,
         6,
         "Documentary",
         6
        ],
        [
         995,
         "2005-05-31T00:06:02.000+0000",
         4,
         "AFFAIR PREJUDICE",
         "G",
         "2006",
         4,
         11,
         "Horror",
         17
        ],
        [
         465,
         "2005-05-27T20:44:36.000+0000",
         4,
         "AFFAIR PREJUDICE",
         "G",
         "2006",
         4,
         11,
         "Horror",
         20
        ],
        [
         552,
         "2005-05-28T07:53:38.000+0000",
         5,
         "AFRICAN EGG",
         "G",
         "2006",
         5,
         8,
         "Family",
         23
        ],
        [
         317,
         "2005-05-26T23:23:56.000+0000",
         6,
         "AGENT TRUMAN",
         "PG",
         "2006",
         6,
         9,
         "Foreign",
         26
        ],
        [
         259,
         "2005-05-26T15:32:46.000+0000",
         6,
         "AGENT TRUMAN",
         "PG",
         "2006",
         6,
         9,
         "Foreign",
         30
        ],
        [
         120,
         "2005-05-25T19:37:47.000+0000",
         8,
         "AIRPORT POLLOCK",
         "R",
         "2006",
         8,
         11,
         "Horror",
         37
        ],
        [
         785,
         "2005-05-29T15:08:41.000+0000",
         8,
         "AIRPORT POLLOCK",
         "R",
         "2006",
         8,
         11,
         "Horror",
         39
        ],
        [
         563,
         "2005-05-28T09:10:49.000+0000",
         11,
         "ALAMO VIDEOTAPE",
         "G",
         "2006",
         11,
         9,
         "Foreign",
         53
        ],
        [
         633,
         "2005-05-28T17:37:59.000+0000",
         11,
         "ALAMO VIDEOTAPE",
         "G",
         "2006",
         11,
         9,
         "Foreign",
         58
        ],
        [
         827,
         "2005-05-29T21:58:43.000+0000",
         12,
         "ALASKA PHANTOM",
         "PG",
         "2006",
         12,
         12,
         "Music",
         62
        ],
        [
         983,
         "2005-05-30T22:15:51.000+0000",
         12,
         "ALASKA PHANTOM",
         "PG",
         "2006",
         12,
         12,
         "Music",
         63
        ],
        [
         505,
         "2005-05-28T02:06:37.000+0000",
         15,
         "ALIEN CENTER",
         "NC-17",
         "2006",
         15,
         9,
         "Foreign",
         71
        ],
        [
         481,
         "2005-05-27T22:49:27.000+0000",
         15,
         "ALIEN CENTER",
         "NC-17",
         "2006",
         15,
         9,
         "Foreign",
         72
        ]
       ],
       "datasetInfos": [],
       "dbfsResultPath": null,
       "isJsonSchema": true,
       "metadata": {},
       "overflow": false,
       "plotOptions": {
        "customPlotOptions": {},
        "displayType": "table",
        "pivotAggregation": null,
        "pivotColumns": null,
        "xColumns": null,
        "yColumns": null
       },
       "removedWidgets": [],
       "schema": [
        {
         "metadata": "{}",
         "name": "rental_id",
         "type": "\"integer\""
        },
        {
         "metadata": "{}",
         "name": "rental_date",
         "type": "\"timestamp\""
        },
        {
         "metadata": "{}",
         "name": "film_id",
         "type": "\"integer\""
        },
        {
         "metadata": "{}",
         "name": "title",
         "type": "\"string\""
        },
        {
         "metadata": "{}",
         "name": "rating",
         "type": "\"string\""
        },
        {
         "metadata": "{}",
         "name": "release_year",
         "type": "\"string\""
        },
        {
         "metadata": "{\"scale\":0}",
         "name": "film_category_key",
         "type": "\"long\""
        },
        {
         "metadata": "{\"scale\":0}",
         "name": "category_key",
         "type": "\"long\""
        },
        {
         "metadata": "{\"scale\":0}",
         "name": "genre",
         "type": "\"string\""
        },
        {
         "metadata": "{}",
         "name": "inventory_key",
         "type": "\"long\""
        }
       ],
       "type": "table"
      }
     },
     "output_type": "display_data"
    }
   ],
   "source": [
    "%sql\n",
    "SELECT * FROM fact_genres_silver LIMIT 15"
   ]
  },
  {
   "cell_type": "code",
   "execution_count": 0,
   "metadata": {
    "application/vnd.databricks.v1+cell": {
     "cellMetadata": {
      "byteLimit": 2048000,
      "implicitDf": true,
      "rowLimit": 10000
     },
     "inputWidgets": {},
     "nuid": "8627ba60-a3ab-43fc-b8a9-8aeb1d560aee",
     "showTitle": false,
     "title": ""
    }
   },
   "outputs": [
    {
     "output_type": "display_data",
     "data": {
      "text/html": [
       "<style scoped>\n",
       "  .table-result-container {\n",
       "    max-height: 300px;\n",
       "    overflow: auto;\n",
       "  }\n",
       "  table, th, td {\n",
       "    border: 1px solid black;\n",
       "    border-collapse: collapse;\n",
       "  }\n",
       "  th, td {\n",
       "    padding: 5px;\n",
       "  }\n",
       "  th {\n",
       "    text-align: left;\n",
       "  }\n",
       "</style><div class='table-result-container'><table class='table-result'><thead style='background-color: white'><tr><th>col_name</th><th>data_type</th><th>comment</th></tr></thead><tbody><tr><td>rental_id</td><td>int</td><td>null</td></tr><tr><td>rental_date</td><td>timestamp</td><td>null</td></tr><tr><td>film_id</td><td>int</td><td>null</td></tr><tr><td>title</td><td>string</td><td>null</td></tr><tr><td>rating</td><td>string</td><td>null</td></tr><tr><td>release_year</td><td>string</td><td>null</td></tr><tr><td>film_category_key</td><td>bigint</td><td>null</td></tr><tr><td>category_key</td><td>bigint</td><td>null</td></tr><tr><td>genre</td><td>string</td><td>null</td></tr><tr><td>inventory_key</td><td>bigint</td><td>null</td></tr><tr><td></td><td></td><td></td></tr><tr><td># Detailed Table Information</td><td></td><td></td></tr><tr><td>Catalog</td><td>spark_catalog</td><td></td></tr><tr><td>Database</td><td>sakila_dlh</td><td></td></tr><tr><td>Table</td><td>fact_genres_silver</td><td></td></tr><tr><td>Created Time</td><td>Tue Dec 05 05:18:15 UTC 2023</td><td></td></tr><tr><td>Last Access</td><td>UNKNOWN</td><td></td></tr><tr><td>Created By</td><td>Spark 3.3.0</td><td></td></tr><tr><td>Type</td><td>MANAGED</td><td></td></tr><tr><td>Location</td><td>dbfs:/FileStore/ds2002final/sakila_dlh/fact_genres_silver</td><td></td></tr><tr><td>Provider</td><td>delta</td><td></td></tr><tr><td>Owner</td><td>root</td><td></td></tr><tr><td>Is_managed_location</td><td>true</td><td></td></tr><tr><td>Table Properties</td><td>[delta.minReaderVersion=1,delta.minWriterVersion=2]</td><td></td></tr></tbody></table></div>"
      ]
     },
     "metadata": {
      "application/vnd.databricks.v1+output": {
       "addedWidgets": {},
       "aggData": [],
       "aggError": "",
       "aggOverflow": false,
       "aggSchema": [],
       "aggSeriesLimitReached": false,
       "aggType": "",
       "arguments": {},
       "columnCustomDisplayInfos": {},
       "data": [
        [
         "rental_id",
         "int",
         null
        ],
        [
         "rental_date",
         "timestamp",
         null
        ],
        [
         "film_id",
         "int",
         null
        ],
        [
         "title",
         "string",
         null
        ],
        [
         "rating",
         "string",
         null
        ],
        [
         "release_year",
         "string",
         null
        ],
        [
         "film_category_key",
         "bigint",
         null
        ],
        [
         "category_key",
         "bigint",
         null
        ],
        [
         "genre",
         "string",
         null
        ],
        [
         "inventory_key",
         "bigint",
         null
        ],
        [
         "",
         "",
         ""
        ],
        [
         "# Detailed Table Information",
         "",
         ""
        ],
        [
         "Catalog",
         "spark_catalog",
         ""
        ],
        [
         "Database",
         "sakila_dlh",
         ""
        ],
        [
         "Table",
         "fact_genres_silver",
         ""
        ],
        [
         "Created Time",
         "Tue Dec 05 05:18:15 UTC 2023",
         ""
        ],
        [
         "Last Access",
         "UNKNOWN",
         ""
        ],
        [
         "Created By",
         "Spark 3.3.0",
         ""
        ],
        [
         "Type",
         "MANAGED",
         ""
        ],
        [
         "Location",
         "dbfs:/FileStore/ds2002final/sakila_dlh/fact_genres_silver",
         ""
        ],
        [
         "Provider",
         "delta",
         ""
        ],
        [
         "Owner",
         "root",
         ""
        ],
        [
         "Is_managed_location",
         "true",
         ""
        ],
        [
         "Table Properties",
         "[delta.minReaderVersion=1,delta.minWriterVersion=2]",
         ""
        ]
       ],
       "datasetInfos": [],
       "dbfsResultPath": null,
       "isJsonSchema": true,
       "metadata": {},
       "overflow": false,
       "plotOptions": {
        "customPlotOptions": {},
        "displayType": "table",
        "pivotAggregation": null,
        "pivotColumns": null,
        "xColumns": null,
        "yColumns": null
       },
       "removedWidgets": [],
       "schema": [
        {
         "metadata": "{\"comment\":\"name of the column\"}",
         "name": "col_name",
         "type": "\"string\""
        },
        {
         "metadata": "{\"comment\":\"data type of the column\"}",
         "name": "data_type",
         "type": "\"string\""
        },
        {
         "metadata": "{\"comment\":\"comment of the column\"}",
         "name": "comment",
         "type": "\"string\""
        }
       ],
       "type": "table"
      }
     },
     "output_type": "display_data"
    }
   ],
   "source": [
    "%sql\n",
    "DESCRIBE EXTENDED sakila_dlh.fact_genres_silver"
   ]
  },
  {
   "cell_type": "markdown",
   "metadata": {
    "application/vnd.databricks.v1+cell": {
     "cellMetadata": {
      "byteLimit": 2048000,
      "rowLimit": 10000
     },
     "inputWidgets": {},
     "nuid": "afcd8638-0fa1-41a7-a4b6-bed1639390b8",
     "showTitle": false,
     "title": ""
    }
   },
   "source": [
    "### Gold Table: Perform Aggregations\n",
    "###Create a new Gold table using the CTAS approach. "
   ]
  },
  {
   "cell_type": "code",
   "execution_count": 0,
   "metadata": {
    "application/vnd.databricks.v1+cell": {
     "cellMetadata": {
      "byteLimit": 2048000,
      "rowLimit": 10000
     },
     "inputWidgets": {},
     "nuid": "2e0a61eb-2c10-4a7b-bc6e-19713176ea40",
     "showTitle": false,
     "title": ""
    }
   },
   "outputs": [],
   "source": [
    "(spark.readStream\n",
    "  .table(\"fact_genres_silver\")\n",
    "  .createOrReplaceTempView(\"genres_gold_tempview\"))"
   ]
  },
  {
   "cell_type": "code",
   "execution_count": 0,
   "metadata": {
    "application/vnd.databricks.v1+cell": {
     "cellMetadata": {
      "byteLimit": 2048000,
      "implicitDf": true,
      "rowLimit": 10000
     },
     "inputWidgets": {},
     "nuid": "e3bd7ec6-4aa4-4713-bbd2-34ecb4800c0d",
     "showTitle": false,
     "title": ""
    }
   },
   "outputs": [
    {
     "output_type": "display_data",
     "data": {
      "text/html": [
       "<style scoped>\n",
       "  .table-result-container {\n",
       "    max-height: 300px;\n",
       "    overflow: auto;\n",
       "  }\n",
       "  table, th, td {\n",
       "    border: 1px solid black;\n",
       "    border-collapse: collapse;\n",
       "  }\n",
       "  th, td {\n",
       "    padding: 5px;\n",
       "  }\n",
       "  th {\n",
       "    text-align: left;\n",
       "  }\n",
       "</style><div class='table-result-container'><table class='table-result'><thead style='background-color: white'><tr></tr></thead><tbody></tbody></table></div>"
      ]
     },
     "metadata": {
      "application/vnd.databricks.v1+output": {
       "addedWidgets": {},
       "aggData": [],
       "aggError": "",
       "aggOverflow": false,
       "aggSchema": [],
       "aggSeriesLimitReached": false,
       "aggType": "",
       "arguments": {},
       "columnCustomDisplayInfos": {},
       "data": [],
       "datasetInfos": [],
       "dbfsResultPath": null,
       "isJsonSchema": true,
       "metadata": {},
       "overflow": false,
       "plotOptions": {
        "customPlotOptions": {},
        "displayType": "table",
        "pivotAggregation": null,
        "pivotColumns": null,
        "xColumns": null,
        "yColumns": null
       },
       "removedWidgets": [],
       "schema": [],
       "type": "table"
      }
     },
     "output_type": "display_data"
    }
   ],
   "source": [
    "%sql\n",
    "CREATE OR REPLACE TEMPORARY VIEW genres_gold_tempview AS (\n",
    "SELECT title, \n",
    "genre as Film_Genre,\n",
    "category_key,\n",
    "release_year,\n",
    "COUNT ('rental_date)') as Rental_Count\n",
    "FROM sakila_dlh.fact_genres_silver\n",
    "GROUP BY title, Film_Genre, category_key, release_year\n",
    "ORDER BY Rental_Count DESC\n",
    ")"
   ]
  },
  {
   "cell_type": "markdown",
   "metadata": {
    "application/vnd.databricks.v1+cell": {
     "cellMetadata": {
      "byteLimit": 2048000,
      "rowLimit": 10000
     },
     "inputWidgets": {},
     "nuid": "f67c530f-02ef-45a3-b570-1ac8eca72dc5",
     "showTitle": false,
     "title": ""
    }
   },
   "source": [
    "#### I used the rental date in order to calculate how many times each movie was rented in order to look at the genres. With this, people can analyze the most popular movies and genres that are rented out. "
   ]
  },
  {
   "cell_type": "code",
   "execution_count": 0,
   "metadata": {
    "application/vnd.databricks.v1+cell": {
     "cellMetadata": {
      "byteLimit": 2048000,
      "implicitDf": true,
      "rowLimit": 10000
     },
     "inputWidgets": {},
     "nuid": "b3708384-f4e9-4e4a-9764-d9fd4e3b61af",
     "showTitle": false,
     "title": ""
    }
   },
   "outputs": [
    {
     "output_type": "display_data",
     "data": {
      "text/html": [
       "<style scoped>\n",
       "  .table-result-container {\n",
       "    max-height: 300px;\n",
       "    overflow: auto;\n",
       "  }\n",
       "  table, th, td {\n",
       "    border: 1px solid black;\n",
       "    border-collapse: collapse;\n",
       "  }\n",
       "  th, td {\n",
       "    padding: 5px;\n",
       "  }\n",
       "  th {\n",
       "    text-align: left;\n",
       "  }\n",
       "</style><div class='table-result-container'><table class='table-result'><thead style='background-color: white'><tr><th>title</th><th>Film_Genre</th><th>category_key</th><th>release_year</th><th>Rental_Count</th></tr></thead><tbody><tr><td>ROBBERS JOON</td><td>Children</td><td>3</td><td>2006</td><td>5</td></tr><tr><td>RIDGEMONT SUBMARINE</td><td>New</td><td>13</td><td>2006</td><td>4</td></tr><tr><td>NETWORK PEAK</td><td>Family</td><td>8</td><td>2006</td><td>4</td></tr><tr><td>ROSES TREASURE</td><td>Sports</td><td>15</td><td>2006</td><td>4</td></tr><tr><td>ROCKETEER MOTHER</td><td>Foreign</td><td>9</td><td>2006</td><td>4</td></tr><tr><td>GRAFFITI LOVE</td><td>Sci-Fi</td><td>14</td><td>2006</td><td>4</td></tr><tr><td>PACIFIC AMISTAD</td><td>Documentary</td><td>6</td><td>2006</td><td>4</td></tr><tr><td>FORWARD TEMPLE</td><td>Games</td><td>10</td><td>2006</td><td>4</td></tr><tr><td>SEATTLE EXPECATIONS</td><td>Drama</td><td>7</td><td>2006</td><td>4</td></tr><tr><td>TIMBERLAND SKY</td><td>Classics</td><td>4</td><td>2006</td><td>4</td></tr></tbody></table></div>"
      ]
     },
     "metadata": {
      "application/vnd.databricks.v1+output": {
       "addedWidgets": {},
       "aggData": [],
       "aggError": "",
       "aggOverflow": false,
       "aggSchema": [],
       "aggSeriesLimitReached": false,
       "aggType": "",
       "arguments": {},
       "columnCustomDisplayInfos": {},
       "data": [
        [
         "ROBBERS JOON",
         "Children",
         3,
         "2006",
         5
        ],
        [
         "RIDGEMONT SUBMARINE",
         "New",
         13,
         "2006",
         4
        ],
        [
         "NETWORK PEAK",
         "Family",
         8,
         "2006",
         4
        ],
        [
         "ROSES TREASURE",
         "Sports",
         15,
         "2006",
         4
        ],
        [
         "ROCKETEER MOTHER",
         "Foreign",
         9,
         "2006",
         4
        ],
        [
         "GRAFFITI LOVE",
         "Sci-Fi",
         14,
         "2006",
         4
        ],
        [
         "PACIFIC AMISTAD",
         "Documentary",
         6,
         "2006",
         4
        ],
        [
         "FORWARD TEMPLE",
         "Games",
         10,
         "2006",
         4
        ],
        [
         "SEATTLE EXPECATIONS",
         "Drama",
         7,
         "2006",
         4
        ],
        [
         "TIMBERLAND SKY",
         "Classics",
         4,
         "2006",
         4
        ]
       ],
       "datasetInfos": [],
       "dbfsResultPath": null,
       "isJsonSchema": true,
       "metadata": {},
       "overflow": false,
       "plotOptions": {
        "customPlotOptions": {},
        "displayType": "table",
        "pivotAggregation": null,
        "pivotColumns": null,
        "xColumns": null,
        "yColumns": null
       },
       "removedWidgets": [],
       "schema": [
        {
         "metadata": "{}",
         "name": "title",
         "type": "\"string\""
        },
        {
         "metadata": "{\"scale\":0}",
         "name": "Film_Genre",
         "type": "\"string\""
        },
        {
         "metadata": "{\"scale\":0}",
         "name": "category_key",
         "type": "\"long\""
        },
        {
         "metadata": "{}",
         "name": "release_year",
         "type": "\"string\""
        },
        {
         "metadata": "{}",
         "name": "Rental_Count",
         "type": "\"long\""
        }
       ],
       "type": "table"
      }
     },
     "output_type": "display_data"
    }
   ],
   "source": [
    "%sql\n",
    "SELECT * FROM genres_gold_tempview LIMIT 10"
   ]
  },
  {
   "cell_type": "code",
   "execution_count": 0,
   "metadata": {
    "application/vnd.databricks.v1+cell": {
     "cellMetadata": {
      "byteLimit": 2048000,
      "rowLimit": 10000
     },
     "inputWidgets": {},
     "nuid": "8657bdf8-80a5-484d-a917-f8d57638d6cb",
     "showTitle": false,
     "title": ""
    }
   },
   "outputs": [],
   "source": [
    "(spark.table(\"genres_gold_tempview\")\n",
    "      .write\n",
    "      .format(\"delta\")\n",
    "      .option(\"path\", f\"{genres_output_gold}/fact_genres_gold\")\n",
    "      .option(\"checkpointLocation\", f\"{genres_output_gold}/_checkpoint\")\n",
    "      .mode(\"overwrite\")\n",
    "      .saveAsTable(\"fact_genres_gold\"))"
   ]
  },
  {
   "cell_type": "code",
   "execution_count": 0,
   "metadata": {
    "application/vnd.databricks.v1+cell": {
     "cellMetadata": {
      "byteLimit": 2048000,
      "implicitDf": true,
      "rowLimit": 10000
     },
     "inputWidgets": {},
     "nuid": "c5c53934-fce7-4f6b-ac24-1394512f8ce2",
     "showTitle": false,
     "title": ""
    }
   },
   "outputs": [
    {
     "output_type": "display_data",
     "data": {
      "text/html": [
       "<style scoped>\n",
       "  .table-result-container {\n",
       "    max-height: 300px;\n",
       "    overflow: auto;\n",
       "  }\n",
       "  table, th, td {\n",
       "    border: 1px solid black;\n",
       "    border-collapse: collapse;\n",
       "  }\n",
       "  th, td {\n",
       "    padding: 5px;\n",
       "  }\n",
       "  th {\n",
       "    text-align: left;\n",
       "  }\n",
       "</style><div class='table-result-container'><table class='table-result'><thead style='background-color: white'><tr><th>title</th><th>Film_Genre</th><th>category_key</th><th>release_year</th><th>Rental_Count</th></tr></thead><tbody><tr><td>ROBBERS JOON</td><td>Children</td><td>3</td><td>2006</td><td>5</td></tr><tr><td>BOOGIE AMELIE</td><td>Music</td><td>12</td><td>2006</td><td>4</td></tr><tr><td>PULP BEVERLY</td><td>Horror</td><td>11</td><td>2006</td><td>4</td></tr><tr><td>GRAFFITI LOVE</td><td>Sci-Fi</td><td>14</td><td>2006</td><td>4</td></tr><tr><td>FANTASY TROOPERS</td><td>Action</td><td>1</td><td>2006</td><td>4</td></tr><tr><td>FORWARD TEMPLE</td><td>Games</td><td>10</td><td>2006</td><td>4</td></tr><tr><td>HILLS NEIGHBORS</td><td>Action</td><td>1</td><td>2006</td><td>4</td></tr><tr><td>ROSES TREASURE</td><td>Sports</td><td>15</td><td>2006</td><td>4</td></tr><tr><td>NETWORK PEAK</td><td>Family</td><td>8</td><td>2006</td><td>4</td></tr><tr><td>ROCKETEER MOTHER</td><td>Foreign</td><td>9</td><td>2006</td><td>4</td></tr><tr><td>PACIFIC AMISTAD</td><td>Documentary</td><td>6</td><td>2006</td><td>4</td></tr><tr><td>SEATTLE EXPECATIONS</td><td>Drama</td><td>7</td><td>2006</td><td>4</td></tr><tr><td>TIMBERLAND SKY</td><td>Classics</td><td>4</td><td>2006</td><td>4</td></tr><tr><td>IDOLS SNATCHERS</td><td>Children</td><td>3</td><td>2006</td><td>4</td></tr><tr><td>OUTBREAK DIVINE</td><td>Games</td><td>10</td><td>2006</td><td>4</td></tr></tbody></table></div>"
      ]
     },
     "metadata": {
      "application/vnd.databricks.v1+output": {
       "addedWidgets": {},
       "aggData": [],
       "aggError": "",
       "aggOverflow": false,
       "aggSchema": [],
       "aggSeriesLimitReached": false,
       "aggType": "",
       "arguments": {},
       "columnCustomDisplayInfos": {},
       "data": [
        [
         "ROBBERS JOON",
         "Children",
         3,
         "2006",
         5
        ],
        [
         "BOOGIE AMELIE",
         "Music",
         12,
         "2006",
         4
        ],
        [
         "PULP BEVERLY",
         "Horror",
         11,
         "2006",
         4
        ],
        [
         "GRAFFITI LOVE",
         "Sci-Fi",
         14,
         "2006",
         4
        ],
        [
         "FANTASY TROOPERS",
         "Action",
         1,
         "2006",
         4
        ],
        [
         "FORWARD TEMPLE",
         "Games",
         10,
         "2006",
         4
        ],
        [
         "HILLS NEIGHBORS",
         "Action",
         1,
         "2006",
         4
        ],
        [
         "ROSES TREASURE",
         "Sports",
         15,
         "2006",
         4
        ],
        [
         "NETWORK PEAK",
         "Family",
         8,
         "2006",
         4
        ],
        [
         "ROCKETEER MOTHER",
         "Foreign",
         9,
         "2006",
         4
        ],
        [
         "PACIFIC AMISTAD",
         "Documentary",
         6,
         "2006",
         4
        ],
        [
         "SEATTLE EXPECATIONS",
         "Drama",
         7,
         "2006",
         4
        ],
        [
         "TIMBERLAND SKY",
         "Classics",
         4,
         "2006",
         4
        ],
        [
         "IDOLS SNATCHERS",
         "Children",
         3,
         "2006",
         4
        ],
        [
         "OUTBREAK DIVINE",
         "Games",
         10,
         "2006",
         4
        ]
       ],
       "datasetInfos": [],
       "dbfsResultPath": null,
       "isJsonSchema": true,
       "metadata": {},
       "overflow": false,
       "plotOptions": {
        "customPlotOptions": {},
        "displayType": "table",
        "pivotAggregation": null,
        "pivotColumns": null,
        "xColumns": null,
        "yColumns": null
       },
       "removedWidgets": [],
       "schema": [
        {
         "metadata": "{}",
         "name": "title",
         "type": "\"string\""
        },
        {
         "metadata": "{\"scale\":0}",
         "name": "Film_Genre",
         "type": "\"string\""
        },
        {
         "metadata": "{\"scale\":0}",
         "name": "category_key",
         "type": "\"long\""
        },
        {
         "metadata": "{}",
         "name": "release_year",
         "type": "\"string\""
        },
        {
         "metadata": "{}",
         "name": "Rental_Count",
         "type": "\"long\""
        }
       ],
       "type": "table"
      }
     },
     "output_type": "display_data"
    }
   ],
   "source": [
    "%sql\n",
    "SELECT * FROM fact_genres_gold LIMIT 15"
   ]
  },
  {
   "cell_type": "code",
   "execution_count": 0,
   "metadata": {
    "application/vnd.databricks.v1+cell": {
     "cellMetadata": {
      "byteLimit": 2048000,
      "implicitDf": true,
      "rowLimit": 10000
     },
     "inputWidgets": {},
     "nuid": "b5e2f79b-77b0-47b2-8740-c802aae3c84d",
     "showTitle": false,
     "title": ""
    }
   },
   "outputs": [
    {
     "output_type": "display_data",
     "data": {
      "text/html": [
       "<style scoped>\n",
       "  .table-result-container {\n",
       "    max-height: 300px;\n",
       "    overflow: auto;\n",
       "  }\n",
       "  table, th, td {\n",
       "    border: 1px solid black;\n",
       "    border-collapse: collapse;\n",
       "  }\n",
       "  th, td {\n",
       "    padding: 5px;\n",
       "  }\n",
       "  th {\n",
       "    text-align: left;\n",
       "  }\n",
       "</style><div class='table-result-container'><table class='table-result'><thead style='background-color: white'><tr><th>col_name</th><th>data_type</th><th>comment</th></tr></thead><tbody><tr><td>title</td><td>string</td><td>null</td></tr><tr><td>Film_Genre</td><td>string</td><td>null</td></tr><tr><td>category_key</td><td>bigint</td><td>null</td></tr><tr><td>release_year</td><td>string</td><td>null</td></tr><tr><td>Rental_Count</td><td>bigint</td><td>null</td></tr><tr><td></td><td></td><td></td></tr><tr><td># Detailed Table Information</td><td></td><td></td></tr><tr><td>Catalog</td><td>spark_catalog</td><td></td></tr><tr><td>Database</td><td>sakila_dlh</td><td></td></tr><tr><td>Table</td><td>fact_genres_gold</td><td></td></tr><tr><td>Created Time</td><td>Tue Dec 05 05:18:20 UTC 2023</td><td></td></tr><tr><td>Last Access</td><td>UNKNOWN</td><td></td></tr><tr><td>Created By</td><td>Spark 3.3.0</td><td></td></tr><tr><td>Type</td><td>EXTERNAL</td><td></td></tr><tr><td>Location</td><td>dbfs:/FileStore/ds2002final/sakila_dlh/fact_genres/gold/fact_genres_gold</td><td></td></tr><tr><td>Provider</td><td>delta</td><td></td></tr><tr><td>Owner</td><td>root</td><td></td></tr><tr><td>Table Properties</td><td>[delta.minReaderVersion=1,delta.minWriterVersion=2]</td><td></td></tr></tbody></table></div>"
      ]
     },
     "metadata": {
      "application/vnd.databricks.v1+output": {
       "addedWidgets": {},
       "aggData": [],
       "aggError": "",
       "aggOverflow": false,
       "aggSchema": [],
       "aggSeriesLimitReached": false,
       "aggType": "",
       "arguments": {},
       "columnCustomDisplayInfos": {},
       "data": [
        [
         "title",
         "string",
         null
        ],
        [
         "Film_Genre",
         "string",
         null
        ],
        [
         "category_key",
         "bigint",
         null
        ],
        [
         "release_year",
         "string",
         null
        ],
        [
         "Rental_Count",
         "bigint",
         null
        ],
        [
         "",
         "",
         ""
        ],
        [
         "# Detailed Table Information",
         "",
         ""
        ],
        [
         "Catalog",
         "spark_catalog",
         ""
        ],
        [
         "Database",
         "sakila_dlh",
         ""
        ],
        [
         "Table",
         "fact_genres_gold",
         ""
        ],
        [
         "Created Time",
         "Tue Dec 05 05:18:20 UTC 2023",
         ""
        ],
        [
         "Last Access",
         "UNKNOWN",
         ""
        ],
        [
         "Created By",
         "Spark 3.3.0",
         ""
        ],
        [
         "Type",
         "EXTERNAL",
         ""
        ],
        [
         "Location",
         "dbfs:/FileStore/ds2002final/sakila_dlh/fact_genres/gold/fact_genres_gold",
         ""
        ],
        [
         "Provider",
         "delta",
         ""
        ],
        [
         "Owner",
         "root",
         ""
        ],
        [
         "Table Properties",
         "[delta.minReaderVersion=1,delta.minWriterVersion=2]",
         ""
        ]
       ],
       "datasetInfos": [],
       "dbfsResultPath": null,
       "isJsonSchema": true,
       "metadata": {},
       "overflow": false,
       "plotOptions": {
        "customPlotOptions": {},
        "displayType": "table",
        "pivotAggregation": null,
        "pivotColumns": null,
        "xColumns": null,
        "yColumns": null
       },
       "removedWidgets": [],
       "schema": [
        {
         "metadata": "{\"comment\":\"name of the column\"}",
         "name": "col_name",
         "type": "\"string\""
        },
        {
         "metadata": "{\"comment\":\"data type of the column\"}",
         "name": "data_type",
         "type": "\"string\""
        },
        {
         "metadata": "{\"comment\":\"comment of the column\"}",
         "name": "comment",
         "type": "\"string\""
        }
       ],
       "type": "table"
      }
     },
     "output_type": "display_data"
    }
   ],
   "source": [
    "%sql\n",
    "DESCRIBE EXTENDED fact_genres_gold"
   ]
  },
  {
   "cell_type": "markdown",
   "metadata": {
    "application/vnd.databricks.v1+cell": {
     "cellMetadata": {
      "byteLimit": 2048000,
      "rowLimit": 10000
     },
     "inputWidgets": {},
     "nuid": "319be8dd-729b-4b03-b68e-145d0a094bdc",
     "showTitle": false,
     "title": ""
    }
   },
   "source": [
    "### Query the Results\n",
    "### Visualization"
   ]
  },
  {
   "cell_type": "markdown",
   "metadata": {
    "application/vnd.databricks.v1+cell": {
     "cellMetadata": {
      "byteLimit": 2048000,
      "rowLimit": 10000
     },
     "inputWidgets": {},
     "nuid": "12e491e9-1c0c-4d7b-967a-4ac809a67b9e",
     "showTitle": false,
     "title": ""
    }
   },
   "source": [
    "#### This visualization demonstrates the buinsess value of my solution because owners could look at this data and see which movies tend to do well in the store. Thus, owners can purchase more of that genre (such as Family movies) to increase profit and also save money by not buying less popular genres (such as Horror films)."
   ]
  },
  {
   "cell_type": "markdown",
   "metadata": {
    "application/vnd.databricks.v1+cell": {
     "cellMetadata": {},
     "inputWidgets": {},
     "nuid": "53e18fba-64a3-4130-80b1-5f030e384fe8",
     "showTitle": false,
     "title": ""
    }
   },
   "source": [
    "###I SUBMITTED A SCREENSHOT OF THE VISUALIZATION IN MY FILES!"
   ]
  },
  {
   "cell_type": "code",
   "execution_count": 0,
   "metadata": {
    "application/vnd.databricks.v1+cell": {
     "cellMetadata": {
      "byteLimit": 2048000,
      "implicitDf": true,
      "rowLimit": 10000
     },
     "inputWidgets": {},
     "nuid": "3b217a64-abd7-412d-b947-ea5c783f3ab2",
     "showTitle": false,
     "title": ""
    }
   },
   "outputs": [
    {
     "output_type": "display_data",
     "data": {
      "text/html": [
       "<style scoped>\n",
       "  .table-result-container {\n",
       "    max-height: 300px;\n",
       "    overflow: auto;\n",
       "  }\n",
       "  table, th, td {\n",
       "    border: 1px solid black;\n",
       "    border-collapse: collapse;\n",
       "  }\n",
       "  th, td {\n",
       "    padding: 5px;\n",
       "  }\n",
       "  th {\n",
       "    text-align: left;\n",
       "  }\n",
       "</style><div class='table-result-container'><table class='table-result'><thead style='background-color: white'><tr><th>title</th><th>Film_Genre</th><th>category_key</th><th>release_year</th><th>Rental_Count</th></tr></thead><tbody><tr><td>ROBBERS JOON</td><td>Children</td><td>3</td><td>2006</td><td>5</td></tr><tr><td>BOOGIE AMELIE</td><td>Music</td><td>12</td><td>2006</td><td>4</td></tr><tr><td>PULP BEVERLY</td><td>Horror</td><td>11</td><td>2006</td><td>4</td></tr><tr><td>GRAFFITI LOVE</td><td>Sci-Fi</td><td>14</td><td>2006</td><td>4</td></tr><tr><td>FANTASY TROOPERS</td><td>Action</td><td>1</td><td>2006</td><td>4</td></tr><tr><td>FORWARD TEMPLE</td><td>Games</td><td>10</td><td>2006</td><td>4</td></tr><tr><td>HILLS NEIGHBORS</td><td>Action</td><td>1</td><td>2006</td><td>4</td></tr><tr><td>ROSES TREASURE</td><td>Sports</td><td>15</td><td>2006</td><td>4</td></tr><tr><td>NETWORK PEAK</td><td>Family</td><td>8</td><td>2006</td><td>4</td></tr><tr><td>ROCKETEER MOTHER</td><td>Foreign</td><td>9</td><td>2006</td><td>4</td></tr></tbody></table></div>"
      ]
     },
     "metadata": {
      "application/vnd.databricks.v1+output": {
       "addedWidgets": {},
       "aggData": [],
       "aggError": "",
       "aggOverflow": false,
       "aggSchema": [],
       "aggSeriesLimitReached": false,
       "aggType": "",
       "arguments": {},
       "columnCustomDisplayInfos": {},
       "data": [
        [
         "ROBBERS JOON",
         "Children",
         3,
         "2006",
         5
        ],
        [
         "BOOGIE AMELIE",
         "Music",
         12,
         "2006",
         4
        ],
        [
         "PULP BEVERLY",
         "Horror",
         11,
         "2006",
         4
        ],
        [
         "GRAFFITI LOVE",
         "Sci-Fi",
         14,
         "2006",
         4
        ],
        [
         "FANTASY TROOPERS",
         "Action",
         1,
         "2006",
         4
        ],
        [
         "FORWARD TEMPLE",
         "Games",
         10,
         "2006",
         4
        ],
        [
         "HILLS NEIGHBORS",
         "Action",
         1,
         "2006",
         4
        ],
        [
         "ROSES TREASURE",
         "Sports",
         15,
         "2006",
         4
        ],
        [
         "NETWORK PEAK",
         "Family",
         8,
         "2006",
         4
        ],
        [
         "ROCKETEER MOTHER",
         "Foreign",
         9,
         "2006",
         4
        ]
       ],
       "datasetInfos": [],
       "dbfsResultPath": null,
       "isJsonSchema": true,
       "metadata": {},
       "overflow": false,
       "plotOptions": {
        "customPlotOptions": {},
        "displayType": "table",
        "pivotAggregation": null,
        "pivotColumns": null,
        "xColumns": null,
        "yColumns": null
       },
       "removedWidgets": [],
       "schema": [
        {
         "metadata": "{}",
         "name": "title",
         "type": "\"string\""
        },
        {
         "metadata": "{\"scale\":0}",
         "name": "Film_Genre",
         "type": "\"string\""
        },
        {
         "metadata": "{\"scale\":0}",
         "name": "category_key",
         "type": "\"long\""
        },
        {
         "metadata": "{}",
         "name": "release_year",
         "type": "\"string\""
        },
        {
         "metadata": "{}",
         "name": "Rental_Count",
         "type": "\"long\""
        }
       ],
       "type": "table"
      }
     },
     "output_type": "display_data"
    },
    {
     "output_type": "display_data",
     "data": {
      "text/plain": [
       "Databricks visualization. Run in Databricks to view."
      ]
     },
     "metadata": {
      "application/vnd.databricks.v1.subcommand+json": {
       "bindings": {},
       "collapsed": false,
       "command": "%sql WITH q AS (SELECT * FROM fact_genres_gold) SELECT `Film_Genre`,COUNT(`Film_Genre`) `column_43ef28dd19` FROM q GROUP BY `Film_Genre`",
       "commandTitle": "Bar Graph",
       "commandType": "auto",
       "commandVersion": 0,
       "commentThread": [],
       "commentsVisible": false,
       "contentSha256Hex": null,
       "customPlotOptions": {
        "redashChart": [
         {
          "key": "type",
          "value": "CHART"
         },
         {
          "key": "options",
          "value": {
           "alignYAxesAtZero": true,
           "coefficient": 1,
           "columnConfigurationMap": {
            "x": {
             "column": "Film_Genre",
             "id": "column_43ef28dd17"
            },
            "y": [
             {
              "column": "Film_Genre",
              "id": "column_43ef28dd19",
              "transform": "COUNT"
             }
            ]
           },
           "dateTimeFormat": "DD/MM/YYYY HH:mm",
           "direction": {
            "type": "counterclockwise"
           },
           "error_y": {
            "type": "data",
            "visible": true
           },
           "globalSeriesType": "column",
           "hideXAxis": false,
           "isAggregationOn": true,
           "legend": {
            "traceorder": "normal"
           },
           "missingValuesAsZero": true,
           "numberFormat": "0,0.[00000]",
           "percentFormat": "0[.]00%",
           "reverseX": false,
           "series": {
            "error_y": {
             "type": "data",
             "visible": true
            },
            "stacking": null
           },
           "seriesOptions": {
            "column_43ef28dd19": {
             "color": "#99DDB4",
             "type": "column",
             "yAxis": 0
            }
           },
           "showDataLabels": true,
           "sizemode": "diameter",
           "sortX": true,
           "sortY": true,
           "swappedAxes": true,
           "textFormat": "",
           "useAggregationsUi": true,
           "valuesOptions": {},
           "version": 2,
           "xAxis": {
            "labels": {
             "enabled": true
            },
            "title": {
             "text": "Film Genres"
            },
            "type": "-"
           },
           "yAxis": [
            {
             "title": {
              "text": "Number of Times Rented"
             },
             "type": "-"
            },
            {
             "opposite": true,
             "type": "-"
            }
           ]
          }
         }
        ]
       },
       "datasetPreviewNameToCmdIdMap": {},
       "diffDeletes": [],
       "diffInserts": [],
       "displayType": "redashChart",
       "error": null,
       "errorDetails": null,
       "errorSummary": null,
       "errorTraceType": null,
       "finishTime": 0,
       "globalVars": {},
       "guid": "",
       "height": "auto",
       "hideCommandCode": false,
       "hideCommandResult": false,
       "iPythonMetadata": null,
       "inputWidgets": {},
       "isLockedInExamMode": false,
       "latestUser": "a user",
       "latestUserId": null,
       "listResultMetadata": null,
       "metadata": {
        "byteLimit": 2048000,
        "implicitDf": true,
        "rowLimit": 10000
       },
       "nuid": "5b1572d3-89d9-47f1-8ff1-00ff23914c0e",
       "origId": 0,
       "parentHierarchy": [],
       "pivotAggregation": null,
       "pivotColumns": null,
       "position": 40.5,
       "resultDbfsErrorMessage": null,
       "resultDbfsStatus": "INLINED_IN_TREE",
       "results": null,
       "showCommandTitle": false,
       "startTime": 0,
       "state": "input",
       "streamStates": {},
       "subcommandOptions": {
        "queryPlan": {
         "groups": [
          {
           "column": "Film_Genre",
           "type": "column"
          }
         ],
         "selects": [
          {
           "column": "Film_Genre",
           "type": "column"
          },
          {
           "alias": "column_43ef28dd19",
           "args": [
            {
             "column": "Film_Genre",
             "type": "column"
            }
           ],
           "function": "COUNT",
           "type": "function"
          }
         ]
        }
       },
       "submitTime": 0,
       "subtype": "tableResultSubCmd.visualization",
       "tableResultIndex": 0,
       "useConsistentColors": false,
       "version": "CommandV1",
       "width": "auto",
       "workflows": [],
       "xColumns": null,
       "yColumns": null
      }
     },
     "output_type": "display_data"
    }
   ],
   "source": [
    "%sql\n",
    "SELECT * FROM fact_genres_gold LIMIT 10"
   ]
  },
  {
   "cell_type": "markdown",
   "metadata": {
    "application/vnd.databricks.v1+cell": {
     "cellMetadata": {
      "byteLimit": 2048000,
      "rowLimit": 10000
     },
     "inputWidgets": {},
     "nuid": "16a92676-9476-4226-b1dc-a07f4301d8af",
     "showTitle": false,
     "title": ""
    }
   },
   "source": [
    "### Clean up the File System "
   ]
  },
  {
   "cell_type": "code",
   "execution_count": 0,
   "metadata": {
    "application/vnd.databricks.v1+cell": {
     "cellMetadata": {
      "byteLimit": 2048000,
      "rowLimit": 10000
     },
     "inputWidgets": {},
     "nuid": "0762e74e-1ccf-493f-8d29-ad449ba7203d",
     "showTitle": false,
     "title": ""
    }
   },
   "outputs": [],
   "source": [
    "#%fs rm -r /FileStore/ds2002final/"
   ]
  }
 ],
 "metadata": {
  "application/vnd.databricks.v1+notebook": {
   "dashboards": [],
   "language": "python",
   "notebookMetadata": {
    "mostRecentlyExecutedCommandWithImplicitDF": {
     "commandId": 701318354243929,
     "dataframes": [
      "_sqldf"
     ]
    },
    "pythonIndentUnit": 4
   },
   "notebookName": "Data Project 2 (Course Capstone) - Britney Hoang",
   "widgets": {}
  }
 },
 "nbformat": 4,
 "nbformat_minor": 0
}
